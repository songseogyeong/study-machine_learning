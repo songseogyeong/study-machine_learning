{
 "cells": [
  {
   "cell_type": "markdown",
   "id": "e5112fb3-57e3-46dd-a60f-f298afa7791e",
   "metadata": {},
   "source": [
    "### K-최근접 이웃 알고리즘 (K-Nearest Neighbor, KNN)\n",
    "- 임의의 데이터가 주어지면 그 주변(이웃)의 데이터를 살펴본 뒤 더 많은 데이터가 포함되어 있는 범주로 분류하는 방식이다.\n",
    "- 가장 간단한 머신러닝 알고리즘으로서, 직관적이고 나름 성능도 괜찮다.\n",
    "- K를 어떻게 정하는지에 따라서 결과값이 바뀔 수 있다. K는 임의의 데이터가 주어졌을 때 가까운 이웃들의 개수이고 기본값은 5이다.\n",
    "- K는 가장 가까운 5개의 이웃 데이터를 기반으로 분류하며, 일반적으로 홀수를 사용한다. 짝수일 경우 동점이 되어 하나의 결과를 도출할 수 없기 때문이다.\n",
    "\n",
    "<img src=\"./images/knn01.png\" width=\"400px\"><img src=\"./images/knn02.png\" width=\"400px\" style=\"margin-left: 20px;\">\n",
    "\n",
    "- KNN은 fit을 통해 훈련시키면, 학습하지 않고 저장만 해놓는다. 따라서 이러한 모델을 Lazy Model이라고 부른다.\n",
    "- 새로운 데이터가 주어지면 그제서야 이웃 데이터를 보고 분류해나간다. 따라서 사전 모델링이 필요없는 real-time 예측이 이루어진다.\n",
    "\n",
    "<img src=\"./images/knn03.jpg\" width=\"350px\" style=\"margin-left: 20px;\">\n",
    "\n",
    "- 데이터와 데이터 사이의 거리를 구해야 더 가까운 클래스로 분류할 수 있으며,  \n",
    "  이는 유클리드 거리(Euclidean Distance)방식과 맨해튼 거리(Manhattan Distance)방식이 있다."
   ]
  },
  {
   "cell_type": "code",
   "execution_count": 1,
   "id": "1cefad18-e00e-47ec-8793-0a02963054ff",
   "metadata": {},
   "outputs": [],
   "source": [
    "import pandas as pd\n",
    "\n",
    "# 데이터 세트 호출\n",
    "c_df = pd.read_csv('./datasets/corona.csv', low_memory=False)"
   ]
  },
  {
   "cell_type": "markdown",
   "id": "53f30b34-5edf-4e55-8450-e0456838a2df",
   "metadata": {},
   "source": [
    "### Ⅰ. 데이터 탐색"
   ]
  },
  {
   "cell_type": "markdown",
   "id": "a1a132fe-41ad-44be-842e-7cc66c60b5c8",
   "metadata": {},
   "source": [
    "#### 📊 데이터 정보 확인"
   ]
  },
  {
   "cell_type": "code",
   "execution_count": 2,
   "id": "dbe51103-e173-4b47-a50a-55314be34195",
   "metadata": {},
   "outputs": [
    {
     "name": "stdout",
     "output_type": "stream",
     "text": [
      "<class 'pandas.core.frame.DataFrame'>\n",
      "RangeIndex: 278848 entries, 0 to 278847\n",
      "Data columns (total 11 columns):\n",
      " #   Column               Non-Null Count   Dtype \n",
      "---  ------               --------------   ----- \n",
      " 0   Ind_ID               278848 non-null  int64 \n",
      " 1   Test_date            278848 non-null  object\n",
      " 2   Cough_symptoms       278596 non-null  object\n",
      " 3   Fever                278596 non-null  object\n",
      " 4   Sore_throat          278847 non-null  object\n",
      " 5   Shortness_of_breath  278847 non-null  object\n",
      " 6   Headache             278847 non-null  object\n",
      " 7   Corona               278848 non-null  object\n",
      " 8   Age_60_above         151528 non-null  object\n",
      " 9   Sex                  259285 non-null  object\n",
      " 10  Known_contact        278848 non-null  object\n",
      "dtypes: int64(1), object(10)\n",
      "memory usage: 23.4+ MB\n"
     ]
    }
   ],
   "source": [
    "# 데이터 정보 확인\n",
    "c_df.info()"
   ]
  },
  {
   "cell_type": "markdown",
   "id": "f5a1ac13-ebf0-47db-8684-ef65532a8c0c",
   "metadata": {},
   "source": [
    "### Ⅱ. 데이터 전처리"
   ]
  },
  {
   "cell_type": "markdown",
   "id": "adc79fd7-54bb-4525-9235-83f207db570c",
   "metadata": {},
   "source": [
    "#### 📊 데이터 결측치 확인"
   ]
  },
  {
   "cell_type": "code",
   "execution_count": 3,
   "id": "f8c0cd44-a800-4edf-b508-9a6d28f3d741",
   "metadata": {},
   "outputs": [
    {
     "data": {
      "text/plain": [
       "Ind_ID                      0\n",
       "Test_date                   0\n",
       "Cough_symptoms            252\n",
       "Fever                     252\n",
       "Sore_throat                 1\n",
       "Shortness_of_breath         1\n",
       "Headache                    1\n",
       "Corona                      0\n",
       "Age_60_above           127320\n",
       "Sex                     19563\n",
       "Known_contact               0\n",
       "dtype: int64"
      ]
     },
     "execution_count": 3,
     "metadata": {},
     "output_type": "execute_result"
    }
   ],
   "source": [
    "# 데이터 결측치 확인\n",
    "c_df.isna().sum()"
   ]
  },
  {
   "cell_type": "code",
   "execution_count": 4,
   "id": "c4849916-21e8-46a5-bfc0-74593f1502f3",
   "metadata": {},
   "outputs": [],
   "source": [
    "pre_c_df = c_df.copy()"
   ]
  },
  {
   "cell_type": "markdown",
   "id": "5446ea65-6466-4102-8256-73e4e7e4bd91",
   "metadata": {},
   "source": [
    "#### 📊 필요 없는 컬럼 제거"
   ]
  },
  {
   "cell_type": "code",
   "execution_count": 5,
   "id": "e98a591e-756f-4bc1-a1ad-9b71b3e3b2d3",
   "metadata": {},
   "outputs": [],
   "source": [
    "columns = ['Test_date', 'Age_60_above', 'Sex', 'Ind_ID', 'Known_contact']\n",
    "\n",
    "# 필요없는 컬럼 제거\n",
    "pre_c_df = c_df.drop(labels=columns, axis=1)"
   ]
  },
  {
   "cell_type": "markdown",
   "id": "10392c3b-ecb0-4ce0-88ce-a5fa7ad24e52",
   "metadata": {},
   "source": [
    "#### 📊 데이터 결측치 제거"
   ]
  },
  {
   "cell_type": "code",
   "execution_count": 6,
   "id": "ddab2e30-e665-43c7-a9d9-e70f2565f868",
   "metadata": {},
   "outputs": [
    {
     "data": {
      "text/plain": [
       "Cough_symptoms         252\n",
       "Fever                  252\n",
       "Sore_throat              1\n",
       "Shortness_of_breath      1\n",
       "Headache                 1\n",
       "Corona                   0\n",
       "dtype: int64"
      ]
     },
     "execution_count": 6,
     "metadata": {},
     "output_type": "execute_result"
    }
   ],
   "source": [
    "# 결측치 확인\n",
    "pre_c_df.isna().sum()"
   ]
  },
  {
   "cell_type": "code",
   "execution_count": 7,
   "id": "2ec5242e-c14e-43ee-b254-9c2ad7b6e064",
   "metadata": {},
   "outputs": [],
   "source": [
    "# 데이터 결측치 제거\n",
    "pre_c_df = pre_c_df[~pre_c_df.Cough_symptoms.isna()]\n",
    "pre_c_df = pre_c_df[~pre_c_df.Fever.isna()]"
   ]
  },
  {
   "cell_type": "code",
   "execution_count": 8,
   "id": "4f943a02-9b5c-4a48-a3e5-5154ce6e4ee2",
   "metadata": {},
   "outputs": [
    {
     "data": {
      "text/plain": [
       "Cough_symptoms         0\n",
       "Fever                  0\n",
       "Sore_throat            0\n",
       "Shortness_of_breath    0\n",
       "Headache               0\n",
       "Corona                 0\n",
       "dtype: int64"
      ]
     },
     "execution_count": 8,
     "metadata": {},
     "output_type": "execute_result"
    }
   ],
   "source": [
    "# 데이터 결측치 제거 확인\n",
    "pre_c_df.isna().sum()"
   ]
  },
  {
   "cell_type": "code",
   "execution_count": 9,
   "id": "a96d1509-e117-422c-9729-2cca2b357a43",
   "metadata": {},
   "outputs": [],
   "source": [
    "# 인덱스 번호 재설정\n",
    "pre_c_df.reset_index(drop=True, inplace=True)"
   ]
  },
  {
   "cell_type": "code",
   "execution_count": 10,
   "id": "0ea4c2f7-dc50-439b-8c80-5dc762b6ec83",
   "metadata": {},
   "outputs": [
    {
     "data": {
      "text/html": [
       "<div>\n",
       "<style scoped>\n",
       "    .dataframe tbody tr th:only-of-type {\n",
       "        vertical-align: middle;\n",
       "    }\n",
       "\n",
       "    .dataframe tbody tr th {\n",
       "        vertical-align: top;\n",
       "    }\n",
       "\n",
       "    .dataframe thead th {\n",
       "        text-align: right;\n",
       "    }\n",
       "</style>\n",
       "<table border=\"1\" class=\"dataframe\">\n",
       "  <thead>\n",
       "    <tr style=\"text-align: right;\">\n",
       "      <th></th>\n",
       "      <th>Cough_symptoms</th>\n",
       "      <th>Fever</th>\n",
       "      <th>Sore_throat</th>\n",
       "      <th>Shortness_of_breath</th>\n",
       "      <th>Headache</th>\n",
       "      <th>Corona</th>\n",
       "    </tr>\n",
       "  </thead>\n",
       "  <tbody>\n",
       "    <tr>\n",
       "      <th>0</th>\n",
       "      <td>True</td>\n",
       "      <td>False</td>\n",
       "      <td>True</td>\n",
       "      <td>False</td>\n",
       "      <td>False</td>\n",
       "      <td>negative</td>\n",
       "    </tr>\n",
       "    <tr>\n",
       "      <th>1</th>\n",
       "      <td>False</td>\n",
       "      <td>True</td>\n",
       "      <td>False</td>\n",
       "      <td>False</td>\n",
       "      <td>False</td>\n",
       "      <td>positive</td>\n",
       "    </tr>\n",
       "    <tr>\n",
       "      <th>2</th>\n",
       "      <td>False</td>\n",
       "      <td>True</td>\n",
       "      <td>False</td>\n",
       "      <td>False</td>\n",
       "      <td>False</td>\n",
       "      <td>positive</td>\n",
       "    </tr>\n",
       "    <tr>\n",
       "      <th>3</th>\n",
       "      <td>True</td>\n",
       "      <td>False</td>\n",
       "      <td>False</td>\n",
       "      <td>False</td>\n",
       "      <td>False</td>\n",
       "      <td>negative</td>\n",
       "    </tr>\n",
       "    <tr>\n",
       "      <th>4</th>\n",
       "      <td>True</td>\n",
       "      <td>False</td>\n",
       "      <td>False</td>\n",
       "      <td>False</td>\n",
       "      <td>False</td>\n",
       "      <td>negative</td>\n",
       "    </tr>\n",
       "    <tr>\n",
       "      <th>...</th>\n",
       "      <td>...</td>\n",
       "      <td>...</td>\n",
       "      <td>...</td>\n",
       "      <td>...</td>\n",
       "      <td>...</td>\n",
       "      <td>...</td>\n",
       "    </tr>\n",
       "    <tr>\n",
       "      <th>278589</th>\n",
       "      <td>False</td>\n",
       "      <td>False</td>\n",
       "      <td>False</td>\n",
       "      <td>False</td>\n",
       "      <td>False</td>\n",
       "      <td>positive</td>\n",
       "    </tr>\n",
       "    <tr>\n",
       "      <th>278590</th>\n",
       "      <td>False</td>\n",
       "      <td>False</td>\n",
       "      <td>False</td>\n",
       "      <td>False</td>\n",
       "      <td>False</td>\n",
       "      <td>negative</td>\n",
       "    </tr>\n",
       "    <tr>\n",
       "      <th>278591</th>\n",
       "      <td>False</td>\n",
       "      <td>False</td>\n",
       "      <td>False</td>\n",
       "      <td>False</td>\n",
       "      <td>False</td>\n",
       "      <td>negative</td>\n",
       "    </tr>\n",
       "    <tr>\n",
       "      <th>278592</th>\n",
       "      <td>False</td>\n",
       "      <td>False</td>\n",
       "      <td>False</td>\n",
       "      <td>False</td>\n",
       "      <td>False</td>\n",
       "      <td>negative</td>\n",
       "    </tr>\n",
       "    <tr>\n",
       "      <th>278593</th>\n",
       "      <td>False</td>\n",
       "      <td>False</td>\n",
       "      <td>False</td>\n",
       "      <td>False</td>\n",
       "      <td>False</td>\n",
       "      <td>negative</td>\n",
       "    </tr>\n",
       "  </tbody>\n",
       "</table>\n",
       "<p>278594 rows × 6 columns</p>\n",
       "</div>"
      ],
      "text/plain": [
       "       Cough_symptoms  Fever Sore_throat Shortness_of_breath Headache  \\\n",
       "0                True  False        True               False    False   \n",
       "1               False   True       False               False    False   \n",
       "2               False   True       False               False    False   \n",
       "3                True  False       False               False    False   \n",
       "4                True  False       False               False    False   \n",
       "...               ...    ...         ...                 ...      ...   \n",
       "278589          False  False       False               False    False   \n",
       "278590          False  False       False               False    False   \n",
       "278591          False  False       False               False    False   \n",
       "278592          False  False       False               False    False   \n",
       "278593          False  False       False               False    False   \n",
       "\n",
       "          Corona  \n",
       "0       negative  \n",
       "1       positive  \n",
       "2       positive  \n",
       "3       negative  \n",
       "4       negative  \n",
       "...          ...  \n",
       "278589  positive  \n",
       "278590  negative  \n",
       "278591  negative  \n",
       "278592  negative  \n",
       "278593  negative  \n",
       "\n",
       "[278594 rows x 6 columns]"
      ]
     },
     "execution_count": 10,
     "metadata": {},
     "output_type": "execute_result"
    }
   ],
   "source": [
    "pre_c_df"
   ]
  },
  {
   "cell_type": "markdown",
   "id": "8982b192-8bb5-4efb-9c00-7b26e6915a5b",
   "metadata": {},
   "source": [
    "#### 📊 데이터 중복행 제거"
   ]
  },
  {
   "cell_type": "code",
   "execution_count": 11,
   "id": "69f6ec0b-877a-47b1-a70f-3a87ac0ec800",
   "metadata": {},
   "outputs": [],
   "source": [
    "# 데이터 중복행 제거\n",
    "pre_c_df.drop_duplicates(inplace=True)"
   ]
  },
  {
   "cell_type": "code",
   "execution_count": 12,
   "id": "ef85282c-8834-43e5-b220-48f23698b1a5",
   "metadata": {},
   "outputs": [],
   "source": [
    "# 데이터 인덱스 재설정\n",
    "pre_c_df.reset_index(drop=True, inplace=True)"
   ]
  },
  {
   "cell_type": "code",
   "execution_count": 13,
   "id": "b171c491-187a-498c-b7fa-7e1bd8aa78f5",
   "metadata": {},
   "outputs": [
    {
     "data": {
      "text/html": [
       "<div>\n",
       "<style scoped>\n",
       "    .dataframe tbody tr th:only-of-type {\n",
       "        vertical-align: middle;\n",
       "    }\n",
       "\n",
       "    .dataframe tbody tr th {\n",
       "        vertical-align: top;\n",
       "    }\n",
       "\n",
       "    .dataframe thead th {\n",
       "        text-align: right;\n",
       "    }\n",
       "</style>\n",
       "<table border=\"1\" class=\"dataframe\">\n",
       "  <thead>\n",
       "    <tr style=\"text-align: right;\">\n",
       "      <th></th>\n",
       "      <th>Cough_symptoms</th>\n",
       "      <th>Fever</th>\n",
       "      <th>Sore_throat</th>\n",
       "      <th>Shortness_of_breath</th>\n",
       "      <th>Headache</th>\n",
       "      <th>Corona</th>\n",
       "    </tr>\n",
       "  </thead>\n",
       "  <tbody>\n",
       "    <tr>\n",
       "      <th>0</th>\n",
       "      <td>True</td>\n",
       "      <td>False</td>\n",
       "      <td>True</td>\n",
       "      <td>False</td>\n",
       "      <td>False</td>\n",
       "      <td>negative</td>\n",
       "    </tr>\n",
       "    <tr>\n",
       "      <th>1</th>\n",
       "      <td>False</td>\n",
       "      <td>True</td>\n",
       "      <td>False</td>\n",
       "      <td>False</td>\n",
       "      <td>False</td>\n",
       "      <td>positive</td>\n",
       "    </tr>\n",
       "    <tr>\n",
       "      <th>2</th>\n",
       "      <td>True</td>\n",
       "      <td>False</td>\n",
       "      <td>False</td>\n",
       "      <td>False</td>\n",
       "      <td>False</td>\n",
       "      <td>negative</td>\n",
       "    </tr>\n",
       "    <tr>\n",
       "      <th>3</th>\n",
       "      <td>True</td>\n",
       "      <td>False</td>\n",
       "      <td>False</td>\n",
       "      <td>False</td>\n",
       "      <td>False</td>\n",
       "      <td>other</td>\n",
       "    </tr>\n",
       "    <tr>\n",
       "      <th>4</th>\n",
       "      <td>False</td>\n",
       "      <td>False</td>\n",
       "      <td>False</td>\n",
       "      <td>False</td>\n",
       "      <td>False</td>\n",
       "      <td>negative</td>\n",
       "    </tr>\n",
       "    <tr>\n",
       "      <th>...</th>\n",
       "      <td>...</td>\n",
       "      <td>...</td>\n",
       "      <td>...</td>\n",
       "      <td>...</td>\n",
       "      <td>...</td>\n",
       "      <td>...</td>\n",
       "    </tr>\n",
       "    <tr>\n",
       "      <th>87</th>\n",
       "      <td>False</td>\n",
       "      <td>True</td>\n",
       "      <td>True</td>\n",
       "      <td>False</td>\n",
       "      <td>True</td>\n",
       "      <td>negative</td>\n",
       "    </tr>\n",
       "    <tr>\n",
       "      <th>88</th>\n",
       "      <td>True</td>\n",
       "      <td>True</td>\n",
       "      <td>True</td>\n",
       "      <td>True</td>\n",
       "      <td>True</td>\n",
       "      <td>other</td>\n",
       "    </tr>\n",
       "    <tr>\n",
       "      <th>89</th>\n",
       "      <td>True</td>\n",
       "      <td>False</td>\n",
       "      <td>True</td>\n",
       "      <td>True</td>\n",
       "      <td>True</td>\n",
       "      <td>other</td>\n",
       "    </tr>\n",
       "    <tr>\n",
       "      <th>90</th>\n",
       "      <td>True</td>\n",
       "      <td>True</td>\n",
       "      <td>False</td>\n",
       "      <td>True</td>\n",
       "      <td>True</td>\n",
       "      <td>other</td>\n",
       "    </tr>\n",
       "    <tr>\n",
       "      <th>91</th>\n",
       "      <td>False</td>\n",
       "      <td>False</td>\n",
       "      <td>True</td>\n",
       "      <td>False</td>\n",
       "      <td>True</td>\n",
       "      <td>other</td>\n",
       "    </tr>\n",
       "  </tbody>\n",
       "</table>\n",
       "<p>92 rows × 6 columns</p>\n",
       "</div>"
      ],
      "text/plain": [
       "   Cough_symptoms  Fever Sore_throat Shortness_of_breath Headache    Corona\n",
       "0            True  False        True               False    False  negative\n",
       "1           False   True       False               False    False  positive\n",
       "2            True  False       False               False    False  negative\n",
       "3            True  False       False               False    False     other\n",
       "4           False  False       False               False    False  negative\n",
       "..            ...    ...         ...                 ...      ...       ...\n",
       "87          False   True        True               False     True  negative\n",
       "88           True   True        True                True     True     other\n",
       "89           True  False        True                True     True     other\n",
       "90           True   True       False                True     True     other\n",
       "91          False  False        True               False     True     other\n",
       "\n",
       "[92 rows x 6 columns]"
      ]
     },
     "execution_count": 13,
     "metadata": {},
     "output_type": "execute_result"
    }
   ],
   "source": [
    "pre_c_df"
   ]
  },
  {
   "cell_type": "markdown",
   "id": "c5dc4db5-3c0d-4a57-afbf-bad06b8cf799",
   "metadata": {},
   "source": [
    "#### 📊 타겟 데이터 비중 조정"
   ]
  },
  {
   "cell_type": "code",
   "execution_count": 14,
   "id": "566a0d7d-1d5c-4b6e-a3a1-63230fb6a1f2",
   "metadata": {},
   "outputs": [
    {
     "data": {
      "text/plain": [
       "Corona\n",
       "negative    32\n",
       "positive    32\n",
       "other       28\n",
       "Name: count, dtype: int64"
      ]
     },
     "execution_count": 14,
     "metadata": {},
     "output_type": "execute_result"
    }
   ],
   "source": [
    "# 타겟 데이터 비중 확인\n",
    "pre_c_df.Corona.value_counts()"
   ]
  },
  {
   "cell_type": "code",
   "execution_count": 15,
   "id": "fb262d86-f948-4d5f-9267-1e98d6ed6e19",
   "metadata": {},
   "outputs": [],
   "source": [
    "# 타겟 데이터 비중 동일하게 조정\n",
    "neg = pre_c_df[pre_c_df.Corona == 'negative'].sample(28, random_state=124)\n",
    "pos = pre_c_df[pre_c_df.Corona == 'positive'].sample(28, random_state=124)\n",
    "other = pre_c_df[pre_c_df.Corona == 'other']\n",
    "\n",
    "pre_c_df = pd.concat([neg, pos, other])\n",
    "pre_c_df.reset_index(drop=True, inplace=True)"
   ]
  },
  {
   "cell_type": "code",
   "execution_count": 16,
   "id": "ce96e7d6-0e2c-4542-a4f9-91330f77b173",
   "metadata": {},
   "outputs": [
    {
     "data": {
      "text/plain": [
       "Corona\n",
       "negative    28\n",
       "positive    28\n",
       "other       28\n",
       "Name: count, dtype: int64"
      ]
     },
     "execution_count": 16,
     "metadata": {},
     "output_type": "execute_result"
    }
   ],
   "source": [
    "# 타겟 데이터 비중 확인\n",
    "pre_c_df.Corona.value_counts()"
   ]
  },
  {
   "cell_type": "markdown",
   "id": "947fc1d9-fbeb-41c3-a086-9454abb4f08b",
   "metadata": {},
   "source": [
    "#### 📊 데이터 형변환"
   ]
  },
  {
   "cell_type": "code",
   "execution_count": 17,
   "id": "c95f0e72-de62-4843-bb04-6f3d2261143c",
   "metadata": {},
   "outputs": [],
   "source": [
    "import numpy as np\n",
    "\n",
    "# 데이터 정수로 형변환\n",
    "pre_c_df[['Cough_symptoms', 'Fever', 'Sore_throat', 'Shortness_of_breath', 'Headache']] = \\\n",
    "pre_c_df[['Cough_symptoms', 'Fever', 'Sore_throat', 'Shortness_of_breath', 'Headache']].astype(np.int8)"
   ]
  },
  {
   "cell_type": "markdown",
   "id": "452c1ebf-d38d-46a7-bd40-bf300d1d41b2",
   "metadata": {},
   "source": [
    "#### 📊 타겟 데이터 형변환"
   ]
  },
  {
   "cell_type": "code",
   "execution_count": 18,
   "id": "875094ac-6254-4f7c-90ce-6aa96948ed2f",
   "metadata": {},
   "outputs": [],
   "source": [
    "from sklearn.preprocessing import LabelEncoder\n",
    "\n",
    "# 문자열 데이터 인코딩을 통해 정수로 형변환 후 데이터 교체\n",
    "encoder = LabelEncoder()\n",
    "targets = encoder.fit_transform(pre_c_df.Corona)\n",
    "pre_c_df['Target'] = targets"
   ]
  },
  {
   "cell_type": "code",
   "execution_count": 19,
   "id": "ba042147-f2dc-452a-85b8-3b4d77f3ad75",
   "metadata": {},
   "outputs": [],
   "source": [
    "# 사용이 완료된 데이터 삭제\n",
    "pre_c_df.drop(labels=['Corona'], axis=1, inplace=True)"
   ]
  },
  {
   "cell_type": "code",
   "execution_count": 20,
   "id": "9c0c96b6-5ddf-4d8e-a4c6-c8076a375bc6",
   "metadata": {},
   "outputs": [
    {
     "data": {
      "text/plain": [
       "array(['negative', 'other', 'positive'], dtype=object)"
      ]
     },
     "execution_count": 20,
     "metadata": {},
     "output_type": "execute_result"
    }
   ],
   "source": [
    "# 변환 전 클래스 확인\n",
    "encoder.classes_"
   ]
  },
  {
   "cell_type": "code",
   "execution_count": 21,
   "id": "60d2a833-9051-445a-b857-406be95cb605",
   "metadata": {},
   "outputs": [
    {
     "data": {
      "text/plain": [
       "Target\n",
       "0    28\n",
       "2    28\n",
       "1    28\n",
       "Name: count, dtype: int64"
      ]
     },
     "execution_count": 21,
     "metadata": {},
     "output_type": "execute_result"
    }
   ],
   "source": [
    "# 타겟 데이터 개수 확인\n",
    "pre_c_df.Target.value_counts()"
   ]
  },
  {
   "cell_type": "markdown",
   "id": "0ab8c079-ced4-4a0f-9238-14d54e9eec25",
   "metadata": {},
   "source": [
    "#### 📊 데이터 분포 확인"
   ]
  },
  {
   "cell_type": "code",
   "execution_count": 22,
   "id": "853363b1-85db-4688-8c92-bcc34a344cb5",
   "metadata": {},
   "outputs": [
    {
     "data": {
      "text/plain": [
       "array([[<Axes: title={'center': 'Cough_symptoms'}>,\n",
       "        <Axes: title={'center': 'Fever'}>],\n",
       "       [<Axes: title={'center': 'Sore_throat'}>,\n",
       "        <Axes: title={'center': 'Shortness_of_breath'}>],\n",
       "       [<Axes: title={'center': 'Headache'}>,\n",
       "        <Axes: title={'center': 'Target'}>]], dtype=object)"
      ]
     },
     "execution_count": 22,
     "metadata": {},
     "output_type": "execute_result"
    },
    {
     "data": {
      "image/png": "[encoded data removed]",
      "text/plain": [
       "<Figure size 700x900 with 6 Axes>"
      ]
     },
     "metadata": {},
     "output_type": "display_data"
    }
   ],
   "source": [
    "# 컬럼 별 데이터 분포를 히스토그램으로 확인\n",
    "pre_c_df.hist(figsize=(7, 9))"
   ]
  },
  {
   "cell_type": "markdown",
   "id": "bddffe31-00e2-4c55-aee6-4cfb995169e8",
   "metadata": {},
   "source": [
    "### Ⅲ. 데이터 세트 분리"
   ]
  },
  {
   "cell_type": "code",
   "execution_count": 23,
   "id": "b5d82319-c4db-4461-93eb-0c2ee55fab16",
   "metadata": {},
   "outputs": [],
   "source": [
    "from sklearn.model_selection import GridSearchCV, train_test_split\n",
    "from sklearn.neighbors import KNeighborsClassifier"
   ]
  },
  {
   "cell_type": "markdown",
   "id": "00706f31-21f1-4fc3-8258-47fcd5fad136",
   "metadata": {},
   "source": [
    "#### 📊 데이터 세트 분리"
   ]
  },
  {
   "cell_type": "code",
   "execution_count": 24,
   "id": "ecb5189c-b840-4f46-a645-82f7957de7a0",
   "metadata": {},
   "outputs": [],
   "source": [
    "# 피처, 타겟 데이터 분리\n",
    "features, targets = pre_c_df.iloc[:, :-1], pre_c_df.iloc[:, -1]\n",
    "\n",
    "# 문제/정답 및 학습/테스트 데이터 분리\n",
    "X_train, X_test, y_train, y_test = \\\n",
    "train_test_split(features, targets, stratify=targets, test_size=0.2, random_state=124)"
   ]
  },
  {
   "cell_type": "markdown",
   "id": "d060393f-a41b-4927-bd84-52b47611b47f",
   "metadata": {},
   "source": [
    "### Ⅳ. 데이터 훈련"
   ]
  },
  {
   "cell_type": "markdown",
   "id": "de19d880-13fe-4943-89ed-7b7df96bb200",
   "metadata": {},
   "source": [
    "#### 📊 훈련 모델 설정"
   ]
  },
  {
   "cell_type": "code",
   "execution_count": 25,
   "id": "2409a233-ab34-420e-b833-d5b92035cfc3",
   "metadata": {},
   "outputs": [],
   "source": [
    "# K-Nearest Neighbor 분류 모델 담기\n",
    "knn_c = KNeighborsClassifier()\n",
    "\n",
    "# 파라미터 설정\n",
    "# n_neighbors: 예측할 때 고려할 이웃의 수를 지정\n",
    "parameters = {\n",
    "    'n_neighbors': [3, 5, 7]\n",
    "}\n",
    "\n",
    "# 학습 및 교차 검증 모델 설\n",
    "g_knn_c = GridSearchCV(knn_c, param_grid=parameters, cv=5, refit=True, return_train_score=True)"
   ]
  },
  {
   "cell_type": "markdown",
   "id": "6de1187f-3958-49a1-a237-f465ac88fe74",
   "metadata": {},
   "source": [
    "#### 📊 훈련"
   ]
  },
  {
   "cell_type": "code",
   "execution_count": 26,
   "id": "8fc98c4f-af29-4a19-bade-cae877a3aeff",
   "metadata": {},
   "outputs": [
    {
     "data": {
      "text/html": [
       "<style>#sk-container-id-1 {color: black;background-color: white;}#sk-container-id-1 pre{padding: 0;}#sk-container-id-1 div.sk-toggleable {background-color: white;}#sk-container-id-1 label.sk-toggleable__label {cursor: pointer;display: block;width: 100%;margin-bottom: 0;padding: 0.3em;box-sizing: border-box;text-align: center;}#sk-container-id-1 label.sk-toggleable__label-arrow:before {content: \"▸\";float: left;margin-right: 0.25em;color: #696969;}#sk-container-id-1 label.sk-toggleable__label-arrow:hover:before {color: black;}#sk-container-id-1 div.sk-estimator:hover label.sk-toggleable__label-arrow:before {color: black;}#sk-container-id-1 div.sk-toggleable__content {max-height: 0;max-width: 0;overflow: hidden;text-align: left;background-color: #f0f8ff;}#sk-container-id-1 div.sk-toggleable__content pre {margin: 0.2em;color: black;border-radius: 0.25em;background-color: #f0f8ff;}#sk-container-id-1 input.sk-toggleable__control:checked~div.sk-toggleable__content {max-height: 200px;max-width: 100%;overflow: auto;}#sk-container-id-1 input.sk-toggleable__control:checked~label.sk-toggleable__label-arrow:before {content: \"▾\";}#sk-container-id-1 div.sk-estimator input.sk-toggleable__control:checked~label.sk-toggleable__label {background-color: #d4ebff;}#sk-container-id-1 div.sk-label input.sk-toggleable__control:checked~label.sk-toggleable__label {background-color: #d4ebff;}#sk-container-id-1 input.sk-hidden--visually {border: 0;clip: rect(1px 1px 1px 1px);clip: rect(1px, 1px, 1px, 1px);height: 1px;margin: -1px;overflow: hidden;padding: 0;position: absolute;width: 1px;}#sk-container-id-1 div.sk-estimator {font-family: monospace;background-color: #f0f8ff;border: 1px dotted black;border-radius: 0.25em;box-sizing: border-box;margin-bottom: 0.5em;}#sk-container-id-1 div.sk-estimator:hover {background-color: #d4ebff;}#sk-container-id-1 div.sk-parallel-item::after {content: \"\";width: 100%;border-bottom: 1px solid gray;flex-grow: 1;}#sk-container-id-1 div.sk-label:hover label.sk-toggleable__label {background-color: #d4ebff;}#sk-container-id-1 div.sk-serial::before {content: \"\";position: absolute;border-left: 1px solid gray;box-sizing: border-box;top: 0;bottom: 0;left: 50%;z-index: 0;}#sk-container-id-1 div.sk-serial {display: flex;flex-direction: column;align-items: center;background-color: white;padding-right: 0.2em;padding-left: 0.2em;position: relative;}#sk-container-id-1 div.sk-item {position: relative;z-index: 1;}#sk-container-id-1 div.sk-parallel {display: flex;align-items: stretch;justify-content: center;background-color: white;position: relative;}#sk-container-id-1 div.sk-item::before, #sk-container-id-1 div.sk-parallel-item::before {content: \"\";position: absolute;border-left: 1px solid gray;box-sizing: border-box;top: 0;bottom: 0;left: 50%;z-index: -1;}#sk-container-id-1 div.sk-parallel-item {display: flex;flex-direction: column;z-index: 1;position: relative;background-color: white;}#sk-container-id-1 div.sk-parallel-item:first-child::after {align-self: flex-end;width: 50%;}#sk-container-id-1 div.sk-parallel-item:last-child::after {align-self: flex-start;width: 50%;}#sk-container-id-1 div.sk-parallel-item:only-child::after {width: 0;}#sk-container-id-1 div.sk-dashed-wrapped {border: 1px dashed gray;margin: 0 0.4em 0.5em 0.4em;box-sizing: border-box;padding-bottom: 0.4em;background-color: white;}#sk-container-id-1 div.sk-label label {font-family: monospace;font-weight: bold;display: inline-block;line-height: 1.2em;}#sk-container-id-1 div.sk-label-container {text-align: center;}#sk-container-id-1 div.sk-container {/* jupyter's `normalize.less` sets `[hidden] { display: none; }` but bootstrap.min.css set `[hidden] { display: none !important; }` so we also need the `!important` here to be able to override the default hidden behavior on the sphinx rendered scikit-learn.org. See: https://github.com/scikit-learn/scikit-learn/issues/21755 */display: inline-block !important;position: relative;}#sk-container-id-1 div.sk-text-repr-fallback {display: none;}</style><div id=\"sk-container-id-1\" class=\"sk-top-container\"><div class=\"sk-text-repr-fallback\"><pre>GridSearchCV(cv=5, estimator=KNeighborsClassifier(),\n",
       "             param_grid={&#x27;n_neighbors&#x27;: [3, 5, 7]}, return_train_score=True)</pre><b>In a Jupyter environment, please rerun this cell to show the HTML representation or trust the notebook. <br />On GitHub, the HTML representation is unable to render, please try loading this page with nbviewer.org.</b></div><div class=\"sk-container\" hidden><div class=\"sk-item sk-dashed-wrapped\"><div class=\"sk-label-container\"><div class=\"sk-label sk-toggleable\"><input class=\"sk-toggleable__control sk-hidden--visually\" id=\"sk-estimator-id-1\" type=\"checkbox\" ><label for=\"sk-estimator-id-1\" class=\"sk-toggleable__label sk-toggleable__label-arrow\">GridSearchCV</label><div class=\"sk-toggleable__content\"><pre>GridSearchCV(cv=5, estimator=KNeighborsClassifier(),\n",
       "             param_grid={&#x27;n_neighbors&#x27;: [3, 5, 7]}, return_train_score=True)</pre></div></div></div><div class=\"sk-parallel\"><div class=\"sk-parallel-item\"><div class=\"sk-item\"><div class=\"sk-label-container\"><div class=\"sk-label sk-toggleable\"><input class=\"sk-toggleable__control sk-hidden--visually\" id=\"sk-estimator-id-2\" type=\"checkbox\" ><label for=\"sk-estimator-id-2\" class=\"sk-toggleable__label sk-toggleable__label-arrow\">estimator: KNeighborsClassifier</label><div class=\"sk-toggleable__content\"><pre>KNeighborsClassifier()</pre></div></div></div><div class=\"sk-serial\"><div class=\"sk-item\"><div class=\"sk-estimator sk-toggleable\"><input class=\"sk-toggleable__control sk-hidden--visually\" id=\"sk-estimator-id-3\" type=\"checkbox\" ><label for=\"sk-estimator-id-3\" class=\"sk-toggleable__label sk-toggleable__label-arrow\">KNeighborsClassifier</label><div class=\"sk-toggleable__content\"><pre>KNeighborsClassifier()</pre></div></div></div></div></div></div></div></div></div></div>"
      ],
      "text/plain": [
       "GridSearchCV(cv=5, estimator=KNeighborsClassifier(),\n",
       "             param_grid={'n_neighbors': [3, 5, 7]}, return_train_score=True)"
      ]
     },
     "execution_count": 26,
     "metadata": {},
     "output_type": "execute_result"
    }
   ],
   "source": [
    "# 훈련\n",
    "g_knn_c.fit(X_train, y_train)"
   ]
  },
  {
   "cell_type": "code",
   "execution_count": 27,
   "id": "6042f067-ca44-4693-8dd7-2b1c8a3efc2d",
   "metadata": {},
   "outputs": [
    {
     "data": {
      "text/html": [
       "<div>\n",
       "<style scoped>\n",
       "    .dataframe tbody tr th:only-of-type {\n",
       "        vertical-align: middle;\n",
       "    }\n",
       "\n",
       "    .dataframe tbody tr th {\n",
       "        vertical-align: top;\n",
       "    }\n",
       "\n",
       "    .dataframe thead th {\n",
       "        text-align: right;\n",
       "    }\n",
       "</style>\n",
       "<table border=\"1\" class=\"dataframe\">\n",
       "  <thead>\n",
       "    <tr style=\"text-align: right;\">\n",
       "      <th></th>\n",
       "      <th>params</th>\n",
       "      <th>mean_test_score</th>\n",
       "      <th>rank_test_score</th>\n",
       "    </tr>\n",
       "  </thead>\n",
       "  <tbody>\n",
       "    <tr>\n",
       "      <th>0</th>\n",
       "      <td>{'n_neighbors': 3}</td>\n",
       "      <td>0.162637</td>\n",
       "      <td>3</td>\n",
       "    </tr>\n",
       "    <tr>\n",
       "      <th>1</th>\n",
       "      <td>{'n_neighbors': 5}</td>\n",
       "      <td>0.239560</td>\n",
       "      <td>2</td>\n",
       "    </tr>\n",
       "    <tr>\n",
       "      <th>2</th>\n",
       "      <td>{'n_neighbors': 7}</td>\n",
       "      <td>0.282418</td>\n",
       "      <td>1</td>\n",
       "    </tr>\n",
       "  </tbody>\n",
       "</table>\n",
       "</div>"
      ],
      "text/plain": [
       "               params  mean_test_score  rank_test_score\n",
       "0  {'n_neighbors': 3}         0.162637                3\n",
       "1  {'n_neighbors': 5}         0.239560                2\n",
       "2  {'n_neighbors': 7}         0.282418                1"
      ]
     },
     "metadata": {},
     "output_type": "display_data"
    }
   ],
   "source": [
    "# 훈련 결과 중 보고 싶은 컬럼만 추출하여 새로운 데이터 프레임 생성\n",
    "result_df = pd.DataFrame(g_knn_c.cv_results_)[['params', 'mean_test_score', 'rank_test_score']]\n",
    "display(result_df)"
   ]
  },
  {
   "cell_type": "markdown",
   "id": "cdeb22b9-9394-43fb-adc2-5fe4b8940c5b",
   "metadata": {},
   "source": [
    "### Ⅴ. 오차행렬 및 예측"
   ]
  },
  {
   "cell_type": "code",
   "execution_count": 28,
   "id": "b5b67b16-5f5e-4687-86a7-76beb51b404c",
   "metadata": {},
   "outputs": [],
   "source": [
    "import matplotlib.pyplot as plt\n",
    "from sklearn.metrics import accuracy_score, precision_score, recall_score, f1_score, roc_auc_score, confusion_matrix, ConfusionMatrixDisplay\n",
    "\n",
    "def get_evaluation(y_test, prediction, classifier=None, X_test=None):\n",
    "    confusion = confusion_matrix(y_test, prediction)\n",
    "    accuracy = accuracy_score(y_test , prediction)\n",
    "    precision = precision_score(y_test , prediction, average='macro')\n",
    "    recall = recall_score(y_test , prediction, average='macro')\n",
    "    f1 = f1_score(y_test, prediction, average='macro')\n",
    "    \n",
    "    print('오차 행렬')\n",
    "    print(confusion)\n",
    "    print('정확도: {0:.4f}, 정밀도: {1:.4f}, 재현율: {2:.4f}, F1: {3:.4f}'.format(accuracy, precision, recall, f1))\n",
    "    print(\"#\" * 80)\n",
    "    \n",
    "    if classifier is not None and  X_test is not None:\n",
    "        fig, axes = plt.subplots(nrows=1, ncols=2, figsize=(12,4))\n",
    "        titles_options = [(\"Confusion matrix\", None), (\"Normalized confusion matrix\", \"true\")]\n",
    "\n",
    "        for (title, normalize), ax in zip(titles_options, axes.flatten()):\n",
    "            disp = ConfusionMatrixDisplay.from_estimator(classifier, X_test, y_test, ax=ax, cmap=plt.cm.Blues, normalize=normalize)\n",
    "            disp.ax_.set_title(title)\n",
    "        plt.show()"
   ]
  },
  {
   "cell_type": "markdown",
   "id": "a1e799e8-fb12-42fd-9307-fcbab3259fb8",
   "metadata": {},
   "source": [
    "#### 📊 데이터 예측"
   ]
  },
  {
   "cell_type": "code",
   "execution_count": 29,
   "id": "6df0767a-9772-4de7-ba47-d8b9ab945ae5",
   "metadata": {},
   "outputs": [],
   "source": [
    "# 최적의 모델 담기\n",
    "knn_c = g_knn_c.best_estimator_\n",
    "# 예측\n",
    "prediction = knn_c.predict(X_test)"
   ]
  },
  {
   "cell_type": "markdown",
   "id": "d3bf6038-cc85-4a11-be3b-10e48223baa7",
   "metadata": {},
   "source": [
    "#### 📊 오차행렬"
   ]
  },
  {
   "cell_type": "code",
   "execution_count": 30,
   "id": "418d1c4d-ba11-4539-a377-91c8e501008f",
   "metadata": {},
   "outputs": [
    {
     "name": "stdout",
     "output_type": "stream",
     "text": [
      "오차 행렬\n",
      "[[2 2 2]\n",
      " [3 0 2]\n",
      " [5 1 0]]\n",
      "정확도: 0.1176, 정밀도: 0.0667, 재현율: 0.1111, F1: 0.0833\n",
      "################################################################################\n"
     ]
    },
    {
     "data": {
      "image/png": "[encoded data removed]",
      "text/plain": [
       "<Figure size 1200x400 with 4 Axes>"
      ]
     },
     "metadata": {},
     "output_type": "display_data"
    }
   ],
   "source": [
    "# 오차행렬\n",
    "get_evaluation(y_test, prediction, knn_c, X_test)"
   ]
  },
  {
   "cell_type": "markdown",
   "id": "9c6c1f00-97de-4a33-9e29-406fda1d3468",
   "metadata": {},
   "source": [
    "### Ⅵ. 순열 중요도 확인"
   ]
  },
  {
   "cell_type": "code",
   "execution_count": 31,
   "id": "25827bf9-550b-459d-bc2c-190fd4121dc9",
   "metadata": {},
   "outputs": [
    {
     "data": {
      "text/plain": [
       "array([3, 4, 2, 0, 1], dtype=int64)"
      ]
     },
     "execution_count": 31,
     "metadata": {},
     "output_type": "execute_result"
    }
   ],
   "source": [
    "from sklearn.inspection import permutation_importance\n",
    "\n",
    "# 주어진 모델과 테스트 데이터에 대한 순열 중요도를 계산\n",
    "importance = permutation_importance(knn_c, X_test, y_test, n_repeats=30, random_state=124)\n",
    "# 평균을 내림차순으로 정렬하여 각 피처의 중요도 순위를 반환\n",
    "importance.importances_mean.argsort()[::-1]"
   ]
  },
  {
   "cell_type": "code",
   "execution_count": 32,
   "id": "e0e8ec1e-afa1-4a9e-b548-8b3a0e2cad6f",
   "metadata": {},
   "outputs": [
    {
     "name": "stdout",
     "output_type": "stream",
     "text": [
      "Shortness_of_breath: -0.0255\n",
      "Headache: -0.0725\n",
      "Sore_throat: -0.098\n",
      "Cough_symptoms: -0.1549\n",
      "Fever: -0.1706\n"
     ]
    }
   ],
   "source": [
    "# 모델의 각 피처별 중요도 확인\n",
    "for i in importance.importances_mean.argsort()[::-1]:\n",
    "    print(f'{features.columns[i]}: {round(importance.importances_mean[i], 4)}')"
   ]
  }
 ],
 "metadata": {
  "kernelspec": {
   "display_name": "Python 3 (ipykernel)",
   "language": "python",
   "name": "python3"
  },
  "language_info": {
   "codemirror_mode": {
    "name": "ipython",
    "version": 3
   },
   "file_extension": ".py",
   "mimetype": "text/x-python",
   "name": "python",
   "nbconvert_exporter": "python",
   "pygments_lexer": "ipython3",
   "version": "3.11.8"
  }
 },
 "nbformat": 4,
 "nbformat_minor": 5
}
