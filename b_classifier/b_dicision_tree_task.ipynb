{
 "cells": [
  {
   "cell_type": "markdown",
   "id": "ae8ba3f9-ee2f-47b3-951d-4a5da3f56aa2",
   "metadata": {},
   "source": [
    "### Decision Tree Task"
   ]
  },
  {
   "cell_type": "markdown",
   "id": "b130ad74-7f0e-4629-80e3-4d9af3fa6c40",
   "metadata": {},
   "source": [
    "### 약물 A, B, C, X, Y\n",
    "##### 다중 분류(Multiclass Classification)\n",
    "- 의학 연구원으로서 동일한 질병을 앓고 있는 일련의 환자에 대한 데이터를 수집했다.\n",
    "- 치료 과정 동안 각 환자는 5가지 약물, 즉 약물 A, 약물 B, 약물 c, 약물 x 및 y 중 하나에 반응했다.\n",
    "-  미래에 동일한 질병을 앓는 환자에게 어떤 약물이 적합할 수 있는지 알아보기 위한 모델을 구축한다."
   ]
  },
  {
   "cell_type": "markdown",
   "id": "a3bd967f-7781-48bd-8fdc-6cefae848de6",
   "metadata": {},
   "source": [
    "##### feature\n",
    "- Age: 환자의 나이\n",
    "- Sex: 환자의 성별\n",
    "- BP: 혈압\n",
    "- Cholesterol: 콜레스테롤 수치\n",
    "- Na_to_K: 나트륨-칼륨\n",
    "\n",
    "##### target\n",
    "- Drug: 의약품, 환자에게 효과가 있었던 약"
   ]
  },
  {
   "cell_type": "code",
   "execution_count": 1,
   "id": "1fa74b77-8172-4cc9-a910-d8bad2669a1c",
   "metadata": {},
   "outputs": [
    {
     "data": {
      "text/html": [
       "<div>\n",
       "<style scoped>\n",
       "    .dataframe tbody tr th:only-of-type {\n",
       "        vertical-align: middle;\n",
       "    }\n",
       "\n",
       "    .dataframe tbody tr th {\n",
       "        vertical-align: top;\n",
       "    }\n",
       "\n",
       "    .dataframe thead th {\n",
       "        text-align: right;\n",
       "    }\n",
       "</style>\n",
       "<table border=\"1\" class=\"dataframe\">\n",
       "  <thead>\n",
       "    <tr style=\"text-align: right;\">\n",
       "      <th></th>\n",
       "      <th>Age</th>\n",
       "      <th>Sex</th>\n",
       "      <th>BP</th>\n",
       "      <th>Cholesterol</th>\n",
       "      <th>Na_to_K</th>\n",
       "      <th>Drug</th>\n",
       "    </tr>\n",
       "  </thead>\n",
       "  <tbody>\n",
       "    <tr>\n",
       "      <th>0</th>\n",
       "      <td>23</td>\n",
       "      <td>F</td>\n",
       "      <td>HIGH</td>\n",
       "      <td>HIGH</td>\n",
       "      <td>25.355</td>\n",
       "      <td>drugY</td>\n",
       "    </tr>\n",
       "    <tr>\n",
       "      <th>1</th>\n",
       "      <td>47</td>\n",
       "      <td>M</td>\n",
       "      <td>LOW</td>\n",
       "      <td>HIGH</td>\n",
       "      <td>13.093</td>\n",
       "      <td>drugC</td>\n",
       "    </tr>\n",
       "    <tr>\n",
       "      <th>2</th>\n",
       "      <td>47</td>\n",
       "      <td>M</td>\n",
       "      <td>LOW</td>\n",
       "      <td>HIGH</td>\n",
       "      <td>10.114</td>\n",
       "      <td>drugC</td>\n",
       "    </tr>\n",
       "    <tr>\n",
       "      <th>3</th>\n",
       "      <td>28</td>\n",
       "      <td>F</td>\n",
       "      <td>NORMAL</td>\n",
       "      <td>HIGH</td>\n",
       "      <td>7.798</td>\n",
       "      <td>drugX</td>\n",
       "    </tr>\n",
       "    <tr>\n",
       "      <th>4</th>\n",
       "      <td>61</td>\n",
       "      <td>F</td>\n",
       "      <td>LOW</td>\n",
       "      <td>HIGH</td>\n",
       "      <td>18.043</td>\n",
       "      <td>drugY</td>\n",
       "    </tr>\n",
       "    <tr>\n",
       "      <th>...</th>\n",
       "      <td>...</td>\n",
       "      <td>...</td>\n",
       "      <td>...</td>\n",
       "      <td>...</td>\n",
       "      <td>...</td>\n",
       "      <td>...</td>\n",
       "    </tr>\n",
       "    <tr>\n",
       "      <th>195</th>\n",
       "      <td>56</td>\n",
       "      <td>F</td>\n",
       "      <td>LOW</td>\n",
       "      <td>HIGH</td>\n",
       "      <td>11.567</td>\n",
       "      <td>drugC</td>\n",
       "    </tr>\n",
       "    <tr>\n",
       "      <th>196</th>\n",
       "      <td>16</td>\n",
       "      <td>M</td>\n",
       "      <td>LOW</td>\n",
       "      <td>HIGH</td>\n",
       "      <td>12.006</td>\n",
       "      <td>drugC</td>\n",
       "    </tr>\n",
       "    <tr>\n",
       "      <th>197</th>\n",
       "      <td>52</td>\n",
       "      <td>M</td>\n",
       "      <td>NORMAL</td>\n",
       "      <td>HIGH</td>\n",
       "      <td>9.894</td>\n",
       "      <td>drugX</td>\n",
       "    </tr>\n",
       "    <tr>\n",
       "      <th>198</th>\n",
       "      <td>23</td>\n",
       "      <td>M</td>\n",
       "      <td>NORMAL</td>\n",
       "      <td>NORMAL</td>\n",
       "      <td>14.020</td>\n",
       "      <td>drugX</td>\n",
       "    </tr>\n",
       "    <tr>\n",
       "      <th>199</th>\n",
       "      <td>40</td>\n",
       "      <td>F</td>\n",
       "      <td>LOW</td>\n",
       "      <td>NORMAL</td>\n",
       "      <td>11.349</td>\n",
       "      <td>drugX</td>\n",
       "    </tr>\n",
       "  </tbody>\n",
       "</table>\n",
       "<p>200 rows × 6 columns</p>\n",
       "</div>"
      ],
      "text/plain": [
       "     Age Sex      BP Cholesterol  Na_to_K   Drug\n",
       "0     23   F    HIGH        HIGH   25.355  drugY\n",
       "1     47   M     LOW        HIGH   13.093  drugC\n",
       "2     47   M     LOW        HIGH   10.114  drugC\n",
       "3     28   F  NORMAL        HIGH    7.798  drugX\n",
       "4     61   F     LOW        HIGH   18.043  drugY\n",
       "..   ...  ..     ...         ...      ...    ...\n",
       "195   56   F     LOW        HIGH   11.567  drugC\n",
       "196   16   M     LOW        HIGH   12.006  drugC\n",
       "197   52   M  NORMAL        HIGH    9.894  drugX\n",
       "198   23   M  NORMAL      NORMAL   14.020  drugX\n",
       "199   40   F     LOW      NORMAL   11.349  drugX\n",
       "\n",
       "[200 rows x 6 columns]"
      ]
     },
     "execution_count": 1,
     "metadata": {},
     "output_type": "execute_result"
    }
   ],
   "source": [
    "import pandas as pd\n",
    "\n",
    "# 데이터 세트 호출\n",
    "drug_df = pd.read_csv('./datasets/drugs.csv')\n",
    "drug_df"
   ]
  },
  {
   "cell_type": "markdown",
   "id": "328d8268-5b5e-4947-a51a-31cc8c99952a",
   "metadata": {},
   "source": [
    "### Ⅰ. 데이터 분석"
   ]
  },
  {
   "cell_type": "markdown",
   "id": "2d835b15-3873-4bc9-bdc1-0b2f3ae32c4c",
   "metadata": {},
   "source": [
    "#### 📊 데이터 정보"
   ]
  },
  {
   "cell_type": "code",
   "execution_count": 2,
   "id": "2789d4d4-9c71-4755-94e1-cbda52dcaf72",
   "metadata": {},
   "outputs": [
    {
     "name": "stdout",
     "output_type": "stream",
     "text": [
      "<class 'pandas.core.frame.DataFrame'>\n",
      "RangeIndex: 200 entries, 0 to 199\n",
      "Data columns (total 6 columns):\n",
      " #   Column       Non-Null Count  Dtype  \n",
      "---  ------       --------------  -----  \n",
      " 0   Age          200 non-null    int64  \n",
      " 1   Sex          200 non-null    object \n",
      " 2   BP           200 non-null    object \n",
      " 3   Cholesterol  200 non-null    object \n",
      " 4   Na_to_K      200 non-null    float64\n",
      " 5   Drug         200 non-null    object \n",
      "dtypes: float64(1), int64(1), object(4)\n",
      "memory usage: 9.5+ KB\n"
     ]
    }
   ],
   "source": [
    "drug_df.info()"
   ]
  },
  {
   "cell_type": "markdown",
   "id": "4d66fd86-ffc1-435c-8fe8-4a8f51624305",
   "metadata": {},
   "source": [
    "### Ⅱ. 데이터 전처리"
   ]
  },
  {
   "cell_type": "markdown",
   "id": "eaee37ce-2dad-4195-acdd-9d5d06246cf4",
   "metadata": {},
   "source": [
    "#### 📊 데이터 결측치 확인"
   ]
  },
  {
   "cell_type": "code",
   "execution_count": 3,
   "id": "28dfde5e-86df-4fb0-b914-6948df12bb65",
   "metadata": {},
   "outputs": [
    {
     "data": {
      "text/plain": [
       "Age            0\n",
       "Sex            0\n",
       "BP             0\n",
       "Cholesterol    0\n",
       "Na_to_K        0\n",
       "Drug           0\n",
       "dtype: int64"
      ]
     },
     "execution_count": 3,
     "metadata": {},
     "output_type": "execute_result"
    }
   ],
   "source": [
    "drug_df.isna().sum()"
   ]
  },
  {
   "cell_type": "markdown",
   "id": "806c0158-12c1-49a7-802d-05d18a5252b0",
   "metadata": {},
   "source": [
    "#### 📊 데이터 이상치 제거"
   ]
  },
  {
   "cell_type": "code",
   "execution_count": 4,
   "id": "05e00d08-be9b-4db6-b6c6-6104ea717d8c",
   "metadata": {},
   "outputs": [
    {
     "data": {
      "text/html": [
       "<div>\n",
       "<style scoped>\n",
       "    .dataframe tbody tr th:only-of-type {\n",
       "        vertical-align: middle;\n",
       "    }\n",
       "\n",
       "    .dataframe tbody tr th {\n",
       "        vertical-align: top;\n",
       "    }\n",
       "\n",
       "    .dataframe thead th {\n",
       "        text-align: right;\n",
       "    }\n",
       "</style>\n",
       "<table border=\"1\" class=\"dataframe\">\n",
       "  <thead>\n",
       "    <tr style=\"text-align: right;\">\n",
       "      <th></th>\n",
       "      <th>index</th>\n",
       "      <th>Na_to_K</th>\n",
       "    </tr>\n",
       "  </thead>\n",
       "  <tbody>\n",
       "    <tr>\n",
       "      <th>0</th>\n",
       "      <td>0</td>\n",
       "      <td>25.355</td>\n",
       "    </tr>\n",
       "    <tr>\n",
       "      <th>1</th>\n",
       "      <td>1</td>\n",
       "      <td>13.093</td>\n",
       "    </tr>\n",
       "    <tr>\n",
       "      <th>2</th>\n",
       "      <td>2</td>\n",
       "      <td>10.114</td>\n",
       "    </tr>\n",
       "    <tr>\n",
       "      <th>3</th>\n",
       "      <td>3</td>\n",
       "      <td>7.798</td>\n",
       "    </tr>\n",
       "    <tr>\n",
       "      <th>4</th>\n",
       "      <td>4</td>\n",
       "      <td>18.043</td>\n",
       "    </tr>\n",
       "    <tr>\n",
       "      <th>...</th>\n",
       "      <td>...</td>\n",
       "      <td>...</td>\n",
       "    </tr>\n",
       "    <tr>\n",
       "      <th>195</th>\n",
       "      <td>195</td>\n",
       "      <td>11.567</td>\n",
       "    </tr>\n",
       "    <tr>\n",
       "      <th>196</th>\n",
       "      <td>196</td>\n",
       "      <td>12.006</td>\n",
       "    </tr>\n",
       "    <tr>\n",
       "      <th>197</th>\n",
       "      <td>197</td>\n",
       "      <td>9.894</td>\n",
       "    </tr>\n",
       "    <tr>\n",
       "      <th>198</th>\n",
       "      <td>198</td>\n",
       "      <td>14.020</td>\n",
       "    </tr>\n",
       "    <tr>\n",
       "      <th>199</th>\n",
       "      <td>199</td>\n",
       "      <td>11.349</td>\n",
       "    </tr>\n",
       "  </tbody>\n",
       "</table>\n",
       "<p>200 rows × 2 columns</p>\n",
       "</div>"
      ],
      "text/plain": [
       "     index  Na_to_K\n",
       "0        0   25.355\n",
       "1        1   13.093\n",
       "2        2   10.114\n",
       "3        3    7.798\n",
       "4        4   18.043\n",
       "..     ...      ...\n",
       "195    195   11.567\n",
       "196    196   12.006\n",
       "197    197    9.894\n",
       "198    198   14.020\n",
       "199    199   11.349\n",
       "\n",
       "[200 rows x 2 columns]"
      ]
     },
     "execution_count": 4,
     "metadata": {},
     "output_type": "execute_result"
    }
   ],
   "source": [
    "# 특정 피처만 가져와 새로운 데이터 프레임으로 생성\n",
    "na_to_k_df = drug_df.loc[:, 'Na_to_K'].reset_index()\n",
    "na_to_k_df\n",
    "\n",
    "# Tip\n",
    "# 신규 데이터 프레임에서 정규화 진행 후 이상치를 구분하고\n",
    "# 원본 데이터에서 이상치를 인덱스 번호로 제거하기 때문에 인덱스 번호 유지"
   ]
  },
  {
   "cell_type": "code",
   "execution_count": 5,
   "id": "a39c2509-922e-4ca5-9bd0-d736cc2d03fc",
   "metadata": {},
   "outputs": [
    {
     "data": {
      "text/plain": [
       "array([[ 1.28652212],\n",
       "       [-0.4151454 ],\n",
       "       [-0.82855818],\n",
       "       [-1.14996267],\n",
       "       [ 0.27179427],\n",
       "       [-1.03769314],\n",
       "       [ 0.02643885],\n",
       "       [-0.70046821],\n",
       "       [-0.12676951],\n",
       "       [ 0.45567206],\n",
       "       [-0.59916196],\n",
       "       [ 0.43221897],\n",
       "       [-0.09832049],\n",
       "       [ 0.674105  ],\n",
       "       [-0.46926791],\n",
       "       [-0.0788919 ],\n",
       "       [-0.64245998],\n",
       "       [-0.29316156],\n",
       "       [-1.21935052],\n",
       "       [ 1.37242427],\n",
       "       [ 0.42236589],\n",
       "       [ 1.36451406],\n",
       "       [ 2.00995979],\n",
       "       [-0.14550423],\n",
       "       [ 2.41490725],\n",
       "       [ 0.37809645],\n",
       "       [ 1.9819271 ],\n",
       "       [-0.93028076],\n",
       "       [ 0.91765633],\n",
       "       [ 0.25902691],\n",
       "       [-1.01784822],\n",
       "       [-0.90446848],\n",
       "       [-0.70366006],\n",
       "       [ 2.19147839],\n",
       "       [-0.27081868],\n",
       "       [-1.2211546 ],\n",
       "       [-0.92139911],\n",
       "       [-0.29787994],\n",
       "       [-0.88476233],\n",
       "       [-0.97149714],\n",
       "       [ 0.43527203],\n",
       "       [-0.25610845],\n",
       "       [-0.04086736],\n",
       "       [-0.53074555],\n",
       "       [-0.5258884 ],\n",
       "       [-1.10708099],\n",
       "       [-0.41542295],\n",
       "       [-0.80399488],\n",
       "       [ 2.16511101],\n",
       "       [ 0.51506806],\n",
       "       [ 0.46233329],\n",
       "       [-0.71975804],\n",
       "       [ 1.54020408],\n",
       "       [ 0.32924741],\n",
       "       [-0.81815   ],\n",
       "       [-0.26707173],\n",
       "       [-0.65841918],\n",
       "       [ 1.62943685],\n",
       "       [-0.83175002],\n",
       "       [ 0.36338623],\n",
       "       [ 1.91378824],\n",
       "       [-0.91723584],\n",
       "       [ 0.63954985],\n",
       "       [-1.07058298],\n",
       "       [-0.3860025 ],\n",
       "       [ 1.52174691],\n",
       "       [-0.44803523],\n",
       "       [-0.72891723],\n",
       "       [ 1.18979546],\n",
       "       [ 1.13678315],\n",
       "       [-0.29385544],\n",
       "       [ 0.4982762 ],\n",
       "       [-0.76041931],\n",
       "       [ 0.94652168],\n",
       "       [ 0.13662675],\n",
       "       [ 0.6695254 ],\n",
       "       [-0.67812533],\n",
       "       [ 0.42694549],\n",
       "       [-0.38461474],\n",
       "       [-0.72780703],\n",
       "       [-0.29843504],\n",
       "       [-1.15509738],\n",
       "       [-0.884346  ],\n",
       "       [-0.66036204],\n",
       "       [-0.83508063],\n",
       "       [-0.29829626],\n",
       "       [-0.34520245],\n",
       "       [-0.08416537],\n",
       "       [ 0.97233395],\n",
       "       [ 0.1563329 ],\n",
       "       [ 0.0707083 ],\n",
       "       [-0.12885115],\n",
       "       [ 1.85480857],\n",
       "       [ 1.82996772],\n",
       "       [-0.14841852],\n",
       "       [-0.64676202],\n",
       "       [ 3.07561832],\n",
       "       [ 1.29207314],\n",
       "       [ 2.71369132],\n",
       "       [ 0.08888791],\n",
       "       [-0.58472929],\n",
       "       [-0.44831279],\n",
       "       [-0.41042702],\n",
       "       [-0.98787267],\n",
       "       [ 1.69438387],\n",
       "       [-0.98759512],\n",
       "       [-0.57334968],\n",
       "       [ 0.54518238],\n",
       "       [-0.88920315],\n",
       "       [ 0.10623487],\n",
       "       [-1.19270559],\n",
       "       [-1.30469757],\n",
       "       [-0.95956243],\n",
       "       [-0.32133303],\n",
       "       [-0.94415833],\n",
       "       [ 0.30676574],\n",
       "       [-0.91182359],\n",
       "       [-0.83008471],\n",
       "       [-0.8038561 ],\n",
       "       [ 1.3031752 ],\n",
       "       [ 1.52368977],\n",
       "       [ 0.15563902],\n",
       "       [ 0.88421139],\n",
       "       [ 0.09277363],\n",
       "       [-0.49813326],\n",
       "       [ 1.37173039],\n",
       "       [ 0.0364307 ],\n",
       "       [-1.14344022],\n",
       "       [ 2.42267869],\n",
       "       [-1.19450967],\n",
       "       [ 0.61123961],\n",
       "       [ 2.33663776],\n",
       "       [-0.34506367],\n",
       "       [ 1.34633444],\n",
       "       [ 0.68714991],\n",
       "       [-0.57529254],\n",
       "       [-0.70879476],\n",
       "       [-0.44276176],\n",
       "       [-0.65800285],\n",
       "       [-0.83535819],\n",
       "       [-1.36215071],\n",
       "       [ 1.34008953],\n",
       "       [-1.03575028],\n",
       "       [-0.08999395],\n",
       "       [-0.89100724],\n",
       "       [-0.92167666],\n",
       "       [-0.56599457],\n",
       "       [-0.52422309],\n",
       "       [-1.21352194],\n",
       "       [-1.10097486],\n",
       "       [-1.024787  ],\n",
       "       [-0.70435393],\n",
       "       [-1.22448522],\n",
       "       [-0.20018185],\n",
       "       [ 0.08874914],\n",
       "       [-0.76985606],\n",
       "       [-0.67410083],\n",
       "       [ 0.95457067],\n",
       "       [-0.7827622 ],\n",
       "       [-0.43873726],\n",
       "       [-0.78290097],\n",
       "       [-0.85201127],\n",
       "       [-0.44761891],\n",
       "       [ 1.74129005],\n",
       "       [ 0.40557404],\n",
       "       [ 0.30676574],\n",
       "       [ 1.46554276],\n",
       "       [-0.2593003 ],\n",
       "       [ 0.96012169],\n",
       "       [-0.66924368],\n",
       "       [-0.44484339],\n",
       "       [-0.84201942],\n",
       "       [ 0.15827576],\n",
       "       [ 0.36838215],\n",
       "       [-0.46052505],\n",
       "       [ 0.31412086],\n",
       "       [-0.78248465],\n",
       "       [ 0.40612914],\n",
       "       [-0.01602651],\n",
       "       [-0.02685101],\n",
       "       [ 0.93444819],\n",
       "       [-0.30537382],\n",
       "       [-0.61040279],\n",
       "       [-0.08250007],\n",
       "       [ 2.92865486],\n",
       "       [ 1.36118344],\n",
       "       [-0.86533373],\n",
       "       [-0.788452  ],\n",
       "       [ 2.62459732],\n",
       "       [ 0.67271724],\n",
       "       [ 0.40335363],\n",
       "       [-1.12040345],\n",
       "       [ 0.031296  ],\n",
       "       [-1.29276286],\n",
       "       [ 2.58143808],\n",
       "       [-0.6269171 ],\n",
       "       [-0.56599457],\n",
       "       [-0.85908883],\n",
       "       [-0.28650033],\n",
       "       [-0.6571702 ]])"
      ]
     },
     "execution_count": 5,
     "metadata": {},
     "output_type": "execute_result"
    }
   ],
   "source": [
    "from sklearn.preprocessing import StandardScaler\n",
    "\n",
    "# 평균이 0, 분산이 1이되도록 표준편차를 따르게 하는 스케일링 매소드 담기\n",
    "std = StandardScaler()\n",
    "# 특정 피처 데이터의 정규화\n",
    "std_na_to_k = std.fit_transform(na_to_k_df[['Na_to_K']])\n",
    "std_na_to_k"
   ]
  },
  {
   "cell_type": "code",
   "execution_count": 6,
   "id": "e453f52c-15ae-4443-88f7-382aafb91fd6",
   "metadata": {},
   "outputs": [
    {
     "data": {
      "text/html": [
       "<div>\n",
       "<style scoped>\n",
       "    .dataframe tbody tr th:only-of-type {\n",
       "        vertical-align: middle;\n",
       "    }\n",
       "\n",
       "    .dataframe tbody tr th {\n",
       "        vertical-align: top;\n",
       "    }\n",
       "\n",
       "    .dataframe thead th {\n",
       "        text-align: right;\n",
       "    }\n",
       "</style>\n",
       "<table border=\"1\" class=\"dataframe\">\n",
       "  <thead>\n",
       "    <tr style=\"text-align: right;\">\n",
       "      <th></th>\n",
       "      <th>index</th>\n",
       "      <th>Na_to_K</th>\n",
       "    </tr>\n",
       "  </thead>\n",
       "  <tbody>\n",
       "    <tr>\n",
       "      <th>0</th>\n",
       "      <td>0</td>\n",
       "      <td>1.286522</td>\n",
       "    </tr>\n",
       "    <tr>\n",
       "      <th>1</th>\n",
       "      <td>1</td>\n",
       "      <td>-0.415145</td>\n",
       "    </tr>\n",
       "    <tr>\n",
       "      <th>2</th>\n",
       "      <td>2</td>\n",
       "      <td>-0.828558</td>\n",
       "    </tr>\n",
       "    <tr>\n",
       "      <th>3</th>\n",
       "      <td>3</td>\n",
       "      <td>-1.149963</td>\n",
       "    </tr>\n",
       "    <tr>\n",
       "      <th>4</th>\n",
       "      <td>4</td>\n",
       "      <td>0.271794</td>\n",
       "    </tr>\n",
       "    <tr>\n",
       "      <th>...</th>\n",
       "      <td>...</td>\n",
       "      <td>...</td>\n",
       "    </tr>\n",
       "    <tr>\n",
       "      <th>195</th>\n",
       "      <td>195</td>\n",
       "      <td>-0.626917</td>\n",
       "    </tr>\n",
       "    <tr>\n",
       "      <th>196</th>\n",
       "      <td>196</td>\n",
       "      <td>-0.565995</td>\n",
       "    </tr>\n",
       "    <tr>\n",
       "      <th>197</th>\n",
       "      <td>197</td>\n",
       "      <td>-0.859089</td>\n",
       "    </tr>\n",
       "    <tr>\n",
       "      <th>198</th>\n",
       "      <td>198</td>\n",
       "      <td>-0.286500</td>\n",
       "    </tr>\n",
       "    <tr>\n",
       "      <th>199</th>\n",
       "      <td>199</td>\n",
       "      <td>-0.657170</td>\n",
       "    </tr>\n",
       "  </tbody>\n",
       "</table>\n",
       "<p>200 rows × 2 columns</p>\n",
       "</div>"
      ],
      "text/plain": [
       "     index   Na_to_K\n",
       "0        0  1.286522\n",
       "1        1 -0.415145\n",
       "2        2 -0.828558\n",
       "3        3 -1.149963\n",
       "4        4  0.271794\n",
       "..     ...       ...\n",
       "195    195 -0.626917\n",
       "196    196 -0.565995\n",
       "197    197 -0.859089\n",
       "198    198 -0.286500\n",
       "199    199 -0.657170\n",
       "\n",
       "[200 rows x 2 columns]"
      ]
     },
     "execution_count": 6,
     "metadata": {},
     "output_type": "execute_result"
    }
   ],
   "source": [
    "# 정규화된 데이터 값으로 대체\n",
    "na_to_k_df['Na_to_K'] = std_na_to_k\n",
    "na_to_k_df"
   ]
  },
  {
   "cell_type": "code",
   "execution_count": 7,
   "id": "a899f957-7eee-4d5e-8e6a-5c1739cb730e",
   "metadata": {},
   "outputs": [
    {
     "data": {
      "text/html": [
       "<div>\n",
       "<style scoped>\n",
       "    .dataframe tbody tr th:only-of-type {\n",
       "        vertical-align: middle;\n",
       "    }\n",
       "\n",
       "    .dataframe tbody tr th {\n",
       "        vertical-align: top;\n",
       "    }\n",
       "\n",
       "    .dataframe thead th {\n",
       "        text-align: right;\n",
       "    }\n",
       "</style>\n",
       "<table border=\"1\" class=\"dataframe\">\n",
       "  <thead>\n",
       "    <tr style=\"text-align: right;\">\n",
       "      <th></th>\n",
       "      <th>Age</th>\n",
       "      <th>Sex</th>\n",
       "      <th>BP</th>\n",
       "      <th>Cholesterol</th>\n",
       "      <th>Na_to_K</th>\n",
       "      <th>Drug</th>\n",
       "    </tr>\n",
       "  </thead>\n",
       "  <tbody>\n",
       "    <tr>\n",
       "      <th>0</th>\n",
       "      <td>23</td>\n",
       "      <td>F</td>\n",
       "      <td>HIGH</td>\n",
       "      <td>HIGH</td>\n",
       "      <td>25.355</td>\n",
       "      <td>drugY</td>\n",
       "    </tr>\n",
       "    <tr>\n",
       "      <th>1</th>\n",
       "      <td>47</td>\n",
       "      <td>M</td>\n",
       "      <td>LOW</td>\n",
       "      <td>HIGH</td>\n",
       "      <td>13.093</td>\n",
       "      <td>drugC</td>\n",
       "    </tr>\n",
       "    <tr>\n",
       "      <th>2</th>\n",
       "      <td>47</td>\n",
       "      <td>M</td>\n",
       "      <td>LOW</td>\n",
       "      <td>HIGH</td>\n",
       "      <td>10.114</td>\n",
       "      <td>drugC</td>\n",
       "    </tr>\n",
       "    <tr>\n",
       "      <th>3</th>\n",
       "      <td>28</td>\n",
       "      <td>F</td>\n",
       "      <td>NORMAL</td>\n",
       "      <td>HIGH</td>\n",
       "      <td>7.798</td>\n",
       "      <td>drugX</td>\n",
       "    </tr>\n",
       "    <tr>\n",
       "      <th>4</th>\n",
       "      <td>61</td>\n",
       "      <td>F</td>\n",
       "      <td>LOW</td>\n",
       "      <td>HIGH</td>\n",
       "      <td>18.043</td>\n",
       "      <td>drugY</td>\n",
       "    </tr>\n",
       "    <tr>\n",
       "      <th>...</th>\n",
       "      <td>...</td>\n",
       "      <td>...</td>\n",
       "      <td>...</td>\n",
       "      <td>...</td>\n",
       "      <td>...</td>\n",
       "      <td>...</td>\n",
       "    </tr>\n",
       "    <tr>\n",
       "      <th>183</th>\n",
       "      <td>56</td>\n",
       "      <td>F</td>\n",
       "      <td>LOW</td>\n",
       "      <td>HIGH</td>\n",
       "      <td>11.567</td>\n",
       "      <td>drugC</td>\n",
       "    </tr>\n",
       "    <tr>\n",
       "      <th>184</th>\n",
       "      <td>16</td>\n",
       "      <td>M</td>\n",
       "      <td>LOW</td>\n",
       "      <td>HIGH</td>\n",
       "      <td>12.006</td>\n",
       "      <td>drugC</td>\n",
       "    </tr>\n",
       "    <tr>\n",
       "      <th>185</th>\n",
       "      <td>52</td>\n",
       "      <td>M</td>\n",
       "      <td>NORMAL</td>\n",
       "      <td>HIGH</td>\n",
       "      <td>9.894</td>\n",
       "      <td>drugX</td>\n",
       "    </tr>\n",
       "    <tr>\n",
       "      <th>186</th>\n",
       "      <td>23</td>\n",
       "      <td>M</td>\n",
       "      <td>NORMAL</td>\n",
       "      <td>NORMAL</td>\n",
       "      <td>14.020</td>\n",
       "      <td>drugX</td>\n",
       "    </tr>\n",
       "    <tr>\n",
       "      <th>187</th>\n",
       "      <td>40</td>\n",
       "      <td>F</td>\n",
       "      <td>LOW</td>\n",
       "      <td>NORMAL</td>\n",
       "      <td>11.349</td>\n",
       "      <td>drugX</td>\n",
       "    </tr>\n",
       "  </tbody>\n",
       "</table>\n",
       "<p>188 rows × 6 columns</p>\n",
       "</div>"
      ],
      "text/plain": [
       "     Age Sex      BP Cholesterol  Na_to_K   Drug\n",
       "0     23   F    HIGH        HIGH   25.355  drugY\n",
       "1     47   M     LOW        HIGH   13.093  drugC\n",
       "2     47   M     LOW        HIGH   10.114  drugC\n",
       "3     28   F  NORMAL        HIGH    7.798  drugX\n",
       "4     61   F     LOW        HIGH   18.043  drugY\n",
       "..   ...  ..     ...         ...      ...    ...\n",
       "183   56   F     LOW        HIGH   11.567  drugC\n",
       "184   16   M     LOW        HIGH   12.006  drugC\n",
       "185   52   M  NORMAL        HIGH    9.894  drugX\n",
       "186   23   M  NORMAL      NORMAL   14.020  drugX\n",
       "187   40   F     LOW      NORMAL   11.349  drugX\n",
       "\n",
       "[188 rows x 6 columns]"
      ]
     },
     "execution_count": 7,
     "metadata": {},
     "output_type": "execute_result"
    }
   ],
   "source": [
    "# 정상 데이터 범위 지정\n",
    "cond1 = na_to_k_df['Na_to_K'] >= -1.96\n",
    "cond2 = na_to_k_df['Na_to_K'] <= 1.96\n",
    "cond = cond1 & cond2\n",
    "\n",
    "# 정상 데이터의 인덱스 번호를 가져와 원본 데이터와 대조하기 (이상치 제거)\n",
    "drug_df = drug_df.iloc[na_to_k_df[cond].index].reset_index(drop=True)\n",
    "drug_df"
   ]
  },
  {
   "cell_type": "markdown",
   "id": "b8848075-344b-43e1-8e88-34721756303a",
   "metadata": {},
   "source": [
    "#### 📊 문자열/범주형 데이터 정수 형변환"
   ]
  },
  {
   "cell_type": "code",
   "execution_count": 8,
   "id": "eb341e40-2268-4340-bce7-538ab4a8b81e",
   "metadata": {},
   "outputs": [],
   "source": [
    "drug_enc_df = drug_df.copy()"
   ]
  },
  {
   "cell_type": "code",
   "execution_count": 9,
   "id": "3dc3ba07-2666-4793-b83b-f30fef51669d",
   "metadata": {},
   "outputs": [],
   "source": [
    "from sklearn.preprocessing import LabelEncoder\n",
    "\n",
    "# 문자열/범주형 데이터를 정수로 변환하는 매소드 가져오기\n",
    "drug_encoder = LabelEncoder()\n",
    "# 특정 피처 리스트로 가져와 데이터 형변환하기(모델은 학습 됨)\n",
    "# 파이썬 리스트로 전달해야 함\n",
    "targets = drug_encoder.fit_transform(drug_df['Drug'].tolist())\n",
    "drug_enc_df['Drug'] = targets\n",
    "\n",
    "gender_encoder = LabelEncoder()\n",
    "genders = gender_encoder.fit_transform(drug_df['Sex'].tolist())\n",
    "drug_enc_df['Sex'] = genders\n",
    "\n",
    "blood_pressure_encoder = LabelEncoder()\n",
    "blood_pressures = blood_pressure_encoder.fit_transform(drug_df['BP'].tolist())\n",
    "drug_enc_df['BP'] = blood_pressures\n",
    "\n",
    "cholesterol_encoder = LabelEncoder()\n",
    "cholesterols = cholesterol_encoder.fit_transform(drug_df['Cholesterol'].tolist())\n",
    "drug_enc_df['Cholesterol'] = cholesterols"
   ]
  },
  {
   "cell_type": "code",
   "execution_count": 10,
   "id": "0dfecb47-a9d8-465a-9887-afd34db8cd7e",
   "metadata": {},
   "outputs": [
    {
     "data": {
      "text/plain": [
       "array(['drugA', 'drugB', 'drugC', 'drugX', 'drugY'], dtype='<U5')"
      ]
     },
     "execution_count": 10,
     "metadata": {},
     "output_type": "execute_result"
    }
   ],
   "source": [
    "# 학습된 모델의 클래스 확인 (원래 값의 배열 제공)\n",
    "drug_encoder.classes_"
   ]
  },
  {
   "cell_type": "code",
   "execution_count": 13,
   "id": "12266643-d2de-4513-905f-038591f7a671",
   "metadata": {},
   "outputs": [
    {
     "data": {
      "text/plain": [
       "array(['drugY', 'drugC', 'drugC', 'drugX', 'drugY', 'drugX', 'drugY',\n",
       "       'drugC', 'drugY', 'drugY', 'drugC', 'drugY', 'drugY', 'drugY',\n",
       "       'drugX', 'drugY', 'drugX', 'drugA', 'drugC', 'drugY', 'drugY',\n",
       "       'drugY', 'drugY', 'drugY', 'drugX', 'drugY', 'drugY', 'drugX',\n",
       "       'drugB', 'drugX', 'drugX', 'drugX', 'drugA', 'drugX', 'drugX',\n",
       "       'drugX', 'drugY', 'drugB', 'drugY', 'drugX', 'drugX', 'drugX',\n",
       "       'drugA', 'drugC', 'drugY', 'drugY', 'drugX', 'drugY', 'drugY',\n",
       "       'drugB', 'drugC', 'drugB', 'drugY', 'drugX', 'drugY', 'drugY',\n",
       "       'drugA', 'drugY', 'drugX', 'drugB', 'drugY', 'drugA', 'drugX',\n",
       "       'drugY', 'drugY', 'drugB', 'drugY', 'drugX', 'drugY', 'drugY',\n",
       "       'drugY', 'drugA', 'drugY', 'drugA', 'drugX', 'drugB', 'drugX',\n",
       "       'drugC', 'drugA', 'drugC', 'drugB', 'drugX', 'drugY', 'drugY',\n",
       "       'drugY', 'drugY', 'drugY', 'drugY', 'drugY', 'drugY', 'drugX',\n",
       "       'drugY', 'drugY', 'drugA', 'drugA', 'drugC', 'drugX', 'drugY',\n",
       "       'drugX', 'drugX', 'drugY', 'drugB', 'drugY', 'drugA', 'drugX',\n",
       "       'drugX', 'drugX', 'drugX', 'drugY', 'drugX', 'drugX', 'drugA',\n",
       "       'drugY', 'drugY', 'drugY', 'drugY', 'drugY', 'drugB', 'drugY',\n",
       "       'drugY', 'drugX', 'drugX', 'drugY', 'drugX', 'drugY', 'drugY',\n",
       "       'drugX', 'drugB', 'drugA', 'drugB', 'drugX', 'drugA', 'drugY',\n",
       "       'drugB', 'drugY', 'drugA', 'drugX', 'drugX', 'drugA', 'drugX',\n",
       "       'drugC', 'drugA', 'drugB', 'drugX', 'drugX', 'drugY', 'drugC',\n",
       "       'drugA', 'drugY', 'drugC', 'drugX', 'drugX', 'drugB', 'drugX',\n",
       "       'drugY', 'drugY', 'drugY', 'drugY', 'drugX', 'drugY', 'drugA',\n",
       "       'drugX', 'drugX', 'drugY', 'drugY', 'drugA', 'drugY', 'drugA',\n",
       "       'drugY', 'drugY', 'drugY', 'drugY', 'drugX', 'drugX', 'drugY',\n",
       "       'drugY', 'drugB', 'drugA', 'drugY', 'drugY', 'drugA', 'drugY',\n",
       "       'drugC', 'drugC', 'drugC', 'drugX', 'drugX', 'drugX'], dtype='<U5')"
      ]
     },
     "execution_count": 13,
     "metadata": {},
     "output_type": "execute_result"
    }
   ],
   "source": [
    "# 정수로 인코딩된 데이를 원래의 데이터 값으로 다시 형변환\n",
    "drug_encoder.inverse_transform(drug_enc_df['Drug'])"
   ]
  },
  {
   "cell_type": "markdown",
   "id": "2910daaf-aeb5-4f30-960f-5b81bfa68875",
   "metadata": {},
   "source": [
    "### Ⅲ. 데이터 세트 분리"
   ]
  },
  {
   "cell_type": "markdown",
   "id": "8cda946b-201d-498c-b86b-d7e164691471",
   "metadata": {},
   "source": [
    "#### 📊 데이터 세트 분리"
   ]
  },
  {
   "cell_type": "code",
   "execution_count": 15,
   "id": "c5112a38-1460-4d76-b818-e26a653c1c49",
   "metadata": {},
   "outputs": [],
   "source": [
    "from sklearn.tree import DecisionTreeClassifier\n",
    "from sklearn.model_selection import train_test_split\n",
    "\n",
    "# 분류 모델 가져오기\n",
    "dtc = DecisionTreeClassifier()\n",
    "\n",
    "# 피처와 컬럼으로 분리\n",
    "features, targets = drug_enc_df.iloc[:, :-1], drug_enc_df.iloc[:, -1]\n",
    "\n",
    "# 문제/정답 및 학습/테스트 데이터로 분리\n",
    "X_train, X_test, y_train, y_test = \\\n",
    "train_test_split(features, targets, test_size=0.2, random_state=124)"
   ]
  },
  {
   "cell_type": "markdown",
   "id": "0d829ba2-801d-4001-885c-25f4e1e8e384",
   "metadata": {},
   "source": [
    "### Ⅳ. 데이터 학습"
   ]
  },
  {
   "cell_type": "markdown",
   "id": "36e6e6e6-c6d0-48af-a4d8-1d8b46ed14fd",
   "metadata": {},
   "source": [
    "#### 📊 데이터 학습"
   ]
  },
  {
   "cell_type": "code",
   "execution_count": 16,
   "id": "d70ec776-952f-4525-8888-6ee126f301d6",
   "metadata": {},
   "outputs": [
    {
     "data": {
      "text/html": [
       "<style>#sk-container-id-2 {color: black;background-color: white;}#sk-container-id-2 pre{padding: 0;}#sk-container-id-2 div.sk-toggleable {background-color: white;}#sk-container-id-2 label.sk-toggleable__label {cursor: pointer;display: block;width: 100%;margin-bottom: 0;padding: 0.3em;box-sizing: border-box;text-align: center;}#sk-container-id-2 label.sk-toggleable__label-arrow:before {content: \"▸\";float: left;margin-right: 0.25em;color: #696969;}#sk-container-id-2 label.sk-toggleable__label-arrow:hover:before {color: black;}#sk-container-id-2 div.sk-estimator:hover label.sk-toggleable__label-arrow:before {color: black;}#sk-container-id-2 div.sk-toggleable__content {max-height: 0;max-width: 0;overflow: hidden;text-align: left;background-color: #f0f8ff;}#sk-container-id-2 div.sk-toggleable__content pre {margin: 0.2em;color: black;border-radius: 0.25em;background-color: #f0f8ff;}#sk-container-id-2 input.sk-toggleable__control:checked~div.sk-toggleable__content {max-height: 200px;max-width: 100%;overflow: auto;}#sk-container-id-2 input.sk-toggleable__control:checked~label.sk-toggleable__label-arrow:before {content: \"▾\";}#sk-container-id-2 div.sk-estimator input.sk-toggleable__control:checked~label.sk-toggleable__label {background-color: #d4ebff;}#sk-container-id-2 div.sk-label input.sk-toggleable__control:checked~label.sk-toggleable__label {background-color: #d4ebff;}#sk-container-id-2 input.sk-hidden--visually {border: 0;clip: rect(1px 1px 1px 1px);clip: rect(1px, 1px, 1px, 1px);height: 1px;margin: -1px;overflow: hidden;padding: 0;position: absolute;width: 1px;}#sk-container-id-2 div.sk-estimator {font-family: monospace;background-color: #f0f8ff;border: 1px dotted black;border-radius: 0.25em;box-sizing: border-box;margin-bottom: 0.5em;}#sk-container-id-2 div.sk-estimator:hover {background-color: #d4ebff;}#sk-container-id-2 div.sk-parallel-item::after {content: \"\";width: 100%;border-bottom: 1px solid gray;flex-grow: 1;}#sk-container-id-2 div.sk-label:hover label.sk-toggleable__label {background-color: #d4ebff;}#sk-container-id-2 div.sk-serial::before {content: \"\";position: absolute;border-left: 1px solid gray;box-sizing: border-box;top: 0;bottom: 0;left: 50%;z-index: 0;}#sk-container-id-2 div.sk-serial {display: flex;flex-direction: column;align-items: center;background-color: white;padding-right: 0.2em;padding-left: 0.2em;position: relative;}#sk-container-id-2 div.sk-item {position: relative;z-index: 1;}#sk-container-id-2 div.sk-parallel {display: flex;align-items: stretch;justify-content: center;background-color: white;position: relative;}#sk-container-id-2 div.sk-item::before, #sk-container-id-2 div.sk-parallel-item::before {content: \"\";position: absolute;border-left: 1px solid gray;box-sizing: border-box;top: 0;bottom: 0;left: 50%;z-index: -1;}#sk-container-id-2 div.sk-parallel-item {display: flex;flex-direction: column;z-index: 1;position: relative;background-color: white;}#sk-container-id-2 div.sk-parallel-item:first-child::after {align-self: flex-end;width: 50%;}#sk-container-id-2 div.sk-parallel-item:last-child::after {align-self: flex-start;width: 50%;}#sk-container-id-2 div.sk-parallel-item:only-child::after {width: 0;}#sk-container-id-2 div.sk-dashed-wrapped {border: 1px dashed gray;margin: 0 0.4em 0.5em 0.4em;box-sizing: border-box;padding-bottom: 0.4em;background-color: white;}#sk-container-id-2 div.sk-label label {font-family: monospace;font-weight: bold;display: inline-block;line-height: 1.2em;}#sk-container-id-2 div.sk-label-container {text-align: center;}#sk-container-id-2 div.sk-container {/* jupyter's `normalize.less` sets `[hidden] { display: none; }` but bootstrap.min.css set `[hidden] { display: none !important; }` so we also need the `!important` here to be able to override the default hidden behavior on the sphinx rendered scikit-learn.org. See: https://github.com/scikit-learn/scikit-learn/issues/21755 */display: inline-block !important;position: relative;}#sk-container-id-2 div.sk-text-repr-fallback {display: none;}</style><div id=\"sk-container-id-2\" class=\"sk-top-container\"><div class=\"sk-text-repr-fallback\"><pre>DecisionTreeClassifier()</pre><b>In a Jupyter environment, please rerun this cell to show the HTML representation or trust the notebook. <br />On GitHub, the HTML representation is unable to render, please try loading this page with nbviewer.org.</b></div><div class=\"sk-container\" hidden><div class=\"sk-item\"><div class=\"sk-estimator sk-toggleable\"><input class=\"sk-toggleable__control sk-hidden--visually\" id=\"sk-estimator-id-2\" type=\"checkbox\" checked><label for=\"sk-estimator-id-2\" class=\"sk-toggleable__label sk-toggleable__label-arrow\">DecisionTreeClassifier</label><div class=\"sk-toggleable__content\"><pre>DecisionTreeClassifier()</pre></div></div></div></div></div>"
      ],
      "text/plain": [
       "DecisionTreeClassifier()"
      ]
     },
     "execution_count": 16,
     "metadata": {},
     "output_type": "execute_result"
    }
   ],
   "source": [
    "# 데이터 학습\n",
    "dtc.fit(X_train.values, y_train.values)\n",
    "\n",
    "# Tip\n",
    "# Scikit-learn의 모델들은 일반적으로 Numpy 배열을 입력 받음\n",
    "# DecisionTreeClassifier 모델이 Numpy 배열 형태의 입력을 필요로 하기 때문에 values로 받은 것"
   ]
  },
  {
   "cell_type": "markdown",
   "id": "3bc22149-347c-45a3-8a48-4cb0c36a5e12",
   "metadata": {},
   "source": [
    "#### 📊 의사결정 트리"
   ]
  },
  {
   "cell_type": "code",
   "execution_count": 17,
   "id": "f577e2d5-675c-4e2d-ac25-71f1506d5d43",
   "metadata": {},
   "outputs": [],
   "source": [
    "from sklearn.tree import export_graphviz\n",
    "\n",
    "# 의사결정트리 매소드를 통해 dot 포맷으로 변환\n",
    "export_graphviz(\n",
    "    dtc, \n",
    "    out_file='./images/drug_dtc01.dot', \n",
    "    class_names=drug_encoder.classes_, \n",
    "    feature_names=features.columns, \n",
    "    impurity=True, \n",
    "    filled=True\n",
    ")"
   ]
  },
  {
   "cell_type": "code",
   "execution_count": 18,
   "id": "7acc39b6-9163-4a1b-af48-75ecad8a1787",
   "metadata": {},
   "outputs": [],
   "source": [
    "import graphviz\n",
    "\n",
    "# with문으로 파일을 열거나 또는 다른 리소스 사용(사용 후 닫음)\n",
    "# 해당 경로에 있는 dot파일을 열고 f에 담기\n",
    "with open('./images/drug_dtc01.dot') as f:\n",
    "    drug_dtc01 = f.read()\n",
    "    \n",
    "# 파일의 내용을 그래프 객체로 변환\n",
    "drug_dtc01_graph = graphviz.Source(drug_dtc01)"
   ]
  },
  {
   "cell_type": "code",
   "execution_count": 19,
   "id": "f97eb595-c4ab-42d7-bcc9-ad90572737a4",
   "metadata": {},
   "outputs": [
    {
     "data": {
      "text/plain": [
       "'images\\\\drug_dtc01.png'"
      ]
     },
     "execution_count": 19,
     "metadata": {},
     "output_type": "execute_result"
    }
   ],
   "source": [
    "# 그래프 객체 이미지 파일로 랜더링\n",
    "drug_dtc01_graph.render(filename='drug_dtc01', directory='./images', format='png')"
   ]
  },
  {
   "cell_type": "markdown",
   "id": "b90b004a-c04c-4c7d-b6d1-c098983397fe",
   "metadata": {},
   "source": [
    "<img src=\"./images/drug_dtc01.png\">"
   ]
  },
  {
   "cell_type": "markdown",
   "id": "55973521-14e1-483a-ac74-6fc08c481df2",
   "metadata": {},
   "source": [
    "#### 📊 Feature 별 중요도"
   ]
  },
  {
   "cell_type": "code",
   "execution_count": 20,
   "id": "a6e35f59-5db6-4e2f-919c-2584218494be",
   "metadata": {},
   "outputs": [
    {
     "data": {
      "image/png": "[encoded data removed]",
      "text/plain": [
       "<Figure size 640x480 with 1 Axes>"
      ]
     },
     "metadata": {},
     "output_type": "display_data"
    }
   ],
   "source": [
    "import matplotlib.pyplot as plt\n",
    "import seaborn as sns\n",
    "\n",
    "# 피처별 중요도(feature_importances_) 바 그래프로 그리기\n",
    "sns.barplot(x=dtc.feature_importances_, y=features.columns)\n",
    "plt.show()"
   ]
  },
  {
   "cell_type": "markdown",
   "id": "c3cc0526-62cc-40c8-a6d0-bbbfc5f25e61",
   "metadata": {},
   "source": [
    "#### 📊 피처 및 타겟 관계 탐색"
   ]
  },
  {
   "cell_type": "code",
   "execution_count": 21,
   "id": "ac7baac1-2c4a-46bd-a528-6b8cb2bda239",
   "metadata": {},
   "outputs": [
    {
     "data": {
      "text/plain": [
       "<matplotlib.collections.PathCollection at 0x2992fb59750>"
      ]
     },
     "execution_count": 21,
     "metadata": {},
     "output_type": "execute_result"
    },
    {
     "data": {
      "image/png": "[encoded data removed]",
      "text/plain": [
       "<Figure size 640x480 with 1 Axes>"
      ]
     },
     "metadata": {},
     "output_type": "display_data"
    }
   ],
   "source": [
    "# BP와 Na_to_K 피처의 관계를 산점도로 나타내기\n",
    "plt.scatter(features.iloc[:, 2], features.iloc[:, -1], c=targets)"
   ]
  },
  {
   "cell_type": "code",
   "execution_count": 22,
   "id": "5dffb42b-e126-4e32-996d-8d0eaa9068c1",
   "metadata": {},
   "outputs": [],
   "source": [
    "import numpy as np\n",
    "\n",
    "# Classifier의 Decision Boundary를 시각화 하는 함수\n",
    "def visualize_boundary(model, X, y):\n",
    "    fig,ax = plt.subplots()\n",
    "    \n",
    "    # 학습 데이타 scatter plot으로 나타내기\n",
    "    ax.scatter(X.iloc[:, 0], X.iloc[:, 1], c=y, s=25, cmap='rainbow', edgecolor='k',\n",
    "               clim=(y.min(), y.max()), zorder=3)\n",
    "    ax.axis('tight')\n",
    "    ax.axis('off')\n",
    "    xlim_start , xlim_end = ax.get_xlim()\n",
    "    ylim_start , ylim_end = ax.get_ylim()\n",
    "    \n",
    "    # 호출 파라미터로 들어온 training 데이타로 model 학습 . \n",
    "    model.fit(X, y)\n",
    "    # meshgrid 형태인 모든 좌표값으로 예측 수행. \n",
    "    xx, yy = np.meshgrid(np.linspace(xlim_start,xlim_end, num=200),np.linspace(ylim_start,ylim_end, num=200))\n",
    "    Z = model.predict(np.c_[xx.ravel(), yy.ravel()]).reshape(xx.shape)\n",
    "    \n",
    "    # contourf() 를 이용하여 class boundary 를 visualization 수행. \n",
    "    n_classes = len(np.unique(y))\n",
    "    contours = ax.contourf(xx, yy, Z, alpha=0.3,\n",
    "                           levels=np.arange(n_classes + 1) - 0.5,\n",
    "                           cmap='rainbow',\n",
    "                           zorder=1)"
   ]
  },
  {
   "cell_type": "code",
   "execution_count": 23,
   "id": "f9a5e9d4-b4c1-47d0-b7a6-8a72ce76856d",
   "metadata": {},
   "outputs": [],
   "source": [
    "# BP와 Na_to_K 피처 가져오기\n",
    "features_2_4 = features.iloc[:, [2, 4]]"
   ]
  },
  {
   "cell_type": "code",
   "execution_count": 24,
   "id": "8960e37d-d55f-4235-87c0-5dbf573d4a0f",
   "metadata": {},
   "outputs": [
    {
     "name": "stderr",
     "output_type": "stream",
     "text": [
      "C:\\Users\\LEGION\\anaconda3\\Lib\\site-packages\\sklearn\\base.py:439: UserWarning: X does not have valid feature names, but DecisionTreeClassifier was fitted with feature names\n",
      "  warnings.warn(\n"
     ]
    },
    {
     "data": {
      "image/png": "[encoded data removed]",
      "text/plain": [
       "<Figure size 640x480 with 1 Axes>"
      ]
     },
     "metadata": {},
     "output_type": "display_data"
    }
   ],
   "source": [
    "# BP, Na_to_K 피처와 타겟 관계를 산점도로 나타내기\n",
    "visualize_boundary(dtc, features_2_4, targets)"
   ]
  },
  {
   "cell_type": "markdown",
   "id": "32e7aadf-0ef6-470d-955f-e5e133b0bd00",
   "metadata": {},
   "source": [
    "### Ⅴ. 조정"
   ]
  },
  {
   "cell_type": "code",
   "execution_count": 25,
   "id": "a0a3f146-b2ac-4ca8-a94e-34651b65ff1b",
   "metadata": {},
   "outputs": [],
   "source": [
    "from sklearn.tree import DecisionTreeClassifier\n",
    "from sklearn.model_selection import train_test_split"
   ]
  },
  {
   "cell_type": "code",
   "execution_count": 26,
   "id": "0af361c8-c3e2-4ef8-b568-6ff2a101ec66",
   "metadata": {},
   "outputs": [],
   "source": [
    "# 데이터 분류 모델 가져오기\n",
    "# 데이터 overfitting(과적합) 방지를 위해 최소 샘플 개수 지정\n",
    "dtc = DecisionTreeClassifier(min_samples_leaf=16)"
   ]
  },
  {
   "cell_type": "code",
   "execution_count": 27,
   "id": "15bfd1b3-5b79-43e9-aefb-b91198019b8a",
   "metadata": {},
   "outputs": [],
   "source": [
    "# 피처, 타겟 데이터 분리\n",
    "features, targets = drug_enc_df.iloc[:, :-1], drug_enc_df.iloc[:, -1]\n",
    "\n",
    "# 문제/정답, 학습/테스트 데이터 분리\n",
    "X_train, X_test, y_train, y_test = \\\n",
    "train_test_split(features, targets, test_size=0.2, random_state=124)"
   ]
  },
  {
   "cell_type": "code",
   "execution_count": 28,
   "id": "9dc1e5f1-3b92-44d3-9d2a-c65355f7c1bd",
   "metadata": {},
   "outputs": [
    {
     "data": {
      "text/html": [
       "<style>#sk-container-id-3 {color: black;background-color: white;}#sk-container-id-3 pre{padding: 0;}#sk-container-id-3 div.sk-toggleable {background-color: white;}#sk-container-id-3 label.sk-toggleable__label {cursor: pointer;display: block;width: 100%;margin-bottom: 0;padding: 0.3em;box-sizing: border-box;text-align: center;}#sk-container-id-3 label.sk-toggleable__label-arrow:before {content: \"▸\";float: left;margin-right: 0.25em;color: #696969;}#sk-container-id-3 label.sk-toggleable__label-arrow:hover:before {color: black;}#sk-container-id-3 div.sk-estimator:hover label.sk-toggleable__label-arrow:before {color: black;}#sk-container-id-3 div.sk-toggleable__content {max-height: 0;max-width: 0;overflow: hidden;text-align: left;background-color: #f0f8ff;}#sk-container-id-3 div.sk-toggleable__content pre {margin: 0.2em;color: black;border-radius: 0.25em;background-color: #f0f8ff;}#sk-container-id-3 input.sk-toggleable__control:checked~div.sk-toggleable__content {max-height: 200px;max-width: 100%;overflow: auto;}#sk-container-id-3 input.sk-toggleable__control:checked~label.sk-toggleable__label-arrow:before {content: \"▾\";}#sk-container-id-3 div.sk-estimator input.sk-toggleable__control:checked~label.sk-toggleable__label {background-color: #d4ebff;}#sk-container-id-3 div.sk-label input.sk-toggleable__control:checked~label.sk-toggleable__label {background-color: #d4ebff;}#sk-container-id-3 input.sk-hidden--visually {border: 0;clip: rect(1px 1px 1px 1px);clip: rect(1px, 1px, 1px, 1px);height: 1px;margin: -1px;overflow: hidden;padding: 0;position: absolute;width: 1px;}#sk-container-id-3 div.sk-estimator {font-family: monospace;background-color: #f0f8ff;border: 1px dotted black;border-radius: 0.25em;box-sizing: border-box;margin-bottom: 0.5em;}#sk-container-id-3 div.sk-estimator:hover {background-color: #d4ebff;}#sk-container-id-3 div.sk-parallel-item::after {content: \"\";width: 100%;border-bottom: 1px solid gray;flex-grow: 1;}#sk-container-id-3 div.sk-label:hover label.sk-toggleable__label {background-color: #d4ebff;}#sk-container-id-3 div.sk-serial::before {content: \"\";position: absolute;border-left: 1px solid gray;box-sizing: border-box;top: 0;bottom: 0;left: 50%;z-index: 0;}#sk-container-id-3 div.sk-serial {display: flex;flex-direction: column;align-items: center;background-color: white;padding-right: 0.2em;padding-left: 0.2em;position: relative;}#sk-container-id-3 div.sk-item {position: relative;z-index: 1;}#sk-container-id-3 div.sk-parallel {display: flex;align-items: stretch;justify-content: center;background-color: white;position: relative;}#sk-container-id-3 div.sk-item::before, #sk-container-id-3 div.sk-parallel-item::before {content: \"\";position: absolute;border-left: 1px solid gray;box-sizing: border-box;top: 0;bottom: 0;left: 50%;z-index: -1;}#sk-container-id-3 div.sk-parallel-item {display: flex;flex-direction: column;z-index: 1;position: relative;background-color: white;}#sk-container-id-3 div.sk-parallel-item:first-child::after {align-self: flex-end;width: 50%;}#sk-container-id-3 div.sk-parallel-item:last-child::after {align-self: flex-start;width: 50%;}#sk-container-id-3 div.sk-parallel-item:only-child::after {width: 0;}#sk-container-id-3 div.sk-dashed-wrapped {border: 1px dashed gray;margin: 0 0.4em 0.5em 0.4em;box-sizing: border-box;padding-bottom: 0.4em;background-color: white;}#sk-container-id-3 div.sk-label label {font-family: monospace;font-weight: bold;display: inline-block;line-height: 1.2em;}#sk-container-id-3 div.sk-label-container {text-align: center;}#sk-container-id-3 div.sk-container {/* jupyter's `normalize.less` sets `[hidden] { display: none; }` but bootstrap.min.css set `[hidden] { display: none !important; }` so we also need the `!important` here to be able to override the default hidden behavior on the sphinx rendered scikit-learn.org. See: https://github.com/scikit-learn/scikit-learn/issues/21755 */display: inline-block !important;position: relative;}#sk-container-id-3 div.sk-text-repr-fallback {display: none;}</style><div id=\"sk-container-id-3\" class=\"sk-top-container\"><div class=\"sk-text-repr-fallback\"><pre>DecisionTreeClassifier(min_samples_leaf=16)</pre><b>In a Jupyter environment, please rerun this cell to show the HTML representation or trust the notebook. <br />On GitHub, the HTML representation is unable to render, please try loading this page with nbviewer.org.</b></div><div class=\"sk-container\" hidden><div class=\"sk-item\"><div class=\"sk-estimator sk-toggleable\"><input class=\"sk-toggleable__control sk-hidden--visually\" id=\"sk-estimator-id-3\" type=\"checkbox\" checked><label for=\"sk-estimator-id-3\" class=\"sk-toggleable__label sk-toggleable__label-arrow\">DecisionTreeClassifier</label><div class=\"sk-toggleable__content\"><pre>DecisionTreeClassifier(min_samples_leaf=16)</pre></div></div></div></div></div>"
      ],
      "text/plain": [
       "DecisionTreeClassifier(min_samples_leaf=16)"
      ]
     },
     "execution_count": 28,
     "metadata": {},
     "output_type": "execute_result"
    }
   ],
   "source": [
    "# 데이터 학습\n",
    "dtc.fit(X_train.values, y_train.values)"
   ]
  },
  {
   "cell_type": "markdown",
   "id": "50588dc6-bc62-41a2-b9bd-cd1083e1933a",
   "metadata": {},
   "source": [
    "#### 📊 피처 및 타겟 관계 탐색"
   ]
  },
  {
   "cell_type": "code",
   "execution_count": 29,
   "id": "1dc0da74-e38e-4214-8c7a-bce06a4155a6",
   "metadata": {},
   "outputs": [],
   "source": [
    "# BP와 Na_to_K 피처 가져오기\n",
    "features_2_4 = features.iloc[:, [2, 4]]"
   ]
  },
  {
   "cell_type": "code",
   "execution_count": 30,
   "id": "cc22a2d9-c6b0-451e-911f-2381360344b5",
   "metadata": {},
   "outputs": [
    {
     "name": "stderr",
     "output_type": "stream",
     "text": [
      "C:\\Users\\LEGION\\anaconda3\\Lib\\site-packages\\sklearn\\base.py:439: UserWarning: X does not have valid feature names, but DecisionTreeClassifier was fitted with feature names\n",
      "  warnings.warn(\n"
     ]
    },
    {
     "data": {
      "image/png": "[encoded data removed]",
      "text/plain": [
       "<Figure size 640x480 with 1 Axes>"
      ]
     },
     "metadata": {},
     "output_type": "display_data"
    }
   ],
   "source": [
    "# BP, Na_to_K 피처와 타겟 관계를 산점도로 나타내기\n",
    "visualize_boundary(dtc, features_2_4, targets)"
   ]
  },
  {
   "cell_type": "markdown",
   "id": "45ddd9a9-2e91-41fb-87f1-a22c748b5437",
   "metadata": {},
   "source": [
    "### Ⅵ. 데이터 2차 전처리 및 데이터 세트 분리"
   ]
  },
  {
   "cell_type": "code",
   "execution_count": 31,
   "id": "6df6f774-da1c-4093-a270-cfb07322c83a",
   "metadata": {},
   "outputs": [],
   "source": [
    "from sklearn.tree import DecisionTreeClassifier\n",
    "from sklearn.model_selection import train_test_split"
   ]
  },
  {
   "cell_type": "markdown",
   "id": "34a8907f-370b-4ea6-8b78-8bceb539ecf7",
   "metadata": {},
   "source": [
    "#### 📊 데이터 2차 전처리"
   ]
  },
  {
   "cell_type": "code",
   "execution_count": 32,
   "id": "3c9d4c7c-85cb-481a-9b49-7390eae5c08f",
   "metadata": {},
   "outputs": [],
   "source": [
    "# 분류 모델 가져오기\n",
    "dtc = DecisionTreeClassifier(min_samples_leaf=16)"
   ]
  },
  {
   "cell_type": "markdown",
   "id": "7b313dee-9225-4ee2-bf6a-1d6cce734c15",
   "metadata": {},
   "source": [
    "#### 📊 데이터 세트 분리"
   ]
  },
  {
   "cell_type": "code",
   "execution_count": 33,
   "id": "8c71f2eb-17dd-4c9d-8d4e-d6619c720b87",
   "metadata": {},
   "outputs": [],
   "source": [
    "# 피처와 컬럼으로 분리\n",
    "features, targets = drug_enc_df.iloc[:, :-1], drug_enc_df.iloc[:, -1]\n",
    "\n",
    "# 문제/정답 및 학습/테스트 데이터로 분리\n",
    "X_train, X_test, y_train, y_test = \\\n",
    "train_test_split(features, targets, test_size=0.2, random_state=124)"
   ]
  },
  {
   "cell_type": "markdown",
   "id": "449f19b5-19bc-4d4f-8835-88d27f56aa66",
   "metadata": {},
   "source": [
    "### Ⅶ. 데이터 2차 학습"
   ]
  },
  {
   "cell_type": "markdown",
   "id": "280ba93c-f1c5-4d03-9858-93ae4b2b551c",
   "metadata": {},
   "source": [
    "#### 📊 데이터 학습"
   ]
  },
  {
   "cell_type": "code",
   "execution_count": 34,
   "id": "1a4f7b13-78b4-4015-8d99-94d964cf73ac",
   "metadata": {},
   "outputs": [
    {
     "data": {
      "text/html": [
       "<style>#sk-container-id-4 {color: black;background-color: white;}#sk-container-id-4 pre{padding: 0;}#sk-container-id-4 div.sk-toggleable {background-color: white;}#sk-container-id-4 label.sk-toggleable__label {cursor: pointer;display: block;width: 100%;margin-bottom: 0;padding: 0.3em;box-sizing: border-box;text-align: center;}#sk-container-id-4 label.sk-toggleable__label-arrow:before {content: \"▸\";float: left;margin-right: 0.25em;color: #696969;}#sk-container-id-4 label.sk-toggleable__label-arrow:hover:before {color: black;}#sk-container-id-4 div.sk-estimator:hover label.sk-toggleable__label-arrow:before {color: black;}#sk-container-id-4 div.sk-toggleable__content {max-height: 0;max-width: 0;overflow: hidden;text-align: left;background-color: #f0f8ff;}#sk-container-id-4 div.sk-toggleable__content pre {margin: 0.2em;color: black;border-radius: 0.25em;background-color: #f0f8ff;}#sk-container-id-4 input.sk-toggleable__control:checked~div.sk-toggleable__content {max-height: 200px;max-width: 100%;overflow: auto;}#sk-container-id-4 input.sk-toggleable__control:checked~label.sk-toggleable__label-arrow:before {content: \"▾\";}#sk-container-id-4 div.sk-estimator input.sk-toggleable__control:checked~label.sk-toggleable__label {background-color: #d4ebff;}#sk-container-id-4 div.sk-label input.sk-toggleable__control:checked~label.sk-toggleable__label {background-color: #d4ebff;}#sk-container-id-4 input.sk-hidden--visually {border: 0;clip: rect(1px 1px 1px 1px);clip: rect(1px, 1px, 1px, 1px);height: 1px;margin: -1px;overflow: hidden;padding: 0;position: absolute;width: 1px;}#sk-container-id-4 div.sk-estimator {font-family: monospace;background-color: #f0f8ff;border: 1px dotted black;border-radius: 0.25em;box-sizing: border-box;margin-bottom: 0.5em;}#sk-container-id-4 div.sk-estimator:hover {background-color: #d4ebff;}#sk-container-id-4 div.sk-parallel-item::after {content: \"\";width: 100%;border-bottom: 1px solid gray;flex-grow: 1;}#sk-container-id-4 div.sk-label:hover label.sk-toggleable__label {background-color: #d4ebff;}#sk-container-id-4 div.sk-serial::before {content: \"\";position: absolute;border-left: 1px solid gray;box-sizing: border-box;top: 0;bottom: 0;left: 50%;z-index: 0;}#sk-container-id-4 div.sk-serial {display: flex;flex-direction: column;align-items: center;background-color: white;padding-right: 0.2em;padding-left: 0.2em;position: relative;}#sk-container-id-4 div.sk-item {position: relative;z-index: 1;}#sk-container-id-4 div.sk-parallel {display: flex;align-items: stretch;justify-content: center;background-color: white;position: relative;}#sk-container-id-4 div.sk-item::before, #sk-container-id-4 div.sk-parallel-item::before {content: \"\";position: absolute;border-left: 1px solid gray;box-sizing: border-box;top: 0;bottom: 0;left: 50%;z-index: -1;}#sk-container-id-4 div.sk-parallel-item {display: flex;flex-direction: column;z-index: 1;position: relative;background-color: white;}#sk-container-id-4 div.sk-parallel-item:first-child::after {align-self: flex-end;width: 50%;}#sk-container-id-4 div.sk-parallel-item:last-child::after {align-self: flex-start;width: 50%;}#sk-container-id-4 div.sk-parallel-item:only-child::after {width: 0;}#sk-container-id-4 div.sk-dashed-wrapped {border: 1px dashed gray;margin: 0 0.4em 0.5em 0.4em;box-sizing: border-box;padding-bottom: 0.4em;background-color: white;}#sk-container-id-4 div.sk-label label {font-family: monospace;font-weight: bold;display: inline-block;line-height: 1.2em;}#sk-container-id-4 div.sk-label-container {text-align: center;}#sk-container-id-4 div.sk-container {/* jupyter's `normalize.less` sets `[hidden] { display: none; }` but bootstrap.min.css set `[hidden] { display: none !important; }` so we also need the `!important` here to be able to override the default hidden behavior on the sphinx rendered scikit-learn.org. See: https://github.com/scikit-learn/scikit-learn/issues/21755 */display: inline-block !important;position: relative;}#sk-container-id-4 div.sk-text-repr-fallback {display: none;}</style><div id=\"sk-container-id-4\" class=\"sk-top-container\"><div class=\"sk-text-repr-fallback\"><pre>DecisionTreeClassifier(min_samples_leaf=16)</pre><b>In a Jupyter environment, please rerun this cell to show the HTML representation or trust the notebook. <br />On GitHub, the HTML representation is unable to render, please try loading this page with nbviewer.org.</b></div><div class=\"sk-container\" hidden><div class=\"sk-item\"><div class=\"sk-estimator sk-toggleable\"><input class=\"sk-toggleable__control sk-hidden--visually\" id=\"sk-estimator-id-4\" type=\"checkbox\" checked><label for=\"sk-estimator-id-4\" class=\"sk-toggleable__label sk-toggleable__label-arrow\">DecisionTreeClassifier</label><div class=\"sk-toggleable__content\"><pre>DecisionTreeClassifier(min_samples_leaf=16)</pre></div></div></div></div></div>"
      ],
      "text/plain": [
       "DecisionTreeClassifier(min_samples_leaf=16)"
      ]
     },
     "execution_count": 34,
     "metadata": {},
     "output_type": "execute_result"
    }
   ],
   "source": [
    "# 데이터 학습\n",
    "dtc.fit(X_train.values, y_train.values)"
   ]
  },
  {
   "cell_type": "markdown",
   "id": "5a754309-45d0-41ca-b205-59938d346c0d",
   "metadata": {},
   "source": [
    "### Ⅷ. 데이터 예측"
   ]
  },
  {
   "cell_type": "markdown",
   "id": "79092351-4340-4565-a42f-ce461136e1f7",
   "metadata": {},
   "source": [
    "#### 📊 데이터 예측"
   ]
  },
  {
   "cell_type": "code",
   "execution_count": 35,
   "id": "f5dec380-d255-489c-83e4-2a72825fc6ba",
   "metadata": {},
   "outputs": [
    {
     "data": {
      "text/plain": [
       "array([4, 4, 1, 4, 3, 2, 4, 0, 2, 4, 2, 1, 4, 3, 4, 4, 4, 3, 4, 1, 3, 1,\n",
       "       4, 0, 4, 2, 1, 4, 3, 2, 4, 3, 4, 2, 2, 4, 3, 3], dtype=int64)"
      ]
     },
     "execution_count": 35,
     "metadata": {},
     "output_type": "execute_result"
    }
   ],
   "source": [
    "# 데이터에 대한 값을 예측\n",
    "dtc.predict(X_test.values)"
   ]
  },
  {
   "cell_type": "markdown",
   "id": "5e67060c-9e43-44f5-aa23-5d92ad0e36e8",
   "metadata": {},
   "source": [
    "### Ⅸ. 데이터 평가"
   ]
  },
  {
   "cell_type": "markdown",
   "id": "58f96c7f-3363-43f5-9517-c197a5d0f782",
   "metadata": {},
   "source": [
    "#### 📊 데이터 평가"
   ]
  },
  {
   "cell_type": "code",
   "execution_count": 36,
   "id": "b25fd95c-3deb-405b-9870-7a559fdd26ec",
   "metadata": {},
   "outputs": [],
   "source": [
    "from sklearn.metrics import accuracy_score"
   ]
  },
  {
   "cell_type": "code",
   "execution_count": 37,
   "id": "8f5ab7d8-b7f6-4a5a-b9c1-520ce54dfa89",
   "metadata": {},
   "outputs": [
    {
     "data": {
      "text/plain": [
       "0.8421052631578947"
      ]
     },
     "execution_count": 37,
     "metadata": {},
     "output_type": "execute_result"
    }
   ],
   "source": [
    "# 정답_테스트와 문제_테스트로 정확도 평가\n",
    "accuracy_score(y_test, dtc.predict(X_test.values))"
   ]
  }
 ],
 "metadata": {
  "kernelspec": {
   "display_name": "Python 3 (ipykernel)",
   "language": "python",
   "name": "python3"
  },
  "language_info": {
   "codemirror_mode": {
    "name": "ipython",
    "version": 3
   },
   "file_extension": ".py",
   "mimetype": "text/x-python",
   "name": "python",
   "nbconvert_exporter": "python",
   "pygments_lexer": "ipython3",
   "version": "3.11.8"
  }
 },
 "nbformat": 4,
 "nbformat_minor": 5
}
