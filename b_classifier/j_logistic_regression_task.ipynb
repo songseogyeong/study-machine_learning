{
 "cells": [
  {
   "cell_type": "markdown",
   "id": "6dd74b6f-ebdc-4659-b613-12d325b33073",
   "metadata": {},
   "source": [
    "### Logistic Regression Task\n",
    "\n",
    "- 기계 센서 데이터를 통해 고장 여부를 예측하는 분류기를 모델화한다."
   ]
  },
  {
   "cell_type": "code",
   "execution_count": 1,
   "id": "3771adb3-3e90-4765-8687-158b3a050936",
   "metadata": {},
   "outputs": [
    {
     "data": {
      "text/html": [
       "<div>\n",
       "<style scoped>\n",
       "    .dataframe tbody tr th:only-of-type {\n",
       "        vertical-align: middle;\n",
       "    }\n",
       "\n",
       "    .dataframe tbody tr th {\n",
       "        vertical-align: top;\n",
       "    }\n",
       "\n",
       "    .dataframe thead th {\n",
       "        text-align: right;\n",
       "    }\n",
       "</style>\n",
       "<table border=\"1\" class=\"dataframe\">\n",
       "  <thead>\n",
       "    <tr style=\"text-align: right;\">\n",
       "      <th></th>\n",
       "      <th>Rotational speed [rpm]</th>\n",
       "      <th>Torque [Nm]</th>\n",
       "      <th>Tool wear [min]</th>\n",
       "      <th>TWF</th>\n",
       "      <th>HDF</th>\n",
       "      <th>PWF</th>\n",
       "      <th>OSF</th>\n",
       "      <th>Machine failure</th>\n",
       "    </tr>\n",
       "  </thead>\n",
       "  <tbody>\n",
       "    <tr>\n",
       "      <th>0</th>\n",
       "      <td>1551</td>\n",
       "      <td>42.8</td>\n",
       "      <td>0</td>\n",
       "      <td>0</td>\n",
       "      <td>0</td>\n",
       "      <td>0</td>\n",
       "      <td>0</td>\n",
       "      <td>0</td>\n",
       "    </tr>\n",
       "    <tr>\n",
       "      <th>1</th>\n",
       "      <td>1408</td>\n",
       "      <td>46.3</td>\n",
       "      <td>3</td>\n",
       "      <td>0</td>\n",
       "      <td>0</td>\n",
       "      <td>0</td>\n",
       "      <td>0</td>\n",
       "      <td>0</td>\n",
       "    </tr>\n",
       "    <tr>\n",
       "      <th>2</th>\n",
       "      <td>1498</td>\n",
       "      <td>49.4</td>\n",
       "      <td>5</td>\n",
       "      <td>0</td>\n",
       "      <td>0</td>\n",
       "      <td>0</td>\n",
       "      <td>0</td>\n",
       "      <td>0</td>\n",
       "    </tr>\n",
       "    <tr>\n",
       "      <th>3</th>\n",
       "      <td>1433</td>\n",
       "      <td>39.5</td>\n",
       "      <td>7</td>\n",
       "      <td>0</td>\n",
       "      <td>0</td>\n",
       "      <td>0</td>\n",
       "      <td>0</td>\n",
       "      <td>0</td>\n",
       "    </tr>\n",
       "    <tr>\n",
       "      <th>4</th>\n",
       "      <td>1408</td>\n",
       "      <td>40.0</td>\n",
       "      <td>9</td>\n",
       "      <td>0</td>\n",
       "      <td>0</td>\n",
       "      <td>0</td>\n",
       "      <td>0</td>\n",
       "      <td>0</td>\n",
       "    </tr>\n",
       "    <tr>\n",
       "      <th>...</th>\n",
       "      <td>...</td>\n",
       "      <td>...</td>\n",
       "      <td>...</td>\n",
       "      <td>...</td>\n",
       "      <td>...</td>\n",
       "      <td>...</td>\n",
       "      <td>...</td>\n",
       "      <td>...</td>\n",
       "    </tr>\n",
       "    <tr>\n",
       "      <th>9810</th>\n",
       "      <td>1604</td>\n",
       "      <td>29.5</td>\n",
       "      <td>14</td>\n",
       "      <td>0</td>\n",
       "      <td>0</td>\n",
       "      <td>0</td>\n",
       "      <td>0</td>\n",
       "      <td>0</td>\n",
       "    </tr>\n",
       "    <tr>\n",
       "      <th>9811</th>\n",
       "      <td>1632</td>\n",
       "      <td>31.8</td>\n",
       "      <td>17</td>\n",
       "      <td>0</td>\n",
       "      <td>0</td>\n",
       "      <td>0</td>\n",
       "      <td>0</td>\n",
       "      <td>0</td>\n",
       "    </tr>\n",
       "    <tr>\n",
       "      <th>9812</th>\n",
       "      <td>1645</td>\n",
       "      <td>33.4</td>\n",
       "      <td>22</td>\n",
       "      <td>0</td>\n",
       "      <td>0</td>\n",
       "      <td>0</td>\n",
       "      <td>0</td>\n",
       "      <td>0</td>\n",
       "    </tr>\n",
       "    <tr>\n",
       "      <th>9813</th>\n",
       "      <td>1408</td>\n",
       "      <td>48.5</td>\n",
       "      <td>25</td>\n",
       "      <td>0</td>\n",
       "      <td>0</td>\n",
       "      <td>0</td>\n",
       "      <td>0</td>\n",
       "      <td>0</td>\n",
       "    </tr>\n",
       "    <tr>\n",
       "      <th>9814</th>\n",
       "      <td>1500</td>\n",
       "      <td>40.2</td>\n",
       "      <td>30</td>\n",
       "      <td>0</td>\n",
       "      <td>0</td>\n",
       "      <td>0</td>\n",
       "      <td>0</td>\n",
       "      <td>0</td>\n",
       "    </tr>\n",
       "  </tbody>\n",
       "</table>\n",
       "<p>9815 rows × 8 columns</p>\n",
       "</div>"
      ],
      "text/plain": [
       "      Rotational speed [rpm]  Torque [Nm]  Tool wear [min]  TWF  HDF  PWF  \\\n",
       "0                       1551         42.8                0    0    0    0   \n",
       "1                       1408         46.3                3    0    0    0   \n",
       "2                       1498         49.4                5    0    0    0   \n",
       "3                       1433         39.5                7    0    0    0   \n",
       "4                       1408         40.0                9    0    0    0   \n",
       "...                      ...          ...              ...  ...  ...  ...   \n",
       "9810                    1604         29.5               14    0    0    0   \n",
       "9811                    1632         31.8               17    0    0    0   \n",
       "9812                    1645         33.4               22    0    0    0   \n",
       "9813                    1408         48.5               25    0    0    0   \n",
       "9814                    1500         40.2               30    0    0    0   \n",
       "\n",
       "      OSF  Machine failure  \n",
       "0       0                0  \n",
       "1       0                0  \n",
       "2       0                0  \n",
       "3       0                0  \n",
       "4       0                0  \n",
       "...   ...              ...  \n",
       "9810    0                0  \n",
       "9811    0                0  \n",
       "9812    0                0  \n",
       "9813    0                0  \n",
       "9814    0                0  \n",
       "\n",
       "[9815 rows x 8 columns]"
      ]
     },
     "execution_count": 1,
     "metadata": {},
     "output_type": "execute_result"
    }
   ],
   "source": [
    "import pandas as pd\n",
    "\n",
    "# 데이터 세트 호출\n",
    "m_df = pd.read_csv('./datasets/machine.csv', low_memory=False)\n",
    "m_df"
   ]
  },
  {
   "cell_type": "markdown",
   "id": "50bafe43-ce44-4a01-9b5c-d382093087bf",
   "metadata": {},
   "source": [
    "#### 📊 데이터 탐색"
   ]
  },
  {
   "cell_type": "code",
   "execution_count": 2,
   "id": "1943a61e-39c1-4419-8e72-3a3ec2562ef0",
   "metadata": {},
   "outputs": [
    {
     "name": "stdout",
     "output_type": "stream",
     "text": [
      "<class 'pandas.core.frame.DataFrame'>\n",
      "RangeIndex: 9815 entries, 0 to 9814\n",
      "Data columns (total 8 columns):\n",
      " #   Column                  Non-Null Count  Dtype  \n",
      "---  ------                  --------------  -----  \n",
      " 0   Rotational speed [rpm]  9815 non-null   int64  \n",
      " 1   Torque [Nm]             9815 non-null   float64\n",
      " 2   Tool wear [min]         9815 non-null   int64  \n",
      " 3   TWF                     9815 non-null   int64  \n",
      " 4   HDF                     9815 non-null   int64  \n",
      " 5   PWF                     9815 non-null   int64  \n",
      " 6   OSF                     9815 non-null   int64  \n",
      " 7   Machine failure         9815 non-null   int64  \n",
      "dtypes: float64(1), int64(7)\n",
      "memory usage: 613.6 KB\n"
     ]
    }
   ],
   "source": [
    "# 데이터 정보 확인\n",
    "m_df.info()"
   ]
  },
  {
   "cell_type": "code",
   "execution_count": 3,
   "id": "3712faec-3d32-42eb-8828-26778f8ac52e",
   "metadata": {},
   "outputs": [
    {
     "data": {
      "text/plain": [
       "TWF\n",
       "0    9771\n",
       "1      44\n",
       "Name: count, dtype: int64"
      ]
     },
     "execution_count": 3,
     "metadata": {},
     "output_type": "execute_result"
    }
   ],
   "source": [
    "m_df.TWF.value_counts()"
   ]
  },
  {
   "cell_type": "code",
   "execution_count": 4,
   "id": "1c7a62d7-8e78-4ccc-adf3-dc81655c689e",
   "metadata": {},
   "outputs": [
    {
     "data": {
      "text/plain": [
       "HDF\n",
       "0    9700\n",
       "1     115\n",
       "Name: count, dtype: int64"
      ]
     },
     "execution_count": 4,
     "metadata": {},
     "output_type": "execute_result"
    }
   ],
   "source": [
    "m_df.HDF.value_counts()"
   ]
  },
  {
   "cell_type": "code",
   "execution_count": 5,
   "id": "e367eba4-2ed4-4ca0-bd6c-67234ac1dffb",
   "metadata": {},
   "outputs": [
    {
     "data": {
      "text/plain": [
       "PWF\n",
       "0    9771\n",
       "1      44\n",
       "Name: count, dtype: int64"
      ]
     },
     "execution_count": 5,
     "metadata": {},
     "output_type": "execute_result"
    }
   ],
   "source": [
    "m_df.PWF.value_counts()"
   ]
  },
  {
   "cell_type": "code",
   "execution_count": 6,
   "id": "eee426ec-426c-48a0-8775-420cd4df350e",
   "metadata": {},
   "outputs": [
    {
     "data": {
      "text/plain": [
       "OSF\n",
       "0    9721\n",
       "1      94\n",
       "Name: count, dtype: int64"
      ]
     },
     "execution_count": 6,
     "metadata": {},
     "output_type": "execute_result"
    }
   ],
   "source": [
    "m_df.OSF.value_counts()"
   ]
  },
  {
   "cell_type": "code",
   "execution_count": 7,
   "id": "4c36f1c2-de4f-4456-9a68-6571d4df43a4",
   "metadata": {},
   "outputs": [
    {
     "data": {
      "text/plain": [
       "Machine failure\n",
       "0    9529\n",
       "1     286\n",
       "Name: count, dtype: int64"
      ]
     },
     "execution_count": 7,
     "metadata": {},
     "output_type": "execute_result"
    }
   ],
   "source": [
    "m_df['Machine failure'].value_counts()"
   ]
  },
  {
   "cell_type": "markdown",
   "id": "9ac36505-93d1-40d5-8573-bd164aeb3c5d",
   "metadata": {},
   "source": [
    "#### 📊 전처리"
   ]
  },
  {
   "cell_type": "code",
   "execution_count": 8,
   "id": "66637387-d78e-46de-99df-6e33d4a50ab0",
   "metadata": {},
   "outputs": [
    {
     "data": {
      "text/plain": [
       "Rotational speed [rpm]    0\n",
       "Torque [Nm]               0\n",
       "Tool wear [min]           0\n",
       "TWF                       0\n",
       "HDF                       0\n",
       "PWF                       0\n",
       "OSF                       0\n",
       "Machine failure           0\n",
       "dtype: int64"
      ]
     },
     "execution_count": 8,
     "metadata": {},
     "output_type": "execute_result"
    }
   ],
   "source": [
    "# 결측치 확인\n",
    "m_df.isna().sum()"
   ]
  },
  {
   "cell_type": "code",
   "execution_count": 9,
   "id": "0c44b884-ea8c-4b61-ba9f-ae3899e39eb1",
   "metadata": {},
   "outputs": [
    {
     "data": {
      "text/plain": [
       "6"
      ]
     },
     "execution_count": 9,
     "metadata": {},
     "output_type": "execute_result"
    }
   ],
   "source": [
    "# 중복행 확인\n",
    "m_df.duplicated().sum()"
   ]
  },
  {
   "cell_type": "code",
   "execution_count": 10,
   "id": "fb422750-e392-4fd2-97ff-e1e46c2b7ce1",
   "metadata": {},
   "outputs": [
    {
     "data": {
      "text/plain": [
       "0"
      ]
     },
     "execution_count": 10,
     "metadata": {},
     "output_type": "execute_result"
    }
   ],
   "source": [
    "# 중복행 제거\n",
    "m_df.drop_duplicates(inplace=True)\n",
    "# 중복행 제거 확인\n",
    "m_df.duplicated().sum()"
   ]
  },
  {
   "cell_type": "code",
   "execution_count": 11,
   "id": "8750df8f-9d7e-4db1-b702-b5cf7bd6b154",
   "metadata": {},
   "outputs": [
    {
     "data": {
      "text/plain": [
       "array([[<Axes: title={'center': 'Rotational speed [rpm]'}>,\n",
       "        <Axes: title={'center': 'Torque [Nm]'}>,\n",
       "        <Axes: title={'center': 'Tool wear [min]'}>],\n",
       "       [<Axes: title={'center': 'TWF'}>, <Axes: title={'center': 'HDF'}>,\n",
       "        <Axes: title={'center': 'PWF'}>],\n",
       "       [<Axes: title={'center': 'OSF'}>,\n",
       "        <Axes: title={'center': 'Machine failure'}>, <Axes: >]],\n",
       "      dtype=object)"
      ]
     },
     "execution_count": 11,
     "metadata": {},
     "output_type": "execute_result"
    },
    {
     "data": {
      "image/png": "[encoded data removed]",
      "text/plain": [
       "<Figure size 1000x800 with 9 Axes>"
      ]
     },
     "metadata": {},
     "output_type": "display_data"
    }
   ],
   "source": [
    "m_df.hist(figsize=(10, 8))"
   ]
  },
  {
   "cell_type": "code",
   "execution_count": 12,
   "id": "c113d7c8-134c-4331-a66e-6c029356d1b4",
   "metadata": {},
   "outputs": [
    {
     "data": {
      "text/plain": [
       "HDF                       0.628494\n",
       "OSF                       0.567605\n",
       "TWF                       0.387342\n",
       "PWF                       0.387342\n",
       "Torque [Nm]               0.236346\n",
       "Tool wear [min]           0.115266\n",
       "Rotational speed [rpm]   -0.169259\n",
       "Name: Machine failure, dtype: float64"
      ]
     },
     "execution_count": 12,
     "metadata": {},
     "output_type": "execute_result"
    }
   ],
   "source": [
    "m_df.corr()['Machine failure'].sort_values(ascending=False)[1:]"
   ]
  },
  {
   "cell_type": "code",
   "execution_count": 13,
   "id": "c07b68f6-36b4-4d2f-b9c0-1d5046bc5a03",
   "metadata": {},
   "outputs": [
    {
     "data": {
      "text/html": [
       "<div>\n",
       "<style scoped>\n",
       "    .dataframe tbody tr th:only-of-type {\n",
       "        vertical-align: middle;\n",
       "    }\n",
       "\n",
       "    .dataframe tbody tr th {\n",
       "        vertical-align: top;\n",
       "    }\n",
       "\n",
       "    .dataframe thead th {\n",
       "        text-align: right;\n",
       "    }\n",
       "</style>\n",
       "<table border=\"1\" class=\"dataframe\">\n",
       "  <thead>\n",
       "    <tr style=\"text-align: right;\">\n",
       "      <th></th>\n",
       "      <th>Rotational speed [rpm]</th>\n",
       "      <th>Torque [Nm]</th>\n",
       "      <th>Tool wear [min]</th>\n",
       "      <th>TWF</th>\n",
       "      <th>HDF</th>\n",
       "      <th>PWF</th>\n",
       "      <th>OSF</th>\n",
       "      <th>Machine failure</th>\n",
       "    </tr>\n",
       "  </thead>\n",
       "  <tbody>\n",
       "    <tr>\n",
       "      <th>0</th>\n",
       "      <td>1527</td>\n",
       "      <td>45.3</td>\n",
       "      <td>8</td>\n",
       "      <td>0</td>\n",
       "      <td>0</td>\n",
       "      <td>0</td>\n",
       "      <td>0</td>\n",
       "      <td>0</td>\n",
       "    </tr>\n",
       "    <tr>\n",
       "      <th>1</th>\n",
       "      <td>1524</td>\n",
       "      <td>40.4</td>\n",
       "      <td>131</td>\n",
       "      <td>0</td>\n",
       "      <td>0</td>\n",
       "      <td>0</td>\n",
       "      <td>0</td>\n",
       "      <td>0</td>\n",
       "    </tr>\n",
       "    <tr>\n",
       "      <th>2</th>\n",
       "      <td>1594</td>\n",
       "      <td>35.5</td>\n",
       "      <td>13</td>\n",
       "      <td>0</td>\n",
       "      <td>0</td>\n",
       "      <td>0</td>\n",
       "      <td>0</td>\n",
       "      <td>0</td>\n",
       "    </tr>\n",
       "    <tr>\n",
       "      <th>3</th>\n",
       "      <td>1671</td>\n",
       "      <td>31.8</td>\n",
       "      <td>108</td>\n",
       "      <td>0</td>\n",
       "      <td>0</td>\n",
       "      <td>0</td>\n",
       "      <td>0</td>\n",
       "      <td>0</td>\n",
       "    </tr>\n",
       "    <tr>\n",
       "      <th>4</th>\n",
       "      <td>1356</td>\n",
       "      <td>48.3</td>\n",
       "      <td>36</td>\n",
       "      <td>0</td>\n",
       "      <td>0</td>\n",
       "      <td>0</td>\n",
       "      <td>0</td>\n",
       "      <td>0</td>\n",
       "    </tr>\n",
       "    <tr>\n",
       "      <th>...</th>\n",
       "      <td>...</td>\n",
       "      <td>...</td>\n",
       "      <td>...</td>\n",
       "      <td>...</td>\n",
       "      <td>...</td>\n",
       "      <td>...</td>\n",
       "      <td>...</td>\n",
       "      <td>...</td>\n",
       "    </tr>\n",
       "    <tr>\n",
       "      <th>567</th>\n",
       "      <td>1352</td>\n",
       "      <td>48.9</td>\n",
       "      <td>238</td>\n",
       "      <td>0</td>\n",
       "      <td>0</td>\n",
       "      <td>0</td>\n",
       "      <td>1</td>\n",
       "      <td>1</td>\n",
       "    </tr>\n",
       "    <tr>\n",
       "      <th>568</th>\n",
       "      <td>1294</td>\n",
       "      <td>66.7</td>\n",
       "      <td>12</td>\n",
       "      <td>0</td>\n",
       "      <td>0</td>\n",
       "      <td>1</td>\n",
       "      <td>0</td>\n",
       "      <td>1</td>\n",
       "    </tr>\n",
       "    <tr>\n",
       "      <th>569</th>\n",
       "      <td>1360</td>\n",
       "      <td>60.9</td>\n",
       "      <td>187</td>\n",
       "      <td>0</td>\n",
       "      <td>0</td>\n",
       "      <td>0</td>\n",
       "      <td>1</td>\n",
       "      <td>1</td>\n",
       "    </tr>\n",
       "    <tr>\n",
       "      <th>570</th>\n",
       "      <td>1337</td>\n",
       "      <td>56.1</td>\n",
       "      <td>206</td>\n",
       "      <td>0</td>\n",
       "      <td>0</td>\n",
       "      <td>0</td>\n",
       "      <td>1</td>\n",
       "      <td>1</td>\n",
       "    </tr>\n",
       "    <tr>\n",
       "      <th>571</th>\n",
       "      <td>1361</td>\n",
       "      <td>68.2</td>\n",
       "      <td>172</td>\n",
       "      <td>0</td>\n",
       "      <td>0</td>\n",
       "      <td>1</td>\n",
       "      <td>1</td>\n",
       "      <td>1</td>\n",
       "    </tr>\n",
       "  </tbody>\n",
       "</table>\n",
       "<p>572 rows × 8 columns</p>\n",
       "</div>"
      ],
      "text/plain": [
       "     Rotational speed [rpm]  Torque [Nm]  Tool wear [min]  TWF  HDF  PWF  OSF  \\\n",
       "0                      1527         45.3                8    0    0    0    0   \n",
       "1                      1524         40.4              131    0    0    0    0   \n",
       "2                      1594         35.5               13    0    0    0    0   \n",
       "3                      1671         31.8              108    0    0    0    0   \n",
       "4                      1356         48.3               36    0    0    0    0   \n",
       "..                      ...          ...              ...  ...  ...  ...  ...   \n",
       "567                    1352         48.9              238    0    0    0    1   \n",
       "568                    1294         66.7               12    0    0    1    0   \n",
       "569                    1360         60.9              187    0    0    0    1   \n",
       "570                    1337         56.1              206    0    0    0    1   \n",
       "571                    1361         68.2              172    0    0    1    1   \n",
       "\n",
       "     Machine failure  \n",
       "0                  0  \n",
       "1                  0  \n",
       "2                  0  \n",
       "3                  0  \n",
       "4                  0  \n",
       "..               ...  \n",
       "567                1  \n",
       "568                1  \n",
       "569                1  \n",
       "570                1  \n",
       "571                1  \n",
       "\n",
       "[572 rows x 8 columns]"
      ]
     },
     "execution_count": 13,
     "metadata": {},
     "output_type": "execute_result"
    }
   ],
   "source": [
    "# 타겟 데이터 비중 동일하게 조정\n",
    "false = m_df[m_df['Machine failure'] == 0].sample(286, random_state=124)\n",
    "true = m_df[m_df['Machine failure'] == 1]\n",
    "\n",
    "pre_m_df = pd.concat([false, true])\n",
    "pre_m_df.reset_index(drop=True, inplace=True)\n",
    "pre_m_df"
   ]
  },
  {
   "cell_type": "code",
   "execution_count": 14,
   "id": "8099a3a9-2b3c-4436-bbd5-d7289f1402ac",
   "metadata": {},
   "outputs": [
    {
     "data": {
      "text/plain": [
       "Machine failure\n",
       "0    286\n",
       "1    286\n",
       "Name: count, dtype: int64"
      ]
     },
     "execution_count": 14,
     "metadata": {},
     "output_type": "execute_result"
    }
   ],
   "source": [
    "pre_m_df['Machine failure'].value_counts()"
   ]
  },
  {
   "cell_type": "code",
   "execution_count": 15,
   "id": "3b89dce4-ccc7-4bf3-b94e-2c081cad2a28",
   "metadata": {},
   "outputs": [
    {
     "data": {
      "text/plain": [
       "array([[<Axes: title={'center': 'Rotational speed [rpm]'}>,\n",
       "        <Axes: title={'center': 'Torque [Nm]'}>,\n",
       "        <Axes: title={'center': 'Tool wear [min]'}>],\n",
       "       [<Axes: title={'center': 'TWF'}>, <Axes: title={'center': 'HDF'}>,\n",
       "        <Axes: title={'center': 'PWF'}>],\n",
       "       [<Axes: title={'center': 'OSF'}>,\n",
       "        <Axes: title={'center': 'Machine failure'}>, <Axes: >]],\n",
       "      dtype=object)"
      ]
     },
     "execution_count": 15,
     "metadata": {},
     "output_type": "execute_result"
    },
    {
     "data": {
      "image/png": "[encoded data removed]",
      "text/plain": [
       "<Figure size 1000x800 with 9 Axes>"
      ]
     },
     "metadata": {},
     "output_type": "display_data"
    }
   ],
   "source": [
    "pre_m_df.hist(figsize=(10, 8))"
   ]
  },
  {
   "cell_type": "code",
   "execution_count": 16,
   "id": "d43c52eb-37b1-4cc7-a66b-7f60a7527efc",
   "metadata": {},
   "outputs": [
    {
     "name": "stdout",
     "output_type": "stream",
     "text": [
      "Epoch: 100/1000\n",
      "W1: -0.2626, W2: 0.0991, W3: 0.2575, W4: -0.0196, W5: 0.0093, W6: -0.2849, W7: -0.1438, b: -0.0\n",
      "Loss: 50.1094\n",
      "==========================================================================================\n",
      "Epoch: 200/1000\n",
      "W1: -0.2626, W2: 0.0991, W3: 0.2575, W4: -0.0196, W5: 0.0093, W6: -0.2849, W7: -0.1438, b: -0.0\n",
      "Loss: 50.1094\n",
      "==========================================================================================\n",
      "Epoch: 300/1000\n",
      "W1: -0.2626, W2: 0.0991, W3: 0.2575, W4: -0.0196, W5: 0.0093, W6: -0.2849, W7: -0.1438, b: -0.0\n",
      "Loss: 50.1094\n",
      "==========================================================================================\n",
      "Epoch: 400/1000\n",
      "W1: -0.2626, W2: 0.0991, W3: 0.2575, W4: -0.0196, W5: 0.0093, W6: -0.2849, W7: -0.1438, b: -0.0\n",
      "Loss: 50.1094\n",
      "==========================================================================================\n",
      "Epoch: 500/1000\n",
      "W1: -0.2626, W2: 0.0991, W3: 0.2575, W4: -0.0196, W5: 0.0093, W6: -0.2849, W7: -0.1438, b: -0.0\n",
      "Loss: 50.1094\n",
      "==========================================================================================\n",
      "Epoch: 600/1000\n",
      "W1: -0.2626, W2: 0.0991, W3: 0.2575, W4: -0.0196, W5: 0.0093, W6: -0.2849, W7: -0.1438, b: -0.0\n",
      "Loss: 50.1094\n",
      "==========================================================================================\n",
      "Epoch: 700/1000\n",
      "W1: -0.2626, W2: 0.0991, W3: 0.2575, W4: -0.0196, W5: 0.0093, W6: -0.2849, W7: -0.1438, b: -0.0\n",
      "Loss: 50.1094\n",
      "==========================================================================================\n",
      "Epoch: 800/1000\n",
      "W1: -0.2626, W2: 0.0991, W3: 0.2575, W4: -0.0196, W5: 0.0093, W6: -0.2849, W7: -0.1438, b: -0.0\n",
      "Loss: 50.1094\n",
      "==========================================================================================\n",
      "Epoch: 900/1000\n",
      "W1: -0.2626, W2: 0.0991, W3: 0.2575, W4: -0.0196, W5: 0.0093, W6: -0.2849, W7: -0.1438, b: -0.0\n",
      "Loss: 50.1094\n",
      "==========================================================================================\n",
      "Epoch: 1000/1000\n",
      "W1: -0.2626, W2: 0.0991, W3: 0.2575, W4: -0.0196, W5: 0.0093, W6: -0.2849, W7: -0.1438, b: -0.0\n",
      "Loss: 50.1094\n",
      "==========================================================================================\n"
     ]
    }
   ],
   "source": [
    "import torch\n",
    "from torch.nn import Sequential, Linear, Sigmoid\n",
    "from torch.nn.functional import binary_cross_entropy\n",
    "from sklearn.model_selection import train_test_split\n",
    "from torch.optim import SGD\n",
    "import numpy as np\n",
    "\n",
    "torch.manual_seed(124)\n",
    "\n",
    "features, targets = pre_m_df.iloc[:, :-1], pre_m_df.iloc[:, -1]\n",
    "\n",
    "X_train, X_test, y_train, y_test = \\\n",
    "train_test_split(features, targets, stratify=targets, test_size=0.2, random_state=124)\n",
    "\n",
    "X_train = torch.FloatTensor(X_train.values)\n",
    "y_train = torch.FloatTensor(y_train.values).view(-1, 1)\n",
    "\n",
    "X_test = torch.FloatTensor(X_test.values)\n",
    "y_test = torch.FloatTensor(y_test.values).view(-1, 1)\n",
    "\n",
    "logistic_r = Sequential(\n",
    "    Linear(7, 1),\n",
    "    Sigmoid()\n",
    ")\n",
    "\n",
    "optimizer = SGD(logistic_r.parameters(), lr=1e-4)\n",
    "epochs = 1000\n",
    "\n",
    "for epoch in range(1, epochs + 1):\n",
    "    H = logistic_r(X_train)\n",
    "\n",
    "    loss = binary_cross_entropy(H, y_train)\n",
    "\n",
    "    optimizer.zero_grad()\n",
    "    loss.backward()\n",
    "    optimizer.step()\n",
    "\n",
    "    if epoch % 100 == 0:\n",
    "        print(f'Epoch: {epoch}/{epochs}')\n",
    "        for i, w in enumerate(list(logistic_r.parameters())[0][0]):\n",
    "            print(f'W{i + 1}: {np.round(w.item(), 4)}', end=', ')\n",
    "        print(f'b: {np.round(list(logistic_r.parameters())[1].item())}\\nLoss: {np.round(loss.item(), 4)}')\n",
    "        print('=' * 90)"
   ]
  },
  {
   "cell_type": "code",
   "execution_count": 17,
   "id": "ca9c73e2-b2fd-49ad-90a1-bd49838df367",
   "metadata": {},
   "outputs": [],
   "source": [
    "import matplotlib.pyplot as plt\n",
    "from sklearn.metrics import accuracy_score, precision_score, recall_score, f1_score, roc_auc_score, confusion_matrix, ConfusionMatrixDisplay\n",
    "\n",
    "def get_evaluation(y_test, prediction, classifier=None, X_test=None):\n",
    "    confusion = confusion_matrix(y_test, prediction)\n",
    "    accuracy = accuracy_score(y_test , prediction)\n",
    "    precision = precision_score(y_test , prediction)\n",
    "    recall = recall_score(y_test , prediction)\n",
    "    f1 = f1_score(y_test, prediction)\n",
    "    auc = roc_auc_score(y_test, prediction)\n",
    "    \n",
    "    print('오차 행렬')\n",
    "    print(confusion)\n",
    "    print('정확도: {0:.4f}, 정밀도: {1:.4f}, 재현율: {2:.4f}, F1: {3:.4f}, ROC-AUC: {4:.4f}'.format(accuracy, precision, recall, f1, auc))\n",
    "    print(\"#\" * 80)\n",
    "    \n",
    "    if classifier is not None and  X_test is not None:\n",
    "        fig, axes = plt.subplots(nrows=1, ncols=2, figsize=(12,4))\n",
    "        titles_options = [(\"Confusion matrix\", None), (\"Normalized confusion matrix\", \"true\")]\n",
    "\n",
    "        for (title, normalize), ax in zip(titles_options, axes.flatten()):\n",
    "            disp = ConfusionMatrixDisplay.from_estimator(classifier, X_test, y_test, ax=ax, cmap=plt.cm.Blues, normalize=normalize)\n",
    "            disp.ax_.set_title(title)\n",
    "        plt.show()"
   ]
  },
  {
   "cell_type": "code",
   "execution_count": 18,
   "id": "41300f52-6635-4217-bda8-b7776265b4d0",
   "metadata": {},
   "outputs": [
    {
     "name": "stdout",
     "output_type": "stream",
     "text": [
      "오차 행렬\n",
      "[[58  0]\n",
      " [57  0]]\n",
      "정확도: 0.5043, 정밀도: 0.0000, 재현율: 0.0000, F1: 0.0000, ROC-AUC: 0.5000\n",
      "################################################################################\n"
     ]
    },
    {
     "name": "stderr",
     "output_type": "stream",
     "text": [
      "C:\\Users\\LEGION\\anaconda3\\Lib\\site-packages\\sklearn\\metrics\\_classification.py:1344: UndefinedMetricWarning: Precision is ill-defined and being set to 0.0 due to no predicted samples. Use `zero_division` parameter to control this behavior.\n",
      "  _warn_prf(average, modifier, msg_start, len(result))\n"
     ]
    }
   ],
   "source": [
    "get_evaluation(y_test.detach(), logistic_r(X_test) >= 0.5)"
   ]
  },
  {
   "cell_type": "code",
   "execution_count": 19,
   "id": "504ba606-88c1-4ad9-85fd-d87395817356",
   "metadata": {},
   "outputs": [],
   "source": [
    "from sklearn.model_selection import train_test_split\n",
    "from sklearn.linear_model import LogisticRegression\n",
    "\n",
    "features, targets = pre_m_df.iloc[:, :-1], pre_m_df.iloc[:, -1]\n",
    "\n",
    "X_train, X_test, y_train, y_test = \\\n",
    "train_test_split(features, targets, stratify=targets, test_size=0.2, random_state=124)\n",
    "\n",
    "logistic_r = LogisticRegression(solver='liblinear', penalty='l2', C=0.01, random_state=124)\n",
    "logistic_r.fit(X_train, y_train)\n",
    "prediction = logistic_r.predict(X_test)"
   ]
  },
  {
   "cell_type": "code",
   "execution_count": 20,
   "id": "00aee94e-f659-49d1-88f8-f4e4eb2aaf2a",
   "metadata": {},
   "outputs": [
    {
     "name": "stdout",
     "output_type": "stream",
     "text": [
      "오차 행렬\n",
      "[[48 10]\n",
      " [12 45]]\n",
      "정확도: 0.8087, 정밀도: 0.8182, 재현율: 0.7895, F1: 0.8036, ROC-AUC: 0.8085\n",
      "################################################################################\n"
     ]
    },
    {
     "data": {
      "image/png": "[encoded data removed]",
      "text/plain": [
       "<Figure size 1200x400 with 4 Axes>"
      ]
     },
     "metadata": {},
     "output_type": "display_data"
    }
   ],
   "source": [
    "get_evaluation(y_test, prediction, logistic_r, X_test)"
   ]
  },
  {
   "cell_type": "code",
   "execution_count": 21,
   "id": "e0d27e16-3b73-422c-b3dc-4078f7ff5036",
   "metadata": {},
   "outputs": [
    {
     "name": "stdout",
     "output_type": "stream",
     "text": [
      "                                 OLS Regression Results                                \n",
      "=======================================================================================\n",
      "Dep. Variable:        Machine failure   R-squared (uncentered):                   0.924\n",
      "Model:                            OLS   Adj. R-squared (uncentered):              0.923\n",
      "Method:                 Least Squares   F-statistic:                              974.9\n",
      "Date:                Wed, 08 May 2024   Prob (F-statistic):                   1.25e-310\n",
      "Time:                        16:43:06   Log-Likelihood:                          121.91\n",
      "No. Observations:                 572   AIC:                                     -229.8\n",
      "Df Residuals:                     565   BIC:                                     -199.4\n",
      "Df Model:                           7                                                  \n",
      "Covariance Type:            nonrobust                                                  \n",
      "==========================================================================================\n",
      "                             coef    std err          t      P>|t|      [0.025      0.975]\n",
      "------------------------------------------------------------------------------------------\n",
      "Rotational speed [rpm] -6.502e-05   2.33e-05     -2.786      0.006      -0.000   -1.92e-05\n",
      "Torque [Nm]                0.0039      0.001      4.987      0.000       0.002       0.005\n",
      "Tool wear [min]            0.0002      0.000      1.354      0.176   -9.32e-05       0.001\n",
      "TWF                        0.8422      0.035     23.789      0.000       0.773       0.912\n",
      "HDF                        0.8040      0.025     32.464      0.000       0.755       0.853\n",
      "PWF                        0.6152      0.037     16.695      0.000       0.543       0.688\n",
      "OSF                        0.6874      0.032     21.407      0.000       0.624       0.751\n",
      "==============================================================================\n",
      "Omnibus:                      124.271   Durbin-Watson:                   1.566\n",
      "Prob(Omnibus):                  0.000   Jarque-Bera (JB):             3437.251\n",
      "Skew:                           0.071   Prob(JB):                         0.00\n",
      "Kurtosis:                      15.008   Cond. No.                     7.46e+03\n",
      "==============================================================================\n",
      "\n",
      "Notes:\n",
      "[1] R² is computed without centering (uncentered) since the model does not contain a constant.\n",
      "[2] Standard Errors assume that the covariance matrix of the errors is correctly specified.\n",
      "[3] The condition number is large, 7.46e+03. This might indicate that there are\n",
      "strong multicollinearity or other numerical problems.\n"
     ]
    }
   ],
   "source": [
    "from statsmodels.api import OLS\n",
    "\n",
    "features, targets = pre_m_df.iloc[:, :-1], pre_m_df.iloc[:, -1]\n",
    "\n",
    "model = OLS(targets, features)\n",
    "print(model.fit().summary())"
   ]
  },
  {
   "cell_type": "code",
   "execution_count": 22,
   "id": "9c6eb192-2318-4588-9b2e-cc4e139d4b45",
   "metadata": {},
   "outputs": [],
   "source": [
    "from statsmodels.stats.outliers_influence import variance_inflation_factor\n",
    "\n",
    "def get_vif(features):\n",
    "    vif = pd.DataFrame()\n",
    "    vif['vif_score'] = [variance_inflation_factor(features.values, i) for i in range(features.shape[1])]\n",
    "    vif['features'] = features.columns\n",
    "    return vif"
   ]
  },
  {
   "cell_type": "code",
   "execution_count": 23,
   "id": "a748574a-e4b1-472e-a2f7-8d03ae890492",
   "metadata": {},
   "outputs": [
    {
     "data": {
      "text/html": [
       "<div>\n",
       "<style scoped>\n",
       "    .dataframe tbody tr th:only-of-type {\n",
       "        vertical-align: middle;\n",
       "    }\n",
       "\n",
       "    .dataframe tbody tr th {\n",
       "        vertical-align: top;\n",
       "    }\n",
       "\n",
       "    .dataframe thead th {\n",
       "        text-align: right;\n",
       "    }\n",
       "</style>\n",
       "<table border=\"1\" class=\"dataframe\">\n",
       "  <thead>\n",
       "    <tr style=\"text-align: right;\">\n",
       "      <th></th>\n",
       "      <th>vif_score</th>\n",
       "      <th>features</th>\n",
       "    </tr>\n",
       "  </thead>\n",
       "  <tbody>\n",
       "    <tr>\n",
       "      <th>0</th>\n",
       "      <td>17.292064</td>\n",
       "      <td>Rotational speed [rpm]</td>\n",
       "    </tr>\n",
       "    <tr>\n",
       "      <th>1</th>\n",
       "      <td>20.942339</td>\n",
       "      <td>Torque [Nm]</td>\n",
       "    </tr>\n",
       "    <tr>\n",
       "      <th>2</th>\n",
       "      <td>7.262241</td>\n",
       "      <td>Tool wear [min]</td>\n",
       "    </tr>\n",
       "    <tr>\n",
       "      <th>3</th>\n",
       "      <td>1.424932</td>\n",
       "      <td>TWF</td>\n",
       "    </tr>\n",
       "    <tr>\n",
       "      <th>4</th>\n",
       "      <td>1.822451</td>\n",
       "      <td>HDF</td>\n",
       "    </tr>\n",
       "    <tr>\n",
       "      <th>5</th>\n",
       "      <td>1.543529</td>\n",
       "      <td>PWF</td>\n",
       "    </tr>\n",
       "    <tr>\n",
       "      <th>6</th>\n",
       "      <td>2.504618</td>\n",
       "      <td>OSF</td>\n",
       "    </tr>\n",
       "  </tbody>\n",
       "</table>\n",
       "</div>"
      ],
      "text/plain": [
       "   vif_score                features\n",
       "0  17.292064  Rotational speed [rpm]\n",
       "1  20.942339             Torque [Nm]\n",
       "2   7.262241         Tool wear [min]\n",
       "3   1.424932                     TWF\n",
       "4   1.822451                     HDF\n",
       "5   1.543529                     PWF\n",
       "6   2.504618                     OSF"
      ]
     },
     "execution_count": 23,
     "metadata": {},
     "output_type": "execute_result"
    }
   ],
   "source": [
    "get_vif(features)"
   ]
  },
  {
   "cell_type": "code",
   "execution_count": 24,
   "id": "f38da017-a6b3-40ec-a3b2-4c5ddf86eb55",
   "metadata": {},
   "outputs": [
    {
     "data": {
      "text/plain": [
       "Torque [Nm]               0.586769\n",
       "HDF                       0.501638\n",
       "OSF                       0.443455\n",
       "Tool wear [min]           0.335155\n",
       "TWF                       0.288675\n",
       "PWF                       0.288675\n",
       "Rotational speed [rpm]   -0.510421\n",
       "Name: Machine failure, dtype: float64"
      ]
     },
     "execution_count": 24,
     "metadata": {},
     "output_type": "execute_result"
    }
   ],
   "source": [
    "pre_m_df.corr()['Machine failure'].sort_values(ascending=False)[1:]"
   ]
  },
  {
   "cell_type": "code",
   "execution_count": 25,
   "id": "7f6f1777-0f0e-4384-a241-0765eb2925a0",
   "metadata": {},
   "outputs": [
    {
     "data": {
      "image/png": "[encoded data removed]",
      "text/plain": [
       "<Figure size 640x480 with 2 Axes>"
      ]
     },
     "metadata": {},
     "output_type": "display_data"
    }
   ],
   "source": [
    "import seaborn as sns\n",
    "\n",
    "sns.heatmap(features.corr())\n",
    "plt.show()"
   ]
  },
  {
   "cell_type": "code",
   "execution_count": 26,
   "id": "5c5f4a6f-7a14-4359-afd0-956cfbba88bd",
   "metadata": {},
   "outputs": [
    {
     "data": {
      "text/html": [
       "<div>\n",
       "<style scoped>\n",
       "    .dataframe tbody tr th:only-of-type {\n",
       "        vertical-align: middle;\n",
       "    }\n",
       "\n",
       "    .dataframe tbody tr th {\n",
       "        vertical-align: top;\n",
       "    }\n",
       "\n",
       "    .dataframe thead th {\n",
       "        text-align: right;\n",
       "    }\n",
       "</style>\n",
       "<table border=\"1\" class=\"dataframe\">\n",
       "  <thead>\n",
       "    <tr style=\"text-align: right;\">\n",
       "      <th></th>\n",
       "      <th>Rotational speed [rpm]</th>\n",
       "      <th>Torque [Nm]</th>\n",
       "      <th>Tool wear [min]</th>\n",
       "      <th>HDF</th>\n",
       "      <th>OSF</th>\n",
       "      <th>Machine failure</th>\n",
       "    </tr>\n",
       "  </thead>\n",
       "  <tbody>\n",
       "    <tr>\n",
       "      <th>0</th>\n",
       "      <td>1527</td>\n",
       "      <td>45.3</td>\n",
       "      <td>8</td>\n",
       "      <td>0</td>\n",
       "      <td>0</td>\n",
       "      <td>0</td>\n",
       "    </tr>\n",
       "    <tr>\n",
       "      <th>1</th>\n",
       "      <td>1524</td>\n",
       "      <td>40.4</td>\n",
       "      <td>131</td>\n",
       "      <td>0</td>\n",
       "      <td>0</td>\n",
       "      <td>0</td>\n",
       "    </tr>\n",
       "    <tr>\n",
       "      <th>2</th>\n",
       "      <td>1594</td>\n",
       "      <td>35.5</td>\n",
       "      <td>13</td>\n",
       "      <td>0</td>\n",
       "      <td>0</td>\n",
       "      <td>0</td>\n",
       "    </tr>\n",
       "    <tr>\n",
       "      <th>3</th>\n",
       "      <td>1671</td>\n",
       "      <td>31.8</td>\n",
       "      <td>108</td>\n",
       "      <td>0</td>\n",
       "      <td>0</td>\n",
       "      <td>0</td>\n",
       "    </tr>\n",
       "    <tr>\n",
       "      <th>4</th>\n",
       "      <td>1356</td>\n",
       "      <td>48.3</td>\n",
       "      <td>36</td>\n",
       "      <td>0</td>\n",
       "      <td>0</td>\n",
       "      <td>0</td>\n",
       "    </tr>\n",
       "    <tr>\n",
       "      <th>...</th>\n",
       "      <td>...</td>\n",
       "      <td>...</td>\n",
       "      <td>...</td>\n",
       "      <td>...</td>\n",
       "      <td>...</td>\n",
       "      <td>...</td>\n",
       "    </tr>\n",
       "    <tr>\n",
       "      <th>567</th>\n",
       "      <td>1352</td>\n",
       "      <td>48.9</td>\n",
       "      <td>238</td>\n",
       "      <td>0</td>\n",
       "      <td>1</td>\n",
       "      <td>1</td>\n",
       "    </tr>\n",
       "    <tr>\n",
       "      <th>568</th>\n",
       "      <td>1294</td>\n",
       "      <td>66.7</td>\n",
       "      <td>12</td>\n",
       "      <td>0</td>\n",
       "      <td>0</td>\n",
       "      <td>1</td>\n",
       "    </tr>\n",
       "    <tr>\n",
       "      <th>569</th>\n",
       "      <td>1360</td>\n",
       "      <td>60.9</td>\n",
       "      <td>187</td>\n",
       "      <td>0</td>\n",
       "      <td>1</td>\n",
       "      <td>1</td>\n",
       "    </tr>\n",
       "    <tr>\n",
       "      <th>570</th>\n",
       "      <td>1337</td>\n",
       "      <td>56.1</td>\n",
       "      <td>206</td>\n",
       "      <td>0</td>\n",
       "      <td>1</td>\n",
       "      <td>1</td>\n",
       "    </tr>\n",
       "    <tr>\n",
       "      <th>571</th>\n",
       "      <td>1361</td>\n",
       "      <td>68.2</td>\n",
       "      <td>172</td>\n",
       "      <td>0</td>\n",
       "      <td>1</td>\n",
       "      <td>1</td>\n",
       "    </tr>\n",
       "  </tbody>\n",
       "</table>\n",
       "<p>572 rows × 6 columns</p>\n",
       "</div>"
      ],
      "text/plain": [
       "     Rotational speed [rpm]  Torque [Nm]  Tool wear [min]  HDF  OSF  \\\n",
       "0                      1527         45.3                8    0    0   \n",
       "1                      1524         40.4              131    0    0   \n",
       "2                      1594         35.5               13    0    0   \n",
       "3                      1671         31.8              108    0    0   \n",
       "4                      1356         48.3               36    0    0   \n",
       "..                      ...          ...              ...  ...  ...   \n",
       "567                    1352         48.9              238    0    1   \n",
       "568                    1294         66.7               12    0    0   \n",
       "569                    1360         60.9              187    0    1   \n",
       "570                    1337         56.1              206    0    1   \n",
       "571                    1361         68.2              172    0    1   \n",
       "\n",
       "     Machine failure  \n",
       "0                  0  \n",
       "1                  0  \n",
       "2                  0  \n",
       "3                  0  \n",
       "4                  0  \n",
       "..               ...  \n",
       "567                1  \n",
       "568                1  \n",
       "569                1  \n",
       "570                1  \n",
       "571                1  \n",
       "\n",
       "[572 rows x 6 columns]"
      ]
     },
     "execution_count": 26,
     "metadata": {},
     "output_type": "execute_result"
    }
   ],
   "source": [
    "drop_m_df = pre_m_df.drop(labels=['TWF', 'PWF'], axis=1)\n",
    "drop_m_df"
   ]
  },
  {
   "cell_type": "code",
   "execution_count": 27,
   "id": "60a6e1bd-5bb6-49dc-be6a-4a51f330ae78",
   "metadata": {},
   "outputs": [
    {
     "name": "stdout",
     "output_type": "stream",
     "text": [
      "                                 OLS Regression Results                                \n",
      "=======================================================================================\n",
      "Dep. Variable:        Machine failure   R-squared (uncentered):                   0.807\n",
      "Model:                            OLS   Adj. R-squared (uncentered):              0.806\n",
      "Method:                 Least Squares   F-statistic:                              475.3\n",
      "Date:                Wed, 08 May 2024   Prob (F-statistic):                   4.36e-200\n",
      "Time:                        16:43:07   Log-Likelihood:                         -142.36\n",
      "No. Observations:                 572   AIC:                                      294.7\n",
      "Df Residuals:                     567   BIC:                                      316.5\n",
      "Df Model:                           5                                                  \n",
      "Covariance Type:            nonrobust                                                  \n",
      "==========================================================================================\n",
      "                             coef    std err          t      P>|t|      [0.025      0.975]\n",
      "------------------------------------------------------------------------------------------\n",
      "Rotational speed [rpm]    -0.0002   3.44e-05     -6.981      0.000      -0.000      -0.000\n",
      "Torque [Nm]                0.0100      0.001      9.591      0.000       0.008       0.012\n",
      "Tool wear [min]            0.0017      0.000      7.703      0.000       0.001       0.002\n",
      "HDF                        0.5912      0.036     16.206      0.000       0.520       0.663\n",
      "OSF                        0.3632      0.048      7.605      0.000       0.269       0.457\n",
      "==============================================================================\n",
      "Omnibus:                       62.997   Durbin-Watson:                   0.973\n",
      "Prob(Omnibus):                  0.000   Jarque-Bera (JB):               81.121\n",
      "Skew:                           0.886   Prob(JB):                     2.43e-18\n",
      "Kurtosis:                       3.514   Cond. No.                     5.67e+03\n",
      "==============================================================================\n",
      "\n",
      "Notes:\n",
      "[1] R² is computed without centering (uncentered) since the model does not contain a constant.\n",
      "[2] Standard Errors assume that the covariance matrix of the errors is correctly specified.\n",
      "[3] The condition number is large, 5.67e+03. This might indicate that there are\n",
      "strong multicollinearity or other numerical problems.\n"
     ]
    }
   ],
   "source": [
    "from statsmodels.api import OLS\n",
    "\n",
    "features, targets = drop_m_df.iloc[:, :-1], drop_m_df.iloc[:, -1]\n",
    "\n",
    "model = OLS(targets, features)\n",
    "print(model.fit().summary())"
   ]
  },
  {
   "cell_type": "code",
   "execution_count": 28,
   "id": "5e759d5d-560c-46bc-9277-47a797b8d6b5",
   "metadata": {},
   "outputs": [
    {
     "data": {
      "text/html": [
       "<div>\n",
       "<style scoped>\n",
       "    .dataframe tbody tr th:only-of-type {\n",
       "        vertical-align: middle;\n",
       "    }\n",
       "\n",
       "    .dataframe tbody tr th {\n",
       "        vertical-align: top;\n",
       "    }\n",
       "\n",
       "    .dataframe thead th {\n",
       "        text-align: right;\n",
       "    }\n",
       "</style>\n",
       "<table border=\"1\" class=\"dataframe\">\n",
       "  <thead>\n",
       "    <tr style=\"text-align: right;\">\n",
       "      <th></th>\n",
       "      <th>vif_score</th>\n",
       "      <th>features</th>\n",
       "    </tr>\n",
       "  </thead>\n",
       "  <tbody>\n",
       "    <tr>\n",
       "      <th>0</th>\n",
       "      <td>14.963274</td>\n",
       "      <td>Rotational speed [rpm]</td>\n",
       "    </tr>\n",
       "    <tr>\n",
       "      <th>1</th>\n",
       "      <td>14.724529</td>\n",
       "      <td>Torque [Nm]</td>\n",
       "    </tr>\n",
       "    <tr>\n",
       "      <th>2</th>\n",
       "      <td>5.713450</td>\n",
       "      <td>Tool wear [min]</td>\n",
       "    </tr>\n",
       "    <tr>\n",
       "      <th>3</th>\n",
       "      <td>1.575233</td>\n",
       "      <td>HDF</td>\n",
       "    </tr>\n",
       "    <tr>\n",
       "      <th>4</th>\n",
       "      <td>2.206191</td>\n",
       "      <td>OSF</td>\n",
       "    </tr>\n",
       "  </tbody>\n",
       "</table>\n",
       "</div>"
      ],
      "text/plain": [
       "   vif_score                features\n",
       "0  14.963274  Rotational speed [rpm]\n",
       "1  14.724529             Torque [Nm]\n",
       "2   5.713450         Tool wear [min]\n",
       "3   1.575233                     HDF\n",
       "4   2.206191                     OSF"
      ]
     },
     "execution_count": 28,
     "metadata": {},
     "output_type": "execute_result"
    }
   ],
   "source": [
    "get_vif(features)"
   ]
  },
  {
   "cell_type": "code",
   "execution_count": 29,
   "id": "80cbf42e-772c-444b-ad26-d6c5bb2267d9",
   "metadata": {},
   "outputs": [
    {
     "name": "stdout",
     "output_type": "stream",
     "text": [
      "Epoch: 100/1000\n",
      "W1: -0.3107, W2: 0.1173, W3: 0.3047, W4: -0.0231, W5: 0.011, b: -0.0\n",
      "Loss: 50.1094\n",
      "==========================================================================================\n",
      "Epoch: 200/1000\n",
      "W1: -0.3107, W2: 0.1173, W3: 0.3047, W4: -0.0231, W5: 0.011, b: -0.0\n",
      "Loss: 50.1094\n",
      "==========================================================================================\n",
      "Epoch: 300/1000\n",
      "W1: -0.3107, W2: 0.1173, W3: 0.3047, W4: -0.0231, W5: 0.011, b: -0.0\n",
      "Loss: 50.1094\n",
      "==========================================================================================\n",
      "Epoch: 400/1000\n",
      "W1: -0.3107, W2: 0.1173, W3: 0.3047, W4: -0.0231, W5: 0.011, b: -0.0\n",
      "Loss: 50.1094\n",
      "==========================================================================================\n",
      "Epoch: 500/1000\n",
      "W1: -0.3107, W2: 0.1173, W3: 0.3047, W4: -0.0231, W5: 0.011, b: -0.0\n",
      "Loss: 50.1094\n",
      "==========================================================================================\n",
      "Epoch: 600/1000\n",
      "W1: -0.3107, W2: 0.1173, W3: 0.3047, W4: -0.0231, W5: 0.011, b: -0.0\n",
      "Loss: 50.1094\n",
      "==========================================================================================\n",
      "Epoch: 700/1000\n",
      "W1: -0.3107, W2: 0.1173, W3: 0.3047, W4: -0.0231, W5: 0.011, b: -0.0\n",
      "Loss: 50.1094\n",
      "==========================================================================================\n",
      "Epoch: 800/1000\n",
      "W1: -0.3107, W2: 0.1173, W3: 0.3047, W4: -0.0231, W5: 0.011, b: -0.0\n",
      "Loss: 50.1094\n",
      "==========================================================================================\n",
      "Epoch: 900/1000\n",
      "W1: -0.3107, W2: 0.1173, W3: 0.3047, W4: -0.0231, W5: 0.011, b: -0.0\n",
      "Loss: 50.1094\n",
      "==========================================================================================\n",
      "Epoch: 1000/1000\n",
      "W1: -0.3107, W2: 0.1173, W3: 0.3047, W4: -0.0231, W5: 0.011, b: -0.0\n",
      "Loss: 50.1094\n",
      "==========================================================================================\n"
     ]
    }
   ],
   "source": [
    "import torch\n",
    "from torch.nn import Sequential, Linear, Sigmoid\n",
    "from torch.nn.functional import binary_cross_entropy\n",
    "from sklearn.model_selection import train_test_split\n",
    "from torch.optim import SGD\n",
    "import numpy as np\n",
    "\n",
    "torch.manual_seed(124)\n",
    "\n",
    "features, targets = drop_m_df.iloc[:, :-1], drop_m_df.iloc[:, -1]\n",
    "\n",
    "X_train, X_test, y_train, y_test = \\\n",
    "train_test_split(features, targets, stratify=targets, test_size=0.2, random_state=124)\n",
    "\n",
    "X_train = torch.FloatTensor(X_train.values)\n",
    "y_train = torch.FloatTensor(y_train.values).view(-1, 1)\n",
    "\n",
    "X_test = torch.FloatTensor(X_test.values)\n",
    "y_test = torch.FloatTensor(y_test.values).view(-1, 1)\n",
    "\n",
    "logistic_r = Sequential(\n",
    "    Linear(5, 1),\n",
    "    Sigmoid()\n",
    ")\n",
    "\n",
    "optimizer = SGD(logistic_r.parameters(), lr=1e-12)\n",
    "epochs = 1000\n",
    "\n",
    "for epoch in range(1, epochs + 1):\n",
    "    H = logistic_r(X_train)\n",
    "\n",
    "    loss = binary_cross_entropy(H, y_train)\n",
    "\n",
    "    optimizer.zero_grad()\n",
    "    loss.backward()\n",
    "    optimizer.step()\n",
    "\n",
    "    if epoch % 100 == 0:\n",
    "        print(f'Epoch: {epoch}/{epochs}')\n",
    "        for i, w in enumerate(list(logistic_r.parameters())[0][0]):\n",
    "            print(f'W{i + 1}: {np.round(w.item(), 4)}', end=', ')\n",
    "        print(f'b: {np.round(list(logistic_r.parameters())[1].item())}\\nLoss: {np.round(loss.item(), 4)}')\n",
    "        print('=' * 90)"
   ]
  },
  {
   "cell_type": "code",
   "execution_count": 30,
   "id": "d104aeeb-3fa8-4513-a902-42f80878e722",
   "metadata": {},
   "outputs": [
    {
     "name": "stdout",
     "output_type": "stream",
     "text": [
      "오차 행렬\n",
      "[[58  0]\n",
      " [57  0]]\n",
      "정확도: 0.5043, 정밀도: 0.0000, 재현율: 0.0000, F1: 0.0000, ROC-AUC: 0.5000\n",
      "################################################################################\n"
     ]
    },
    {
     "name": "stderr",
     "output_type": "stream",
     "text": [
      "C:\\Users\\LEGION\\anaconda3\\Lib\\site-packages\\sklearn\\metrics\\_classification.py:1344: UndefinedMetricWarning: Precision is ill-defined and being set to 0.0 due to no predicted samples. Use `zero_division` parameter to control this behavior.\n",
      "  _warn_prf(average, modifier, msg_start, len(result))\n"
     ]
    }
   ],
   "source": [
    "get_evaluation(y_test.detach(), logistic_r(X_test) >= 0.5)"
   ]
  },
  {
   "cell_type": "code",
   "execution_count": 31,
   "id": "7520cdcb-5eac-4e6d-a7f0-76a1fcdf9f5f",
   "metadata": {},
   "outputs": [],
   "source": [
    "from sklearn.model_selection import train_test_split\n",
    "from sklearn.linear_model import LogisticRegression\n",
    "\n",
    "features, targets = drop_m_df.iloc[:, :-1], drop_m_df.iloc[:, -1]\n",
    "\n",
    "X_train, X_test, y_train, y_test = \\\n",
    "train_test_split(features, targets, stratify=targets, test_size=0.2, random_state=124)\n",
    "\n",
    "logistic_r = LogisticRegression(solver='liblinear', penalty='l2', C=1, random_state=124)\n",
    "logistic_r.fit(X_train, y_train)\n",
    "prediction = logistic_r.predict(X_test)"
   ]
  },
  {
   "cell_type": "code",
   "execution_count": 32,
   "id": "0be94662-4eed-4e10-8764-2811ae0ed12e",
   "metadata": {},
   "outputs": [
    {
     "name": "stdout",
     "output_type": "stream",
     "text": [
      "오차 행렬\n",
      "[[55  3]\n",
      " [12 45]]\n",
      "정확도: 0.8696, 정밀도: 0.9375, 재현율: 0.7895, F1: 0.8571, ROC-AUC: 0.8689\n",
      "################################################################################\n"
     ]
    },
    {
     "data": {
      "image/png": "[encoded data removed]",
      "text/plain": [
       "<Figure size 1200x400 with 4 Axes>"
      ]
     },
     "metadata": {},
     "output_type": "display_data"
    }
   ],
   "source": [
    "get_evaluation(y_test, prediction, logistic_r, X_test)"
   ]
  }
 ],
 "metadata": {
  "kernelspec": {
   "display_name": "Python 3 (ipykernel)",
   "language": "python",
   "name": "python3"
  },
  "language_info": {
   "codemirror_mode": {
    "name": "ipython",
    "version": 3
   },
   "file_extension": ".py",
   "mimetype": "text/x-python",
   "name": "python",
   "nbconvert_exporter": "python",
   "pygments_lexer": "ipython3",
   "version": "3.11.8"
  }
 },
 "nbformat": 4,
 "nbformat_minor": 5
}
