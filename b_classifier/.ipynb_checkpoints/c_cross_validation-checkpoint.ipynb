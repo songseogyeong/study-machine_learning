{
 "cells": [
  {
   "cell_type": "markdown",
   "id": "4e5bc83b-7e57-47d4-bc40-8b4366e1c332",
   "metadata": {},
   "source": [
    "### 교차 검증 (Cross Validation)\n",
    "- 기존 방식에서는 데이터 세트에서 학습 데이터 세트와 테스트 데이터 세트를 분리한 뒤 모델 검증을 진행한다.\n",
    "- 교차 검증 시, 학습 데이터를 다시 분할하여 학습 데이터와 모델 성능을 1차 평가하는 검증 데이터로 나눈다.\n",
    "\n",
    "<img src=\"./images/cross_validation01.png\" width=\"500px\">\n",
    "\n",
    "#### 교차 검증의 장단점\n",
    "- 👍 특정 데이터 세트에 대한 과적합 방지\n",
    "- 👍 데이터 세트 규모가 적을 시 과소적합 방지\n",
    "- 👎 모델 훈련, 모델 평가에 소요되는 시간 증가\n",
    "- 즉, 과적합을 피하고 하이퍼 파라미터를 튜닝함으로써 모델을 일반화하고 신뢰성을 증가시키기 위한 목적이다"
   ]
  },
  {
   "cell_type": "markdown",
   "id": "2841960e-9155-4a80-b507-c5b4ff87b313",
   "metadata": {},
   "source": [
    "#### 교차 검증의 종류\n",
    "K-Fold\n",
    "- k개의 데이터 폴드 세트를 만든 뒤 k번 만큼 학습과 검증 평가를 반복하여 수행하는 방식.\n",
    "- 학습 데이터와 검증 데이터를 정확히 자르기 때문에 타겟 데이터의 비중이 한 곳으로 치중될 수 있다.\n",
    "- 예를 들어, 0, 1, 2 중에서 0, 1, 두 가지만 잘라서 검증하게 되면 다른 하나의 타겟 데이터를 예측할 수 없게 된다.\n",
    "- Stratified K-Fold로 해결한다.\n",
    "\n",
    "Stratified K-Fold\n",
    "- k-Fold와 마찬가지로 k번 수행하지만, 학습 데이터 세트와 검증 데이터 세트가 가지는 타겟 분포도가 유사하도록 검증한다.\n",
    "- 타겟 데이터의 비중을 항상 똑같게 자르기 때문에 데이터가 한 곳으로 치중되는 것을 방지한다.\n",
    "<img src=\"./images/cross_validation02.png\" width=\"600px\">\n",
    "※ 평균 검증 결과가 나오게 된다.\n",
    "\n",
    "GridSearchCV\n",
    "- 교차 검증과 최적의 하이퍼 파라미터 튜닝을 한번에 할 수 있는 객체이다.\n",
    "- max_depth와 min_samples_split에 1차원 정수형 list를 전달하면, 2차원으로 결합하여 격자(Grid)를 만들고 이 중 최적의 점을 찾아낸다.\n",
    "- 딥러닝에서는 학습 속도가 머신러닝에 비해 느리고, 레이어(층)가 깊어질 수록 조정해 주어야 할 하이퍼 파라미터 값이 많아지기 때문에, RandomSearchCV에서 대략적인 범위를 찾은 다음, GridSearchCV로 디테일을 조정하는 방식을 사용한다.\n",
    "\n",
    "<img src=\"./images/grid_search_cv.png\" width=\"500px\">"
   ]
  },
  {
   "cell_type": "code",
   "execution_count": 1,
   "id": "63634e07-764e-4811-9225-ac22ca0645d9",
   "metadata": {},
   "outputs": [
    {
     "data": {
      "text/plain": [
       "target\n",
       "0         50\n",
       "1         50\n",
       "2         50\n",
       "Name: count, dtype: int64"
      ]
     },
     "execution_count": 1,
     "metadata": {},
     "output_type": "execute_result"
    }
   ],
   "source": [
    "from sklearn.datasets import load_iris\n",
    "import numpy as np\n",
    "import pandas as pd\n",
    "\n",
    "# 아이리스(iris) 예시 데이터 호출 후 iris에 담기\n",
    "iris = load_iris()\n",
    "\n",
    "# 피처, 타겟 데이터 분리\n",
    "features = iris.data\n",
    "targets = iris.target\n",
    "\n",
    "# 타겟 데이터 프레임 생성\n",
    "target_df = pd.DataFrame(targets, columns=['target'])\n",
    "target_df.value_counts()"
   ]
  },
  {
   "cell_type": "markdown",
   "id": "97d49299-f29f-4af9-96ee-8b60d4c713ab",
   "metadata": {},
   "source": [
    "#### K-Fold"
   ]
  },
  {
   "cell_type": "code",
   "execution_count": 2,
   "id": "a56be9f3-63ae-4898-9499-84aedaaa783b",
   "metadata": {},
   "outputs": [],
   "source": [
    "from sklearn.tree import DecisionTreeClassifier\n",
    "from sklearn.metrics import accuracy_score\n",
    "from sklearn.model_selection import KFold"
   ]
  },
  {
   "cell_type": "code",
   "execution_count": 3,
   "id": "9c055abe-1d3c-4715-8769-bf76f91c5d39",
   "metadata": {},
   "outputs": [],
   "source": [
    "# 결정 트리의 무작위성을 제어하고 분류 모델 담기\n",
    "# 리프 노드가 가져야 하는 최소 샘플수 지정(모델이 너무 복잡해 지는 것을 제어하여 과적합 방지)\n",
    "dtc = DecisionTreeClassifier(random_state=124, min_samples_leaf=6)\n",
    "# 데이터를 몇개로 나눠서 검증할 건지 설정\n",
    "kfold = KFold(n_splits=5)"
   ]
  },
  {
   "cell_type": "code",
   "execution_count": 4,
   "id": "910373f5-1af5-4467-9d62-ecb4414a4fb0",
   "metadata": {},
   "outputs": [
    {
     "data": {
      "text/plain": [
       "(150, 4)"
      ]
     },
     "execution_count": 4,
     "metadata": {},
     "output_type": "execute_result"
    }
   ],
   "source": [
    "# 피처의 속성 확인\n",
    "features.shape"
   ]
  },
  {
   "cell_type": "code",
   "execution_count": 5,
   "id": "78786ea0-0bb6-4cec-a566-38840a3b647b",
   "metadata": {},
   "outputs": [
    {
     "name": "stdout",
     "output_type": "stream",
     "text": [
      "1 회차\n",
      "학습 타겟 데이터 분포: \n",
      "1    50\n",
      "2    50\n",
      "0    20\n",
      "Name: count, dtype: int64\n",
      "검증 타겟 데이터 분포: \n",
      "0    30\n",
      "Name: count, dtype: int64\n",
      "정확도: 1.0\n",
      "2 회차\n",
      "학습 타겟 데이터 분포: \n",
      "2    50\n",
      "1    40\n",
      "0    30\n",
      "Name: count, dtype: int64\n",
      "검증 타겟 데이터 분포: \n",
      "0    20\n",
      "1    10\n",
      "Name: count, dtype: int64\n",
      "정확도: 1.0\n",
      "3 회차\n",
      "학습 타겟 데이터 분포: \n",
      "0    50\n",
      "2    50\n",
      "1    20\n",
      "Name: count, dtype: int64\n",
      "검증 타겟 데이터 분포: \n",
      "1    30\n",
      "Name: count, dtype: int64\n",
      "정확도: 0.8333\n",
      "4 회차\n",
      "학습 타겟 데이터 분포: \n",
      "0    50\n",
      "1    40\n",
      "2    30\n",
      "Name: count, dtype: int64\n",
      "검증 타겟 데이터 분포: \n",
      "2    20\n",
      "1    10\n",
      "Name: count, dtype: int64\n",
      "정확도: 0.9333\n",
      "5 회차\n",
      "학습 타겟 데이터 분포: \n",
      "0    50\n",
      "1    50\n",
      "2    20\n",
      "Name: count, dtype: int64\n",
      "검증 타겟 데이터 분포: \n",
      "2    30\n",
      "Name: count, dtype: int64\n",
      "정확도: 0.8333\n"
     ]
    }
   ],
   "source": [
    "count = 0\n",
    "\n",
    "# 전체 데이터 세트를 넣지 말기!!\n",
    "for train_index, test_index in kfold.split(features):\n",
    "    # 분리\n",
    "    X_train, X_test = features[train_index], features[test_index]\n",
    "    y_train, y_test = targets[train_index], targets[test_index]\n",
    "\n",
    "    # 학습\n",
    "    dtc.fit(X_train, y_train)\n",
    "    prediction = dtc.predict(X_test)\n",
    "\n",
    "    # 평가\n",
    "    accuracy = np.round(accuracy_score(y_test, prediction), 4)\n",
    "\n",
    "    # 검증\n",
    "    train_targets = pd.DataFrame(y_train)\n",
    "    test_targets = pd.DataFrame(y_test)\n",
    "\n",
    "    count += 1\n",
    "    \n",
    "    print(f'{count} 회차')\n",
    "    print(f'학습 타겟 데이터 분포: \\n{train_targets.value_counts()}')\n",
    "    print(f'검증 타겟 데이터 분포: \\n{test_targets.value_counts()}')\n",
    "    print(f'정확도: {accuracy}')"
   ]
  },
  {
   "cell_type": "markdown",
   "id": "55315728-85c3-415b-8fbf-3c026c4a17dd",
   "metadata": {},
   "source": [
    "#### Stratified K-Fold"
   ]
  },
  {
   "cell_type": "code",
   "execution_count": 6,
   "id": "1d6ae0e9-8d48-4953-86c7-bd308127ccff",
   "metadata": {},
   "outputs": [],
   "source": [
    "from sklearn.model_selection import StratifiedKFold\n",
    "\n",
    "# 데이터를 몇개로 나눠서 검증할 건지 설정\n",
    "s_kfold = StratifiedKFold(n_splits=5)"
   ]
  },
  {
   "cell_type": "code",
   "execution_count": 7,
   "id": "437076ec-896e-413f-b61e-62fd48f04682",
   "metadata": {},
   "outputs": [
    {
     "name": "stdout",
     "output_type": "stream",
     "text": [
      "1 회차\n",
      "학습 타겟 데이터 분포: \n",
      "0    40\n",
      "1    40\n",
      "2    40\n",
      "Name: count, dtype: int64\n",
      "검증 타겟 데이터 분포: \n",
      "0    10\n",
      "1    10\n",
      "2    10\n",
      "Name: count, dtype: int64\n",
      "정확도: 0.9667\n",
      "2 회차\n",
      "학습 타겟 데이터 분포: \n",
      "0    40\n",
      "1    40\n",
      "2    40\n",
      "Name: count, dtype: int64\n",
      "검증 타겟 데이터 분포: \n",
      "0    10\n",
      "1    10\n",
      "2    10\n",
      "Name: count, dtype: int64\n",
      "정확도: 0.9667\n",
      "3 회차\n",
      "학습 타겟 데이터 분포: \n",
      "0    40\n",
      "1    40\n",
      "2    40\n",
      "Name: count, dtype: int64\n",
      "검증 타겟 데이터 분포: \n",
      "0    10\n",
      "1    10\n",
      "2    10\n",
      "Name: count, dtype: int64\n",
      "정확도: 0.9\n",
      "4 회차\n",
      "학습 타겟 데이터 분포: \n",
      "0    40\n",
      "1    40\n",
      "2    40\n",
      "Name: count, dtype: int64\n",
      "검증 타겟 데이터 분포: \n",
      "0    10\n",
      "1    10\n",
      "2    10\n",
      "Name: count, dtype: int64\n",
      "정확도: 0.8667\n",
      "5 회차\n",
      "학습 타겟 데이터 분포: \n",
      "0    40\n",
      "1    40\n",
      "2    40\n",
      "Name: count, dtype: int64\n",
      "검증 타겟 데이터 분포: \n",
      "0    10\n",
      "1    10\n",
      "2    10\n",
      "Name: count, dtype: int64\n",
      "정확도: 1.0\n",
      "평균 정확도: 0.94002\n"
     ]
    }
   ],
   "source": [
    "count = 0\n",
    "accuacy_list=[]\n",
    "\n",
    "# 전체 데이터 세트를 넣지 말기!!\n",
    "# 비중을 맞추기 위해 타겟도 함께 전달해야 함\n",
    "for train_index, test_index in s_kfold.split(features, targets):\n",
    "    # 분리\n",
    "    X_train, X_test = features[train_index], features[test_index]\n",
    "    y_train, y_test = targets[train_index], targets[test_index]\n",
    "\n",
    "    # 학습\n",
    "    dtc.fit(X_train, y_train)\n",
    "    prediction = dtc.predict(X_test)\n",
    "\n",
    "    # 평가\n",
    "    accuracy = np.round(accuracy_score(y_test, prediction), 4)\n",
    "    accuacy_list.append(accuracy)\n",
    "\n",
    "    # 검증\n",
    "    train_targets = pd.DataFrame(y_train)\n",
    "    test_targets = pd.DataFrame(y_test)\n",
    "\n",
    "    count += 1\n",
    "    \n",
    "    print(f'{count} 회차')\n",
    "    print(f'학습 타겟 데이터 분포: \\n{train_targets.value_counts()}')\n",
    "    print(f'검증 타겟 데이터 분포: \\n{test_targets.value_counts()}')\n",
    "    print(f'정확도: {accuracy}')\n",
    "print(f'평균 정확도: {np.mean(accuacy_list)}')"
   ]
  },
  {
   "cell_type": "markdown",
   "id": "7984ead2-f3ab-4507-a103-3d596fb3fa4b",
   "metadata": {},
   "source": [
    "#### 편하게 수행할 수 있는 교차 검증\n",
    "**cross_val_score(estimator, x, y, cv, scoring)**  \n",
    "- estimator: classifier 종류 모델이면 내부적으로 startified K-Fold로 진행된다.\n",
    "- x: features\n",
    "- y: targets\n",
    "- cv: 폴드 세트 개수\n",
    "- scoring: 평가 함수, 정확도(accuracy) 외에 다른 것은 다른 장에서 배운다."
   ]
  },
  {
   "cell_type": "code",
   "execution_count": 8,
   "id": "17fa93e8-143a-4dd1-9751-bf201ad778cf",
   "metadata": {},
   "outputs": [],
   "source": [
    "from sklearn.tree import DecisionTreeClassifier\n",
    "from sklearn.model_selection import cross_val_score\n",
    "from sklearn.datasets import load_iris\n",
    "import numpy as np"
   ]
  },
  {
   "cell_type": "code",
   "execution_count": 9,
   "id": "2438ccb2-20f7-4cc3-9156-ebaf3160d3d1",
   "metadata": {},
   "outputs": [
    {
     "name": "stdout",
     "output_type": "stream",
     "text": [
      "0.94\n"
     ]
    }
   ],
   "source": [
    "# 아이리스(iris) 예시 데이터 호출 후 iris에 담기\n",
    "iris = load_iris()\n",
    "\n",
    "# 결정 트리의 무작위성을 제어하고 분류 모델 담기\n",
    "# 리프 노드가 가져야 하는 최소 샘플수 지정(모델이 너무 복잡해 지는 것을 제어하여 과적합 방지)\n",
    "dtc = DecisionTreeClassifier(random_state=124, min_samples_leaf=6)\n",
    "\n",
    "# 피처, 타겟 데이터 분리\n",
    "features = iris.data\n",
    "targets = iris.target\n",
    "\n",
    "# 데이터 학습 및 교차 검증 진행\n",
    "# cv=5가 과적합 방지가 가장 잘 됨, 빅데이터에서는 다르기 때문에 실무에서는 그 회사의 방침에 따르기\n",
    "score = cross_val_score(dtc, features, targets, cv=5, scoring='accuracy')\n",
    "# 평가 진행, 정확도 평균을 소수점 4자리까지 출력 (0은 미출력)\n",
    "print(np.round(np.mean(score), 4))"
   ]
  },
  {
   "cell_type": "markdown",
   "id": "3058eefa-f141-4195-95ba-e13303865965",
   "metadata": {},
   "source": [
    "#### GridSearchCV\n",
    "**GridSearchCV(estimator, param_grid, cv, refit, return_train_score)**\n",
    "- estimator: 학습할 모델 객체 작성\n",
    "- param_grid: dict 형태로 전달해야 하며, 주요 key 값은 max_depth, min_samples_split이다.\n",
    "- cv: 폴드 세트 개수\n",
    "- refit: 최적의 하이퍼 파라미터로 전달한 모델 객체를 다시 훈련하고자 할 때 True를 전달한다.\n",
    "- retrun_train_score: 교차 검증 점수를 가져올 지에 대해 True 또는 False를 전달한다."
   ]
  },
  {
   "cell_type": "code",
   "execution_count": 10,
   "id": "99900835-780a-498f-82d8-245cc49c5404",
   "metadata": {},
   "outputs": [],
   "source": [
    "from sklearn.datasets import load_iris\n",
    "from sklearn.tree import DecisionTreeClassifier\n",
    "from sklearn.model_selection import GridSearchCV, train_test_split\n",
    "from sklearn.metrics import accuracy_score"
   ]
  },
  {
   "cell_type": "code",
   "execution_count": 11,
   "id": "00f66139-89f7-4c0b-bcf7-dae368ef2dbb",
   "metadata": {},
   "outputs": [],
   "source": [
    "# 아이리스(iris) 예시 데이터 호출 후 iris에 담기\n",
    "iris = load_iris()\n",
    "\n",
    "# 피처, 타겟 데이터 분리\n",
    "features = iris.data\n",
    "targets = iris.target\n",
    "\n",
    "# 학습, 테스트 데이터로 분리\n",
    "X_train, X_test, y_train, y_test = train_test_split(features, targets, test_size=0.2, random_state=124)\n",
    "\n",
    "# Decision Tree분류 모델 dtc에 담기\n",
    "dtc = DecisionTreeClassifier()\n",
    "# 파라미터 값 설정\n",
    "# max_depth: 의사 결정 트리의 최대 깊이 지정\n",
    "# min_samples_split: 노드를 분할하기 위해 필요한 최소 샘플 수\n",
    "parameters = {'max_depth': [2, 3, 4], 'min_samples_split': [6, 7]}"
   ]
  },
  {
   "cell_type": "code",
   "execution_count": 12,
   "id": "89533ce2-7663-4a9b-9fdc-83d94536b471",
   "metadata": {},
   "outputs": [],
   "source": [
    "# 교차 검증 설정하기\n",
    "# cv는 3, 4, 5 중에 하나 사용(느리면 3~4 중에 사용)\n",
    "g_dtc = GridSearchCV(dtc, param_grid=parameters, cv=5, refit=True, return_train_score=True, n_jobs=-1)"
   ]
  },
  {
   "cell_type": "code",
   "execution_count": 13,
   "id": "177cccc9-5f89-4093-b8aa-39bb1a43f52b",
   "metadata": {},
   "outputs": [
    {
     "data": {
      "text/html": [
       "<style>#sk-container-id-1 {color: black;background-color: white;}#sk-container-id-1 pre{padding: 0;}#sk-container-id-1 div.sk-toggleable {background-color: white;}#sk-container-id-1 label.sk-toggleable__label {cursor: pointer;display: block;width: 100%;margin-bottom: 0;padding: 0.3em;box-sizing: border-box;text-align: center;}#sk-container-id-1 label.sk-toggleable__label-arrow:before {content: \"▸\";float: left;margin-right: 0.25em;color: #696969;}#sk-container-id-1 label.sk-toggleable__label-arrow:hover:before {color: black;}#sk-container-id-1 div.sk-estimator:hover label.sk-toggleable__label-arrow:before {color: black;}#sk-container-id-1 div.sk-toggleable__content {max-height: 0;max-width: 0;overflow: hidden;text-align: left;background-color: #f0f8ff;}#sk-container-id-1 div.sk-toggleable__content pre {margin: 0.2em;color: black;border-radius: 0.25em;background-color: #f0f8ff;}#sk-container-id-1 input.sk-toggleable__control:checked~div.sk-toggleable__content {max-height: 200px;max-width: 100%;overflow: auto;}#sk-container-id-1 input.sk-toggleable__control:checked~label.sk-toggleable__label-arrow:before {content: \"▾\";}#sk-container-id-1 div.sk-estimator input.sk-toggleable__control:checked~label.sk-toggleable__label {background-color: #d4ebff;}#sk-container-id-1 div.sk-label input.sk-toggleable__control:checked~label.sk-toggleable__label {background-color: #d4ebff;}#sk-container-id-1 input.sk-hidden--visually {border: 0;clip: rect(1px 1px 1px 1px);clip: rect(1px, 1px, 1px, 1px);height: 1px;margin: -1px;overflow: hidden;padding: 0;position: absolute;width: 1px;}#sk-container-id-1 div.sk-estimator {font-family: monospace;background-color: #f0f8ff;border: 1px dotted black;border-radius: 0.25em;box-sizing: border-box;margin-bottom: 0.5em;}#sk-container-id-1 div.sk-estimator:hover {background-color: #d4ebff;}#sk-container-id-1 div.sk-parallel-item::after {content: \"\";width: 100%;border-bottom: 1px solid gray;flex-grow: 1;}#sk-container-id-1 div.sk-label:hover label.sk-toggleable__label {background-color: #d4ebff;}#sk-container-id-1 div.sk-serial::before {content: \"\";position: absolute;border-left: 1px solid gray;box-sizing: border-box;top: 0;bottom: 0;left: 50%;z-index: 0;}#sk-container-id-1 div.sk-serial {display: flex;flex-direction: column;align-items: center;background-color: white;padding-right: 0.2em;padding-left: 0.2em;position: relative;}#sk-container-id-1 div.sk-item {position: relative;z-index: 1;}#sk-container-id-1 div.sk-parallel {display: flex;align-items: stretch;justify-content: center;background-color: white;position: relative;}#sk-container-id-1 div.sk-item::before, #sk-container-id-1 div.sk-parallel-item::before {content: \"\";position: absolute;border-left: 1px solid gray;box-sizing: border-box;top: 0;bottom: 0;left: 50%;z-index: -1;}#sk-container-id-1 div.sk-parallel-item {display: flex;flex-direction: column;z-index: 1;position: relative;background-color: white;}#sk-container-id-1 div.sk-parallel-item:first-child::after {align-self: flex-end;width: 50%;}#sk-container-id-1 div.sk-parallel-item:last-child::after {align-self: flex-start;width: 50%;}#sk-container-id-1 div.sk-parallel-item:only-child::after {width: 0;}#sk-container-id-1 div.sk-dashed-wrapped {border: 1px dashed gray;margin: 0 0.4em 0.5em 0.4em;box-sizing: border-box;padding-bottom: 0.4em;background-color: white;}#sk-container-id-1 div.sk-label label {font-family: monospace;font-weight: bold;display: inline-block;line-height: 1.2em;}#sk-container-id-1 div.sk-label-container {text-align: center;}#sk-container-id-1 div.sk-container {/* jupyter's `normalize.less` sets `[hidden] { display: none; }` but bootstrap.min.css set `[hidden] { display: none !important; }` so we also need the `!important` here to be able to override the default hidden behavior on the sphinx rendered scikit-learn.org. See: https://github.com/scikit-learn/scikit-learn/issues/21755 */display: inline-block !important;position: relative;}#sk-container-id-1 div.sk-text-repr-fallback {display: none;}</style><div id=\"sk-container-id-1\" class=\"sk-top-container\"><div class=\"sk-text-repr-fallback\"><pre>GridSearchCV(cv=5, estimator=DecisionTreeClassifier(), n_jobs=-1,\n",
       "             param_grid={&#x27;max_depth&#x27;: [2, 3, 4], &#x27;min_samples_split&#x27;: [6, 7]},\n",
       "             return_train_score=True)</pre><b>In a Jupyter environment, please rerun this cell to show the HTML representation or trust the notebook. <br />On GitHub, the HTML representation is unable to render, please try loading this page with nbviewer.org.</b></div><div class=\"sk-container\" hidden><div class=\"sk-item sk-dashed-wrapped\"><div class=\"sk-label-container\"><div class=\"sk-label sk-toggleable\"><input class=\"sk-toggleable__control sk-hidden--visually\" id=\"sk-estimator-id-1\" type=\"checkbox\" ><label for=\"sk-estimator-id-1\" class=\"sk-toggleable__label sk-toggleable__label-arrow\">GridSearchCV</label><div class=\"sk-toggleable__content\"><pre>GridSearchCV(cv=5, estimator=DecisionTreeClassifier(), n_jobs=-1,\n",
       "             param_grid={&#x27;max_depth&#x27;: [2, 3, 4], &#x27;min_samples_split&#x27;: [6, 7]},\n",
       "             return_train_score=True)</pre></div></div></div><div class=\"sk-parallel\"><div class=\"sk-parallel-item\"><div class=\"sk-item\"><div class=\"sk-label-container\"><div class=\"sk-label sk-toggleable\"><input class=\"sk-toggleable__control sk-hidden--visually\" id=\"sk-estimator-id-2\" type=\"checkbox\" ><label for=\"sk-estimator-id-2\" class=\"sk-toggleable__label sk-toggleable__label-arrow\">estimator: DecisionTreeClassifier</label><div class=\"sk-toggleable__content\"><pre>DecisionTreeClassifier()</pre></div></div></div><div class=\"sk-serial\"><div class=\"sk-item\"><div class=\"sk-estimator sk-toggleable\"><input class=\"sk-toggleable__control sk-hidden--visually\" id=\"sk-estimator-id-3\" type=\"checkbox\" ><label for=\"sk-estimator-id-3\" class=\"sk-toggleable__label sk-toggleable__label-arrow\">DecisionTreeClassifier</label><div class=\"sk-toggleable__content\"><pre>DecisionTreeClassifier()</pre></div></div></div></div></div></div></div></div></div></div>"
      ],
      "text/plain": [
       "GridSearchCV(cv=5, estimator=DecisionTreeClassifier(), n_jobs=-1,\n",
       "             param_grid={'max_depth': [2, 3, 4], 'min_samples_split': [6, 7]},\n",
       "             return_train_score=True)"
      ]
     },
     "execution_count": 13,
     "metadata": {},
     "output_type": "execute_result"
    }
   ],
   "source": [
    "# 데이터 학습 및 교차검증 진행\n",
    "g_dtc.fit(X_train, y_train)"
   ]
  },
  {
   "cell_type": "code",
   "execution_count": 14,
   "id": "1a7724dd-ecd6-4124-9cc4-559d63658a58",
   "metadata": {},
   "outputs": [
    {
     "data": {
      "text/plain": [
       "{'mean_fit_time': array([0.00211511, 0.00247865, 0.00240989, 0.003265  , 0.00173888,\n",
       "        0.00094967]),\n",
       " 'std_fit_time': array([0.00030715, 0.00036458, 0.00048204, 0.0018495 , 0.0004021 ,\n",
       "        0.00064221]),\n",
       " 'mean_score_time': array([0.00183821, 0.00184593, 0.00101361, 0.00106716, 0.00134592,\n",
       "        0.00091558]),\n",
       " 'std_score_time': array([7.26112384e-04, 3.83401112e-04, 2.63024863e-05, 1.30196193e-04,\n",
       "        3.90831117e-04, 5.02860413e-04]),\n",
       " 'param_max_depth': masked_array(data=[2, 2, 3, 3, 4, 4],\n",
       "              mask=[False, False, False, False, False, False],\n",
       "        fill_value='?',\n",
       "             dtype=object),\n",
       " 'param_min_samples_split': masked_array(data=[6, 7, 6, 7, 6, 7],\n",
       "              mask=[False, False, False, False, False, False],\n",
       "        fill_value='?',\n",
       "             dtype=object),\n",
       " 'params': [{'max_depth': 2, 'min_samples_split': 6},\n",
       "  {'max_depth': 2, 'min_samples_split': 7},\n",
       "  {'max_depth': 3, 'min_samples_split': 6},\n",
       "  {'max_depth': 3, 'min_samples_split': 7},\n",
       "  {'max_depth': 4, 'min_samples_split': 6},\n",
       "  {'max_depth': 4, 'min_samples_split': 7}],\n",
       " 'split0_test_score': array([1., 1., 1., 1., 1., 1.]),\n",
       " 'split1_test_score': array([0.95833333, 0.95833333, 1.        , 1.        , 1.        ,\n",
       "        1.        ]),\n",
       " 'split2_test_score': array([0.95833333, 0.95833333, 0.95833333, 0.95833333, 0.95833333,\n",
       "        0.95833333]),\n",
       " 'split3_test_score': array([1., 1., 1., 1., 1., 1.]),\n",
       " 'split4_test_score': array([0.95833333, 0.95833333, 1.        , 1.        , 1.        ,\n",
       "        1.        ]),\n",
       " 'mean_test_score': array([0.975     , 0.975     , 0.99166667, 0.99166667, 0.99166667,\n",
       "        0.99166667]),\n",
       " 'std_test_score': array([0.02041241, 0.02041241, 0.01666667, 0.01666667, 0.01666667,\n",
       "        0.01666667]),\n",
       " 'rank_test_score': array([5, 5, 1, 1, 1, 1]),\n",
       " 'split0_train_score': array([0.96875, 0.96875, 1.     , 1.     , 1.     , 1.     ]),\n",
       " 'split1_train_score': array([0.97916667, 0.97916667, 1.        , 1.        , 1.        ,\n",
       "        1.        ]),\n",
       " 'split2_train_score': array([0.97916667, 0.97916667, 1.        , 1.        , 1.        ,\n",
       "        1.        ]),\n",
       " 'split3_train_score': array([0.96875, 0.96875, 1.     , 1.     , 1.     , 1.     ]),\n",
       " 'split4_train_score': array([0.97916667, 0.97916667, 1.        , 1.        , 1.        ,\n",
       "        1.        ]),\n",
       " 'mean_train_score': array([0.975, 0.975, 1.   , 1.   , 1.   , 1.   ]),\n",
       " 'std_train_score': array([0.0051031, 0.0051031, 0.       , 0.       , 0.       , 0.       ])}"
      ]
     },
     "execution_count": 14,
     "metadata": {},
     "output_type": "execute_result"
    }
   ],
   "source": [
    "# 그리드 서치를 통해 얻은 결과 확인\n",
    "g_dtc.cv_results_"
   ]
  },
  {
   "cell_type": "code",
   "execution_count": 15,
   "id": "1abc660d-92a2-4a97-85a0-651cdfe595bb",
   "metadata": {},
   "outputs": [
    {
     "data": {
      "text/html": [
       "<div>\n",
       "<style scoped>\n",
       "    .dataframe tbody tr th:only-of-type {\n",
       "        vertical-align: middle;\n",
       "    }\n",
       "\n",
       "    .dataframe tbody tr th {\n",
       "        vertical-align: top;\n",
       "    }\n",
       "\n",
       "    .dataframe thead th {\n",
       "        text-align: right;\n",
       "    }\n",
       "</style>\n",
       "<table border=\"1\" class=\"dataframe\">\n",
       "  <thead>\n",
       "    <tr style=\"text-align: right;\">\n",
       "      <th></th>\n",
       "      <th>mean_fit_time</th>\n",
       "      <th>std_fit_time</th>\n",
       "      <th>mean_score_time</th>\n",
       "      <th>std_score_time</th>\n",
       "      <th>param_max_depth</th>\n",
       "      <th>param_min_samples_split</th>\n",
       "      <th>params</th>\n",
       "      <th>split0_test_score</th>\n",
       "      <th>split1_test_score</th>\n",
       "      <th>split2_test_score</th>\n",
       "      <th>...</th>\n",
       "      <th>mean_test_score</th>\n",
       "      <th>std_test_score</th>\n",
       "      <th>rank_test_score</th>\n",
       "      <th>split0_train_score</th>\n",
       "      <th>split1_train_score</th>\n",
       "      <th>split2_train_score</th>\n",
       "      <th>split3_train_score</th>\n",
       "      <th>split4_train_score</th>\n",
       "      <th>mean_train_score</th>\n",
       "      <th>std_train_score</th>\n",
       "    </tr>\n",
       "  </thead>\n",
       "  <tbody>\n",
       "    <tr>\n",
       "      <th>0</th>\n",
       "      <td>0.002115</td>\n",
       "      <td>0.000307</td>\n",
       "      <td>0.001838</td>\n",
       "      <td>0.000726</td>\n",
       "      <td>2</td>\n",
       "      <td>6</td>\n",
       "      <td>{'max_depth': 2, 'min_samples_split': 6}</td>\n",
       "      <td>1.0</td>\n",
       "      <td>0.958333</td>\n",
       "      <td>0.958333</td>\n",
       "      <td>...</td>\n",
       "      <td>0.975000</td>\n",
       "      <td>0.020412</td>\n",
       "      <td>5</td>\n",
       "      <td>0.96875</td>\n",
       "      <td>0.979167</td>\n",
       "      <td>0.979167</td>\n",
       "      <td>0.96875</td>\n",
       "      <td>0.979167</td>\n",
       "      <td>0.975</td>\n",
       "      <td>0.005103</td>\n",
       "    </tr>\n",
       "    <tr>\n",
       "      <th>1</th>\n",
       "      <td>0.002479</td>\n",
       "      <td>0.000365</td>\n",
       "      <td>0.001846</td>\n",
       "      <td>0.000383</td>\n",
       "      <td>2</td>\n",
       "      <td>7</td>\n",
       "      <td>{'max_depth': 2, 'min_samples_split': 7}</td>\n",
       "      <td>1.0</td>\n",
       "      <td>0.958333</td>\n",
       "      <td>0.958333</td>\n",
       "      <td>...</td>\n",
       "      <td>0.975000</td>\n",
       "      <td>0.020412</td>\n",
       "      <td>5</td>\n",
       "      <td>0.96875</td>\n",
       "      <td>0.979167</td>\n",
       "      <td>0.979167</td>\n",
       "      <td>0.96875</td>\n",
       "      <td>0.979167</td>\n",
       "      <td>0.975</td>\n",
       "      <td>0.005103</td>\n",
       "    </tr>\n",
       "    <tr>\n",
       "      <th>2</th>\n",
       "      <td>0.002410</td>\n",
       "      <td>0.000482</td>\n",
       "      <td>0.001014</td>\n",
       "      <td>0.000026</td>\n",
       "      <td>3</td>\n",
       "      <td>6</td>\n",
       "      <td>{'max_depth': 3, 'min_samples_split': 6}</td>\n",
       "      <td>1.0</td>\n",
       "      <td>1.000000</td>\n",
       "      <td>0.958333</td>\n",
       "      <td>...</td>\n",
       "      <td>0.991667</td>\n",
       "      <td>0.016667</td>\n",
       "      <td>1</td>\n",
       "      <td>1.00000</td>\n",
       "      <td>1.000000</td>\n",
       "      <td>1.000000</td>\n",
       "      <td>1.00000</td>\n",
       "      <td>1.000000</td>\n",
       "      <td>1.000</td>\n",
       "      <td>0.000000</td>\n",
       "    </tr>\n",
       "    <tr>\n",
       "      <th>3</th>\n",
       "      <td>0.003265</td>\n",
       "      <td>0.001850</td>\n",
       "      <td>0.001067</td>\n",
       "      <td>0.000130</td>\n",
       "      <td>3</td>\n",
       "      <td>7</td>\n",
       "      <td>{'max_depth': 3, 'min_samples_split': 7}</td>\n",
       "      <td>1.0</td>\n",
       "      <td>1.000000</td>\n",
       "      <td>0.958333</td>\n",
       "      <td>...</td>\n",
       "      <td>0.991667</td>\n",
       "      <td>0.016667</td>\n",
       "      <td>1</td>\n",
       "      <td>1.00000</td>\n",
       "      <td>1.000000</td>\n",
       "      <td>1.000000</td>\n",
       "      <td>1.00000</td>\n",
       "      <td>1.000000</td>\n",
       "      <td>1.000</td>\n",
       "      <td>0.000000</td>\n",
       "    </tr>\n",
       "    <tr>\n",
       "      <th>4</th>\n",
       "      <td>0.001739</td>\n",
       "      <td>0.000402</td>\n",
       "      <td>0.001346</td>\n",
       "      <td>0.000391</td>\n",
       "      <td>4</td>\n",
       "      <td>6</td>\n",
       "      <td>{'max_depth': 4, 'min_samples_split': 6}</td>\n",
       "      <td>1.0</td>\n",
       "      <td>1.000000</td>\n",
       "      <td>0.958333</td>\n",
       "      <td>...</td>\n",
       "      <td>0.991667</td>\n",
       "      <td>0.016667</td>\n",
       "      <td>1</td>\n",
       "      <td>1.00000</td>\n",
       "      <td>1.000000</td>\n",
       "      <td>1.000000</td>\n",
       "      <td>1.00000</td>\n",
       "      <td>1.000000</td>\n",
       "      <td>1.000</td>\n",
       "      <td>0.000000</td>\n",
       "    </tr>\n",
       "    <tr>\n",
       "      <th>5</th>\n",
       "      <td>0.000950</td>\n",
       "      <td>0.000642</td>\n",
       "      <td>0.000916</td>\n",
       "      <td>0.000503</td>\n",
       "      <td>4</td>\n",
       "      <td>7</td>\n",
       "      <td>{'max_depth': 4, 'min_samples_split': 7}</td>\n",
       "      <td>1.0</td>\n",
       "      <td>1.000000</td>\n",
       "      <td>0.958333</td>\n",
       "      <td>...</td>\n",
       "      <td>0.991667</td>\n",
       "      <td>0.016667</td>\n",
       "      <td>1</td>\n",
       "      <td>1.00000</td>\n",
       "      <td>1.000000</td>\n",
       "      <td>1.000000</td>\n",
       "      <td>1.00000</td>\n",
       "      <td>1.000000</td>\n",
       "      <td>1.000</td>\n",
       "      <td>0.000000</td>\n",
       "    </tr>\n",
       "  </tbody>\n",
       "</table>\n",
       "<p>6 rows × 22 columns</p>\n",
       "</div>"
      ],
      "text/plain": [
       "   mean_fit_time  std_fit_time  mean_score_time  std_score_time  \\\n",
       "0       0.002115      0.000307         0.001838        0.000726   \n",
       "1       0.002479      0.000365         0.001846        0.000383   \n",
       "2       0.002410      0.000482         0.001014        0.000026   \n",
       "3       0.003265      0.001850         0.001067        0.000130   \n",
       "4       0.001739      0.000402         0.001346        0.000391   \n",
       "5       0.000950      0.000642         0.000916        0.000503   \n",
       "\n",
       "  param_max_depth param_min_samples_split  \\\n",
       "0               2                       6   \n",
       "1               2                       7   \n",
       "2               3                       6   \n",
       "3               3                       7   \n",
       "4               4                       6   \n",
       "5               4                       7   \n",
       "\n",
       "                                     params  split0_test_score  \\\n",
       "0  {'max_depth': 2, 'min_samples_split': 6}                1.0   \n",
       "1  {'max_depth': 2, 'min_samples_split': 7}                1.0   \n",
       "2  {'max_depth': 3, 'min_samples_split': 6}                1.0   \n",
       "3  {'max_depth': 3, 'min_samples_split': 7}                1.0   \n",
       "4  {'max_depth': 4, 'min_samples_split': 6}                1.0   \n",
       "5  {'max_depth': 4, 'min_samples_split': 7}                1.0   \n",
       "\n",
       "   split1_test_score  split2_test_score  ...  mean_test_score  std_test_score  \\\n",
       "0           0.958333           0.958333  ...         0.975000        0.020412   \n",
       "1           0.958333           0.958333  ...         0.975000        0.020412   \n",
       "2           1.000000           0.958333  ...         0.991667        0.016667   \n",
       "3           1.000000           0.958333  ...         0.991667        0.016667   \n",
       "4           1.000000           0.958333  ...         0.991667        0.016667   \n",
       "5           1.000000           0.958333  ...         0.991667        0.016667   \n",
       "\n",
       "   rank_test_score  split0_train_score  split1_train_score  \\\n",
       "0                5             0.96875            0.979167   \n",
       "1                5             0.96875            0.979167   \n",
       "2                1             1.00000            1.000000   \n",
       "3                1             1.00000            1.000000   \n",
       "4                1             1.00000            1.000000   \n",
       "5                1             1.00000            1.000000   \n",
       "\n",
       "   split2_train_score  split3_train_score  split4_train_score  \\\n",
       "0            0.979167             0.96875            0.979167   \n",
       "1            0.979167             0.96875            0.979167   \n",
       "2            1.000000             1.00000            1.000000   \n",
       "3            1.000000             1.00000            1.000000   \n",
       "4            1.000000             1.00000            1.000000   \n",
       "5            1.000000             1.00000            1.000000   \n",
       "\n",
       "   mean_train_score  std_train_score  \n",
       "0             0.975         0.005103  \n",
       "1             0.975         0.005103  \n",
       "2             1.000         0.000000  \n",
       "3             1.000         0.000000  \n",
       "4             1.000         0.000000  \n",
       "5             1.000         0.000000  \n",
       "\n",
       "[6 rows x 22 columns]"
      ]
     },
     "execution_count": 15,
     "metadata": {},
     "output_type": "execute_result"
    }
   ],
   "source": [
    "# 데이터 프레임으로 변환하여 확인\n",
    "result_df = pd.DataFrame(g_dtc.cv_results_)\n",
    "result_df"
   ]
  },
  {
   "cell_type": "code",
   "execution_count": 16,
   "id": "bf3c72de-9ffe-408b-b037-c28236cc57bd",
   "metadata": {},
   "outputs": [
    {
     "name": "stdout",
     "output_type": "stream",
     "text": [
      "{'max_depth': 3, 'min_samples_split': 6}\n",
      "0.9916666666666668\n"
     ]
    }
   ],
   "source": [
    "# g_dtc.best_params_: 최적의 하이퍼파라미터 조합을 나타내는 딕셔너리\n",
    "# g_dtc.best_score_: 해당 하이퍼파라미터 조합에 대한 평균 테스트 점수\n",
    "print(g_dtc.best_params_,g_dtc.best_score_, sep=\"\\n\")"
   ]
  },
  {
   "cell_type": "code",
   "execution_count": 17,
   "id": "5ec252ad-dac0-40a1-be08-9fa0a9f7b21e",
   "metadata": {},
   "outputs": [
    {
     "data": {
      "text/html": [
       "<style>#sk-container-id-2 {color: black;background-color: white;}#sk-container-id-2 pre{padding: 0;}#sk-container-id-2 div.sk-toggleable {background-color: white;}#sk-container-id-2 label.sk-toggleable__label {cursor: pointer;display: block;width: 100%;margin-bottom: 0;padding: 0.3em;box-sizing: border-box;text-align: center;}#sk-container-id-2 label.sk-toggleable__label-arrow:before {content: \"▸\";float: left;margin-right: 0.25em;color: #696969;}#sk-container-id-2 label.sk-toggleable__label-arrow:hover:before {color: black;}#sk-container-id-2 div.sk-estimator:hover label.sk-toggleable__label-arrow:before {color: black;}#sk-container-id-2 div.sk-toggleable__content {max-height: 0;max-width: 0;overflow: hidden;text-align: left;background-color: #f0f8ff;}#sk-container-id-2 div.sk-toggleable__content pre {margin: 0.2em;color: black;border-radius: 0.25em;background-color: #f0f8ff;}#sk-container-id-2 input.sk-toggleable__control:checked~div.sk-toggleable__content {max-height: 200px;max-width: 100%;overflow: auto;}#sk-container-id-2 input.sk-toggleable__control:checked~label.sk-toggleable__label-arrow:before {content: \"▾\";}#sk-container-id-2 div.sk-estimator input.sk-toggleable__control:checked~label.sk-toggleable__label {background-color: #d4ebff;}#sk-container-id-2 div.sk-label input.sk-toggleable__control:checked~label.sk-toggleable__label {background-color: #d4ebff;}#sk-container-id-2 input.sk-hidden--visually {border: 0;clip: rect(1px 1px 1px 1px);clip: rect(1px, 1px, 1px, 1px);height: 1px;margin: -1px;overflow: hidden;padding: 0;position: absolute;width: 1px;}#sk-container-id-2 div.sk-estimator {font-family: monospace;background-color: #f0f8ff;border: 1px dotted black;border-radius: 0.25em;box-sizing: border-box;margin-bottom: 0.5em;}#sk-container-id-2 div.sk-estimator:hover {background-color: #d4ebff;}#sk-container-id-2 div.sk-parallel-item::after {content: \"\";width: 100%;border-bottom: 1px solid gray;flex-grow: 1;}#sk-container-id-2 div.sk-label:hover label.sk-toggleable__label {background-color: #d4ebff;}#sk-container-id-2 div.sk-serial::before {content: \"\";position: absolute;border-left: 1px solid gray;box-sizing: border-box;top: 0;bottom: 0;left: 50%;z-index: 0;}#sk-container-id-2 div.sk-serial {display: flex;flex-direction: column;align-items: center;background-color: white;padding-right: 0.2em;padding-left: 0.2em;position: relative;}#sk-container-id-2 div.sk-item {position: relative;z-index: 1;}#sk-container-id-2 div.sk-parallel {display: flex;align-items: stretch;justify-content: center;background-color: white;position: relative;}#sk-container-id-2 div.sk-item::before, #sk-container-id-2 div.sk-parallel-item::before {content: \"\";position: absolute;border-left: 1px solid gray;box-sizing: border-box;top: 0;bottom: 0;left: 50%;z-index: -1;}#sk-container-id-2 div.sk-parallel-item {display: flex;flex-direction: column;z-index: 1;position: relative;background-color: white;}#sk-container-id-2 div.sk-parallel-item:first-child::after {align-self: flex-end;width: 50%;}#sk-container-id-2 div.sk-parallel-item:last-child::after {align-self: flex-start;width: 50%;}#sk-container-id-2 div.sk-parallel-item:only-child::after {width: 0;}#sk-container-id-2 div.sk-dashed-wrapped {border: 1px dashed gray;margin: 0 0.4em 0.5em 0.4em;box-sizing: border-box;padding-bottom: 0.4em;background-color: white;}#sk-container-id-2 div.sk-label label {font-family: monospace;font-weight: bold;display: inline-block;line-height: 1.2em;}#sk-container-id-2 div.sk-label-container {text-align: center;}#sk-container-id-2 div.sk-container {/* jupyter's `normalize.less` sets `[hidden] { display: none; }` but bootstrap.min.css set `[hidden] { display: none !important; }` so we also need the `!important` here to be able to override the default hidden behavior on the sphinx rendered scikit-learn.org. See: https://github.com/scikit-learn/scikit-learn/issues/21755 */display: inline-block !important;position: relative;}#sk-container-id-2 div.sk-text-repr-fallback {display: none;}</style><div id=\"sk-container-id-2\" class=\"sk-top-container\"><div class=\"sk-text-repr-fallback\"><pre>DecisionTreeClassifier(max_depth=3, min_samples_split=6)</pre><b>In a Jupyter environment, please rerun this cell to show the HTML representation or trust the notebook. <br />On GitHub, the HTML representation is unable to render, please try loading this page with nbviewer.org.</b></div><div class=\"sk-container\" hidden><div class=\"sk-item\"><div class=\"sk-estimator sk-toggleable\"><input class=\"sk-toggleable__control sk-hidden--visually\" id=\"sk-estimator-id-4\" type=\"checkbox\" checked><label for=\"sk-estimator-id-4\" class=\"sk-toggleable__label sk-toggleable__label-arrow\">DecisionTreeClassifier</label><div class=\"sk-toggleable__content\"><pre>DecisionTreeClassifier(max_depth=3, min_samples_split=6)</pre></div></div></div></div></div>"
      ],
      "text/plain": [
       "DecisionTreeClassifier(max_depth=3, min_samples_split=6)"
      ]
     },
     "execution_count": 17,
     "metadata": {},
     "output_type": "execute_result"
    }
   ],
   "source": [
    "# g_dtc.best_estimator_는 그리드 서치를 통해 찾은 최적의 모델(추정기)\n",
    "g_dtc.best_estimator_"
   ]
  },
  {
   "cell_type": "code",
   "execution_count": 18,
   "id": "050b2d19-a598-43fd-9e2c-1afcbefd2a9d",
   "metadata": {},
   "outputs": [
    {
     "data": {
      "text/plain": [
       "0.9"
      ]
     },
     "execution_count": 18,
     "metadata": {},
     "output_type": "execute_result"
    }
   ],
   "source": [
    "# 학습된 모델 담기\n",
    "dtc = g_dtc.best_estimator_\n",
    "# 예측 수행하여 결과 담기\n",
    "prediction = dtc.predict(X_test)\n",
    "# 평가 진행하여 정확도 확인\n",
    "accuracy_score(y_test, prediction)"
   ]
  }
 ],
 "metadata": {
  "kernelspec": {
   "display_name": "Python 3 (ipykernel)",
   "language": "python",
   "name": "python3"
  },
  "language_info": {
   "codemirror_mode": {
    "name": "ipython",
    "version": 3
   },
   "file_extension": ".py",
   "mimetype": "text/x-python",
   "name": "python",
   "nbconvert_exporter": "python",
   "pygments_lexer": "ipython3",
   "version": "3.11.8"
  }
 },
 "nbformat": 4,
 "nbformat_minor": 5
}
