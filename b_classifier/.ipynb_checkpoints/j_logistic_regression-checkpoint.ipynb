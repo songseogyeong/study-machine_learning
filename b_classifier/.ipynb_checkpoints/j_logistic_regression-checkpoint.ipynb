{
 "cells": [
  {
   "cell_type": "markdown",
   "id": "7e17b2b3-a0e6-4092-b153-6f3e1fa6a99f",
   "metadata": {},
   "source": [
    "### 로지스틱 회귀 (Logistic Regression)\n",
    "\n",
    "- 독립 변수의 선형 결합(선형 회귀)을 이용하여 이진 분류 사건의 발생 가능성을 예측하는데 사용되는 통계기법이다.\n",
    "\n",
    "<div style=\"display: flex; justify-content: space-between; width: 1000px;\">\n",
    "    <table style=\"margin-left: 20px; text-align: center; border: 1px solid #eee; width: 500px;\">\n",
    "        <tr>\n",
    "            <th>노는 시간 - 공부 시간 (x)</th>\n",
    "            <th>합격 여부 (y)</th>\n",
    "        </tr>\n",
    "        <tr>\n",
    "            <td>-4</td>\n",
    "            <td>0</td>\n",
    "        </tr>\n",
    "        <tr>\n",
    "            <td>-2</td>\n",
    "            <td>0</td>\n",
    "        </tr>\n",
    "        <tr>\n",
    "            <td>2</td>\n",
    "            <td>1</td>\n",
    "        </tr>\n",
    "        <tr>\n",
    "            <td>4</td>\n",
    "            <td>1</td>\n",
    "        </tr>\n",
    "    </table>  \n",
    "    <div style=\"width: 400px\">\n",
    "        <img src=\"./images/logistic_regression_train.png\">\n",
    "        <br><br><br>\n",
    "        <img src=\"./images/linear_combination.png\">\n",
    "    </div>\n",
    "</div>  "
   ]
  },
  {
   "cell_type": "code",
   "execution_count": 1,
   "id": "218eb8ec-da24-4ea6-950a-3828ecb181d7",
   "metadata": {},
   "outputs": [
    {
     "name": "stdout",
     "output_type": "stream",
     "text": [
      "tensor([[-4.],\n",
      "        [-2.],\n",
      "        [ 2.],\n",
      "        [ 4.]])\n",
      "tensor([[0.],\n",
      "        [0.],\n",
      "        [1.],\n",
      "        [1.]])\n"
     ]
    }
   ],
   "source": [
    "import torch\n",
    "\n",
    "X_train = torch.FloatTensor([[-4], [-2], [2], [4]])\n",
    "y_train = torch.FloatTensor([[0], [0], [1], [1]])\n",
    "\n",
    "print(X_train, y_train, sep='\\n')"
   ]
  },
  {
   "cell_type": "code",
   "execution_count": 5,
   "id": "0aee324e-d826-4d00-baf9-10984d0b4039",
   "metadata": {},
   "outputs": [
    {
     "data": {
      "image/png": "[encoded data removed]",
      "text/plain": [
       "<Figure size 640x480 with 1 Axes>"
      ]
     },
     "metadata": {},
     "output_type": "display_data"
    }
   ],
   "source": [
    "import matplotlib.pyplot as plt\n",
    "\n",
    "plt.rcParams['font.family'] = 'Malgun Gothic'\n",
    "plt.rcParams['axes.unicode_minus'] = False\n",
    "\n",
    "plt.scatter(X_train, y_train)\n",
    "plt.plot(X_train, y_train, color=\"red\")\n",
    "plt.grid(visible=True, linestyle='--')\n",
    "plt.title('공부 시간에 따른 합격 여부')\n",
    "plt.show()"
   ]
  },
  {
   "cell_type": "markdown",
   "id": "cd0da25f-2ef3-4678-81fd-921dcb499b93",
   "metadata": {},
   "source": [
    "- 위와 같은 데이터에 직선을 사용하게 되면, 오차가 너무 크게 생긴다.\n",
    "- 기존의 가설을 S모양 그래프로 만들 수 있는 함수로 감싸주어야 하고, 이 f함수는 시그모이드 함수이다(시그모이드 함수를 가설로 사용하자).\n",
    "- 따라서, 로지스틱 회귀에서는 아래와 같은 가설을 사용하게 된다.\n",
    "\n",
    "<img src=\"./images/logistic_h.png\" style=\"margin-left: 25px;\">  \n",
    "<img src=\"./images/logistic_sigmoid.png\" style=\"margin-left: 25px;\">"
   ]
  },
  {
   "cell_type": "code",
   "execution_count": null,
   "id": "2eb69b38-963a-4067-ae43-8007fdcf26c5",
   "metadata": {},
   "outputs": [],
   "source": []
  },
  {
   "cell_type": "markdown",
   "id": "9275c4b5-9ef6-4e4c-8326-6e7a1e5a7a6d",
   "metadata": {},
   "source": [
    "- 위에서 확인할 수 있듯이, W는 기울기가 아니라 경사도를 결정하게 된다. 즉, W가 커지면 경사가 높아지고 작아지면 경사가 낮아진다.\n",
    "- b는 커질 수록 왼쪽으로 이동하고, 작아질 수록 오른쪽으로 이동한다.\n",
    "- MSE(평균 제곱 오차) 수식을 통해 경사도와 오차에 대한 그래프를 그리고 미분을 진행하면 다음과 같다.\n",
    "\n",
    "<img src=\"./images/regression_loss_function01.png\" style=\"margin-left: 20px;\">\n",
    "<img src=\"./images/sigmoid_gradient_descent01.png\" style=\"margin-left: 20px;\">\n",
    "\n",
    "- 경사 하강법을 통해 오차가 최소로 되는 곳에 도착해도 해당 부분이 최소가 아닐 수 있기 때문에(로컬 미니엄),  \n",
    "  실제 최소가 되는 곳(글로벌 미니멈)까지 가야한다. 이는 많은 기술을 요하므로 다른 loss function을 고려해봐야 한다.\n",
    "\n",
    "---\n",
    "\n",
    "- 아래 그래프는 y = 0.5에 대칭하는 log 함수이다.\n",
    "\n",
    "<img src=\"./images/sigmoid_gradient_descent02.png\" style=\"margin-left: 20px;\">\n",
    "\n",
    "- 실제값이 0일 때 예측값이 1에 가까워지면 loss가 점점 커지고, 실제값이 1일 때 예측값이 0에 수렴해도 loss가 점점 커진다.\n",
    "- 위 로그 함수를 수식으로 나타내면 다음과 같다.\n",
    "\n",
    "<img src=\"./images/sigmoid_gradient_descent03.png\" style=\"margin-left: 20px;\">\n",
    "\n",
    "- 위 식을 통해 W에 대한 loss function을 구하는 식은 아래와 같다.\n",
    "\n",
    "<img src=\"./images/sigmoid_gradient_descent04.png\" style=\"margin-left: 20px;\">\n",
    "\n",
    "- 실제값 y와 예측값 H(x)의 차이가 커질 수록 loss 값이 커지고 차이가 작아지면 loss 값이 작아진다.  \n",
    "  위의 loss function에 대해서 경사 하강법을 수행하며 죄적의 경사도(W)를 찾아간다.\n",
    "\n",
    "<img src=\"./images/sigmoid_gradient_descent05.png\" style=\"margin-left: 20px;\">"
   ]
  },
  {
   "cell_type": "code",
   "execution_count": null,
   "id": "34058bbe-afdc-47ab-bea6-b2a4dfb0e8f6",
   "metadata": {},
   "outputs": [],
   "source": []
  },
  {
   "cell_type": "code",
   "execution_count": null,
   "id": "d1d51f9b-ee00-44eb-9221-ce8c912d2a91",
   "metadata": {},
   "outputs": [],
   "source": []
  },
  {
   "cell_type": "code",
   "execution_count": null,
   "id": "7d4bcbf8-b9c1-40b0-9e8f-64a103492d4b",
   "metadata": {},
   "outputs": [],
   "source": []
  },
  {
   "cell_type": "code",
   "execution_count": null,
   "id": "247a6609-3072-4d81-88ca-14092f4e875e",
   "metadata": {},
   "outputs": [],
   "source": []
  },
  {
   "cell_type": "code",
   "execution_count": null,
   "id": "6ced8891-ab1d-4d60-b7e3-3a6fb4099ec9",
   "metadata": {},
   "outputs": [],
   "source": []
  },
  {
   "cell_type": "code",
   "execution_count": null,
   "id": "bc19fda1-fad2-423a-9286-c51eb603e8e1",
   "metadata": {},
   "outputs": [],
   "source": []
  }
 ],
 "metadata": {
  "kernelspec": {
   "display_name": "Python 3 (ipykernel)",
   "language": "python",
   "name": "python3"
  },
  "language_info": {
   "codemirror_mode": {
    "name": "ipython",
    "version": 3
   },
   "file_extension": ".py",
   "mimetype": "text/x-python",
   "name": "python",
   "nbconvert_exporter": "python",
   "pygments_lexer": "ipython3",
   "version": "3.11.8"
  }
 },
 "nbformat": 4,
 "nbformat_minor": 5
}
