{
 "cells": [
  {
   "cell_type": "markdown",
   "id": "0ea8b574-7eae-4486-9202-e3a166ed6bb2",
   "metadata": {},
   "source": [
    "### 베이즈 추론, 베이즈 정리, 베이즈 추정 (Bayesian Inference)\n",
    "- 역확률(inverse probability) 문제를 해결하기 위한 방법으로서, 조건부 확률(P(B|A)))을 알고 있을 때, 정반대인 조건부 확률(P(A|B))을 구하는 방법이다.\n",
    "- 추론 대상의 사전 확률과 추가적인 정보를 기반으로 해당 대상의 \"사후 확률\"을 추론하는 통계적 방법이다.\n",
    "- 어떤 사건이 서로 \"배반\"하는(독립하는) 원인 둘에 의해 일어난다고 하면, 실제 사건이 일어났을 때 이 사건이 두 원인 중 하나일 확률을 구하는 방식이다.\n",
    "- 어떤 상황에서 N개의 원인이 있을 때, 실제 사건이 발생하면 N개 중 한 가지 원인일 확률을 구하는 방법이다.\n",
    "- 기존 사건들의 확률을 알 수 없을 때, 전혀 사용할 수 없는 방식이다.\n",
    "- 하지만, 그 간 데이터가 쌓이면서, 기존 사건들의 확률을 대략적으로 뽑아낼 수 있게 되었다.\n",
    "- 이로 인해, 사회적 통계나 주식에서 베이즈 정리 활용이 필수로 꼽히고 있다.  \n",
    "\n",
    "> ##### 예시\n",
    "질병 A의 양성판정 정확도가 80%인 검사기가 있다. 검사를 시행해서 양성이 나왔다면, 이 사람이 80%의 확률로 병에 걸렸다고 이야기할 수 없다.  \n",
    "왜냐하면, 검사기가 알려주는 확률과 양성일 경우 질병을 앓고 있을 확률은 조건부 확률의 의미에서 정반대이기 때문이다.  \n",
    "<table style=\"width:50%; margin-left: 50px\">\n",
    "    <tr>\n",
    "        <th>전제</th>\n",
    "        <th>관심 사건</th>\n",
    "        <th>확률</th>\n",
    "    </tr>\n",
    "    <tr>\n",
    "        <th>병을 앓고 있다</th>\n",
    "        <th>양성이다</th>\n",
    "        <th>80%</th>\n",
    "    </tr>\n",
    "    <tr>\n",
    "        <th>양성이다</th>\n",
    "        <th>병을 앓고 있다</th>\n",
    "        <th>알수 없음</th>\n",
    "    </tr>\n",
    "</table>  \n",
    "\n",
    "> 이런 식의 확률을 구해야 하는 문제를 역확률 문제라고 하고 이를 베이즈 추론을 활용하여 구할 수 있다.  \n",
    "단, 검사 대상인 질병의 유병률(사전 확률, 기존 사건들의 확률)을 알고 있어야 한다.  \n",
    "전세계 인구 중 10%의 사람들이 질병 A를 앓는다고 가정한다.\n",
    "\n",
    "\n",
    "<div style=\"width: 60%; display:flex; margin-top: -20px; margin-left:30px\">\n",
    "    <div>\n",
    "        <img src=\"./images/bayesian_inference01.png\" width=\"300\" style=\"margin-top:20px; margin-left:0\">\n",
    "    </div>\n",
    "    <div style=\"margin-top: 28px; margin-left: 20px\">\n",
    "        <img src=\"./images/bayesian_inference02.png\" width=\"310\" style=\"margin-top:20px; margin-left:0\">\n",
    "    </div>\n",
    "</div>  \n",
    "\n",
    "<div style=\"width: 60%; display:flex; margin-left:30px\">\n",
    "    <div>\n",
    "        <img src=\"./images/bayesian_inference03.png\" width=\"800\" style=\"margin-top:20px; margin-left:0\">\n",
    "    </div>\n",
    "    <div style=\"margin-top: 28px; margin-left: 20px\">\n",
    "        <img src=\"./images/bayesian_inference04.png\" width=\"550\" style=\"margin-top:-8px; margin-left:0\">\n",
    "    </div>\n",
    "</div>  \n",
    "\n",
    "> 🚩결과: 약 30.8%\n",
    "<img src=\"./images/bayesian_inference05.png\" width=\"200\" style=\"margin-top:20px; margin-left:0\">"
   ]
  },
  {
   "cell_type": "markdown",
   "id": "0d2a3a1c-4086-4774-a85b-12135c56ca7d",
   "metadata": {},
   "source": [
    "### 나이브 베이즈 분류 (Naive Bayes Classifier)\n",
    "- 텍스트 분류를 위해 전통적으로 사용되는 분류기로서, 분류에 있어서 준수한 성능을 보인다.\n",
    "- 베이즈 정리에 기반한 통계적 분류 기법으로서, 정확성도 높고 대용량 데이터에 대한 속도도 빠르다.\n",
    "- 반드시 모든 feature가 서로 독립적이여야 한다. 즉, 서로 영향을 미치지 않는 feature들로 구성되어야 한다.\n",
    "- 감정 분석, 스팸 메일 필터링, 텍스트 분류, 추천 시스템 등 여러 서비스에서 활용되는 분류 기법이다.\n",
    "- 빠르고 정확하고 간단한 분류 방법이지만, 실제 데이터에서  \n",
    "  모든 feature가 독립적인 경우는 드물기 때문에 실생활에 적용하기 어려운 점이 있다.\n",
    "\n",
    "<img src=\"./images/naive_bayes_classifier.png\" width=\"400px\">"
   ]
  },
  {
   "cell_type": "markdown",
   "id": "de273246-1b56-42ad-a441-3c4ad95a8270",
   "metadata": {},
   "source": [
    "#### 스팸 메일 분류"
   ]
  },
  {
   "cell_type": "code",
   "execution_count": 1,
   "id": "112ae4fd-a324-4182-bd1b-08ee55e607a0",
   "metadata": {},
   "outputs": [],
   "source": [
    "import pandas as pd"
   ]
  },
  {
   "cell_type": "code",
   "execution_count": 2,
   "id": "c65919db-31e5-4497-afc9-50b4a392b566",
   "metadata": {},
   "outputs": [
    {
     "data": {
      "text/html": [
       "<div>\n",
       "<style scoped>\n",
       "    .dataframe tbody tr th:only-of-type {\n",
       "        vertical-align: middle;\n",
       "    }\n",
       "\n",
       "    .dataframe tbody tr th {\n",
       "        vertical-align: top;\n",
       "    }\n",
       "\n",
       "    .dataframe thead th {\n",
       "        text-align: right;\n",
       "    }\n",
       "</style>\n",
       "<table border=\"1\" class=\"dataframe\">\n",
       "  <thead>\n",
       "    <tr style=\"text-align: right;\">\n",
       "      <th></th>\n",
       "      <th>Category</th>\n",
       "      <th>Message</th>\n",
       "    </tr>\n",
       "  </thead>\n",
       "  <tbody>\n",
       "    <tr>\n",
       "      <th>0</th>\n",
       "      <td>ham</td>\n",
       "      <td>Go until jurong point, crazy.. Available only ...</td>\n",
       "    </tr>\n",
       "    <tr>\n",
       "      <th>1</th>\n",
       "      <td>ham</td>\n",
       "      <td>Ok lar... Joking wif u oni...</td>\n",
       "    </tr>\n",
       "    <tr>\n",
       "      <th>2</th>\n",
       "      <td>spam</td>\n",
       "      <td>Free entry in 2 a wkly comp to win FA Cup fina...</td>\n",
       "    </tr>\n",
       "    <tr>\n",
       "      <th>3</th>\n",
       "      <td>ham</td>\n",
       "      <td>U dun say so early hor... U c already then say...</td>\n",
       "    </tr>\n",
       "    <tr>\n",
       "      <th>4</th>\n",
       "      <td>ham</td>\n",
       "      <td>Nah I don't think he goes to usf, he lives aro...</td>\n",
       "    </tr>\n",
       "    <tr>\n",
       "      <th>...</th>\n",
       "      <td>...</td>\n",
       "      <td>...</td>\n",
       "    </tr>\n",
       "    <tr>\n",
       "      <th>5567</th>\n",
       "      <td>spam</td>\n",
       "      <td>This is the 2nd time we have tried 2 contact u...</td>\n",
       "    </tr>\n",
       "    <tr>\n",
       "      <th>5568</th>\n",
       "      <td>ham</td>\n",
       "      <td>Will ü b going to esplanade fr home?</td>\n",
       "    </tr>\n",
       "    <tr>\n",
       "      <th>5569</th>\n",
       "      <td>ham</td>\n",
       "      <td>Pity, * was in mood for that. So...any other s...</td>\n",
       "    </tr>\n",
       "    <tr>\n",
       "      <th>5570</th>\n",
       "      <td>ham</td>\n",
       "      <td>The guy did some bitching but I acted like i'd...</td>\n",
       "    </tr>\n",
       "    <tr>\n",
       "      <th>5571</th>\n",
       "      <td>ham</td>\n",
       "      <td>Rofl. Its true to its name</td>\n",
       "    </tr>\n",
       "  </tbody>\n",
       "</table>\n",
       "<p>5572 rows × 2 columns</p>\n",
       "</div>"
      ],
      "text/plain": [
       "     Category                                            Message\n",
       "0         ham  Go until jurong point, crazy.. Available only ...\n",
       "1         ham                      Ok lar... Joking wif u oni...\n",
       "2        spam  Free entry in 2 a wkly comp to win FA Cup fina...\n",
       "3         ham  U dun say so early hor... U c already then say...\n",
       "4         ham  Nah I don't think he goes to usf, he lives aro...\n",
       "...       ...                                                ...\n",
       "5567     spam  This is the 2nd time we have tried 2 contact u...\n",
       "5568      ham               Will ü b going to esplanade fr home?\n",
       "5569      ham  Pity, * was in mood for that. So...any other s...\n",
       "5570      ham  The guy did some bitching but I acted like i'd...\n",
       "5571      ham                         Rofl. Its true to its name\n",
       "\n",
       "[5572 rows x 2 columns]"
      ]
     },
     "execution_count": 2,
     "metadata": {},
     "output_type": "execute_result"
    }
   ],
   "source": [
    "# 데이터 호출\n",
    "spam_df = pd.read_csv('./datasets/spam.csv')\n",
    "spam_df"
   ]
  },
  {
   "cell_type": "markdown",
   "id": "ed1dcc6a-a55d-4098-b759-7e8021675c50",
   "metadata": {},
   "source": [
    "### Ⅰ. 데이터 탐색"
   ]
  },
  {
   "cell_type": "markdown",
   "id": "e66cfcb6-8bc2-4171-b218-bed2382d9bb3",
   "metadata": {},
   "source": [
    "#### 📊 데이터 정보 확인"
   ]
  },
  {
   "cell_type": "code",
   "execution_count": 3,
   "id": "792355c5-b482-420e-86cf-1dd6696f112c",
   "metadata": {},
   "outputs": [
    {
     "name": "stdout",
     "output_type": "stream",
     "text": [
      "<class 'pandas.core.frame.DataFrame'>\n",
      "RangeIndex: 5572 entries, 0 to 5571\n",
      "Data columns (total 2 columns):\n",
      " #   Column    Non-Null Count  Dtype \n",
      "---  ------    --------------  ----- \n",
      " 0   Category  5572 non-null   object\n",
      " 1   Message   5572 non-null   object\n",
      "dtypes: object(2)\n",
      "memory usage: 87.2+ KB\n"
     ]
    }
   ],
   "source": [
    "# 데이터 정보 확인\n",
    "spam_df.info()"
   ]
  },
  {
   "cell_type": "markdown",
   "id": "1416446c-4115-4e88-8846-96f276786a12",
   "metadata": {},
   "source": [
    "#### 📊 데이터 결측치 확인"
   ]
  },
  {
   "cell_type": "code",
   "execution_count": 4,
   "id": "3c920588-df54-454e-8f20-4d4233c5ea80",
   "metadata": {},
   "outputs": [
    {
     "data": {
      "text/plain": [
       "Category    0\n",
       "Message     0\n",
       "dtype: int64"
      ]
     },
     "execution_count": 4,
     "metadata": {},
     "output_type": "execute_result"
    }
   ],
   "source": [
    "# 데이터 결측치 확인\n",
    "spam_df.isna().sum()"
   ]
  },
  {
   "cell_type": "markdown",
   "id": "2bd23a5f-0cf7-471f-a467-273f1b856ea0",
   "metadata": {},
   "source": [
    "### Ⅱ. 데이터 전처리"
   ]
  },
  {
   "cell_type": "markdown",
   "id": "1d89cae9-04ba-4552-9789-b0719bcba60f",
   "metadata": {},
   "source": [
    "#### 📊 문자열 형변환"
   ]
  },
  {
   "cell_type": "code",
   "execution_count": 5,
   "id": "04de4ae1-ad41-413f-812e-5f004c7b994c",
   "metadata": {},
   "outputs": [],
   "source": [
    "from sklearn.preprocessing import LabelEncoder\n",
    "\n",
    "# 인코더 매소드 담기\n",
    "spam_encoder = LabelEncoder()\n",
    "# 문자열 타겟을 숫자로 인코딩\n",
    "targets = spam_encoder.fit_transform(spam_df.loc[:, 'Category'])\n",
    "# 인코딩 된 데이터로 교체\n",
    "spam_df['Target'] = targets"
   ]
  },
  {
   "cell_type": "code",
   "execution_count": 6,
   "id": "6db08849-1f0a-4e33-96a2-4cec49c20876",
   "metadata": {},
   "outputs": [],
   "source": [
    "# 데이터 프레임 복제\n",
    "spam_co_df = spam_df.copy()\n",
    "# 사용이 완료된 피처 제거\n",
    "spam_co_df = spam_df.drop(labels=['Category'], axis=1)"
   ]
  },
  {
   "cell_type": "code",
   "execution_count": 7,
   "id": "d70a8254-da4d-417a-a223-8bc1fd51f031",
   "metadata": {},
   "outputs": [
    {
     "data": {
      "text/html": [
       "<div>\n",
       "<style scoped>\n",
       "    .dataframe tbody tr th:only-of-type {\n",
       "        vertical-align: middle;\n",
       "    }\n",
       "\n",
       "    .dataframe tbody tr th {\n",
       "        vertical-align: top;\n",
       "    }\n",
       "\n",
       "    .dataframe thead th {\n",
       "        text-align: right;\n",
       "    }\n",
       "</style>\n",
       "<table border=\"1\" class=\"dataframe\">\n",
       "  <thead>\n",
       "    <tr style=\"text-align: right;\">\n",
       "      <th></th>\n",
       "      <th>Message</th>\n",
       "      <th>Target</th>\n",
       "    </tr>\n",
       "  </thead>\n",
       "  <tbody>\n",
       "    <tr>\n",
       "      <th>0</th>\n",
       "      <td>Go until jurong point, crazy.. Available only ...</td>\n",
       "      <td>0</td>\n",
       "    </tr>\n",
       "    <tr>\n",
       "      <th>1</th>\n",
       "      <td>Ok lar... Joking wif u oni...</td>\n",
       "      <td>0</td>\n",
       "    </tr>\n",
       "    <tr>\n",
       "      <th>2</th>\n",
       "      <td>Free entry in 2 a wkly comp to win FA Cup fina...</td>\n",
       "      <td>1</td>\n",
       "    </tr>\n",
       "    <tr>\n",
       "      <th>3</th>\n",
       "      <td>U dun say so early hor... U c already then say...</td>\n",
       "      <td>0</td>\n",
       "    </tr>\n",
       "    <tr>\n",
       "      <th>4</th>\n",
       "      <td>Nah I don't think he goes to usf, he lives aro...</td>\n",
       "      <td>0</td>\n",
       "    </tr>\n",
       "    <tr>\n",
       "      <th>...</th>\n",
       "      <td>...</td>\n",
       "      <td>...</td>\n",
       "    </tr>\n",
       "    <tr>\n",
       "      <th>5567</th>\n",
       "      <td>This is the 2nd time we have tried 2 contact u...</td>\n",
       "      <td>1</td>\n",
       "    </tr>\n",
       "    <tr>\n",
       "      <th>5568</th>\n",
       "      <td>Will ü b going to esplanade fr home?</td>\n",
       "      <td>0</td>\n",
       "    </tr>\n",
       "    <tr>\n",
       "      <th>5569</th>\n",
       "      <td>Pity, * was in mood for that. So...any other s...</td>\n",
       "      <td>0</td>\n",
       "    </tr>\n",
       "    <tr>\n",
       "      <th>5570</th>\n",
       "      <td>The guy did some bitching but I acted like i'd...</td>\n",
       "      <td>0</td>\n",
       "    </tr>\n",
       "    <tr>\n",
       "      <th>5571</th>\n",
       "      <td>Rofl. Its true to its name</td>\n",
       "      <td>0</td>\n",
       "    </tr>\n",
       "  </tbody>\n",
       "</table>\n",
       "<p>5572 rows × 2 columns</p>\n",
       "</div>"
      ],
      "text/plain": [
       "                                                Message  Target\n",
       "0     Go until jurong point, crazy.. Available only ...       0\n",
       "1                         Ok lar... Joking wif u oni...       0\n",
       "2     Free entry in 2 a wkly comp to win FA Cup fina...       1\n",
       "3     U dun say so early hor... U c already then say...       0\n",
       "4     Nah I don't think he goes to usf, he lives aro...       0\n",
       "...                                                 ...     ...\n",
       "5567  This is the 2nd time we have tried 2 contact u...       1\n",
       "5568               Will ü b going to esplanade fr home?       0\n",
       "5569  Pity, * was in mood for that. So...any other s...       0\n",
       "5570  The guy did some bitching but I acted like i'd...       0\n",
       "5571                         Rofl. Its true to its name       0\n",
       "\n",
       "[5572 rows x 2 columns]"
      ]
     },
     "execution_count": 7,
     "metadata": {},
     "output_type": "execute_result"
    }
   ],
   "source": [
    "spam_co_df"
   ]
  },
  {
   "cell_type": "markdown",
   "id": "5f718254-c8c6-4afb-b25a-b5444151c5a4",
   "metadata": {},
   "source": [
    "#### 📊 데이터 세트 분리"
   ]
  },
  {
   "cell_type": "code",
   "execution_count": 8,
   "id": "6432589a-573e-473d-a8a5-c4940558c291",
   "metadata": {},
   "outputs": [],
   "source": [
    "from sklearn.model_selection import train_test_split"
   ]
  },
  {
   "cell_type": "code",
   "execution_count": 9,
   "id": "9cc1ebe2-39b0-4259-b28d-f3202461d91e",
   "metadata": {},
   "outputs": [],
   "source": [
    "# 문제/정답 및 학습/테스트 데이터 세트로 분리\n",
    "X_train, X_test, y_train, y_test = \\\n",
    "train_test_split(spam_co_df.Message, spam_co_df.Target, stratify=spam_co_df.Target, test_size=0.2, random_state=124)"
   ]
  },
  {
   "cell_type": "markdown",
   "id": "e6f796db-37be-40c7-a24d-19a3c65be553",
   "metadata": {},
   "source": [
    "#### 📊 텍스트 전처리 및 분류 (연습)"
   ]
  },
  {
   "cell_type": "code",
   "execution_count": 10,
   "id": "bcb81f57-bee0-4ae9-9a48-6053e5ce2011",
   "metadata": {},
   "outputs": [
    {
     "name": "stdout",
     "output_type": "stream",
     "text": [
      "[[2 0 0 1 0 1 0]\n",
      " [2 0 1 0 1 0 1]\n",
      " [0 1 1 0 0 0 0]]\n",
      "{'햄버거는': 5, '맛있어': 0, '정말': 3, '아니야': 2, '피자가': 4, '햄버거보다': 6, '먹자': 1}\n"
     ]
    }
   ],
   "source": [
    "# 연습\n",
    "from sklearn.feature_extraction.text import CountVectorizer\n",
    "\n",
    "token = ['맛있어', '정말', '아니야']\n",
    "\n",
    "text = [\"햄버거는 맛있어! 정말 맛있어\", \n",
    "        \"아니야 피자가 더 맛있어 햄버거보다 더 맛있어!\",\n",
    "        \"아니야 둘 다 먹자!\"]\n",
    "\n",
    "# 벡터 형변환 매소드 담기\n",
    "c_vct = CountVectorizer()\n",
    "# 학습하기\n",
    "freq = c_vct.fit_transform(text)\n",
    "# 생성된 문서-단어 행렬을 배열로 출력(단어 빈도 확인)\n",
    "print(freq.toarray())\n",
    "# 단어를 딕셔너리 형태로 출력\n",
    "# key(단어): value(값) = 인덱스\n",
    "print(c_vct.vocabulary_)"
   ]
  },
  {
   "cell_type": "markdown",
   "id": "45dc1490-aeae-40b6-9bd8-3edeae339ee8",
   "metadata": {},
   "source": [
    "#### 📊 텍스트 전처리 및 분류"
   ]
  },
  {
   "cell_type": "code",
   "execution_count": 11,
   "id": "6d6b471f-830c-4a9d-9326-ea7b1ef6b7a6",
   "metadata": {},
   "outputs": [],
   "source": [
    "from sklearn.feature_extraction.text import CountVectorizer"
   ]
  },
  {
   "cell_type": "code",
   "execution_count": 12,
   "id": "a24ef630-e46e-4bf0-92a6-3fd1afe71380",
   "metadata": {},
   "outputs": [],
   "source": [
    "# 텍스트에서 토큰을 찾음 (빈도수 확인)\n",
    "token = []\n",
    "text = []"
   ]
  },
  {
   "cell_type": "code",
   "execution_count": 13,
   "id": "e6c30f0b-e2f9-4a34-9790-f22f91afa661",
   "metadata": {},
   "outputs": [],
   "source": [
    "from sklearn.feature_extraction.text import CountVectorizer\n",
    "from sklearn.naive_bayes import MultinomialNB\n",
    "from sklearn.pipeline import Pipeline"
   ]
  },
  {
   "cell_type": "code",
   "execution_count": 14,
   "id": "da56e01b-1513-4650-a19d-9dce7c279ddf",
   "metadata": {},
   "outputs": [],
   "source": [
    "# 파이프: 데이터 전처리 및 모델 학습 과정을 단일 객체로 묶음 (변환기, 추정기)\n",
    "# Pipeline([('key', 객체), ('key', 객체)])\n",
    "\n",
    "# 매번 작업 시 Vectorizer를 사용해야 하지만, 파이프 라인으로 구축 시 직접 할 필요 없다.\n",
    "# 파이프 2개 연결하여 처리 (텍스트를 백터로 형변환 → 나이브 베이즈 분류기)\n",
    "m_nb_pipe = Pipeline([('count_vectorizer', CountVectorizer()), ('multinomial_NB',  MultinomialNB())])\n",
    "\n",
    "# Tip\n",
    "# 변환기 (Transformer): 데이터 전처리 단계에서 사용\n",
    "# 추정기 (Estimator): 모델 학습 단계에서 사용"
   ]
  },
  {
   "cell_type": "markdown",
   "id": "deb58007-d9bc-4525-98e5-10da2cfc9abc",
   "metadata": {},
   "source": [
    "#### 📊 데이터 훈련"
   ]
  },
  {
   "cell_type": "code",
   "execution_count": 15,
   "id": "8687b662-feb6-4f48-92f8-3bf403d80a82",
   "metadata": {},
   "outputs": [
    {
     "data": {
      "text/html": [
       "<style>#sk-container-id-1 {color: black;background-color: white;}#sk-container-id-1 pre{padding: 0;}#sk-container-id-1 div.sk-toggleable {background-color: white;}#sk-container-id-1 label.sk-toggleable__label {cursor: pointer;display: block;width: 100%;margin-bottom: 0;padding: 0.3em;box-sizing: border-box;text-align: center;}#sk-container-id-1 label.sk-toggleable__label-arrow:before {content: \"▸\";float: left;margin-right: 0.25em;color: #696969;}#sk-container-id-1 label.sk-toggleable__label-arrow:hover:before {color: black;}#sk-container-id-1 div.sk-estimator:hover label.sk-toggleable__label-arrow:before {color: black;}#sk-container-id-1 div.sk-toggleable__content {max-height: 0;max-width: 0;overflow: hidden;text-align: left;background-color: #f0f8ff;}#sk-container-id-1 div.sk-toggleable__content pre {margin: 0.2em;color: black;border-radius: 0.25em;background-color: #f0f8ff;}#sk-container-id-1 input.sk-toggleable__control:checked~div.sk-toggleable__content {max-height: 200px;max-width: 100%;overflow: auto;}#sk-container-id-1 input.sk-toggleable__control:checked~label.sk-toggleable__label-arrow:before {content: \"▾\";}#sk-container-id-1 div.sk-estimator input.sk-toggleable__control:checked~label.sk-toggleable__label {background-color: #d4ebff;}#sk-container-id-1 div.sk-label input.sk-toggleable__control:checked~label.sk-toggleable__label {background-color: #d4ebff;}#sk-container-id-1 input.sk-hidden--visually {border: 0;clip: rect(1px 1px 1px 1px);clip: rect(1px, 1px, 1px, 1px);height: 1px;margin: -1px;overflow: hidden;padding: 0;position: absolute;width: 1px;}#sk-container-id-1 div.sk-estimator {font-family: monospace;background-color: #f0f8ff;border: 1px dotted black;border-radius: 0.25em;box-sizing: border-box;margin-bottom: 0.5em;}#sk-container-id-1 div.sk-estimator:hover {background-color: #d4ebff;}#sk-container-id-1 div.sk-parallel-item::after {content: \"\";width: 100%;border-bottom: 1px solid gray;flex-grow: 1;}#sk-container-id-1 div.sk-label:hover label.sk-toggleable__label {background-color: #d4ebff;}#sk-container-id-1 div.sk-serial::before {content: \"\";position: absolute;border-left: 1px solid gray;box-sizing: border-box;top: 0;bottom: 0;left: 50%;z-index: 0;}#sk-container-id-1 div.sk-serial {display: flex;flex-direction: column;align-items: center;background-color: white;padding-right: 0.2em;padding-left: 0.2em;position: relative;}#sk-container-id-1 div.sk-item {position: relative;z-index: 1;}#sk-container-id-1 div.sk-parallel {display: flex;align-items: stretch;justify-content: center;background-color: white;position: relative;}#sk-container-id-1 div.sk-item::before, #sk-container-id-1 div.sk-parallel-item::before {content: \"\";position: absolute;border-left: 1px solid gray;box-sizing: border-box;top: 0;bottom: 0;left: 50%;z-index: -1;}#sk-container-id-1 div.sk-parallel-item {display: flex;flex-direction: column;z-index: 1;position: relative;background-color: white;}#sk-container-id-1 div.sk-parallel-item:first-child::after {align-self: flex-end;width: 50%;}#sk-container-id-1 div.sk-parallel-item:last-child::after {align-self: flex-start;width: 50%;}#sk-container-id-1 div.sk-parallel-item:only-child::after {width: 0;}#sk-container-id-1 div.sk-dashed-wrapped {border: 1px dashed gray;margin: 0 0.4em 0.5em 0.4em;box-sizing: border-box;padding-bottom: 0.4em;background-color: white;}#sk-container-id-1 div.sk-label label {font-family: monospace;font-weight: bold;display: inline-block;line-height: 1.2em;}#sk-container-id-1 div.sk-label-container {text-align: center;}#sk-container-id-1 div.sk-container {/* jupyter's `normalize.less` sets `[hidden] { display: none; }` but bootstrap.min.css set `[hidden] { display: none !important; }` so we also need the `!important` here to be able to override the default hidden behavior on the sphinx rendered scikit-learn.org. See: https://github.com/scikit-learn/scikit-learn/issues/21755 */display: inline-block !important;position: relative;}#sk-container-id-1 div.sk-text-repr-fallback {display: none;}</style><div id=\"sk-container-id-1\" class=\"sk-top-container\"><div class=\"sk-text-repr-fallback\"><pre>Pipeline(steps=[(&#x27;count_vectorizer&#x27;, CountVectorizer()),\n",
       "                (&#x27;multinomial_NB&#x27;, MultinomialNB())])</pre><b>In a Jupyter environment, please rerun this cell to show the HTML representation or trust the notebook. <br />On GitHub, the HTML representation is unable to render, please try loading this page with nbviewer.org.</b></div><div class=\"sk-container\" hidden><div class=\"sk-item sk-dashed-wrapped\"><div class=\"sk-label-container\"><div class=\"sk-label sk-toggleable\"><input class=\"sk-toggleable__control sk-hidden--visually\" id=\"sk-estimator-id-1\" type=\"checkbox\" ><label for=\"sk-estimator-id-1\" class=\"sk-toggleable__label sk-toggleable__label-arrow\">Pipeline</label><div class=\"sk-toggleable__content\"><pre>Pipeline(steps=[(&#x27;count_vectorizer&#x27;, CountVectorizer()),\n",
       "                (&#x27;multinomial_NB&#x27;, MultinomialNB())])</pre></div></div></div><div class=\"sk-serial\"><div class=\"sk-item\"><div class=\"sk-estimator sk-toggleable\"><input class=\"sk-toggleable__control sk-hidden--visually\" id=\"sk-estimator-id-2\" type=\"checkbox\" ><label for=\"sk-estimator-id-2\" class=\"sk-toggleable__label sk-toggleable__label-arrow\">CountVectorizer</label><div class=\"sk-toggleable__content\"><pre>CountVectorizer()</pre></div></div></div><div class=\"sk-item\"><div class=\"sk-estimator sk-toggleable\"><input class=\"sk-toggleable__control sk-hidden--visually\" id=\"sk-estimator-id-3\" type=\"checkbox\" ><label for=\"sk-estimator-id-3\" class=\"sk-toggleable__label sk-toggleable__label-arrow\">MultinomialNB</label><div class=\"sk-toggleable__content\"><pre>MultinomialNB()</pre></div></div></div></div></div></div></div>"
      ],
      "text/plain": [
       "Pipeline(steps=[('count_vectorizer', CountVectorizer()),\n",
       "                ('multinomial_NB', MultinomialNB())])"
      ]
     },
     "execution_count": 15,
     "metadata": {},
     "output_type": "execute_result"
    }
   ],
   "source": [
    "# 문제/정답 학습 데이터로 훈련하기\n",
    "m_nb_pipe.fit(X_train, y_train)"
   ]
  },
  {
   "cell_type": "markdown",
   "id": "53e90c71-d257-439a-b125-479ab5c6cfb0",
   "metadata": {},
   "source": [
    "#### 📊 데이터 예측"
   ]
  },
  {
   "cell_type": "code",
   "execution_count": 16,
   "id": "6cce42aa-4739-41b3-90a7-3c6b5c4d6d29",
   "metadata": {},
   "outputs": [],
   "source": [
    "# 문제 테스트 데이터로 예측하기\n",
    "prediction = m_nb_pipe.predict(X_test)"
   ]
  },
  {
   "cell_type": "markdown",
   "id": "30b243e5-eba8-466c-907e-f20dc6761109",
   "metadata": {},
   "source": [
    "#### 📊 데이터 평가 (정확도 확인)"
   ]
  },
  {
   "cell_type": "code",
   "execution_count": 17,
   "id": "5d6c8f88-38a3-4e96-842a-9b63edddf5ab",
   "metadata": {},
   "outputs": [
    {
     "data": {
      "text/plain": [
       "0.979372197309417"
      ]
     },
     "execution_count": 17,
     "metadata": {},
     "output_type": "execute_result"
    }
   ],
   "source": [
    "# 문제, 정답 테스트 데이터로 평가하기 (다중분류: score)\n",
    "m_nb_pipe.score(X_test, y_test)\n",
    "\n",
    "# Tip\n",
    "# accuracy_score: 예측된 레이블과 실제 레이블을 직접 받아들이고 정확도를 계산 (직접 예측한 값과 답 비교)\n",
    "# score: 모델 객체에 대해 호출되며 내부적으로 예측을 수행하고 정확도를 계산 (모델이 예측한 값과 답 비교)"
   ]
  },
  {
   "cell_type": "code",
   "execution_count": 18,
   "id": "74c6a3ce-e1dd-4422-9e0a-810e2ebe29c1",
   "metadata": {},
   "outputs": [
    {
     "data": {
      "text/plain": [
       "array([1])"
      ]
     },
     "execution_count": 18,
     "metadata": {},
     "output_type": "execute_result"
    }
   ],
   "source": [
    "# 확인\n",
    "m_nb_pipe.predict([spam_df.iloc[5567].Message])\n",
    "\n",
    "# 파이프 라인으로 구축했기 때문에 가능"
   ]
  }
 ],
 "metadata": {
  "kernelspec": {
   "display_name": "Python 3 (ipykernel)",
   "language": "python",
   "name": "python3"
  },
  "language_info": {
   "codemirror_mode": {
    "name": "ipython",
    "version": 3
   },
   "file_extension": ".py",
   "mimetype": "text/x-python",
   "name": "python",
   "nbconvert_exporter": "python",
   "pygments_lexer": "ipython3",
   "version": "3.11.8"
  }
 },
 "nbformat": 4,
 "nbformat_minor": 5
}
