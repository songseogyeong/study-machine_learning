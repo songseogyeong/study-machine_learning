{
 "cells": [
  {
   "cell_type": "markdown",
   "id": "dc878fe8-ff38-4af2-bf67-5a0417ba1952",
   "metadata": {},
   "source": [
    "### 데이터 전처리\n",
    "\n",
    "#### StandardScaler()\n",
    "- 데이터의 평균을 0, 분산을 1이 되도록, 표준 정규분포를 따르게 하는 스케일링\n",
    "- ± 1.96을 벗어나면 이상치로 판단한다.\n",
    "- <code>from sklearn.preprocessing import StandardScaler</code>\n",
    "\n",
    "#### MinMaxScaler()\n",
    "- 데이터가 0~1 사이에 위치하도록 최소값은 0, 최대값은 1로 변환한다.\n",
    "- 서로 다른 단위의 feature끼리 비교가 가능해진다.\n",
    "- <code>from sklearn.preprocessing import MinMaxScaler</code>\n",
    "\n",
    "#### MaxAbsScaler()\n",
    "- 모든 값을 -1~1 사이에 위치하도록, 절대값의 최소값은 0, 최대값은 1이 되도록 변환한다.\n",
    "- 양의 방향에 대한 단위뿐 아니라 음의 방향에 대한 단위까지 스케일링하고자 할 때 사용한다.\n",
    "- <code>from sklearn.preprocessing import MaxAbsScaler</code>\n",
    "\n",
    "#### 로그변환 (Log transformation)\n",
    "- 왜도와 첨도를 가진 변수를 정규분포에 가깝게 만들어준다. 큰 수치를 같은 비율의 작은 수치로 변환한다.\n",
    "- <code>np.log1p(df['col'])</code>\n",
    "- 원래 값으로 전환하고자 할 때 지수를 취해준다.\n",
    "- <code>np.expm1(df['col'])</code>"
   ]
  }
 ],
 "metadata": {
  "kernelspec": {
   "display_name": "Python 3 (ipykernel)",
   "language": "python",
   "name": "python3"
  },
  "language_info": {
   "codemirror_mode": {
    "name": "ipython",
    "version": 3
   },
   "file_extension": ".py",
   "mimetype": "text/x-python",
   "name": "python",
   "nbconvert_exporter": "python",
   "pygments_lexer": "ipython3",
   "version": "3.11.8"
  }
 },
 "nbformat": 4,
 "nbformat_minor": 5
}
