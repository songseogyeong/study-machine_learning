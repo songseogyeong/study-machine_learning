{
 "cells": [
  {
   "cell_type": "markdown",
   "id": "3464284c-9d6e-48a0-9183-5a71901f3d7c",
   "metadata": {},
   "source": [
    "### Naive Bayes Classifier Task\r\n",
    "### 문장에서 느껴지는 감정 예측\r\n",
    "##### 다중 분류(Multiclass Classification)\r\n",
    "- 비대면 심리 상담사로서 메세지를 전달한 환자에 대한 감정 데이터를 수집했다.\r\n",
    "- 각 메세지 별로 감정이 표시되어 있다.\r\n",
    "- 미래에 동일한 메세지를 보내는 환자에게 어떤 심리 치료가 적합할 수 있는지 알아보기 위한 모델을 구축한다."
   ]
  },
  {
   "cell_type": "code",
   "execution_count": 1,
   "id": "b722a65b-072c-4141-97a8-3c91be13c89e",
   "metadata": {},
   "outputs": [],
   "source": [
    "import pandas as pd"
   ]
  },
  {
   "cell_type": "code",
   "execution_count": 2,
   "id": "0fd9b898-6104-485e-a1e6-4e1a2628bf80",
   "metadata": {},
   "outputs": [],
   "source": [
    "# 데이터 세트 호출\n",
    "feel_df = pd.read_csv('./datasets/feeling.csv')"
   ]
  },
  {
   "cell_type": "code",
   "execution_count": 3,
   "id": "d67864f0-efbf-4e4f-b735-584483f7f182",
   "metadata": {},
   "outputs": [
    {
     "data": {
      "text/html": [
       "<div>\n",
       "<style scoped>\n",
       "    .dataframe tbody tr th:only-of-type {\n",
       "        vertical-align: middle;\n",
       "    }\n",
       "\n",
       "    .dataframe tbody tr th {\n",
       "        vertical-align: top;\n",
       "    }\n",
       "\n",
       "    .dataframe thead th {\n",
       "        text-align: right;\n",
       "    }\n",
       "</style>\n",
       "<table border=\"1\" class=\"dataframe\">\n",
       "  <thead>\n",
       "    <tr style=\"text-align: right;\">\n",
       "      <th></th>\n",
       "      <th>message;feeling</th>\n",
       "    </tr>\n",
       "  </thead>\n",
       "  <tbody>\n",
       "    <tr>\n",
       "      <th>0</th>\n",
       "      <td>im feeling quite sad and sorry for myself but ...</td>\n",
       "    </tr>\n",
       "    <tr>\n",
       "      <th>1</th>\n",
       "      <td>i feel like i am still looking at a blank canv...</td>\n",
       "    </tr>\n",
       "    <tr>\n",
       "      <th>2</th>\n",
       "      <td>i feel like a faithful servant;love</td>\n",
       "    </tr>\n",
       "    <tr>\n",
       "      <th>3</th>\n",
       "      <td>i am just feeling cranky and blue;anger</td>\n",
       "    </tr>\n",
       "    <tr>\n",
       "      <th>4</th>\n",
       "      <td>i can have for a treat or if i am feeling fest...</td>\n",
       "    </tr>\n",
       "    <tr>\n",
       "      <th>...</th>\n",
       "      <td>...</td>\n",
       "    </tr>\n",
       "    <tr>\n",
       "      <th>17995</th>\n",
       "      <td>i just had a very brief time in the beanbag an...</td>\n",
       "    </tr>\n",
       "    <tr>\n",
       "      <th>17996</th>\n",
       "      <td>i am now turning and i feel pathetic that i am...</td>\n",
       "    </tr>\n",
       "    <tr>\n",
       "      <th>17997</th>\n",
       "      <td>i feel strong and good overall;joy</td>\n",
       "    </tr>\n",
       "    <tr>\n",
       "      <th>17998</th>\n",
       "      <td>i feel like this was such a rude comment and i...</td>\n",
       "    </tr>\n",
       "    <tr>\n",
       "      <th>17999</th>\n",
       "      <td>i know a lot but i feel so stupid because i ca...</td>\n",
       "    </tr>\n",
       "  </tbody>\n",
       "</table>\n",
       "<p>18000 rows × 1 columns</p>\n",
       "</div>"
      ],
      "text/plain": [
       "                                         message;feeling\n",
       "0      im feeling quite sad and sorry for myself but ...\n",
       "1      i feel like i am still looking at a blank canv...\n",
       "2                    i feel like a faithful servant;love\n",
       "3                i am just feeling cranky and blue;anger\n",
       "4      i can have for a treat or if i am feeling fest...\n",
       "...                                                  ...\n",
       "17995  i just had a very brief time in the beanbag an...\n",
       "17996  i am now turning and i feel pathetic that i am...\n",
       "17997                 i feel strong and good overall;joy\n",
       "17998  i feel like this was such a rude comment and i...\n",
       "17999  i know a lot but i feel so stupid because i ca...\n",
       "\n",
       "[18000 rows x 1 columns]"
      ]
     },
     "execution_count": 3,
     "metadata": {},
     "output_type": "execute_result"
    }
   ],
   "source": [
    "feel_df"
   ]
  },
  {
   "cell_type": "markdown",
   "id": "08cae07e-48de-4ae8-b825-c33d17c40cf3",
   "metadata": {},
   "source": [
    "### Ⅰ. 데이터 탐색"
   ]
  },
  {
   "cell_type": "markdown",
   "id": "c46f808e-7ca4-4713-a6f1-3eaf0d45a864",
   "metadata": {},
   "source": [
    "#### 📊 데이터 정보 확인"
   ]
  },
  {
   "cell_type": "code",
   "execution_count": 4,
   "id": "0f2eb736-0521-4b11-8c9d-9d03575eca0a",
   "metadata": {},
   "outputs": [
    {
     "name": "stdout",
     "output_type": "stream",
     "text": [
      "<class 'pandas.core.frame.DataFrame'>\n",
      "RangeIndex: 18000 entries, 0 to 17999\n",
      "Data columns (total 1 columns):\n",
      " #   Column           Non-Null Count  Dtype \n",
      "---  ------           --------------  ----- \n",
      " 0   message;feeling  18000 non-null  object\n",
      "dtypes: object(1)\n",
      "memory usage: 140.8+ KB\n"
     ]
    }
   ],
   "source": [
    "# 데이터 정보 확인\n",
    "feel_df.info()"
   ]
  },
  {
   "cell_type": "markdown",
   "id": "06fb4f95-3d42-403e-9c57-06b74153af5a",
   "metadata": {},
   "source": [
    "#### 📊 데이터 결측치 확인"
   ]
  },
  {
   "cell_type": "code",
   "execution_count": 5,
   "id": "80129a2a-aa6f-48fd-8568-594d2a1f7d64",
   "metadata": {},
   "outputs": [
    {
     "data": {
      "text/plain": [
       "message;feeling    0\n",
       "dtype: int64"
      ]
     },
     "execution_count": 5,
     "metadata": {},
     "output_type": "execute_result"
    }
   ],
   "source": [
    "# 데이터 결측치 확인\n",
    "feel_df.isna().sum()"
   ]
  },
  {
   "cell_type": "markdown",
   "id": "547081e4-07ab-4679-bb80-aeaba708d4ab",
   "metadata": {},
   "source": [
    "#### 📊 데이터 중복 확인 및 제거"
   ]
  },
  {
   "cell_type": "code",
   "execution_count": 6,
   "id": "92aeb1e2-985e-46c5-a978-2c93a4472f3b",
   "metadata": {},
   "outputs": [
    {
     "data": {
      "text/plain": [
       "1"
      ]
     },
     "execution_count": 6,
     "metadata": {},
     "output_type": "execute_result"
    }
   ],
   "source": [
    "# 중복행 확인\n",
    "feel_df.duplicated().sum()"
   ]
  },
  {
   "cell_type": "code",
   "execution_count": 7,
   "id": "89b48fc8-754c-41ec-8e45-16d11bab136f",
   "metadata": {},
   "outputs": [],
   "source": [
    "# 중복행 삭제\n",
    "feel_df.drop_duplicates(inplace=True)"
   ]
  },
  {
   "cell_type": "code",
   "execution_count": 8,
   "id": "e5a0dc54-090a-4855-9d54-44ba3fedd5d1",
   "metadata": {},
   "outputs": [
    {
     "data": {
      "text/plain": [
       "0"
      ]
     },
     "execution_count": 8,
     "metadata": {},
     "output_type": "execute_result"
    }
   ],
   "source": [
    "# 중복행 재확인\n",
    "feel_df.duplicated().sum()"
   ]
  },
  {
   "cell_type": "markdown",
   "id": "71eb9e41-56f8-47d2-81d6-f52d5ab1c988",
   "metadata": {},
   "source": [
    "### Ⅱ. 데이터 전처리"
   ]
  },
  {
   "cell_type": "markdown",
   "id": "a2ba39fa-143c-409c-9e4c-72dcabdaffb6",
   "metadata": {},
   "source": [
    "#### 📊 문자열 나누기"
   ]
  },
  {
   "cell_type": "code",
   "execution_count": 9,
   "id": "eab46ee5-daa8-42c6-85ad-594cfcfa4b92",
   "metadata": {},
   "outputs": [],
   "source": [
    "feel_co_df = feel_df.copy()"
   ]
  },
  {
   "cell_type": "code",
   "execution_count": 10,
   "id": "09c9d14a-22cc-4d96-a596-3650f2a04d93",
   "metadata": {},
   "outputs": [],
   "source": [
    "# ;를 기준으로 문자열 분리\n",
    "feel_co_df[['message', 'feeling']] = feel_co_df['message;feeling'].str.split(';', expand=True)\n",
    "# 나눠진 문자열 컬럼은 삭제\n",
    "feel_co_df = feel_co_df.drop(labels='message;feeling', axis=1)\n",
    "# 타겟명 변경\n",
    "feel_co_df = feel_co_df.rename(columns={'feeling': 'target'})"
   ]
  },
  {
   "cell_type": "code",
   "execution_count": 11,
   "id": "864832e3-5c0e-4731-a282-552c675e5dd0",
   "metadata": {},
   "outputs": [
    {
     "data": {
      "text/html": [
       "<div>\n",
       "<style scoped>\n",
       "    .dataframe tbody tr th:only-of-type {\n",
       "        vertical-align: middle;\n",
       "    }\n",
       "\n",
       "    .dataframe tbody tr th {\n",
       "        vertical-align: top;\n",
       "    }\n",
       "\n",
       "    .dataframe thead th {\n",
       "        text-align: right;\n",
       "    }\n",
       "</style>\n",
       "<table border=\"1\" class=\"dataframe\">\n",
       "  <thead>\n",
       "    <tr style=\"text-align: right;\">\n",
       "      <th></th>\n",
       "      <th>message</th>\n",
       "      <th>target</th>\n",
       "    </tr>\n",
       "  </thead>\n",
       "  <tbody>\n",
       "    <tr>\n",
       "      <th>0</th>\n",
       "      <td>im feeling quite sad and sorry for myself but ...</td>\n",
       "      <td>sadness</td>\n",
       "    </tr>\n",
       "    <tr>\n",
       "      <th>1</th>\n",
       "      <td>i feel like i am still looking at a blank canv...</td>\n",
       "      <td>sadness</td>\n",
       "    </tr>\n",
       "    <tr>\n",
       "      <th>2</th>\n",
       "      <td>i feel like a faithful servant</td>\n",
       "      <td>love</td>\n",
       "    </tr>\n",
       "    <tr>\n",
       "      <th>3</th>\n",
       "      <td>i am just feeling cranky and blue</td>\n",
       "      <td>anger</td>\n",
       "    </tr>\n",
       "    <tr>\n",
       "      <th>4</th>\n",
       "      <td>i can have for a treat or if i am feeling festive</td>\n",
       "      <td>joy</td>\n",
       "    </tr>\n",
       "    <tr>\n",
       "      <th>...</th>\n",
       "      <td>...</td>\n",
       "      <td>...</td>\n",
       "    </tr>\n",
       "    <tr>\n",
       "      <th>17995</th>\n",
       "      <td>i just had a very brief time in the beanbag an...</td>\n",
       "      <td>sadness</td>\n",
       "    </tr>\n",
       "    <tr>\n",
       "      <th>17996</th>\n",
       "      <td>i am now turning and i feel pathetic that i am...</td>\n",
       "      <td>sadness</td>\n",
       "    </tr>\n",
       "    <tr>\n",
       "      <th>17997</th>\n",
       "      <td>i feel strong and good overall</td>\n",
       "      <td>joy</td>\n",
       "    </tr>\n",
       "    <tr>\n",
       "      <th>17998</th>\n",
       "      <td>i feel like this was such a rude comment and i...</td>\n",
       "      <td>anger</td>\n",
       "    </tr>\n",
       "    <tr>\n",
       "      <th>17999</th>\n",
       "      <td>i know a lot but i feel so stupid because i ca...</td>\n",
       "      <td>sadness</td>\n",
       "    </tr>\n",
       "  </tbody>\n",
       "</table>\n",
       "<p>17999 rows × 2 columns</p>\n",
       "</div>"
      ],
      "text/plain": [
       "                                                 message   target\n",
       "0      im feeling quite sad and sorry for myself but ...  sadness\n",
       "1      i feel like i am still looking at a blank canv...  sadness\n",
       "2                         i feel like a faithful servant     love\n",
       "3                      i am just feeling cranky and blue    anger\n",
       "4      i can have for a treat or if i am feeling festive      joy\n",
       "...                                                  ...      ...\n",
       "17995  i just had a very brief time in the beanbag an...  sadness\n",
       "17996  i am now turning and i feel pathetic that i am...  sadness\n",
       "17997                     i feel strong and good overall      joy\n",
       "17998  i feel like this was such a rude comment and i...    anger\n",
       "17999  i know a lot but i feel so stupid because i ca...  sadness\n",
       "\n",
       "[17999 rows x 2 columns]"
      ]
     },
     "execution_count": 11,
     "metadata": {},
     "output_type": "execute_result"
    }
   ],
   "source": [
    "feel_co_df"
   ]
  },
  {
   "cell_type": "code",
   "execution_count": 12,
   "id": "9c72f1b7-19d4-4a60-bea6-6722a8a7eddb",
   "metadata": {},
   "outputs": [
    {
     "data": {
      "text/plain": [
       "target\n",
       "joy         6065\n",
       "sadness     5216\n",
       "anger       2434\n",
       "fear        2149\n",
       "love        1482\n",
       "surprise     653\n",
       "Name: count, dtype: int64"
      ]
     },
     "execution_count": 12,
     "metadata": {},
     "output_type": "execute_result"
    }
   ],
   "source": [
    "# 타겟의 데이터 별 개수 확인\n",
    "feel_co_df.target.value_counts()\n",
    "\n",
    "# 불균형 데이터이지만, 실습이니 맞추지 않고 일단 진행..."
   ]
  },
  {
   "cell_type": "markdown",
   "id": "d3b33f2e-5190-4c6b-b672-d7cb82bd73d7",
   "metadata": {},
   "source": [
    "#### 📊 문자열 형변환"
   ]
  },
  {
   "cell_type": "code",
   "execution_count": 13,
   "id": "c1dc32dc-39af-4554-803e-b39145173c37",
   "metadata": {},
   "outputs": [],
   "source": [
    "from sklearn.preprocessing import LabelEncoder"
   ]
  },
  {
   "cell_type": "code",
   "execution_count": 14,
   "id": "4548225c-8768-40a4-a9a0-0c751708da8b",
   "metadata": {},
   "outputs": [],
   "source": [
    "feel_en_df = feel_co_df.copy()"
   ]
  },
  {
   "cell_type": "code",
   "execution_count": 15,
   "id": "4c9455b5-6fa9-4be9-b0f8-a192621930f4",
   "metadata": {},
   "outputs": [],
   "source": [
    "# 인코더 매소드 담기\n",
    "feel_encoder = LabelEncoder()"
   ]
  },
  {
   "cell_type": "code",
   "execution_count": 16,
   "id": "2ba777f3-e8af-47b0-a2d5-85aded95f179",
   "metadata": {},
   "outputs": [],
   "source": [
    "# 문자열 타겟을 숫자로 인코딩\n",
    "targets = feel_encoder.fit_transform(feel_en_df.loc[:, 'target'])\n",
    "# 인코딩 된 데이터로 교체\n",
    "feel_en_df['target'] = targets"
   ]
  },
  {
   "cell_type": "code",
   "execution_count": 17,
   "id": "f997dded-81a4-4c37-8122-ae803306b042",
   "metadata": {},
   "outputs": [
    {
     "data": {
      "text/html": [
       "<div>\n",
       "<style scoped>\n",
       "    .dataframe tbody tr th:only-of-type {\n",
       "        vertical-align: middle;\n",
       "    }\n",
       "\n",
       "    .dataframe tbody tr th {\n",
       "        vertical-align: top;\n",
       "    }\n",
       "\n",
       "    .dataframe thead th {\n",
       "        text-align: right;\n",
       "    }\n",
       "</style>\n",
       "<table border=\"1\" class=\"dataframe\">\n",
       "  <thead>\n",
       "    <tr style=\"text-align: right;\">\n",
       "      <th></th>\n",
       "      <th>message</th>\n",
       "      <th>target</th>\n",
       "    </tr>\n",
       "  </thead>\n",
       "  <tbody>\n",
       "    <tr>\n",
       "      <th>0</th>\n",
       "      <td>im feeling quite sad and sorry for myself but ...</td>\n",
       "      <td>4</td>\n",
       "    </tr>\n",
       "    <tr>\n",
       "      <th>1</th>\n",
       "      <td>i feel like i am still looking at a blank canv...</td>\n",
       "      <td>4</td>\n",
       "    </tr>\n",
       "    <tr>\n",
       "      <th>2</th>\n",
       "      <td>i feel like a faithful servant</td>\n",
       "      <td>3</td>\n",
       "    </tr>\n",
       "    <tr>\n",
       "      <th>3</th>\n",
       "      <td>i am just feeling cranky and blue</td>\n",
       "      <td>0</td>\n",
       "    </tr>\n",
       "    <tr>\n",
       "      <th>4</th>\n",
       "      <td>i can have for a treat or if i am feeling festive</td>\n",
       "      <td>2</td>\n",
       "    </tr>\n",
       "    <tr>\n",
       "      <th>...</th>\n",
       "      <td>...</td>\n",
       "      <td>...</td>\n",
       "    </tr>\n",
       "    <tr>\n",
       "      <th>17995</th>\n",
       "      <td>i just had a very brief time in the beanbag an...</td>\n",
       "      <td>4</td>\n",
       "    </tr>\n",
       "    <tr>\n",
       "      <th>17996</th>\n",
       "      <td>i am now turning and i feel pathetic that i am...</td>\n",
       "      <td>4</td>\n",
       "    </tr>\n",
       "    <tr>\n",
       "      <th>17997</th>\n",
       "      <td>i feel strong and good overall</td>\n",
       "      <td>2</td>\n",
       "    </tr>\n",
       "    <tr>\n",
       "      <th>17998</th>\n",
       "      <td>i feel like this was such a rude comment and i...</td>\n",
       "      <td>0</td>\n",
       "    </tr>\n",
       "    <tr>\n",
       "      <th>17999</th>\n",
       "      <td>i know a lot but i feel so stupid because i ca...</td>\n",
       "      <td>4</td>\n",
       "    </tr>\n",
       "  </tbody>\n",
       "</table>\n",
       "<p>17999 rows × 2 columns</p>\n",
       "</div>"
      ],
      "text/plain": [
       "                                                 message  target\n",
       "0      im feeling quite sad and sorry for myself but ...       4\n",
       "1      i feel like i am still looking at a blank canv...       4\n",
       "2                         i feel like a faithful servant       3\n",
       "3                      i am just feeling cranky and blue       0\n",
       "4      i can have for a treat or if i am feeling festive       2\n",
       "...                                                  ...     ...\n",
       "17995  i just had a very brief time in the beanbag an...       4\n",
       "17996  i am now turning and i feel pathetic that i am...       4\n",
       "17997                     i feel strong and good overall       2\n",
       "17998  i feel like this was such a rude comment and i...       0\n",
       "17999  i know a lot but i feel so stupid because i ca...       4\n",
       "\n",
       "[17999 rows x 2 columns]"
      ]
     },
     "execution_count": 17,
     "metadata": {},
     "output_type": "execute_result"
    }
   ],
   "source": [
    "feel_en_df"
   ]
  },
  {
   "cell_type": "markdown",
   "id": "91ceb04e-1d58-41a1-9792-92d9ae9285d4",
   "metadata": {},
   "source": [
    "### Ⅲ. 데이터 세트 분리"
   ]
  },
  {
   "cell_type": "markdown",
   "id": "e5fd5079-3ad6-4066-9b5a-451253cf07ad",
   "metadata": {},
   "source": [
    "#### 📊 데이터 세트 분리"
   ]
  },
  {
   "cell_type": "code",
   "execution_count": 18,
   "id": "dd23c1f9-d5d7-4dd7-8fea-73fab5d77962",
   "metadata": {},
   "outputs": [],
   "source": [
    "from sklearn.model_selection import train_test_split"
   ]
  },
  {
   "cell_type": "code",
   "execution_count": 19,
   "id": "88778144-d4a4-4052-960c-b4a2ae88074c",
   "metadata": {},
   "outputs": [],
   "source": [
    "# 문제/정답 및 학습/테스트 데이터 세트로 분리\n",
    "X_train, X_test, y_train, y_test = \\\n",
    "train_test_split(feel_en_df.message, feel_en_df.target, stratify=feel_en_df.target, test_size=0.2, random_state=124)"
   ]
  },
  {
   "cell_type": "markdown",
   "id": "df905f87-2742-43d8-b4e3-03b255a74b4c",
   "metadata": {},
   "source": [
    "### Ⅳ. 데이터 학습"
   ]
  },
  {
   "cell_type": "markdown",
   "id": "8397e7a6-1c73-4451-a0ef-619e13ffd85c",
   "metadata": {},
   "source": [
    "#### 📊 텍스트 전처리 및 분류"
   ]
  },
  {
   "cell_type": "code",
   "execution_count": 20,
   "id": "2e099d98-c58d-4017-a855-61583b72bb61",
   "metadata": {},
   "outputs": [],
   "source": [
    "from sklearn.feature_extraction.text import CountVectorizer\n",
    "from sklearn.naive_bayes import MultinomialNB\n",
    "from sklearn.pipeline import Pipeline"
   ]
  },
  {
   "cell_type": "code",
   "execution_count": 21,
   "id": "d3b655ea-86fa-40c2-b245-942db3bdb159",
   "metadata": {},
   "outputs": [],
   "source": [
    "# 텍스트에서 토큰을 찾음 (빈도수 확인)\n",
    "token = []\n",
    "text = []"
   ]
  },
  {
   "cell_type": "code",
   "execution_count": 22,
   "id": "15e06dd8-6882-4a63-898b-0e8ed97d13ca",
   "metadata": {},
   "outputs": [],
   "source": [
    "# 파이프 2개 연결하여 처리 (텍스트를 백터로 형변환 → 나이브 베이즈 분류기)\n",
    "m_nb_pipe = Pipeline([('count_vectorizer', CountVectorizer()), ('multinomail_NB', MultinomialNB())])"
   ]
  },
  {
   "cell_type": "markdown",
   "id": "98bb6552-6931-4629-a49d-e86aca818a80",
   "metadata": {},
   "source": [
    "#### 📊 데이터 훈련"
   ]
  },
  {
   "cell_type": "code",
   "execution_count": 23,
   "id": "e23e46d6-e16c-46ab-af9e-3f9be5fb49ee",
   "metadata": {},
   "outputs": [
    {
     "data": {
      "text/html": [
       "<style>#sk-container-id-1 {color: black;background-color: white;}#sk-container-id-1 pre{padding: 0;}#sk-container-id-1 div.sk-toggleable {background-color: white;}#sk-container-id-1 label.sk-toggleable__label {cursor: pointer;display: block;width: 100%;margin-bottom: 0;padding: 0.3em;box-sizing: border-box;text-align: center;}#sk-container-id-1 label.sk-toggleable__label-arrow:before {content: \"▸\";float: left;margin-right: 0.25em;color: #696969;}#sk-container-id-1 label.sk-toggleable__label-arrow:hover:before {color: black;}#sk-container-id-1 div.sk-estimator:hover label.sk-toggleable__label-arrow:before {color: black;}#sk-container-id-1 div.sk-toggleable__content {max-height: 0;max-width: 0;overflow: hidden;text-align: left;background-color: #f0f8ff;}#sk-container-id-1 div.sk-toggleable__content pre {margin: 0.2em;color: black;border-radius: 0.25em;background-color: #f0f8ff;}#sk-container-id-1 input.sk-toggleable__control:checked~div.sk-toggleable__content {max-height: 200px;max-width: 100%;overflow: auto;}#sk-container-id-1 input.sk-toggleable__control:checked~label.sk-toggleable__label-arrow:before {content: \"▾\";}#sk-container-id-1 div.sk-estimator input.sk-toggleable__control:checked~label.sk-toggleable__label {background-color: #d4ebff;}#sk-container-id-1 div.sk-label input.sk-toggleable__control:checked~label.sk-toggleable__label {background-color: #d4ebff;}#sk-container-id-1 input.sk-hidden--visually {border: 0;clip: rect(1px 1px 1px 1px);clip: rect(1px, 1px, 1px, 1px);height: 1px;margin: -1px;overflow: hidden;padding: 0;position: absolute;width: 1px;}#sk-container-id-1 div.sk-estimator {font-family: monospace;background-color: #f0f8ff;border: 1px dotted black;border-radius: 0.25em;box-sizing: border-box;margin-bottom: 0.5em;}#sk-container-id-1 div.sk-estimator:hover {background-color: #d4ebff;}#sk-container-id-1 div.sk-parallel-item::after {content: \"\";width: 100%;border-bottom: 1px solid gray;flex-grow: 1;}#sk-container-id-1 div.sk-label:hover label.sk-toggleable__label {background-color: #d4ebff;}#sk-container-id-1 div.sk-serial::before {content: \"\";position: absolute;border-left: 1px solid gray;box-sizing: border-box;top: 0;bottom: 0;left: 50%;z-index: 0;}#sk-container-id-1 div.sk-serial {display: flex;flex-direction: column;align-items: center;background-color: white;padding-right: 0.2em;padding-left: 0.2em;position: relative;}#sk-container-id-1 div.sk-item {position: relative;z-index: 1;}#sk-container-id-1 div.sk-parallel {display: flex;align-items: stretch;justify-content: center;background-color: white;position: relative;}#sk-container-id-1 div.sk-item::before, #sk-container-id-1 div.sk-parallel-item::before {content: \"\";position: absolute;border-left: 1px solid gray;box-sizing: border-box;top: 0;bottom: 0;left: 50%;z-index: -1;}#sk-container-id-1 div.sk-parallel-item {display: flex;flex-direction: column;z-index: 1;position: relative;background-color: white;}#sk-container-id-1 div.sk-parallel-item:first-child::after {align-self: flex-end;width: 50%;}#sk-container-id-1 div.sk-parallel-item:last-child::after {align-self: flex-start;width: 50%;}#sk-container-id-1 div.sk-parallel-item:only-child::after {width: 0;}#sk-container-id-1 div.sk-dashed-wrapped {border: 1px dashed gray;margin: 0 0.4em 0.5em 0.4em;box-sizing: border-box;padding-bottom: 0.4em;background-color: white;}#sk-container-id-1 div.sk-label label {font-family: monospace;font-weight: bold;display: inline-block;line-height: 1.2em;}#sk-container-id-1 div.sk-label-container {text-align: center;}#sk-container-id-1 div.sk-container {/* jupyter's `normalize.less` sets `[hidden] { display: none; }` but bootstrap.min.css set `[hidden] { display: none !important; }` so we also need the `!important` here to be able to override the default hidden behavior on the sphinx rendered scikit-learn.org. See: https://github.com/scikit-learn/scikit-learn/issues/21755 */display: inline-block !important;position: relative;}#sk-container-id-1 div.sk-text-repr-fallback {display: none;}</style><div id=\"sk-container-id-1\" class=\"sk-top-container\"><div class=\"sk-text-repr-fallback\"><pre>Pipeline(steps=[(&#x27;count_vectorizer&#x27;, CountVectorizer()),\n",
       "                (&#x27;multinomail_NB&#x27;, MultinomialNB())])</pre><b>In a Jupyter environment, please rerun this cell to show the HTML representation or trust the notebook. <br />On GitHub, the HTML representation is unable to render, please try loading this page with nbviewer.org.</b></div><div class=\"sk-container\" hidden><div class=\"sk-item sk-dashed-wrapped\"><div class=\"sk-label-container\"><div class=\"sk-label sk-toggleable\"><input class=\"sk-toggleable__control sk-hidden--visually\" id=\"sk-estimator-id-1\" type=\"checkbox\" ><label for=\"sk-estimator-id-1\" class=\"sk-toggleable__label sk-toggleable__label-arrow\">Pipeline</label><div class=\"sk-toggleable__content\"><pre>Pipeline(steps=[(&#x27;count_vectorizer&#x27;, CountVectorizer()),\n",
       "                (&#x27;multinomail_NB&#x27;, MultinomialNB())])</pre></div></div></div><div class=\"sk-serial\"><div class=\"sk-item\"><div class=\"sk-estimator sk-toggleable\"><input class=\"sk-toggleable__control sk-hidden--visually\" id=\"sk-estimator-id-2\" type=\"checkbox\" ><label for=\"sk-estimator-id-2\" class=\"sk-toggleable__label sk-toggleable__label-arrow\">CountVectorizer</label><div class=\"sk-toggleable__content\"><pre>CountVectorizer()</pre></div></div></div><div class=\"sk-item\"><div class=\"sk-estimator sk-toggleable\"><input class=\"sk-toggleable__control sk-hidden--visually\" id=\"sk-estimator-id-3\" type=\"checkbox\" ><label for=\"sk-estimator-id-3\" class=\"sk-toggleable__label sk-toggleable__label-arrow\">MultinomialNB</label><div class=\"sk-toggleable__content\"><pre>MultinomialNB()</pre></div></div></div></div></div></div></div>"
      ],
      "text/plain": [
       "Pipeline(steps=[('count_vectorizer', CountVectorizer()),\n",
       "                ('multinomail_NB', MultinomialNB())])"
      ]
     },
     "execution_count": 23,
     "metadata": {},
     "output_type": "execute_result"
    }
   ],
   "source": [
    "# 문제/정답 학습 데이터로 훈련하기\n",
    "m_nb_pipe.fit(X_train, y_train)"
   ]
  },
  {
   "cell_type": "markdown",
   "id": "6c7c58d6-a155-40df-bc37-be901efeafd2",
   "metadata": {},
   "source": [
    "### Ⅴ. 데이터 예측"
   ]
  },
  {
   "cell_type": "markdown",
   "id": "36a13f24-cdfd-46cd-906b-1f693b0adf73",
   "metadata": {},
   "source": [
    "#### 📊 데이터 예측"
   ]
  },
  {
   "cell_type": "code",
   "execution_count": 24,
   "id": "cf4bf8fd-6926-44e5-a960-e04715f7cfa7",
   "metadata": {},
   "outputs": [],
   "source": [
    "# 문제 테스트 데이터로 예측하기\n",
    "prediction = m_nb_pipe.predict(X_test)"
   ]
  },
  {
   "cell_type": "markdown",
   "id": "3ac79b2f-9a37-4fc2-bb32-e96b0cb84917",
   "metadata": {},
   "source": [
    "### Ⅵ. 데이터 평가"
   ]
  },
  {
   "cell_type": "markdown",
   "id": "1d3ac966-597b-4b37-8d1b-cdabe830c504",
   "metadata": {},
   "source": [
    "#### 📊 데이터 평가 (정확도 확인)"
   ]
  },
  {
   "cell_type": "code",
   "execution_count": 25,
   "id": "73101e6b-9a57-4f90-81f1-07165a8da685",
   "metadata": {},
   "outputs": [
    {
     "data": {
      "text/plain": [
       "0.7519444444444444"
      ]
     },
     "execution_count": 25,
     "metadata": {},
     "output_type": "execute_result"
    }
   ],
   "source": [
    "# 문제, 정답 테스트 데이터로 평가하기\n",
    "m_nb_pipe.score(X_test, y_test)"
   ]
  },
  {
   "cell_type": "code",
   "execution_count": 26,
   "id": "a04e1e69-2be4-4bc3-8963-6466e539fbcd",
   "metadata": {},
   "outputs": [
    {
     "data": {
      "text/plain": [
       "array([1])"
      ]
     },
     "execution_count": 26,
     "metadata": {},
     "output_type": "execute_result"
    }
   ],
   "source": [
    "# 확인\n",
    "# 특정 데이터의 예측값 확인하기\n",
    "m_nb_pipe.predict([feel_en_df.iloc[5450].message])"
   ]
  },
  {
   "cell_type": "code",
   "execution_count": 27,
   "id": "195e68b1-3763-4051-9a32-cf204fae84cf",
   "metadata": {},
   "outputs": [
    {
     "data": {
      "text/plain": [
       "array(['sadness', 'joy', 'sadness', ..., 'sadness', 'joy', 'sadness'],\n",
       "      dtype=object)"
      ]
     },
     "execution_count": 27,
     "metadata": {},
     "output_type": "execute_result"
    }
   ],
   "source": [
    "# 학습된 모델의 클래스 확인 (원래 값의 배열 제공)\n",
    "feel_encoder.classes_[m_nb_pipe.predict(X_test)]"
   ]
  },
  {
   "cell_type": "markdown",
   "id": "961a7cae-64fd-46f6-ae96-399d3fb4266b",
   "metadata": {},
   "source": [
    "### Ⅶ. 오차행렬"
   ]
  },
  {
   "cell_type": "markdown",
   "id": "8b9f7f6a-1ef8-4424-bc0a-1e90a0a8a486",
   "metadata": {},
   "source": [
    "#### 📊 오차행렬"
   ]
  },
  {
   "cell_type": "code",
   "execution_count": 28,
   "id": "d98e639e-4d0d-4495-afcf-0e9757eaf8b5",
   "metadata": {},
   "outputs": [],
   "source": [
    "import matplotlib.pyplot as plt\n",
    "from sklearn.metrics import accuracy_score, precision_score, recall_score, f1_score, roc_auc_score, confusion_matrix, ConfusionMatrixDisplay\n",
    "\n",
    "# 정밀도, 재현율, F1 score는 다중 분류에서 각각의 확률값의 평균을 구해서 나타내야 한다.\n",
    "# 이 때, macro 방식과, micro 방식이 대표적이다.\n",
    "# macro: 평균을 낸 뒤, 그 평균의 다시 평균을 구하는 방식(샘플 수는 신경쓰지 않는다). = 비중 맞추기\n",
    "# micro: 샘플 수를 전체 합하고 전체 개수도 전체 합해서 나눠주는 방식(샘플 수를 신경쓴다). = 비중 안 맞춰도 됨\n",
    "# 타겟 데이터의 비중이 많이 차이난다면, micro방식을 사용하는 것이 바람직하다.\n",
    "def get_evaluation(y_test, prediction, classifier=None, X_test=None):\n",
    "#     오차 행렬\n",
    "    confusion = confusion_matrix(y_test, prediction)\n",
    "#     정확도\n",
    "    accuracy = accuracy_score(y_test , prediction)\n",
    "#     정밀도\n",
    "    precision = precision_score(y_test , prediction, average='micro')\n",
    "#     재현율\n",
    "    recall = recall_score(y_test , prediction, average='micro')\n",
    "#     F1 score\n",
    "    f1 = f1_score(y_test, prediction, average='micro')\n",
    "    \n",
    "    print('오차 행렬')\n",
    "    print(confusion)\n",
    "    print('정확도: {0:.4f}, 정밀도: {1:.4f}, 재현율: {2:.4f}, F1: {3:.4f}'.format(accuracy, precision, recall, f1))\n",
    "    print(\"#\" * 80)\n",
    "    \n",
    "    if classifier is not None and  X_test is not None:\n",
    "        fig, axes = plt.subplots(nrows=1, ncols=2, figsize=(12,4))\n",
    "        titles_options = [(\"Confusion matrix\", None), (\"Normalized confusion matrix\", \"true\")]\n",
    "\n",
    "        for (title, normalize), ax in zip(titles_options, axes.flatten()):\n",
    "            disp = ConfusionMatrixDisplay.from_estimator(classifier, X_test, y_test, ax=ax, cmap=plt.cm.Blues, normalize=normalize)\n",
    "            disp.ax_.set_title(title)\n",
    "        plt.show()"
   ]
  },
  {
   "cell_type": "code",
   "execution_count": 29,
   "id": "b194272f-943e-4aa3-be57-c19151d3f5cf",
   "metadata": {},
   "outputs": [
    {
     "name": "stdout",
     "output_type": "stream",
     "text": [
      "오차 행렬\n",
      "[[ 287    5   74    1  120    0]\n",
      " [  18  224   81    1  106    0]\n",
      " [   4    2 1146    6   55    0]\n",
      " [   5    3  168   72   48    0]\n",
      " [   7    3   62    1  970    0]\n",
      " [   2   16   68    0   37    8]]\n",
      "정확도: 0.7519, 정밀도: 0.7519, 재현율: 0.7519, F1: 0.7519\n",
      "################################################################################\n"
     ]
    },
    {
     "data": {
      "image/png": "[encoded data removed]",
      "text/plain": [
       "<Figure size 1200x400 with 4 Axes>"
      ]
     },
     "metadata": {},
     "output_type": "display_data"
    }
   ],
   "source": [
    "get_evaluation(y_test, prediction, m_nb_pipe, X_test)"
   ]
  },
  {
   "cell_type": "markdown",
   "id": "6cb3e7c0-3aee-41e6-a5b1-8123410b33c4",
   "metadata": {},
   "source": [
    "#### 정리\n",
    "위의 오차 행렬을 보면, 3과 5에 대한 예측률이 좋지 않다. 이는 타겟 데이터의 불균형 문제로 판단된다.  \n",
    "언더 샘플링을 통해 타겟 데이터의 비중을 맞춰주면 T<sub>n</sub>이 높아질 것으로 보인다.\n",
    "* 언더 샘플링은 10% 미만에서 사용하기..."
   ]
  },
  {
   "cell_type": "markdown",
   "id": "dba1e5d9-fd25-4963-9c4d-5d33d65c2550",
   "metadata": {},
   "source": [
    "### Ⅷ. 언더 샘플링"
   ]
  },
  {
   "cell_type": "markdown",
   "id": "b56b7195-ba2e-4ae7-91fd-1c12ef84187d",
   "metadata": {},
   "source": [
    "#### 📊 데이터 호출"
   ]
  },
  {
   "cell_type": "code",
   "execution_count": 30,
   "id": "50b4e5fc-d93e-4868-95e1-65a14030d2ef",
   "metadata": {},
   "outputs": [
    {
     "data": {
      "text/html": [
       "<div>\n",
       "<style scoped>\n",
       "    .dataframe tbody tr th:only-of-type {\n",
       "        vertical-align: middle;\n",
       "    }\n",
       "\n",
       "    .dataframe tbody tr th {\n",
       "        vertical-align: top;\n",
       "    }\n",
       "\n",
       "    .dataframe thead th {\n",
       "        text-align: right;\n",
       "    }\n",
       "</style>\n",
       "<table border=\"1\" class=\"dataframe\">\n",
       "  <thead>\n",
       "    <tr style=\"text-align: right;\">\n",
       "      <th></th>\n",
       "      <th>message</th>\n",
       "      <th>feeling</th>\n",
       "    </tr>\n",
       "  </thead>\n",
       "  <tbody>\n",
       "    <tr>\n",
       "      <th>0</th>\n",
       "      <td>im feeling quite sad and sorry for myself but ...</td>\n",
       "      <td>sadness</td>\n",
       "    </tr>\n",
       "    <tr>\n",
       "      <th>1</th>\n",
       "      <td>i feel like i am still looking at a blank canv...</td>\n",
       "      <td>sadness</td>\n",
       "    </tr>\n",
       "    <tr>\n",
       "      <th>2</th>\n",
       "      <td>i feel like a faithful servant</td>\n",
       "      <td>love</td>\n",
       "    </tr>\n",
       "    <tr>\n",
       "      <th>3</th>\n",
       "      <td>i am just feeling cranky and blue</td>\n",
       "      <td>anger</td>\n",
       "    </tr>\n",
       "    <tr>\n",
       "      <th>4</th>\n",
       "      <td>i can have for a treat or if i am feeling festive</td>\n",
       "      <td>joy</td>\n",
       "    </tr>\n",
       "    <tr>\n",
       "      <th>...</th>\n",
       "      <td>...</td>\n",
       "      <td>...</td>\n",
       "    </tr>\n",
       "    <tr>\n",
       "      <th>17995</th>\n",
       "      <td>i just had a very brief time in the beanbag an...</td>\n",
       "      <td>sadness</td>\n",
       "    </tr>\n",
       "    <tr>\n",
       "      <th>17996</th>\n",
       "      <td>i am now turning and i feel pathetic that i am...</td>\n",
       "      <td>sadness</td>\n",
       "    </tr>\n",
       "    <tr>\n",
       "      <th>17997</th>\n",
       "      <td>i feel strong and good overall</td>\n",
       "      <td>joy</td>\n",
       "    </tr>\n",
       "    <tr>\n",
       "      <th>17998</th>\n",
       "      <td>i feel like this was such a rude comment and i...</td>\n",
       "      <td>anger</td>\n",
       "    </tr>\n",
       "    <tr>\n",
       "      <th>17999</th>\n",
       "      <td>i know a lot but i feel so stupid because i ca...</td>\n",
       "      <td>sadness</td>\n",
       "    </tr>\n",
       "  </tbody>\n",
       "</table>\n",
       "<p>18000 rows × 2 columns</p>\n",
       "</div>"
      ],
      "text/plain": [
       "                                                 message  feeling\n",
       "0      im feeling quite sad and sorry for myself but ...  sadness\n",
       "1      i feel like i am still looking at a blank canv...  sadness\n",
       "2                         i feel like a faithful servant     love\n",
       "3                      i am just feeling cranky and blue    anger\n",
       "4      i can have for a treat or if i am feeling festive      joy\n",
       "...                                                  ...      ...\n",
       "17995  i just had a very brief time in the beanbag an...  sadness\n",
       "17996  i am now turning and i feel pathetic that i am...  sadness\n",
       "17997                     i feel strong and good overall      joy\n",
       "17998  i feel like this was such a rude comment and i...    anger\n",
       "17999  i know a lot but i feel so stupid because i ca...  sadness\n",
       "\n",
       "[18000 rows x 2 columns]"
      ]
     },
     "execution_count": 30,
     "metadata": {},
     "output_type": "execute_result"
    }
   ],
   "source": [
    "# 데이터 세트 호출\n",
    "f_df = pd.read_csv('./datasets/feeling.csv', sep=\";\")\n",
    "f_df"
   ]
  },
  {
   "cell_type": "markdown",
   "id": "cc258315-fca7-4503-a0e0-1e60d83ad06f",
   "metadata": {},
   "source": [
    "#### 📊 데이터 탐색"
   ]
  },
  {
   "cell_type": "code",
   "execution_count": 31,
   "id": "ae892c83-95cb-45d3-a54c-1297a9f0f90a",
   "metadata": {},
   "outputs": [
    {
     "data": {
      "text/plain": [
       "feeling\n",
       "joy         6066\n",
       "sadness     5216\n",
       "anger       2434\n",
       "fear        2149\n",
       "love        1482\n",
       "surprise     653\n",
       "Name: count, dtype: int64"
      ]
     },
     "execution_count": 31,
     "metadata": {},
     "output_type": "execute_result"
    }
   ],
   "source": [
    "f_df.feeling.value_counts()"
   ]
  },
  {
   "cell_type": "markdown",
   "id": "adbdb7f8-5a93-4f68-9978-2e122f4491bc",
   "metadata": {},
   "source": [
    "#### 📊 데이터 전처리"
   ]
  },
  {
   "cell_type": "code",
   "execution_count": 32,
   "id": "34af6892-2744-4bd7-8df3-231c62f76486",
   "metadata": {},
   "outputs": [],
   "source": [
    "# 중복행 제거\n",
    "f_df.drop_duplicates(inplace=True)"
   ]
  },
  {
   "cell_type": "code",
   "execution_count": 33,
   "id": "328060b7-b41a-42e7-9d79-538eb122d1ec",
   "metadata": {},
   "outputs": [
    {
     "data": {
      "text/plain": [
       "0"
      ]
     },
     "execution_count": 33,
     "metadata": {},
     "output_type": "execute_result"
    }
   ],
   "source": [
    "# 중복 확인\n",
    "f_df.duplicated().sum()"
   ]
  },
  {
   "cell_type": "code",
   "execution_count": 34,
   "id": "3182aeb6-989a-4864-ac7b-934d3840ef5f",
   "metadata": {},
   "outputs": [
    {
     "data": {
      "text/html": [
       "<div>\n",
       "<style scoped>\n",
       "    .dataframe tbody tr th:only-of-type {\n",
       "        vertical-align: middle;\n",
       "    }\n",
       "\n",
       "    .dataframe tbody tr th {\n",
       "        vertical-align: top;\n",
       "    }\n",
       "\n",
       "    .dataframe thead th {\n",
       "        text-align: right;\n",
       "    }\n",
       "</style>\n",
       "<table border=\"1\" class=\"dataframe\">\n",
       "  <thead>\n",
       "    <tr style=\"text-align: right;\">\n",
       "      <th></th>\n",
       "      <th>message</th>\n",
       "      <th>target</th>\n",
       "    </tr>\n",
       "  </thead>\n",
       "  <tbody>\n",
       "    <tr>\n",
       "      <th>0</th>\n",
       "      <td>im feeling quite sad and sorry for myself but ...</td>\n",
       "      <td>4</td>\n",
       "    </tr>\n",
       "    <tr>\n",
       "      <th>1</th>\n",
       "      <td>i feel like i am still looking at a blank canv...</td>\n",
       "      <td>4</td>\n",
       "    </tr>\n",
       "    <tr>\n",
       "      <th>2</th>\n",
       "      <td>i feel like a faithful servant</td>\n",
       "      <td>3</td>\n",
       "    </tr>\n",
       "    <tr>\n",
       "      <th>3</th>\n",
       "      <td>i am just feeling cranky and blue</td>\n",
       "      <td>0</td>\n",
       "    </tr>\n",
       "    <tr>\n",
       "      <th>4</th>\n",
       "      <td>i can have for a treat or if i am feeling festive</td>\n",
       "      <td>2</td>\n",
       "    </tr>\n",
       "    <tr>\n",
       "      <th>...</th>\n",
       "      <td>...</td>\n",
       "      <td>...</td>\n",
       "    </tr>\n",
       "    <tr>\n",
       "      <th>17995</th>\n",
       "      <td>i just had a very brief time in the beanbag an...</td>\n",
       "      <td>4</td>\n",
       "    </tr>\n",
       "    <tr>\n",
       "      <th>17996</th>\n",
       "      <td>i am now turning and i feel pathetic that i am...</td>\n",
       "      <td>4</td>\n",
       "    </tr>\n",
       "    <tr>\n",
       "      <th>17997</th>\n",
       "      <td>i feel strong and good overall</td>\n",
       "      <td>2</td>\n",
       "    </tr>\n",
       "    <tr>\n",
       "      <th>17998</th>\n",
       "      <td>i feel like this was such a rude comment and i...</td>\n",
       "      <td>0</td>\n",
       "    </tr>\n",
       "    <tr>\n",
       "      <th>17999</th>\n",
       "      <td>i know a lot but i feel so stupid because i ca...</td>\n",
       "      <td>4</td>\n",
       "    </tr>\n",
       "  </tbody>\n",
       "</table>\n",
       "<p>17999 rows × 2 columns</p>\n",
       "</div>"
      ],
      "text/plain": [
       "                                                 message  target\n",
       "0      im feeling quite sad and sorry for myself but ...       4\n",
       "1      i feel like i am still looking at a blank canv...       4\n",
       "2                         i feel like a faithful servant       3\n",
       "3                      i am just feeling cranky and blue       0\n",
       "4      i can have for a treat or if i am feeling festive       2\n",
       "...                                                  ...     ...\n",
       "17995  i just had a very brief time in the beanbag an...       4\n",
       "17996  i am now turning and i feel pathetic that i am...       4\n",
       "17997                     i feel strong and good overall       2\n",
       "17998  i feel like this was such a rude comment and i...       0\n",
       "17999  i know a lot but i feel so stupid because i ca...       4\n",
       "\n",
       "[17999 rows x 2 columns]"
      ]
     },
     "execution_count": 34,
     "metadata": {},
     "output_type": "execute_result"
    }
   ],
   "source": [
    "from sklearn.preprocessing import LabelEncoder\n",
    "\n",
    "# 문자열 정수로 형변환\n",
    "f_encoder = LabelEncoder()\n",
    "targets = f_encoder.fit_transform(f_df.feeling)\n",
    "f_df['target'] = targets\n",
    "f_df = f_df.drop(labels=['feeling'], axis=1)\n",
    "f_df"
   ]
  },
  {
   "cell_type": "markdown",
   "id": "350b9d0d-43cc-4192-807c-0611ff30bebd",
   "metadata": {},
   "source": [
    "#### 📊 언더 샘플링"
   ]
  },
  {
   "cell_type": "code",
   "execution_count": 35,
   "id": "d18b283c-0cae-4d64-b0e2-0ffde98b6a6d",
   "metadata": {},
   "outputs": [],
   "source": [
    "# 각 피처의 샘플 개수 맞춰주기 \n",
    "# 'anger' 'fear' 'joy' 'love' 'sadness' 'surprise'\n",
    "anger = f_df[f_df.target == 0].sample(653, random_state=124)\n",
    "fear = f_df[f_df.target == 1].sample(653, random_state=124)\n",
    "joy = f_df[f_df.target == 2].sample(653, random_state=124)\n",
    "love = f_df[f_df.target == 3].sample(653, random_state=124)\n",
    "sadness = f_df[f_df.target == 4].sample(653, random_state=124)\n",
    "surprise = f_df[f_df.target == 5]\n",
    "\n",
    "under_f_df = pd.concat([anger, fear, joy, love, sadness, surprise]).reset_index(drop=True)"
   ]
  },
  {
   "cell_type": "code",
   "execution_count": 36,
   "id": "d2f4833b-3ce0-4a35-a61e-1076ec47e593",
   "metadata": {},
   "outputs": [
    {
     "data": {
      "text/plain": [
       "target\n",
       "0    653\n",
       "1    653\n",
       "2    653\n",
       "3    653\n",
       "4    653\n",
       "5    653\n",
       "Name: count, dtype: int64"
      ]
     },
     "execution_count": 36,
     "metadata": {},
     "output_type": "execute_result"
    }
   ],
   "source": [
    "under_f_df.target.value_counts()"
   ]
  },
  {
   "cell_type": "markdown",
   "id": "e0952e4c-21c1-4b55-9d2c-861b50e72001",
   "metadata": {},
   "source": [
    "#### 📊 데이터 세트 분리"
   ]
  },
  {
   "cell_type": "code",
   "execution_count": 37,
   "id": "07d02e27-eefd-42d7-84c6-6f19e5048946",
   "metadata": {},
   "outputs": [],
   "source": [
    "from sklearn.model_selection import train_test_split\n",
    "\n",
    "# 문제/정답, 학습/테스트 데이터 분리\n",
    "X_train, X_test, y_train, y_test = \\\n",
    "train_test_split(under_f_df.message, under_f_df.target, stratify=under_f_df.target, test_size=0.2, random_state=124)"
   ]
  },
  {
   "cell_type": "code",
   "execution_count": 38,
   "id": "1c17f6dd-bd46-42ab-b4ed-08810d42216b",
   "metadata": {},
   "outputs": [],
   "source": [
    "from sklearn.feature_extraction.text import CountVectorizer\n",
    "from sklearn.naive_bayes import MultinomialNB\n",
    "from sklearn.pipeline import Pipeline\n",
    "\n",
    "# 파이프 2개 연결하여 처리 (텍스트를 백터로 형변환 → 나이브 베이즈 분류기)\n",
    "m_nb_pipe = Pipeline([('count_vectorizer', CountVectorizer()), \n",
    "                      ('multinomial_NB', MultinomialNB())])"
   ]
  },
  {
   "cell_type": "markdown",
   "id": "b9bed180-3adf-492b-abcf-1055151964ea",
   "metadata": {},
   "source": [
    "#### 📊 데이터 학습"
   ]
  },
  {
   "cell_type": "code",
   "execution_count": 39,
   "id": "8d0894c2-8641-4af6-b007-ed9210535f88",
   "metadata": {},
   "outputs": [
    {
     "data": {
      "text/html": [
       "<style>#sk-container-id-2 {color: black;background-color: white;}#sk-container-id-2 pre{padding: 0;}#sk-container-id-2 div.sk-toggleable {background-color: white;}#sk-container-id-2 label.sk-toggleable__label {cursor: pointer;display: block;width: 100%;margin-bottom: 0;padding: 0.3em;box-sizing: border-box;text-align: center;}#sk-container-id-2 label.sk-toggleable__label-arrow:before {content: \"▸\";float: left;margin-right: 0.25em;color: #696969;}#sk-container-id-2 label.sk-toggleable__label-arrow:hover:before {color: black;}#sk-container-id-2 div.sk-estimator:hover label.sk-toggleable__label-arrow:before {color: black;}#sk-container-id-2 div.sk-toggleable__content {max-height: 0;max-width: 0;overflow: hidden;text-align: left;background-color: #f0f8ff;}#sk-container-id-2 div.sk-toggleable__content pre {margin: 0.2em;color: black;border-radius: 0.25em;background-color: #f0f8ff;}#sk-container-id-2 input.sk-toggleable__control:checked~div.sk-toggleable__content {max-height: 200px;max-width: 100%;overflow: auto;}#sk-container-id-2 input.sk-toggleable__control:checked~label.sk-toggleable__label-arrow:before {content: \"▾\";}#sk-container-id-2 div.sk-estimator input.sk-toggleable__control:checked~label.sk-toggleable__label {background-color: #d4ebff;}#sk-container-id-2 div.sk-label input.sk-toggleable__control:checked~label.sk-toggleable__label {background-color: #d4ebff;}#sk-container-id-2 input.sk-hidden--visually {border: 0;clip: rect(1px 1px 1px 1px);clip: rect(1px, 1px, 1px, 1px);height: 1px;margin: -1px;overflow: hidden;padding: 0;position: absolute;width: 1px;}#sk-container-id-2 div.sk-estimator {font-family: monospace;background-color: #f0f8ff;border: 1px dotted black;border-radius: 0.25em;box-sizing: border-box;margin-bottom: 0.5em;}#sk-container-id-2 div.sk-estimator:hover {background-color: #d4ebff;}#sk-container-id-2 div.sk-parallel-item::after {content: \"\";width: 100%;border-bottom: 1px solid gray;flex-grow: 1;}#sk-container-id-2 div.sk-label:hover label.sk-toggleable__label {background-color: #d4ebff;}#sk-container-id-2 div.sk-serial::before {content: \"\";position: absolute;border-left: 1px solid gray;box-sizing: border-box;top: 0;bottom: 0;left: 50%;z-index: 0;}#sk-container-id-2 div.sk-serial {display: flex;flex-direction: column;align-items: center;background-color: white;padding-right: 0.2em;padding-left: 0.2em;position: relative;}#sk-container-id-2 div.sk-item {position: relative;z-index: 1;}#sk-container-id-2 div.sk-parallel {display: flex;align-items: stretch;justify-content: center;background-color: white;position: relative;}#sk-container-id-2 div.sk-item::before, #sk-container-id-2 div.sk-parallel-item::before {content: \"\";position: absolute;border-left: 1px solid gray;box-sizing: border-box;top: 0;bottom: 0;left: 50%;z-index: -1;}#sk-container-id-2 div.sk-parallel-item {display: flex;flex-direction: column;z-index: 1;position: relative;background-color: white;}#sk-container-id-2 div.sk-parallel-item:first-child::after {align-self: flex-end;width: 50%;}#sk-container-id-2 div.sk-parallel-item:last-child::after {align-self: flex-start;width: 50%;}#sk-container-id-2 div.sk-parallel-item:only-child::after {width: 0;}#sk-container-id-2 div.sk-dashed-wrapped {border: 1px dashed gray;margin: 0 0.4em 0.5em 0.4em;box-sizing: border-box;padding-bottom: 0.4em;background-color: white;}#sk-container-id-2 div.sk-label label {font-family: monospace;font-weight: bold;display: inline-block;line-height: 1.2em;}#sk-container-id-2 div.sk-label-container {text-align: center;}#sk-container-id-2 div.sk-container {/* jupyter's `normalize.less` sets `[hidden] { display: none; }` but bootstrap.min.css set `[hidden] { display: none !important; }` so we also need the `!important` here to be able to override the default hidden behavior on the sphinx rendered scikit-learn.org. See: https://github.com/scikit-learn/scikit-learn/issues/21755 */display: inline-block !important;position: relative;}#sk-container-id-2 div.sk-text-repr-fallback {display: none;}</style><div id=\"sk-container-id-2\" class=\"sk-top-container\"><div class=\"sk-text-repr-fallback\"><pre>Pipeline(steps=[(&#x27;count_vectorizer&#x27;, CountVectorizer()),\n",
       "                (&#x27;multinomial_NB&#x27;, MultinomialNB())])</pre><b>In a Jupyter environment, please rerun this cell to show the HTML representation or trust the notebook. <br />On GitHub, the HTML representation is unable to render, please try loading this page with nbviewer.org.</b></div><div class=\"sk-container\" hidden><div class=\"sk-item sk-dashed-wrapped\"><div class=\"sk-label-container\"><div class=\"sk-label sk-toggleable\"><input class=\"sk-toggleable__control sk-hidden--visually\" id=\"sk-estimator-id-4\" type=\"checkbox\" ><label for=\"sk-estimator-id-4\" class=\"sk-toggleable__label sk-toggleable__label-arrow\">Pipeline</label><div class=\"sk-toggleable__content\"><pre>Pipeline(steps=[(&#x27;count_vectorizer&#x27;, CountVectorizer()),\n",
       "                (&#x27;multinomial_NB&#x27;, MultinomialNB())])</pre></div></div></div><div class=\"sk-serial\"><div class=\"sk-item\"><div class=\"sk-estimator sk-toggleable\"><input class=\"sk-toggleable__control sk-hidden--visually\" id=\"sk-estimator-id-5\" type=\"checkbox\" ><label for=\"sk-estimator-id-5\" class=\"sk-toggleable__label sk-toggleable__label-arrow\">CountVectorizer</label><div class=\"sk-toggleable__content\"><pre>CountVectorizer()</pre></div></div></div><div class=\"sk-item\"><div class=\"sk-estimator sk-toggleable\"><input class=\"sk-toggleable__control sk-hidden--visually\" id=\"sk-estimator-id-6\" type=\"checkbox\" ><label for=\"sk-estimator-id-6\" class=\"sk-toggleable__label sk-toggleable__label-arrow\">MultinomialNB</label><div class=\"sk-toggleable__content\"><pre>MultinomialNB()</pre></div></div></div></div></div></div></div>"
      ],
      "text/plain": [
       "Pipeline(steps=[('count_vectorizer', CountVectorizer()),\n",
       "                ('multinomial_NB', MultinomialNB())])"
      ]
     },
     "execution_count": 39,
     "metadata": {},
     "output_type": "execute_result"
    }
   ],
   "source": [
    "# 데이터 학습\n",
    "m_nb_pipe.fit(X_train, y_train)"
   ]
  },
  {
   "cell_type": "code",
   "execution_count": 40,
   "id": "99508561-9017-4aa9-a926-2829ce2f99f7",
   "metadata": {},
   "outputs": [
    {
     "name": "stdout",
     "output_type": "stream",
     "text": [
      "3589    5\n",
      "655     1\n",
      "1814    2\n",
      "4       0\n",
      "3813    5\n",
      "       ..\n",
      "393     0\n",
      "1957    2\n",
      "1292    1\n",
      "2054    3\n",
      "1015    1\n",
      "Name: target, Length: 784, dtype: int32\n",
      "[5 5 2 0 5 5 4 1 3 1 2 2 2 3 1 1 0 1 4 0 5 0 3 5 4 4 2 3 1 5 2 4 2 5 2 3 3\n",
      " 1 5 1 3 2 0 4 3 4 3 5 2 3 4 5 4 3 0 5 1 4 1 4 3 4 3 3 5 3 4 2 3 4 2 2 0 5\n",
      " 2 0 0 1 1 4 4 2 2 4 1 3 0 1 5 5 0 5 3 3 2 2 0 1 2 5 2 3 1 1 3 4 4 3 4 3 4\n",
      " 0 5 1 2 0 0 5 3 5 2 2 5 2 0 2 3 3 2 2 3 0 1 3 4 5 0 0 0 0 0 0 2 1 1 2 0 0\n",
      " 2 4 2 2 5 2 3 4 1 1 3 1 5 4 0 1 5 2 2 3 1 0 3 2 1 1 3 1 1 2 4 1 1 1 5 5 3\n",
      " 1 4 5 4 3 5 3 3 3 1 5 5 1 2 5 5 2 3 5 3 0 1 2 2 3 5 3 2 4 2 3 3 0 1 4 5 1\n",
      " 4 5 3 2 0 3 0 0 5 0 1 1 5 1 3 5 1 5 3 1 5 1 0 0 1 5 2 4 4 1 4 5 2 0 2 0 0\n",
      " 1 0 2 0 3 5 2 5 4 4 3 2 5 5 3 5 0 1 2 1 3 0 0 2 1 0 3 3 1 5 0 5 1 0 4 5 0\n",
      " 3 4 1 1 0 4 3 2 0 5 5 5 3 2 0 2 1 0 5 3 2 1 5 3 5 3 0 0 5 2 2 4 0 5 5 5 0\n",
      " 3 5 2 2 5 5 2 1 5 4 1 5 1 5 5 0 4 5 0 3 3 2 4 5 5 5 3 3 3 2 2 5 2 0 1 5 2\n",
      " 1 0 5 2 5 3 5 4 3 1 5 4 5 5 0 1 3 5 0 4 2 4 0 5 5 3 4 1 0 2 3 3 0 3 5 5 1\n",
      " 0 5 4 2 5 5 1 0 5 2 0 4 0 2 5 0 0 2 4 0 1 0 3 2 3 1 2 3 0 1 5 4 1 1 5 3 5\n",
      " 0 0 4 3 1 0 3 2 5 2 1 3 5 0 4 2 5 2 3 0 1 5 0 1 5 5 0 5 3 1 0 3 3 3 3 2 5\n",
      " 2 1 1 3 1 5 2 1 5 4 4 5 4 2 3 2 0 2 3 0 2 0 5 2 5 2 3 0 4 5 0 3 1 5 2 2 2\n",
      " 5 3 1 0 0 1 5 4 4 4 1 3 1 3 0 2 5 5 2 1 3 3 4 5 1 4 5 3 0 3 5 1 1 0 5 0 0\n",
      " 2 3 3 3 4 3 3 2 4 0 0 5 0 5 1 0 1 2 0 3 3 3 2 2 4 0 4 5 5 4 3 5 4 2 4 1 2\n",
      " 3 1 5 5 2 3 3 1 5 3 1 0 5 1 5 3 1 5 1 2 5 2 3 4 1 3 5 4 3 4 2 1 4 4 2 3 3\n",
      " 2 5 2 4 0 2 4 5 1 1 3 2 1 3 0 2 0 0 0 3 0 2 5 1 3 2 1 4 4 5 5 1 1 1 1 3 5\n",
      " 5 4 2 5 5 1 1 0 5 5 2 5 0 5 1 0 3 2 3 0 3 4 5 1 1 2 2 5 2 0 5 1 1 2 5 0 5\n",
      " 2 3 1 2 3 1 4 5 2 3 5 4 3 0 4 5 5 4 0 4 4 1 5 2 2 3 1 1 3 4 2 5 2 5 4 3 3\n",
      " 2 0 2 5 2 2 0 0 0 3 2 5 5 5 5 0 1 4 3 3 2 1 1 4 4 5 2 3 2 0 4 5 1 2 3 1 2\n",
      " 0 4 1 2 1 3 1]\n"
     ]
    }
   ],
   "source": [
    "print(y_test)\n",
    "print(m_nb_pipe.predict(X_test))"
   ]
  },
  {
   "cell_type": "markdown",
   "id": "6d2718a7-b65c-49ef-adf8-b2a1903b6a22",
   "metadata": {},
   "source": [
    "#### 📊 데이터 예측"
   ]
  },
  {
   "cell_type": "code",
   "execution_count": 41,
   "id": "4e1c6739-cc71-4c52-840b-2382ca5d94d4",
   "metadata": {},
   "outputs": [],
   "source": [
    "prediction = m_nb_pipe.predict(X_test)"
   ]
  },
  {
   "cell_type": "markdown",
   "id": "07b67e3b-293f-495a-875b-6a4516f1f4f4",
   "metadata": {},
   "source": [
    "#### 📊 데이터 평가"
   ]
  },
  {
   "cell_type": "code",
   "execution_count": 42,
   "id": "5717cf36-2c9a-4e6f-9285-f3dd26cc6581",
   "metadata": {},
   "outputs": [
    {
     "data": {
      "text/plain": [
       "0.7104591836734694"
      ]
     },
     "execution_count": 42,
     "metadata": {},
     "output_type": "execute_result"
    }
   ],
   "source": [
    "# 데이터 평가\n",
    "m_nb_pipe.score(X_test, y_test)"
   ]
  },
  {
   "cell_type": "markdown",
   "id": "a6fdd570-5c9b-42f1-8000-7be592b10bd8",
   "metadata": {},
   "source": [
    "#### 📊 오차행렬"
   ]
  },
  {
   "cell_type": "code",
   "execution_count": 43,
   "id": "654dd762-1939-42a7-939b-4c1192fcfe1f",
   "metadata": {},
   "outputs": [],
   "source": [
    "import matplotlib.pyplot as plt\n",
    "from sklearn.metrics import accuracy_score, precision_score, recall_score, f1_score, roc_auc_score, confusion_matrix, ConfusionMatrixDisplay\n",
    "\n",
    "# 정밀도, 재현율, F1 score는 다중 분류에서 각각의 확률값의 평균을 구해서 나타내야 한다.\n",
    "# 이 때, macro 방식과, micro 방식이 대표적이다.\n",
    "# macro: 평균을 낸 뒤, 그 평균의 다시 평균을 구하는 방식(샘플 수는 신경쓰지 않는다).\n",
    "# micro: 샘플 수를 전체 합하고 전체 개수도 전체 합해서 나눠주는 방식(샘플 수를 신경쓴다).\n",
    "# 타겟 데이터의 비중이 많이 차이난다면, micro방식을 사용하는 것이 바람직하다.\n",
    "def get_evaluation(y_test, prediction, classifier=None, X_test=None):\n",
    "#     오차 행렬\n",
    "    confusion = confusion_matrix(y_test, prediction)\n",
    "#     정확도\n",
    "    accuracy = accuracy_score(y_test , prediction)\n",
    "#     정밀도\n",
    "    precision = precision_score(y_test , prediction, average='macro')\n",
    "#     재현율\n",
    "    recall = recall_score(y_test , prediction, average='macro')\n",
    "#     F1 score\n",
    "    f1 = f1_score(y_test, prediction, average='macro')\n",
    "    \n",
    "    print('오차 행렬')\n",
    "    print(confusion)\n",
    "    print('정확도: {0:.4f}, 정밀도: {1:.4f}, 재현율: {2:.4f}, F1: {3:.4f}'.format(accuracy, precision, recall, f1))\n",
    "    print(\"#\" * 80)\n",
    "    \n",
    "    if classifier is not None and  X_test is not None:\n",
    "        fig, axes = plt.subplots(nrows=1, ncols=2, figsize=(12,4))\n",
    "        titles_options = [(\"Confusion matrix\", None), (\"Normalized confusion matrix\", \"true\")]\n",
    "\n",
    "        for (title, normalize), ax in zip(titles_options, axes.flatten()):\n",
    "            disp = ConfusionMatrixDisplay.from_estimator(classifier, X_test, y_test, ax=ax, cmap=plt.cm.Blues, normalize=normalize)\n",
    "            disp.ax_.set_title(title)\n",
    "        plt.show()"
   ]
  },
  {
   "cell_type": "code",
   "execution_count": 44,
   "id": "fdaac411-6717-4278-8e2d-6761364942cf",
   "metadata": {},
   "outputs": [
    {
     "name": "stdout",
     "output_type": "stream",
     "text": [
      "오차 행렬\n",
      "[[ 93   8   7   0  11  11]\n",
      " [  8  92   8   5   3  15]\n",
      " [  4   8  89  16   4  10]\n",
      " [  3   5  18 101   0   4]\n",
      " [ 12  12   9  11  73  14]\n",
      " [  1   5   6   6   3 109]]\n",
      "정확도: 0.7105, 정밀도: 0.7163, 재현율: 0.7106, F1: 0.7085\n",
      "################################################################################\n"
     ]
    },
    {
     "data": {
      "image/png": "[encoded data removed]",
      "text/plain": [
       "<Figure size 1200x400 with 4 Axes>"
      ]
     },
     "metadata": {},
     "output_type": "display_data"
    }
   ],
   "source": [
    "get_evaluation(y_test, prediction, m_nb_pipe, X_test)"
   ]
  }
 ],
 "metadata": {
  "kernelspec": {
   "display_name": "Python 3 (ipykernel)",
   "language": "python",
   "name": "python3"
  },
  "language_info": {
   "codemirror_mode": {
    "name": "ipython",
    "version": 3
   },
   "file_extension": ".py",
   "mimetype": "text/x-python",
   "name": "python",
   "nbconvert_exporter": "python",
   "pygments_lexer": "ipython3",
   "version": "3.11.8"
  }
 },
 "nbformat": 4,
 "nbformat_minor": 5
}
