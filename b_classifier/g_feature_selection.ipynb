{
 "cells": [
  {
   "cell_type": "markdown",
   "id": "334c4e15-0656-4fe6-9ff0-5de7408eb1df",
   "metadata": {},
   "source": [
    "### Feature Selection\n",
    "- 결과 예측에 있어서, 불필요한 feature들로 인해 모델 예측 성능을 떨어뜨릴 가능성을 사전 제거할 수 있다.\n",
    "- 타겟 데이터와 관련이 없는 feature들을 제거하여, 타겟 데이터를 가장 잘 예측하는 feature들의 조합(상관관계가 높은)을 찾아내는 것이 목적이다.\n",
    "\n",
    "#### 🎈용어 정리\n",
    "<table style=\"margin-left: 0\">\n",
    "    <tr>\n",
    "        <th style=\"text-align: center\">표현</th>\n",
    "        <th style=\"text-align: center\">정의</th>\n",
    "    </tr>\n",
    "    <tr>\n",
    "        <td style=\"text-align: center\">Feature Engineering</td>\n",
    "        <td style=\"text-align: center\">도메인(기본) 지식을 사용하여 데이터에서 피처를 변형 및 생성</td>\n",
    "    </tr>\n",
    "    <tr>\n",
    "        <td style=\"text-align: center\">Feature Extraction</td>\n",
    "        <td style=\"text-align: center\">차원축소 등 새로운 중요 피처를 추출</td>\n",
    "    </tr>\n",
    "    <tr>\n",
    "        <td style=\"text-align: center\">Feature Selection</td>\n",
    "        <td style=\"text-align: center\">기존 피처에서 원하는 피처만 선택하는 과정</td>\n",
    "    </tr>\n",
    "</table>\n",
    "\n",
    "#### Recursive Feature Elimination (RFE)\n",
    "- 모델 최초 학습 이후 feature의 중요도를 선정하는 방식이다.\n",
    "- feature의 중요도가 낮은 속성들을 차례로 제거하면서 원하는 feature의 개수가 남을 때까지 반복적으로 학습 및 평가를 수행한다.\n",
    "- 경우의 수로 제거해가며 학습을 재수행하기 때문에 시간이 오래 걸린다.\n",
    "- 몇 개의 feature를 추출해야 할 지 직접 정의해야 하는 것이 단점이다.\n",
    "\n",
    "<img src=\"./images/RFE.png\" width=\"400px\">\n",
    "\n",
    "#### Recursive Feature Elimination Cross Validation (RFECV)\n",
    "- RFE의 단점을 보완하기 위해 만들어졌으며, 최고의 성능에서의 feature 개수를 알려주고, 해당 feature를 선택해 준다.\n",
    "- 각 feature 마다 Cross Validation을 진행하여 각기 다른 성능을 도출한다.\n",
    "- 도출된 성능 수치를 평균 내어 가장 높은 성능을 발휘하는 feature들을 선택한다.\n",
    "\n",
    "<img src=\"./images/RFECV.png\" width=\"600px\">\n",
    "\n",
    "\n",
    "#### Permutaion Importance\n",
    "- Permutation(순열)이란, 서로 다른 n개의 원소에서 r개를 중복없이 순서에 상관있게 선택하는 혹은 나열하는 것이다.  \n",
    "  여기서 원소는 feature이며, 각 feature 별로 중복없이 선택하여 feature의 중요도를 검증하는 방식이다.\n",
    "- 임의의 feature의 요소 순서를 무작위로 섞은 후 성능 감소에 대한 평균을 구한다.\n",
    "- 중요도를 판단하려는 feature의 요소를 noise로 만들어서 전과 후를 비교한 뒤 중요도를 판단한다.\n",
    "- 임의의 feature를 noise로 만들었을 대 성능이 떨어진 정도로feature importance를 판별할 수 있다.\n",
    "\n",
    "<img src=\"./images/feature_selection01.png\" width=\"500px\">\n",
    "<img src=\"./images/feature_selection02.png\" width=\"500px\">"
   ]
  },
  {
   "cell_type": "code",
   "execution_count": 1,
   "id": "e637377d-2fb1-4ac1-b582-4735141e96d4",
   "metadata": {},
   "outputs": [],
   "source": [
    "from sklearn.datasets import load_iris\n",
    "from sklearn.model_selection import train_test_split\n",
    "from sklearn.svm import SVC\n",
    "from sklearn.inspection import permutation_importance"
   ]
  },
  {
   "cell_type": "code",
   "execution_count": 2,
   "id": "f4291308-d1ef-4a14-8bc4-0ed1a3f17ce5",
   "metadata": {},
   "outputs": [],
   "source": [
    "# 데이터 세트 불러오기\n",
    "iris = load_iris()\n",
    "\n",
    "# 문제/정답 및 학습/테스트 데이터 분리\n",
    "X_train, X_test, y_train, y_test = \\\n",
    "train_test_split(iris.data, iris.target, stratify=iris.target, test_size=0.2, random_state=124)"
   ]
  },
  {
   "cell_type": "code",
   "execution_count": 3,
   "id": "a600eb23-aeb4-40a8-98f6-5bdc53240da7",
   "metadata": {},
   "outputs": [],
   "source": [
    "# 훈련\n",
    "svc = SVC().fit(X_train, y_train)"
   ]
  },
  {
   "cell_type": "code",
   "execution_count": 4,
   "id": "c95434fd-f4e1-48ff-9343-0b53b2d74152",
   "metadata": {},
   "outputs": [
    {
     "data": {
      "text/plain": [
       "array([2, 3, 1, 0], dtype=int64)"
      ]
     },
     "execution_count": 4,
     "metadata": {},
     "output_type": "execute_result"
    }
   ],
   "source": [
    "# 주어진 모델과 테스트 데이터에 대한 순열 중요도를 계산\n",
    "# n_repeats: 각 피처의 중요도를 평가할 때 섞는 횟수를 지정\n",
    "importance = permutation_importance(svc, X_test, y_test, n_repeats=30, random_state=124)\n",
    "# 평균을 내림차순으로 정렬하여 각 피처의 중요도 순위를 반환\n",
    "importance.importances_mean.argsort()[::-1]"
   ]
  },
  {
   "cell_type": "code",
   "execution_count": 5,
   "id": "887b2a4f-a717-4f38-a85f-33c5d7fde977",
   "metadata": {},
   "outputs": [
    {
     "name": "stdout",
     "output_type": "stream",
     "text": [
      "petal length (cm): 0.6589\n",
      "petal width (cm): 0.1811\n",
      "sepal width (cm): 0.03\n",
      "sepal length (cm): 0.0122\n"
     ]
    }
   ],
   "source": [
    "# 모델의 각 피처별 중요도 확인\n",
    "for i in importance.importances_mean.argsort()[::-1]:\n",
    "    print(f'{iris.feature_names[i]}: {round(importance.importances_mean[i], 4)}')"
   ]
  }
 ],
 "metadata": {
  "kernelspec": {
   "display_name": "Python 3 (ipykernel)",
   "language": "python",
   "name": "python3"
  },
  "language_info": {
   "codemirror_mode": {
    "name": "ipython",
    "version": 3
   },
   "file_extension": ".py",
   "mimetype": "text/x-python",
   "name": "python",
   "nbconvert_exporter": "python",
   "pygments_lexer": "ipython3",
   "version": "3.11.8"
  }
 },
 "nbformat": 4,
 "nbformat_minor": 5
}
