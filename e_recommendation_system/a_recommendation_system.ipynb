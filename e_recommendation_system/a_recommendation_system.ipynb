{
 "cells": [
  {
   "cell_type": "markdown",
   "id": "153cd4cc-2182-4697-9bed-8409d0b7824b",
   "metadata": {},
   "source": [
    "각각의 단어의 빈도수를 체크에서 유사한지 확인"
   ]
  },
  {
   "cell_type": "code",
   "execution_count": 1,
   "id": "ac4c8974-2de3-4838-9d39-51e25e62b2eb",
   "metadata": {},
   "outputs": [],
   "source": [
    "import numpy as np\n",
    "\n",
    "v1 = np.array([0, 0, 1])\n",
    "v2 = np.array([0, 1, 1])"
   ]
  },
  {
   "cell_type": "code",
   "execution_count": 2,
   "id": "a1f7c45e-3bf8-48a4-95e3-5fb66227a05e",
   "metadata": {},
   "outputs": [],
   "source": [
    "from numpy import dot\n",
    "from numpy.linalg import norm\n",
    "\n",
    "# 나중에 피처 받아오면됨\n",
    "def get_cosine_similarity(A, B):\n",
    "    return dot(A, B) / (norm(A) * norm(B))"
   ]
  },
  {
   "cell_type": "code",
   "execution_count": 3,
   "id": "b7338dee-edd1-4d6c-9ed5-4e94ae83275c",
   "metadata": {},
   "outputs": [
    {
     "data": {
      "text/plain": [
       "0.7071067811865475"
      ]
     },
     "execution_count": 3,
     "metadata": {},
     "output_type": "execute_result"
    }
   ],
   "source": [
    "get_cosine_similarity(v1, v2)"
   ]
  },
  {
   "cell_type": "code",
   "execution_count": 4,
   "id": "d082777b-8fda-4b56-888e-9da6b5567b7f",
   "metadata": {},
   "outputs": [],
   "source": [
    "import numpy as np\n",
    "\n",
    "# 빈도수\n",
    "# 앞에 있는 첫번째 단어의 비중이 큼\n",
    "v1 = np.array([10, 10, 1])\n",
    "v2 = np.array([0, 1, 1])"
   ]
  },
  {
   "cell_type": "code",
   "execution_count": 5,
   "id": "2664693a-e7fa-40cb-b855-5f9161cee303",
   "metadata": {},
   "outputs": [
    {
     "data": {
      "text/plain": [
       "0.773957299203321"
      ]
     },
     "execution_count": 5,
     "metadata": {},
     "output_type": "execute_result"
    }
   ],
   "source": [
    "get_cosine_similarity(v1, v2)"
   ]
  },
  {
   "cell_type": "code",
   "execution_count": 6,
   "id": "d04b1048-43a2-42b9-bbaa-88d6a8e306ed",
   "metadata": {},
   "outputs": [
    {
     "data": {
      "text/plain": [
       "array([[0.70710678]])"
      ]
     },
     "execution_count": 6,
     "metadata": {},
     "output_type": "execute_result"
    }
   ],
   "source": [
    "from sklearn.metrics.pairwise import cosine_similarity\n",
    "\n",
    "# 2차원으로 가져와야 함\n",
    "v1 = np.array([[0, 0, 1]])\n",
    "v2 = np.array([[0, 1, 1]])\n",
    "cosine_similarity(v1, v2)"
   ]
  },
  {
   "cell_type": "code",
   "execution_count": 8,
   "id": "9cc2fa3e-d77a-4511-b577-3269a030219d",
   "metadata": {},
   "outputs": [
    {
     "name": "stdout",
     "output_type": "stream",
     "text": [
      "<class 'pandas.core.frame.DataFrame'>\n",
      "RangeIndex: 4803 entries, 0 to 4802\n",
      "Data columns (total 24 columns):\n",
      " #   Column                Non-Null Count  Dtype  \n",
      "---  ------                --------------  -----  \n",
      " 0   index                 4803 non-null   int64  \n",
      " 1   budget                4803 non-null   int64  \n",
      " 2   genres                4775 non-null   object \n",
      " 3   homepage              1712 non-null   object \n",
      " 4   id                    4803 non-null   int64  \n",
      " 5   keywords              4391 non-null   object \n",
      " 6   original_language     4803 non-null   object \n",
      " 7   original_title        4803 non-null   object \n",
      " 8   overview              4800 non-null   object \n",
      " 9   popularity            4803 non-null   float64\n",
      " 10  production_companies  4803 non-null   object \n",
      " 11  production_countries  4803 non-null   object \n",
      " 12  release_date          4802 non-null   object \n",
      " 13  revenue               4803 non-null   int64  \n",
      " 14  runtime               4801 non-null   float64\n",
      " 15  spoken_languages      4803 non-null   object \n",
      " 16  status                4803 non-null   object \n",
      " 17  tagline               3959 non-null   object \n",
      " 18  title                 4803 non-null   object \n",
      " 19  vote_average          4803 non-null   float64\n",
      " 20  vote_count            4803 non-null   int64  \n",
      " 21  cast                  4760 non-null   object \n",
      " 22  crew                  4803 non-null   object \n",
      " 23  director              4773 non-null   object \n",
      "dtypes: float64(3), int64(5), object(16)\n",
      "memory usage: 900.7+ KB\n"
     ]
    }
   ],
   "source": [
    "import numpy as np\n",
    "import pandas as pd\n",
    "\n",
    "m_df = pd.read_csv('datasets/movie_dataset.csv', low_memory=False)\n",
    "m_df.info()"
   ]
  },
  {
   "cell_type": "code",
   "execution_count": 9,
   "id": "439aacec-02bf-414a-a294-7f3ed71f97b2",
   "metadata": {},
   "outputs": [
    {
     "data": {
      "text/plain": [
       "0       culture clash future space war space colony so...\n",
       "1       ocean drug abuse exotic island east india trad...\n",
       "2              spy based on novel secret agent sequel mi6\n",
       "3       dc comics crime fighter terrorist secret ident...\n",
       "4       based on novel mars medallion space travel pri...\n",
       "                              ...                        \n",
       "4798    united states\\u2013mexico barrier legs arms pa...\n",
       "4799                                                  NaN\n",
       "4800    date love at first sight narration investigati...\n",
       "4801                                                  NaN\n",
       "4802                 obsession camcorder crush dream girl\n",
       "Name: keywords, Length: 4803, dtype: object"
      ]
     },
     "execution_count": 9,
     "metadata": {},
     "output_type": "execute_result"
    }
   ],
   "source": [
    "m_df.keywords"
   ]
  },
  {
   "cell_type": "code",
   "execution_count": 11,
   "id": "394b3acc-c4ed-4653-a73b-01c92e3a2e0e",
   "metadata": {},
   "outputs": [
    {
     "data": {
      "text/plain": [
       "index                      0\n",
       "budget                     0\n",
       "genres                    28\n",
       "homepage                3091\n",
       "id                         0\n",
       "keywords                 412\n",
       "original_language          0\n",
       "original_title             0\n",
       "overview                   3\n",
       "popularity                 0\n",
       "production_companies       0\n",
       "production_countries       0\n",
       "release_date               1\n",
       "revenue                    0\n",
       "runtime                    2\n",
       "spoken_languages           0\n",
       "status                     0\n",
       "tagline                  844\n",
       "title                      0\n",
       "vote_average               0\n",
       "vote_count                 0\n",
       "cast                      43\n",
       "crew                       0\n",
       "director                  30\n",
       "dtype: int64"
      ]
     },
     "execution_count": 11,
     "metadata": {},
     "output_type": "execute_result"
    }
   ],
   "source": [
    "m_df.isna().sum()"
   ]
  },
  {
   "cell_type": "code",
   "execution_count": 13,
   "id": "40bda565-964c-4cf1-b760-984bd82b6da0",
   "metadata": {},
   "outputs": [
    {
     "data": {
      "text/plain": [
       "genres      0\n",
       "keywords    0\n",
       "overview    0\n",
       "tagline     0\n",
       "cast        0\n",
       "director    0\n",
       "dtype: int64"
      ]
     },
     "execution_count": 13,
     "metadata": {},
     "output_type": "execute_result"
    }
   ],
   "source": [
    "# genres, keywords, overview, tagline, cast, director\n",
    "# 필요하다고 생각되는 컬럼만 가져오기\n",
    "# 여기 있는 6개 피처를 +로 연결해서 하나의 문장으로 만들어야 함\n",
    "# 각각에 대한 의미가 중요한게 아니라 빈도수가 중요하기 때문에\n",
    "# 결측치는 빈문자열로 만들면됨\n",
    "columns = ['genres', 'keywords', 'overview', 'tagline', 'cast', 'director']\n",
    "\n",
    "pre_m_df = m_df[columns].fillna('')\n",
    "pre_m_df.isna().sum()"
   ]
  },
  {
   "cell_type": "code",
   "execution_count": 14,
   "id": "61fac505-8adc-4f87-a3c1-28a63574fa45",
   "metadata": {},
   "outputs": [],
   "source": [
    "columns = ['genres', 'keywords', 'overview', 'tagline', 'cast', 'director']\n",
    "features = pre_m_df.loc[:, columns]"
   ]
  },
  {
   "cell_type": "code",
   "execution_count": 19,
   "id": "da9537e9-c384-4bd8-aaa8-c03a69f4f1b4",
   "metadata": {},
   "outputs": [],
   "source": [
    "def concatenate(features):\n",
    "    return features.genres + ' ' + features.keywords + ' ' + features.overview + ' ' + features.tagline + ' ' + features.cast + ' ' + features.director\n",
    "\n",
    "result_df = concatenate(features)"
   ]
  },
  {
   "cell_type": "code",
   "execution_count": 20,
   "id": "362f0922-e6f6-4ed7-b42c-1d8d029b9016",
   "metadata": {},
   "outputs": [
    {
     "name": "stdout",
     "output_type": "stream",
     "text": [
      "  (0, 561)\t1\n",
      "  (0, 703)\t1\n",
      "  (0, 9754)\t1\n",
      "  (0, 23977)\t1\n",
      "  (0, 10023)\t1\n",
      "  (0, 6601)\t1\n",
      "  (0, 5279)\t1\n",
      "  (0, 10796)\t1\n",
      "  (0, 25413)\t2\n",
      "  (0, 29469)\t1\n",
      "  (0, 5592)\t1\n",
      "  (0, 25232)\t1\n",
      "  (0, 13474)\t1\n",
      "  (0, 27118)\t3\n",
      "  (0, 239)\t1\n",
      "  (0, 4768)\t1\n",
      "  (0, 20104)\t1\n",
      "  (0, 17021)\t1\n",
      "  (0, 14023)\t1\n",
      "  (0, 7827)\t1\n",
      "  (0, 27405)\t1\n",
      "  (0, 18249)\t1\n",
      "  (0, 20039)\t2\n",
      "  (0, 19541)\t1\n",
      "  (0, 28597)\t1\n",
      "  :\t:\n",
      "  (4802, 9588)\t1\n",
      "  (4802, 21386)\t1\n",
      "  (4802, 9166)\t1\n",
      "  (4802, 24102)\t1\n",
      "  (4802, 6136)\t1\n",
      "  (4802, 14324)\t1\n",
      "  (4802, 3875)\t1\n",
      "  (4802, 8258)\t3\n",
      "  (4802, 2501)\t3\n",
      "  (4802, 23076)\t1\n",
      "  (4802, 10089)\t1\n",
      "  (4802, 10738)\t1\n",
      "  (4802, 11677)\t1\n",
      "  (4802, 1833)\t1\n",
      "  (4802, 7044)\t1\n",
      "  (4802, 23793)\t1\n",
      "  (4802, 1819)\t1\n",
      "  (4802, 7964)\t1\n",
      "  (4802, 8403)\t1\n",
      "  (4802, 250)\t1\n",
      "  (4802, 6542)\t2\n",
      "  (4802, 9910)\t1\n",
      "  (4802, 11524)\t1\n",
      "  (4802, 4278)\t1\n",
      "  (4802, 12576)\t4\n"
     ]
    }
   ],
   "source": [
    "from sklearn.feature_extraction.text import CountVectorizer\n",
    "from sklearn.metrics.pairwise import cosine_similarity\n",
    "\n",
    "count_v = CountVectorizer()\n",
    "# 앞에는 인덱스라 뒤에 있는 거만 들어갈거임 상관 노노\n",
    "count_metrix = count_v.fit_transform(result_df)\n",
    "print(count_metrix)"
   ]
  },
  {
   "cell_type": "markdown",
   "id": "4c7b1ad6-5d69-48a7-8457-6382ff1554aa",
   "metadata": {},
   "source": [
    "첫번째 문장에서 561번째 단어가 1개 나왔다\n",
    "첫번째 문장에서 7031번째 단어가 1개 나왔다\n",
    "...\n",
    "마지막까지...\n",
    "(0, 561)\t1\n",
    "  (0, 703)\t1\n",
    "  (0, 9754)\t1\n",
    "  (0, 23977)\t1\n",
    "  (0, 10023)\t1\n",
    "  (0, 6601)\t1\n",
    "  (0, 5279)\t1\n",
    "  (0, 10796)\t1"
   ]
  },
  {
   "cell_type": "code",
   "execution_count": 22,
   "id": "372e10a7-31de-4094-825d-169df06c93ac",
   "metadata": {},
   "outputs": [
    {
     "name": "stdout",
     "output_type": "stream",
     "text": [
      "[[1.         0.35896368 0.24467726 ... 0.29233355 0.21320072 0.11875422]\n",
      " [0.35896368 1.         0.33243277 ... 0.39097542 0.2896669  0.16501336]\n",
      " [0.24467726 0.33243277 1.         ... 0.24353367 0.21252557 0.15496777]\n",
      " ...\n",
      " [0.29233355 0.39097542 0.24353367 ... 1.         0.27749786 0.1636604 ]\n",
      " [0.21320072 0.2896669  0.21252557 ... 0.27749786 1.         0.20254787]\n",
      " [0.11875422 0.16501336 0.15496777 ... 0.1636604  0.20254787 1.        ]]\n",
      "(4803, 4803)\n"
     ]
    }
   ],
   "source": [
    "# 유사도 확인\n",
    "c_s = cosine_similarity(count_metrix)\n",
    "print(c_s)\n",
    "print(c_s.shape)"
   ]
  },
  {
   "cell_type": "markdown",
   "id": "155d1d0b-b9df-4a3a-ae2e-1b884458bcac",
   "metadata": {},
   "source": [
    "[1.         0.35896368 0.24467726 ... 0.29233355 0.21320072 0.11875422]\n",
    "내꺼를 제외한 것을 내림차순으로 정리하면 추천순으로 정렬됨"
   ]
  },
  {
   "cell_type": "code",
   "execution_count": 24,
   "id": "f0d70a5b-bf32-4d1f-ab7a-1cfd241a0f77",
   "metadata": {},
   "outputs": [],
   "source": [
    "# 영화제목으로 인덱스 가져오기\n",
    "def get_index_from_title(title):\n",
    "    return m_df[m_df.title == title].index[0]\n",
    "\n",
    "# 유사도로 영화 가져오기\n",
    "def get_title_from_index(index):\n",
    "    # 전체 정보에서 타이틀 가져오기\n",
    "    return m_df[m_df.index == index]['title'].values[0]\n",
    "\n",
    "movie_title = \"Men in Black\"\n",
    "movie_index = get_index_from_title(movie_title)\n",
    "# key=lambda x: x[1] 정렬이 앞번째 걸로 됏기 때문에 1번ㅉ 방으로 바꿔주기\n",
    "# 0번째 방 영화 제목, 1번째 방 유사도\n",
    "recommended_movie = sorted(list(enumerate(c_s[movie_index])), key=lambda x: x[1], reverse=True)"
   ]
  },
  {
   "cell_type": "code",
   "execution_count": 28,
   "id": "15bb4d50-74a8-40aa-a6c9-ebed4a19821a",
   "metadata": {},
   "outputs": [
    {
     "name": "stdout",
     "output_type": "stream",
     "text": [
      "Men in Black II\n",
      "Space Battleship Yamato\n",
      "The Hobbit: The Battle of the Five Armies\n",
      "The Work and the Glory II: American Zion\n",
      "The Andromeda Strain\n"
     ]
    }
   ],
   "source": [
    "# [1:6] 0번째는 원래 영화제목이니까 1번째부터 6번째까지~\n",
    "for movie in recommended_movie[1:6]:\n",
    "    print(get_title_from_index(movie[0]))"
   ]
  },
  {
   "cell_type": "markdown",
   "id": "30f66178-8202-403a-a302-3e842eac87b8",
   "metadata": {},
   "source": [
    "모든 텍스트를 이걸로 하는 건아님\n",
    "목적에 맞게!\n",
    "\n",
    "댓글의 비속어 > 분류(나이브 베이즈)\n",
    "비속어를 코사인으로 하는 비슷한 욕을 찾는것"
   ]
  },
  {
   "cell_type": "markdown",
   "id": "ae4ec2a8-dc64-471d-8278-5f23131b1e2e",
   "metadata": {},
   "source": [
    "노션에 정리 사이트에서 ~~ 추천 시스템을 구축할 수 있다..."
   ]
  }
 ],
 "metadata": {
  "kernelspec": {
   "display_name": "Python 3 (ipykernel)",
   "language": "python",
   "name": "python3"
  },
  "language_info": {
   "codemirror_mode": {
    "name": "ipython",
    "version": 3
   },
   "file_extension": ".py",
   "mimetype": "text/x-python",
   "name": "python",
   "nbconvert_exporter": "python",
   "pygments_lexer": "ipython3",
   "version": "3.11.8"
  }
 },
 "nbformat": 4,
 "nbformat_minor": 5
}
