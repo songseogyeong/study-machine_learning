{
 "cells": [
  {
   "cell_type": "markdown",
   "id": "3ecd0dc2-864a-486f-a253-664f7b730e70",
   "metadata": {},
   "source": [
    "### Decision Tree Regression Task\n",
    "\n",
    "##### 기온 및 강수량 별 모기 비율 예측\n",
    "\n",
    "- date: 년-월-일\n",
    "- mosquito_Indicator: 모기 비율\n",
    "- rain(mm): 일 강수량\n",
    "- mean_T(℃): 일 평균 기온\n",
    "- min_T(℃): 일 최저 기온\n",
    "- max_T(℃): 일 최고 기온"
   ]
  },
  {
   "cell_type": "code",
   "execution_count": 1,
   "id": "20f6f734-c676-4b31-838f-15a20840e0bb",
   "metadata": {},
   "outputs": [
    {
     "data": {
      "text/html": [
       "<div>\n",
       "<style scoped>\n",
       "    .dataframe tbody tr th:only-of-type {\n",
       "        vertical-align: middle;\n",
       "    }\n",
       "\n",
       "    .dataframe tbody tr th {\n",
       "        vertical-align: top;\n",
       "    }\n",
       "\n",
       "    .dataframe thead th {\n",
       "        text-align: right;\n",
       "    }\n",
       "</style>\n",
       "<table border=\"1\" class=\"dataframe\">\n",
       "  <thead>\n",
       "    <tr style=\"text-align: right;\">\n",
       "      <th></th>\n",
       "      <th>date</th>\n",
       "      <th>mosquito_Indicator</th>\n",
       "      <th>rain(mm)</th>\n",
       "      <th>mean_T(℃)</th>\n",
       "      <th>min_T(℃)</th>\n",
       "      <th>max_T(℃)</th>\n",
       "    </tr>\n",
       "  </thead>\n",
       "  <tbody>\n",
       "    <tr>\n",
       "      <th>0</th>\n",
       "      <td>2016-05-01</td>\n",
       "      <td>254.4</td>\n",
       "      <td>0.0</td>\n",
       "      <td>18.8</td>\n",
       "      <td>12.2</td>\n",
       "      <td>26.0</td>\n",
       "    </tr>\n",
       "    <tr>\n",
       "      <th>1</th>\n",
       "      <td>2016-05-02</td>\n",
       "      <td>273.5</td>\n",
       "      <td>16.5</td>\n",
       "      <td>21.1</td>\n",
       "      <td>16.5</td>\n",
       "      <td>28.4</td>\n",
       "    </tr>\n",
       "    <tr>\n",
       "      <th>2</th>\n",
       "      <td>2016-05-03</td>\n",
       "      <td>304.0</td>\n",
       "      <td>27.0</td>\n",
       "      <td>12.9</td>\n",
       "      <td>8.9</td>\n",
       "      <td>17.6</td>\n",
       "    </tr>\n",
       "    <tr>\n",
       "      <th>3</th>\n",
       "      <td>2016-05-04</td>\n",
       "      <td>256.2</td>\n",
       "      <td>0.0</td>\n",
       "      <td>15.7</td>\n",
       "      <td>10.2</td>\n",
       "      <td>20.6</td>\n",
       "    </tr>\n",
       "    <tr>\n",
       "      <th>4</th>\n",
       "      <td>2016-05-05</td>\n",
       "      <td>243.8</td>\n",
       "      <td>7.5</td>\n",
       "      <td>18.9</td>\n",
       "      <td>10.2</td>\n",
       "      <td>26.9</td>\n",
       "    </tr>\n",
       "    <tr>\n",
       "      <th>...</th>\n",
       "      <td>...</td>\n",
       "      <td>...</td>\n",
       "      <td>...</td>\n",
       "      <td>...</td>\n",
       "      <td>...</td>\n",
       "      <td>...</td>\n",
       "    </tr>\n",
       "    <tr>\n",
       "      <th>1337</th>\n",
       "      <td>2019-12-27</td>\n",
       "      <td>5.5</td>\n",
       "      <td>0.0</td>\n",
       "      <td>-1.7</td>\n",
       "      <td>-4.6</td>\n",
       "      <td>2.6</td>\n",
       "    </tr>\n",
       "    <tr>\n",
       "      <th>1338</th>\n",
       "      <td>2019-12-28</td>\n",
       "      <td>5.5</td>\n",
       "      <td>0.0</td>\n",
       "      <td>1.1</td>\n",
       "      <td>-3.6</td>\n",
       "      <td>6.1</td>\n",
       "    </tr>\n",
       "    <tr>\n",
       "      <th>1339</th>\n",
       "      <td>2019-12-29</td>\n",
       "      <td>5.5</td>\n",
       "      <td>1.4</td>\n",
       "      <td>3.8</td>\n",
       "      <td>1.1</td>\n",
       "      <td>6.2</td>\n",
       "    </tr>\n",
       "    <tr>\n",
       "      <th>1340</th>\n",
       "      <td>2019-12-30</td>\n",
       "      <td>5.5</td>\n",
       "      <td>0.4</td>\n",
       "      <td>2.7</td>\n",
       "      <td>-5.7</td>\n",
       "      <td>6.8</td>\n",
       "    </tr>\n",
       "    <tr>\n",
       "      <th>1341</th>\n",
       "      <td>2019-12-31</td>\n",
       "      <td>5.5</td>\n",
       "      <td>0.0</td>\n",
       "      <td>-7.9</td>\n",
       "      <td>-10.9</td>\n",
       "      <td>-4.5</td>\n",
       "    </tr>\n",
       "  </tbody>\n",
       "</table>\n",
       "<p>1342 rows × 6 columns</p>\n",
       "</div>"
      ],
      "text/plain": [
       "            date  mosquito_Indicator  rain(mm)  mean_T(℃)  min_T(℃)  max_T(℃)\n",
       "0     2016-05-01               254.4       0.0       18.8      12.2      26.0\n",
       "1     2016-05-02               273.5      16.5       21.1      16.5      28.4\n",
       "2     2016-05-03               304.0      27.0       12.9       8.9      17.6\n",
       "3     2016-05-04               256.2       0.0       15.7      10.2      20.6\n",
       "4     2016-05-05               243.8       7.5       18.9      10.2      26.9\n",
       "...          ...                 ...       ...        ...       ...       ...\n",
       "1337  2019-12-27                 5.5       0.0       -1.7      -4.6       2.6\n",
       "1338  2019-12-28                 5.5       0.0        1.1      -3.6       6.1\n",
       "1339  2019-12-29                 5.5       1.4        3.8       1.1       6.2\n",
       "1340  2019-12-30                 5.5       0.4        2.7      -5.7       6.8\n",
       "1341  2019-12-31                 5.5       0.0       -7.9     -10.9      -4.5\n",
       "\n",
       "[1342 rows x 6 columns]"
      ]
     },
     "execution_count": 1,
     "metadata": {},
     "output_type": "execute_result"
    }
   ],
   "source": [
    "import pandas as pd\n",
    "\n",
    "# 데이터 세트 호출\n",
    "m_df = pd.read_csv('./datasets/korea_mosquito.csv')\n",
    "m_df"
   ]
  },
  {
   "cell_type": "markdown",
   "id": "06cc6f2d-06c7-4c2d-b241-9422611e6b38",
   "metadata": {},
   "source": [
    "#### 📊 데이터 정보 확인"
   ]
  },
  {
   "cell_type": "code",
   "execution_count": 3,
   "id": "3a8a7f81-6588-429e-91f7-8d009ed12266",
   "metadata": {},
   "outputs": [
    {
     "name": "stdout",
     "output_type": "stream",
     "text": [
      "<class 'pandas.core.frame.DataFrame'>\n",
      "RangeIndex: 1342 entries, 0 to 1341\n",
      "Data columns (total 6 columns):\n",
      " #   Column              Non-Null Count  Dtype  \n",
      "---  ------              --------------  -----  \n",
      " 0   date                1342 non-null   object \n",
      " 1   mosquito_Indicator  1342 non-null   float64\n",
      " 2   rain(mm)            1342 non-null   float64\n",
      " 3   mean_T(℃)           1342 non-null   float64\n",
      " 4   min_T(℃)            1342 non-null   float64\n",
      " 5   max_T(℃)            1342 non-null   float64\n",
      "dtypes: float64(5), object(1)\n",
      "memory usage: 63.0+ KB\n"
     ]
    }
   ],
   "source": [
    "# 데이터 정보\n",
    "m_df.info()"
   ]
  },
  {
   "cell_type": "markdown",
   "id": "d1b77581-dc21-4dbb-bc67-e0d39f9aa9ff",
   "metadata": {},
   "source": [
    "#### 📊 데이터 결측치"
   ]
  },
  {
   "cell_type": "code",
   "execution_count": 4,
   "id": "9f692eea-253d-4dde-a62e-da01b1976247",
   "metadata": {},
   "outputs": [
    {
     "data": {
      "text/plain": [
       "date                  0\n",
       "mosquito_Indicator    0\n",
       "rain(mm)              0\n",
       "mean_T(℃)             0\n",
       "min_T(℃)              0\n",
       "max_T(℃)              0\n",
       "dtype: int64"
      ]
     },
     "execution_count": 4,
     "metadata": {},
     "output_type": "execute_result"
    }
   ],
   "source": [
    "# 데이터 결측치 확인\n",
    "m_df.isna().sum()"
   ]
  },
  {
   "cell_type": "markdown",
   "id": "fd016ef4-f5e7-4e62-b77a-4cc6171777ab",
   "metadata": {},
   "source": [
    "#### 📊 데이터 중복행"
   ]
  },
  {
   "cell_type": "code",
   "execution_count": 5,
   "id": "9edd77a3-a3cd-4092-9420-1af9f3c69ff5",
   "metadata": {},
   "outputs": [
    {
     "data": {
      "text/plain": [
       "47"
      ]
     },
     "execution_count": 5,
     "metadata": {},
     "output_type": "execute_result"
    }
   ],
   "source": [
    "# 데이터 중복행 확인\n",
    "m_df.duplicated().sum()"
   ]
  },
  {
   "cell_type": "code",
   "execution_count": 6,
   "id": "9dda7937-52c9-46d8-9ff0-2a213eae239d",
   "metadata": {},
   "outputs": [],
   "source": [
    "# 데이터 중복행 제거\n",
    "pre_m_df = m_df.drop_duplicates()"
   ]
  },
  {
   "cell_type": "code",
   "execution_count": 7,
   "id": "5cff2599-90de-40de-b30f-12b536003440",
   "metadata": {},
   "outputs": [
    {
     "data": {
      "text/plain": [
       "0"
      ]
     },
     "execution_count": 7,
     "metadata": {},
     "output_type": "execute_result"
    }
   ],
   "source": [
    "pre_m_df.duplicated().sum()"
   ]
  },
  {
   "cell_type": "markdown",
   "id": "cf1c7094-eb6b-43f6-bbe2-bf8c3a117239",
   "metadata": {},
   "source": [
    "#### 📊 날짜 별 모기 비율 확인"
   ]
  },
  {
   "cell_type": "code",
   "execution_count": 8,
   "id": "28909b3c-8585-4db7-ba30-dfc7c2317c41",
   "metadata": {},
   "outputs": [
    {
     "data": {
      "text/html": [
       "<div>\n",
       "<style scoped>\n",
       "    .dataframe tbody tr th:only-of-type {\n",
       "        vertical-align: middle;\n",
       "    }\n",
       "\n",
       "    .dataframe tbody tr th {\n",
       "        vertical-align: top;\n",
       "    }\n",
       "\n",
       "    .dataframe thead th {\n",
       "        text-align: right;\n",
       "    }\n",
       "</style>\n",
       "<table border=\"1\" class=\"dataframe\">\n",
       "  <thead>\n",
       "    <tr style=\"text-align: right;\">\n",
       "      <th></th>\n",
       "      <th>date</th>\n",
       "      <th>mosquito_Indicator</th>\n",
       "      <th>rain(mm)</th>\n",
       "      <th>mean_T(℃)</th>\n",
       "      <th>min_T(℃)</th>\n",
       "      <th>max_T(℃)</th>\n",
       "    </tr>\n",
       "  </thead>\n",
       "  <tbody>\n",
       "    <tr>\n",
       "      <th>0</th>\n",
       "      <td>2016-05-01</td>\n",
       "      <td>254.4</td>\n",
       "      <td>0.0</td>\n",
       "      <td>18.8</td>\n",
       "      <td>12.2</td>\n",
       "      <td>26.0</td>\n",
       "    </tr>\n",
       "    <tr>\n",
       "      <th>1</th>\n",
       "      <td>2016-05-02</td>\n",
       "      <td>273.5</td>\n",
       "      <td>16.5</td>\n",
       "      <td>21.1</td>\n",
       "      <td>16.5</td>\n",
       "      <td>28.4</td>\n",
       "    </tr>\n",
       "    <tr>\n",
       "      <th>2</th>\n",
       "      <td>2016-05-03</td>\n",
       "      <td>304.0</td>\n",
       "      <td>27.0</td>\n",
       "      <td>12.9</td>\n",
       "      <td>8.9</td>\n",
       "      <td>17.6</td>\n",
       "    </tr>\n",
       "    <tr>\n",
       "      <th>3</th>\n",
       "      <td>2016-05-04</td>\n",
       "      <td>256.2</td>\n",
       "      <td>0.0</td>\n",
       "      <td>15.7</td>\n",
       "      <td>10.2</td>\n",
       "      <td>20.6</td>\n",
       "    </tr>\n",
       "    <tr>\n",
       "      <th>4</th>\n",
       "      <td>2016-05-05</td>\n",
       "      <td>243.8</td>\n",
       "      <td>7.5</td>\n",
       "      <td>18.9</td>\n",
       "      <td>10.2</td>\n",
       "      <td>26.9</td>\n",
       "    </tr>\n",
       "    <tr>\n",
       "      <th>...</th>\n",
       "      <td>...</td>\n",
       "      <td>...</td>\n",
       "      <td>...</td>\n",
       "      <td>...</td>\n",
       "      <td>...</td>\n",
       "      <td>...</td>\n",
       "    </tr>\n",
       "    <tr>\n",
       "      <th>1337</th>\n",
       "      <td>2019-12-27</td>\n",
       "      <td>5.5</td>\n",
       "      <td>0.0</td>\n",
       "      <td>-1.7</td>\n",
       "      <td>-4.6</td>\n",
       "      <td>2.6</td>\n",
       "    </tr>\n",
       "    <tr>\n",
       "      <th>1338</th>\n",
       "      <td>2019-12-28</td>\n",
       "      <td>5.5</td>\n",
       "      <td>0.0</td>\n",
       "      <td>1.1</td>\n",
       "      <td>-3.6</td>\n",
       "      <td>6.1</td>\n",
       "    </tr>\n",
       "    <tr>\n",
       "      <th>1339</th>\n",
       "      <td>2019-12-29</td>\n",
       "      <td>5.5</td>\n",
       "      <td>1.4</td>\n",
       "      <td>3.8</td>\n",
       "      <td>1.1</td>\n",
       "      <td>6.2</td>\n",
       "    </tr>\n",
       "    <tr>\n",
       "      <th>1340</th>\n",
       "      <td>2019-12-30</td>\n",
       "      <td>5.5</td>\n",
       "      <td>0.4</td>\n",
       "      <td>2.7</td>\n",
       "      <td>-5.7</td>\n",
       "      <td>6.8</td>\n",
       "    </tr>\n",
       "    <tr>\n",
       "      <th>1341</th>\n",
       "      <td>2019-12-31</td>\n",
       "      <td>5.5</td>\n",
       "      <td>0.0</td>\n",
       "      <td>-7.9</td>\n",
       "      <td>-10.9</td>\n",
       "      <td>-4.5</td>\n",
       "    </tr>\n",
       "  </tbody>\n",
       "</table>\n",
       "<p>1295 rows × 6 columns</p>\n",
       "</div>"
      ],
      "text/plain": [
       "           date  mosquito_Indicator  rain(mm)  mean_T(℃)  min_T(℃)  max_T(℃)\n",
       "0    2016-05-01               254.4       0.0       18.8      12.2      26.0\n",
       "1    2016-05-02               273.5      16.5       21.1      16.5      28.4\n",
       "2    2016-05-03               304.0      27.0       12.9       8.9      17.6\n",
       "3    2016-05-04               256.2       0.0       15.7      10.2      20.6\n",
       "4    2016-05-05               243.8       7.5       18.9      10.2      26.9\n",
       "...         ...                 ...       ...        ...       ...       ...\n",
       "1337 2019-12-27                 5.5       0.0       -1.7      -4.6       2.6\n",
       "1338 2019-12-28                 5.5       0.0        1.1      -3.6       6.1\n",
       "1339 2019-12-29                 5.5       1.4        3.8       1.1       6.2\n",
       "1340 2019-12-30                 5.5       0.4        2.7      -5.7       6.8\n",
       "1341 2019-12-31                 5.5       0.0       -7.9     -10.9      -4.5\n",
       "\n",
       "[1295 rows x 6 columns]"
      ]
     },
     "execution_count": 8,
     "metadata": {},
     "output_type": "execute_result"
    }
   ],
   "source": [
    "# 날짜 형식 변환\n",
    "pre_m_df.date = pd.to_datetime(pre_m_df.date, dayfirst=True, format='mixed')\n",
    "pre_m_df"
   ]
  },
  {
   "cell_type": "markdown",
   "id": "9209840f-92ac-42b0-af45-871928507cc8",
   "metadata": {},
   "source": [
    "#### ❗ 이슈\n",
    "<code>pre_m_df.date = pd.to_datetime(pre_m_df.date, dayfirst=True)</code>\n",
    "\n",
    "ValueError: unconverted data remains when parsing with format \"%Y-%d-%m\": \"3\", at position 12. You might want to try:  \n",
    "    - passing `format` if your strings have a consistent format;  \n",
    "    - passing `format='ISO8601'` if your strings are all ISO8601 but not necessarily in exactly the same format;  \n",
    "    - passing `format='mixed'`, and the format will be inferred for each element individually. You might want to use `dayfirst` alongside this.\n",
    "\n",
    "#### 💡 해결\n",
    "- 날짜 형식이 일정하지 않아 발생하는 오류\n",
    "- format='mixed'를 추가하여 해결 가능"
   ]
  },
  {
   "cell_type": "code",
   "execution_count": 9,
   "id": "c430d579-20f1-461c-adba-f62f05b0df1b",
   "metadata": {},
   "outputs": [
    {
     "data": {
      "text/html": [
       "<div>\n",
       "<style scoped>\n",
       "    .dataframe tbody tr th:only-of-type {\n",
       "        vertical-align: middle;\n",
       "    }\n",
       "\n",
       "    .dataframe tbody tr th {\n",
       "        vertical-align: top;\n",
       "    }\n",
       "\n",
       "    .dataframe thead th {\n",
       "        text-align: right;\n",
       "    }\n",
       "</style>\n",
       "<table border=\"1\" class=\"dataframe\">\n",
       "  <thead>\n",
       "    <tr style=\"text-align: right;\">\n",
       "      <th></th>\n",
       "      <th>date</th>\n",
       "      <th>mosquito_Indicator</th>\n",
       "    </tr>\n",
       "  </thead>\n",
       "  <tbody>\n",
       "    <tr>\n",
       "      <th>0</th>\n",
       "      <td>2016-05-01</td>\n",
       "      <td>254.4</td>\n",
       "    </tr>\n",
       "    <tr>\n",
       "      <th>1</th>\n",
       "      <td>2016-05-02</td>\n",
       "      <td>273.5</td>\n",
       "    </tr>\n",
       "    <tr>\n",
       "      <th>2</th>\n",
       "      <td>2016-05-03</td>\n",
       "      <td>304.0</td>\n",
       "    </tr>\n",
       "    <tr>\n",
       "      <th>3</th>\n",
       "      <td>2016-05-04</td>\n",
       "      <td>256.2</td>\n",
       "    </tr>\n",
       "    <tr>\n",
       "      <th>4</th>\n",
       "      <td>2016-05-05</td>\n",
       "      <td>243.8</td>\n",
       "    </tr>\n",
       "    <tr>\n",
       "      <th>...</th>\n",
       "      <td>...</td>\n",
       "      <td>...</td>\n",
       "    </tr>\n",
       "    <tr>\n",
       "      <th>1290</th>\n",
       "      <td>2019-12-27</td>\n",
       "      <td>5.5</td>\n",
       "    </tr>\n",
       "    <tr>\n",
       "      <th>1291</th>\n",
       "      <td>2019-12-28</td>\n",
       "      <td>5.5</td>\n",
       "    </tr>\n",
       "    <tr>\n",
       "      <th>1292</th>\n",
       "      <td>2019-12-29</td>\n",
       "      <td>5.5</td>\n",
       "    </tr>\n",
       "    <tr>\n",
       "      <th>1293</th>\n",
       "      <td>2019-12-30</td>\n",
       "      <td>5.5</td>\n",
       "    </tr>\n",
       "    <tr>\n",
       "      <th>1294</th>\n",
       "      <td>2019-12-31</td>\n",
       "      <td>5.5</td>\n",
       "    </tr>\n",
       "  </tbody>\n",
       "</table>\n",
       "<p>1295 rows × 2 columns</p>\n",
       "</div>"
      ],
      "text/plain": [
       "           date  mosquito_Indicator\n",
       "0    2016-05-01               254.4\n",
       "1    2016-05-02               273.5\n",
       "2    2016-05-03               304.0\n",
       "3    2016-05-04               256.2\n",
       "4    2016-05-05               243.8\n",
       "...         ...                 ...\n",
       "1290 2019-12-27                 5.5\n",
       "1291 2019-12-28                 5.5\n",
       "1292 2019-12-29                 5.5\n",
       "1293 2019-12-30                 5.5\n",
       "1294 2019-12-31                 5.5\n",
       "\n",
       "[1295 rows x 2 columns]"
      ]
     },
     "execution_count": 9,
     "metadata": {},
     "output_type": "execute_result"
    }
   ],
   "source": [
    "# 날짜 별 모기 비율 확인\n",
    "group_m_df = pre_m_df[['date', 'mosquito_Indicator']].groupby('date').sum('mosquito_Indicator').reset_index()\n",
    "group_m_df"
   ]
  },
  {
   "cell_type": "code",
   "execution_count": 10,
   "id": "6037444b-cdea-4d68-9b6e-4e3ef917fb6b",
   "metadata": {},
   "outputs": [
    {
     "data": {
      "image/png": "[encoded data removed]",
      "text/plain": [
       "<Figure size 2000x800 with 1 Axes>"
      ]
     },
     "metadata": {},
     "output_type": "display_data"
    }
   ],
   "source": [
    "import matplotlib.pyplot as plt\n",
    "import matplotlib.dates as mdates\n",
    "\n",
    "fig, ax = plt.subplots(figsize=(20, 8))\n",
    "\n",
    "date_format = mdates.DateFormatter('%Y-%m')\n",
    "\n",
    "# 8주 단위\n",
    "ax.xaxis.set_major_locator(mdates.WeekdayLocator(interval=8))\n",
    "ax.xaxis.set_major_formatter(date_format)\n",
    "ax.plot(group_m_df['date'], group_m_df['mosquito_Indicator'])\n",
    "# x 레이블 90도로 설정\n",
    "plt.xticks(rotation=90)\n",
    "\n",
    "plt.show()"
   ]
  },
  {
   "cell_type": "markdown",
   "id": "ece68572-b4cf-4e76-833e-e9e780e0816d",
   "metadata": {},
   "source": [
    "#### 📊 일부 피처 추출"
   ]
  },
  {
   "cell_type": "code",
   "execution_count": 11,
   "id": "34c1ccee-aeb7-426e-b9bc-1621cb123187",
   "metadata": {},
   "outputs": [
    {
     "data": {
      "text/html": [
       "<div>\n",
       "<style scoped>\n",
       "    .dataframe tbody tr th:only-of-type {\n",
       "        vertical-align: middle;\n",
       "    }\n",
       "\n",
       "    .dataframe tbody tr th {\n",
       "        vertical-align: top;\n",
       "    }\n",
       "\n",
       "    .dataframe thead th {\n",
       "        text-align: right;\n",
       "    }\n",
       "</style>\n",
       "<table border=\"1\" class=\"dataframe\">\n",
       "  <thead>\n",
       "    <tr style=\"text-align: right;\">\n",
       "      <th></th>\n",
       "      <th>rain(mm)</th>\n",
       "      <th>mean_T(℃)</th>\n",
       "      <th>min_T(℃)</th>\n",
       "      <th>max_T(℃)</th>\n",
       "      <th>mosquito_Indicator</th>\n",
       "    </tr>\n",
       "  </thead>\n",
       "  <tbody>\n",
       "    <tr>\n",
       "      <th>0</th>\n",
       "      <td>0.0</td>\n",
       "      <td>18.8</td>\n",
       "      <td>12.2</td>\n",
       "      <td>26.0</td>\n",
       "      <td>254.4</td>\n",
       "    </tr>\n",
       "    <tr>\n",
       "      <th>1</th>\n",
       "      <td>16.5</td>\n",
       "      <td>21.1</td>\n",
       "      <td>16.5</td>\n",
       "      <td>28.4</td>\n",
       "      <td>273.5</td>\n",
       "    </tr>\n",
       "    <tr>\n",
       "      <th>2</th>\n",
       "      <td>27.0</td>\n",
       "      <td>12.9</td>\n",
       "      <td>8.9</td>\n",
       "      <td>17.6</td>\n",
       "      <td>304.0</td>\n",
       "    </tr>\n",
       "    <tr>\n",
       "      <th>3</th>\n",
       "      <td>0.0</td>\n",
       "      <td>15.7</td>\n",
       "      <td>10.2</td>\n",
       "      <td>20.6</td>\n",
       "      <td>256.2</td>\n",
       "    </tr>\n",
       "    <tr>\n",
       "      <th>4</th>\n",
       "      <td>7.5</td>\n",
       "      <td>18.9</td>\n",
       "      <td>10.2</td>\n",
       "      <td>26.9</td>\n",
       "      <td>243.8</td>\n",
       "    </tr>\n",
       "    <tr>\n",
       "      <th>...</th>\n",
       "      <td>...</td>\n",
       "      <td>...</td>\n",
       "      <td>...</td>\n",
       "      <td>...</td>\n",
       "      <td>...</td>\n",
       "    </tr>\n",
       "    <tr>\n",
       "      <th>1337</th>\n",
       "      <td>0.0</td>\n",
       "      <td>-1.7</td>\n",
       "      <td>-4.6</td>\n",
       "      <td>2.6</td>\n",
       "      <td>5.5</td>\n",
       "    </tr>\n",
       "    <tr>\n",
       "      <th>1338</th>\n",
       "      <td>0.0</td>\n",
       "      <td>1.1</td>\n",
       "      <td>-3.6</td>\n",
       "      <td>6.1</td>\n",
       "      <td>5.5</td>\n",
       "    </tr>\n",
       "    <tr>\n",
       "      <th>1339</th>\n",
       "      <td>1.4</td>\n",
       "      <td>3.8</td>\n",
       "      <td>1.1</td>\n",
       "      <td>6.2</td>\n",
       "      <td>5.5</td>\n",
       "    </tr>\n",
       "    <tr>\n",
       "      <th>1340</th>\n",
       "      <td>0.4</td>\n",
       "      <td>2.7</td>\n",
       "      <td>-5.7</td>\n",
       "      <td>6.8</td>\n",
       "      <td>5.5</td>\n",
       "    </tr>\n",
       "    <tr>\n",
       "      <th>1341</th>\n",
       "      <td>0.0</td>\n",
       "      <td>-7.9</td>\n",
       "      <td>-10.9</td>\n",
       "      <td>-4.5</td>\n",
       "      <td>5.5</td>\n",
       "    </tr>\n",
       "  </tbody>\n",
       "</table>\n",
       "<p>1295 rows × 5 columns</p>\n",
       "</div>"
      ],
      "text/plain": [
       "      rain(mm)  mean_T(℃)  min_T(℃)  max_T(℃)  mosquito_Indicator\n",
       "0          0.0       18.8      12.2      26.0               254.4\n",
       "1         16.5       21.1      16.5      28.4               273.5\n",
       "2         27.0       12.9       8.9      17.6               304.0\n",
       "3          0.0       15.7      10.2      20.6               256.2\n",
       "4          7.5       18.9      10.2      26.9               243.8\n",
       "...        ...        ...       ...       ...                 ...\n",
       "1337       0.0       -1.7      -4.6       2.6                 5.5\n",
       "1338       0.0        1.1      -3.6       6.1                 5.5\n",
       "1339       1.4        3.8       1.1       6.2                 5.5\n",
       "1340       0.4        2.7      -5.7       6.8                 5.5\n",
       "1341       0.0       -7.9     -10.9      -4.5                 5.5\n",
       "\n",
       "[1295 rows x 5 columns]"
      ]
     },
     "execution_count": 11,
     "metadata": {},
     "output_type": "execute_result"
    }
   ],
   "source": [
    "# 일부 피처 추출\n",
    "columns = ['rain(mm)', 'mean_T(℃)', 'min_T(℃)', 'max_T(℃)', 'mosquito_Indicator']\n",
    "\n",
    "pre_m_df = pre_m_df[columns].reset_index(drop=True)\n",
    "pre_m_df"
   ]
  },
  {
   "cell_type": "markdown",
   "id": "eb62fd94-689c-4a2a-9954-d21ad2b807e0",
   "metadata": {},
   "source": [
    "#### 📊 분포"
   ]
  },
  {
   "cell_type": "code",
   "execution_count": 12,
   "id": "d2316f4e-9764-4ad8-93d6-b34624e04f9a",
   "metadata": {},
   "outputs": [
    {
     "data": {
      "text/plain": [
       "array([[<Axes: title={'center': 'rain(mm)'}>,\n",
       "        <Axes: title={'center': 'mean_T(℃)'}>],\n",
       "       [<Axes: title={'center': 'min_T(℃)'}>,\n",
       "        <Axes: title={'center': 'max_T(℃)'}>],\n",
       "       [<Axes: title={'center': 'mosquito_Indicator'}>, <Axes: >]],\n",
       "      dtype=object)"
      ]
     },
     "execution_count": 12,
     "metadata": {},
     "output_type": "execute_result"
    },
    {
     "data": {
      "image/png": "[encoded data removed]",
      "text/plain": [
       "<Figure size 1000x1000 with 6 Axes>"
      ]
     },
     "metadata": {},
     "output_type": "display_data"
    }
   ],
   "source": [
    "# 분포 확인\n",
    "pre_m_df.hist(figsize=(10, 10))"
   ]
  },
  {
   "cell_type": "markdown",
   "id": "b0d056d4-f3ac-43b4-8147-57fca0c7c88a",
   "metadata": {},
   "source": [
    "#### 📊 OLS"
   ]
  },
  {
   "cell_type": "code",
   "execution_count": 13,
   "id": "f309e443-1ac1-4c7d-89fa-c5ced24ab8f4",
   "metadata": {},
   "outputs": [
    {
     "name": "stdout",
     "output_type": "stream",
     "text": [
      "                                 OLS Regression Results                                \n",
      "=======================================================================================\n",
      "Dep. Variable:     mosquito_Indicator   R-squared (uncentered):                   0.736\n",
      "Model:                            OLS   Adj. R-squared (uncentered):              0.736\n",
      "Method:                 Least Squares   F-statistic:                              902.0\n",
      "Date:                Mon, 29 Apr 2024   Prob (F-statistic):                        0.00\n",
      "Time:                        14:58:40   Log-Likelihood:                         -8686.3\n",
      "No. Observations:                1295   AIC:                                  1.738e+04\n",
      "Df Residuals:                    1291   BIC:                                  1.740e+04\n",
      "Df Model:                           4                                                  \n",
      "Covariance Type:            nonrobust                                                  \n",
      "==============================================================================\n",
      "                 coef    std err          t      P>|t|      [0.025      0.975]\n",
      "------------------------------------------------------------------------------\n",
      "rain(mm)       1.5397      0.456      3.377      0.001       0.645       2.434\n",
      "mean_T(℃)      7.6037      9.762      0.779      0.436     -11.547      26.754\n",
      "min_T(℃)      12.4657      5.233      2.382      0.017       2.199      22.733\n",
      "max_T(℃)       0.2099      4.626      0.045      0.964      -8.865       9.285\n",
      "==============================================================================\n",
      "Omnibus:                       12.968   Durbin-Watson:                   0.177\n",
      "Prob(Omnibus):                  0.002   Jarque-Bera (JB):               15.869\n",
      "Skew:                           0.149   Prob(JB):                     0.000358\n",
      "Kurtosis:                       3.454   Cond. No.                         69.3\n",
      "==============================================================================\n",
      "\n",
      "Notes:\n",
      "[1] R² is computed without centering (uncentered) since the model does not contain a constant.\n",
      "[2] Standard Errors assume that the covariance matrix of the errors is correctly specified.\n"
     ]
    }
   ],
   "source": [
    "from statsmodels.api import OLS\n",
    "\n",
    "# 데이터 세트 분리\n",
    "# 피처, 타겟 데이터 분리\n",
    "features, targets = pre_m_df.iloc[:, :-1], pre_m_df.iloc[:, -1]\n",
    "\n",
    "# OLS 객체 생성\n",
    "model = OLS(targets, features)\n",
    "# 훈련 및 정보 출력\n",
    "print(model.fit().summary())"
   ]
  },
  {
   "cell_type": "markdown",
   "id": "391d1a9d-13ac-423a-9780-04cf34615c81",
   "metadata": {},
   "source": [
    "#### 📊 VIF"
   ]
  },
  {
   "cell_type": "code",
   "execution_count": 14,
   "id": "fcffdb8e-a7a9-47fe-80c3-485661d2ad92",
   "metadata": {},
   "outputs": [],
   "source": [
    "from statsmodels.stats.outliers_influence import variance_inflation_factor\n",
    "\n",
    "def get_vif(features):\n",
    "    vif = pd.DataFrame()\n",
    "    vif['vif_score'] = [variance_inflation_factor(features.values, i) for i in range(features.shape[1])]\n",
    "    vif['feature'] = features.columns\n",
    "    return vif"
   ]
  },
  {
   "cell_type": "code",
   "execution_count": 15,
   "id": "4564b0db-839e-409a-9e20-55d5ac41ba91",
   "metadata": {},
   "outputs": [
    {
     "data": {
      "text/html": [
       "<div>\n",
       "<style scoped>\n",
       "    .dataframe tbody tr th:only-of-type {\n",
       "        vertical-align: middle;\n",
       "    }\n",
       "\n",
       "    .dataframe tbody tr th {\n",
       "        vertical-align: top;\n",
       "    }\n",
       "\n",
       "    .dataframe thead th {\n",
       "        text-align: right;\n",
       "    }\n",
       "</style>\n",
       "<table border=\"1\" class=\"dataframe\">\n",
       "  <thead>\n",
       "    <tr style=\"text-align: right;\">\n",
       "      <th></th>\n",
       "      <th>vif_score</th>\n",
       "      <th>feature</th>\n",
       "    </tr>\n",
       "  </thead>\n",
       "  <tbody>\n",
       "    <tr>\n",
       "      <th>0</th>\n",
       "      <td>1.106421</td>\n",
       "      <td>rain(mm)</td>\n",
       "    </tr>\n",
       "    <tr>\n",
       "      <th>1</th>\n",
       "      <td>1001.901034</td>\n",
       "      <td>mean_T(℃)</td>\n",
       "    </tr>\n",
       "    <tr>\n",
       "      <th>2</th>\n",
       "      <td>200.659322</td>\n",
       "      <td>min_T(℃)</td>\n",
       "    </tr>\n",
       "    <tr>\n",
       "      <th>3</th>\n",
       "      <td>342.476613</td>\n",
       "      <td>max_T(℃)</td>\n",
       "    </tr>\n",
       "  </tbody>\n",
       "</table>\n",
       "</div>"
      ],
      "text/plain": [
       "     vif_score    feature\n",
       "0     1.106421   rain(mm)\n",
       "1  1001.901034  mean_T(℃)\n",
       "2   200.659322   min_T(℃)\n",
       "3   342.476613   max_T(℃)"
      ]
     },
     "execution_count": 15,
     "metadata": {},
     "output_type": "execute_result"
    }
   ],
   "source": [
    "# VIF 확인\n",
    "get_vif(features)"
   ]
  },
  {
   "cell_type": "markdown",
   "id": "57643391-b794-4d7e-99fa-29d235a24ebb",
   "metadata": {},
   "source": [
    "#### 📊 상관관계"
   ]
  },
  {
   "cell_type": "code",
   "execution_count": 16,
   "id": "36948ece-319d-4fec-b95c-1beed3b01064",
   "metadata": {},
   "outputs": [
    {
     "data": {
      "text/plain": [
       "min_T(℃)     0.743387\n",
       "mean_T(℃)    0.728177\n",
       "max_T(℃)     0.698576\n",
       "rain(mm)     0.186194\n",
       "Name: mosquito_Indicator, dtype: float64"
      ]
     },
     "execution_count": 16,
     "metadata": {},
     "output_type": "execute_result"
    }
   ],
   "source": [
    "# 상관관계 확인\n",
    "pre_m_df.corr()['mosquito_Indicator'].sort_values(ascending=False)[1:]"
   ]
  },
  {
   "cell_type": "code",
   "execution_count": 17,
   "id": "dba04fcd-1998-4d32-be3a-48186b68c5c1",
   "metadata": {},
   "outputs": [
    {
     "data": {
      "image/png": "[encoded data removed]",
      "text/plain": [
       "<Figure size 640x480 with 2 Axes>"
      ]
     },
     "metadata": {},
     "output_type": "display_data"
    }
   ],
   "source": [
    "import seaborn as sns\n",
    "\n",
    "# 상관관계 히트맵으로 확인\n",
    "sns.heatmap(features.corr())\n",
    "plt.show()"
   ]
  },
  {
   "cell_type": "markdown",
   "id": "ca673d57-438c-4805-8a91-9ca94abd3426",
   "metadata": {},
   "source": [
    "#### 📊 회귀 분석"
   ]
  },
  {
   "cell_type": "code",
   "execution_count": 18,
   "id": "de68e2c3-cc7e-4ed2-86ab-214f5f5f18a1",
   "metadata": {},
   "outputs": [],
   "source": [
    "import numpy as np\n",
    "from sklearn.metrics import mean_squared_log_error, mean_squared_error, r2_score\n",
    "\n",
    "def get_evaluation(y_test, prediction):\n",
    "    MSE = mean_squared_error(y_test, prediction)\n",
    "    RMSE = np.sqrt(MSE)\n",
    "    R2 = r2_score(y_test, prediction)\n",
    "    print('MSE: {:.4f}, RMSE: {:.4f}, R2: {:.4f}'\\\n",
    "          .format(MSE, RMSE, R2))"
   ]
  },
  {
   "cell_type": "code",
   "execution_count": 19,
   "id": "7b6ecd2a-6d15-4a2e-a707-61098a23c09a",
   "metadata": {},
   "outputs": [
    {
     "data": {
      "text/html": [
       "<style>#sk-container-id-1 {color: black;background-color: white;}#sk-container-id-1 pre{padding: 0;}#sk-container-id-1 div.sk-toggleable {background-color: white;}#sk-container-id-1 label.sk-toggleable__label {cursor: pointer;display: block;width: 100%;margin-bottom: 0;padding: 0.3em;box-sizing: border-box;text-align: center;}#sk-container-id-1 label.sk-toggleable__label-arrow:before {content: \"▸\";float: left;margin-right: 0.25em;color: #696969;}#sk-container-id-1 label.sk-toggleable__label-arrow:hover:before {color: black;}#sk-container-id-1 div.sk-estimator:hover label.sk-toggleable__label-arrow:before {color: black;}#sk-container-id-1 div.sk-toggleable__content {max-height: 0;max-width: 0;overflow: hidden;text-align: left;background-color: #f0f8ff;}#sk-container-id-1 div.sk-toggleable__content pre {margin: 0.2em;color: black;border-radius: 0.25em;background-color: #f0f8ff;}#sk-container-id-1 input.sk-toggleable__control:checked~div.sk-toggleable__content {max-height: 200px;max-width: 100%;overflow: auto;}#sk-container-id-1 input.sk-toggleable__control:checked~label.sk-toggleable__label-arrow:before {content: \"▾\";}#sk-container-id-1 div.sk-estimator input.sk-toggleable__control:checked~label.sk-toggleable__label {background-color: #d4ebff;}#sk-container-id-1 div.sk-label input.sk-toggleable__control:checked~label.sk-toggleable__label {background-color: #d4ebff;}#sk-container-id-1 input.sk-hidden--visually {border: 0;clip: rect(1px 1px 1px 1px);clip: rect(1px, 1px, 1px, 1px);height: 1px;margin: -1px;overflow: hidden;padding: 0;position: absolute;width: 1px;}#sk-container-id-1 div.sk-estimator {font-family: monospace;background-color: #f0f8ff;border: 1px dotted black;border-radius: 0.25em;box-sizing: border-box;margin-bottom: 0.5em;}#sk-container-id-1 div.sk-estimator:hover {background-color: #d4ebff;}#sk-container-id-1 div.sk-parallel-item::after {content: \"\";width: 100%;border-bottom: 1px solid gray;flex-grow: 1;}#sk-container-id-1 div.sk-label:hover label.sk-toggleable__label {background-color: #d4ebff;}#sk-container-id-1 div.sk-serial::before {content: \"\";position: absolute;border-left: 1px solid gray;box-sizing: border-box;top: 0;bottom: 0;left: 50%;z-index: 0;}#sk-container-id-1 div.sk-serial {display: flex;flex-direction: column;align-items: center;background-color: white;padding-right: 0.2em;padding-left: 0.2em;position: relative;}#sk-container-id-1 div.sk-item {position: relative;z-index: 1;}#sk-container-id-1 div.sk-parallel {display: flex;align-items: stretch;justify-content: center;background-color: white;position: relative;}#sk-container-id-1 div.sk-item::before, #sk-container-id-1 div.sk-parallel-item::before {content: \"\";position: absolute;border-left: 1px solid gray;box-sizing: border-box;top: 0;bottom: 0;left: 50%;z-index: -1;}#sk-container-id-1 div.sk-parallel-item {display: flex;flex-direction: column;z-index: 1;position: relative;background-color: white;}#sk-container-id-1 div.sk-parallel-item:first-child::after {align-self: flex-end;width: 50%;}#sk-container-id-1 div.sk-parallel-item:last-child::after {align-self: flex-start;width: 50%;}#sk-container-id-1 div.sk-parallel-item:only-child::after {width: 0;}#sk-container-id-1 div.sk-dashed-wrapped {border: 1px dashed gray;margin: 0 0.4em 0.5em 0.4em;box-sizing: border-box;padding-bottom: 0.4em;background-color: white;}#sk-container-id-1 div.sk-label label {font-family: monospace;font-weight: bold;display: inline-block;line-height: 1.2em;}#sk-container-id-1 div.sk-label-container {text-align: center;}#sk-container-id-1 div.sk-container {/* jupyter's `normalize.less` sets `[hidden] { display: none; }` but bootstrap.min.css set `[hidden] { display: none !important; }` so we also need the `!important` here to be able to override the default hidden behavior on the sphinx rendered scikit-learn.org. See: https://github.com/scikit-learn/scikit-learn/issues/21755 */display: inline-block !important;position: relative;}#sk-container-id-1 div.sk-text-repr-fallback {display: none;}</style><div id=\"sk-container-id-1\" class=\"sk-top-container\"><div class=\"sk-text-repr-fallback\"><pre>LinearRegression()</pre><b>In a Jupyter environment, please rerun this cell to show the HTML representation or trust the notebook. <br />On GitHub, the HTML representation is unable to render, please try loading this page with nbviewer.org.</b></div><div class=\"sk-container\" hidden><div class=\"sk-item\"><div class=\"sk-estimator sk-toggleable\"><input class=\"sk-toggleable__control sk-hidden--visually\" id=\"sk-estimator-id-1\" type=\"checkbox\" checked><label for=\"sk-estimator-id-1\" class=\"sk-toggleable__label sk-toggleable__label-arrow\">LinearRegression</label><div class=\"sk-toggleable__content\"><pre>LinearRegression()</pre></div></div></div></div></div>"
      ],
      "text/plain": [
       "LinearRegression()"
      ]
     },
     "execution_count": 19,
     "metadata": {},
     "output_type": "execute_result"
    }
   ],
   "source": [
    "from sklearn.model_selection import train_test_split\n",
    "from sklearn.linear_model import LinearRegression\n",
    "\n",
    "# 데이터 세트 분리\n",
    "# 피처, 타겟 데이터 분리\n",
    "features, targets = pre_m_df.iloc[:, :-1], pre_m_df.iloc[:, -1]\n",
    "\n",
    "# 문제/정답 및 학습/훈련 데이터 분리\n",
    "X_train, X_test, y_train, y_test = \\\n",
    "train_test_split(features, targets, test_size=0.2, random_state=124)\n",
    "\n",
    "# 선형 회귀 모델\n",
    "l_r = LinearRegression()\n",
    "# 훈련: 모델이 최적의 가중치와 편향을 학습\n",
    "l_r.fit(X_train, y_train)"
   ]
  },
  {
   "cell_type": "code",
   "execution_count": 20,
   "id": "0265b7d5-ce68-4b20-b9bd-eb4e31bdfa8f",
   "metadata": {},
   "outputs": [
    {
     "name": "stdout",
     "output_type": "stream",
     "text": [
      "MSE: 44528.4874, RMSE: 211.0177, R2: 0.5505\n"
     ]
    }
   ],
   "source": [
    "# 예측\n",
    "prediction = l_r.predict(X_test)\n",
    "# 평가\n",
    "get_evaluation(y_test, prediction)"
   ]
  },
  {
   "cell_type": "markdown",
   "id": "bb8382d4-5012-4ef4-b9dd-2791d02782d2",
   "metadata": {},
   "source": [
    "#### 🚩 결과\n",
    "- 다중 공산성이 높게 나타남에 따라 분포를 맞춰주기"
   ]
  },
  {
   "cell_type": "markdown",
   "id": "b84bdbca-fa3f-4ff4-a7de-44107ab6d663",
   "metadata": {},
   "source": [
    "#### 📊 분포"
   ]
  },
  {
   "cell_type": "markdown",
   "id": "eea6e8b5-68fc-4d3e-b3b2-0ebb4e3daa19",
   "metadata": {},
   "source": [
    "#### ❗ 이슈\n",
    "<code>np.log1p(pre_m_df).hist(figsize=(10, 8))</code>\n",
    "\n",
    "ValueError: supplied range of [-inf, 3.4436180975461075] is not finite\n",
    "\n",
    "#### 💡 해결\n",
    "- 로그가 불가능한 값을 가지고 있다는 문제 발생\n",
    "- yeo-johnson을 사용하여 처리"
   ]
  },
  {
   "cell_type": "code",
   "execution_count": 21,
   "id": "7d5c3bda-4e48-454b-ae70-a1d952e667da",
   "metadata": {},
   "outputs": [
    {
     "name": "stderr",
     "output_type": "stream",
     "text": [
      "C:\\Users\\LEGION\\AppData\\Local\\Temp\\ipykernel_20680\\3532667725.py:8: SettingWithCopyWarning: \n",
      "A value is trying to be set on a copy of a slice from a DataFrame.\n",
      "Try using .loc[row_indexer,col_indexer] = value instead\n",
      "\n",
      "See the caveats in the documentation: https://pandas.pydata.org/pandas-docs/stable/user_guide/indexing.html#returning-a-view-versus-a-copy\n",
      "  pre_m_df['mosquito_Indicator'] = result\n"
     ]
    },
    {
     "data": {
      "text/html": [
       "<div>\n",
       "<style scoped>\n",
       "    .dataframe tbody tr th:only-of-type {\n",
       "        vertical-align: middle;\n",
       "    }\n",
       "\n",
       "    .dataframe tbody tr th {\n",
       "        vertical-align: top;\n",
       "    }\n",
       "\n",
       "    .dataframe thead th {\n",
       "        text-align: right;\n",
       "    }\n",
       "</style>\n",
       "<table border=\"1\" class=\"dataframe\">\n",
       "  <thead>\n",
       "    <tr style=\"text-align: right;\">\n",
       "      <th></th>\n",
       "      <th>rain(mm)</th>\n",
       "      <th>mean_T(℃)</th>\n",
       "      <th>min_T(℃)</th>\n",
       "      <th>max_T(℃)</th>\n",
       "      <th>mosquito_Indicator</th>\n",
       "    </tr>\n",
       "  </thead>\n",
       "  <tbody>\n",
       "    <tr>\n",
       "      <th>0</th>\n",
       "      <td>0.0</td>\n",
       "      <td>18.8</td>\n",
       "      <td>12.2</td>\n",
       "      <td>26.0</td>\n",
       "      <td>6.571413</td>\n",
       "    </tr>\n",
       "    <tr>\n",
       "      <th>1</th>\n",
       "      <td>16.5</td>\n",
       "      <td>21.1</td>\n",
       "      <td>16.5</td>\n",
       "      <td>28.4</td>\n",
       "      <td>6.672078</td>\n",
       "    </tr>\n",
       "    <tr>\n",
       "      <th>2</th>\n",
       "      <td>27.0</td>\n",
       "      <td>12.9</td>\n",
       "      <td>8.9</td>\n",
       "      <td>17.6</td>\n",
       "      <td>6.819922</td>\n",
       "    </tr>\n",
       "    <tr>\n",
       "      <th>3</th>\n",
       "      <td>0.0</td>\n",
       "      <td>15.7</td>\n",
       "      <td>10.2</td>\n",
       "      <td>20.6</td>\n",
       "      <td>6.581196</td>\n",
       "    </tr>\n",
       "    <tr>\n",
       "      <th>4</th>\n",
       "      <td>7.5</td>\n",
       "      <td>18.9</td>\n",
       "      <td>10.2</td>\n",
       "      <td>26.9</td>\n",
       "      <td>6.512448</td>\n",
       "    </tr>\n",
       "    <tr>\n",
       "      <th>...</th>\n",
       "      <td>...</td>\n",
       "      <td>...</td>\n",
       "      <td>...</td>\n",
       "      <td>...</td>\n",
       "      <td>...</td>\n",
       "    </tr>\n",
       "    <tr>\n",
       "      <th>1337</th>\n",
       "      <td>0.0</td>\n",
       "      <td>-1.7</td>\n",
       "      <td>-4.6</td>\n",
       "      <td>2.6</td>\n",
       "      <td>1.980530</td>\n",
       "    </tr>\n",
       "    <tr>\n",
       "      <th>1338</th>\n",
       "      <td>0.0</td>\n",
       "      <td>1.1</td>\n",
       "      <td>-3.6</td>\n",
       "      <td>6.1</td>\n",
       "      <td>1.980530</td>\n",
       "    </tr>\n",
       "    <tr>\n",
       "      <th>1339</th>\n",
       "      <td>1.4</td>\n",
       "      <td>3.8</td>\n",
       "      <td>1.1</td>\n",
       "      <td>6.2</td>\n",
       "      <td>1.980530</td>\n",
       "    </tr>\n",
       "    <tr>\n",
       "      <th>1340</th>\n",
       "      <td>0.4</td>\n",
       "      <td>2.7</td>\n",
       "      <td>-5.7</td>\n",
       "      <td>6.8</td>\n",
       "      <td>1.980530</td>\n",
       "    </tr>\n",
       "    <tr>\n",
       "      <th>1341</th>\n",
       "      <td>0.0</td>\n",
       "      <td>-7.9</td>\n",
       "      <td>-10.9</td>\n",
       "      <td>-4.5</td>\n",
       "      <td>1.980530</td>\n",
       "    </tr>\n",
       "  </tbody>\n",
       "</table>\n",
       "<p>1295 rows × 5 columns</p>\n",
       "</div>"
      ],
      "text/plain": [
       "      rain(mm)  mean_T(℃)  min_T(℃)  max_T(℃)  mosquito_Indicator\n",
       "0          0.0       18.8      12.2      26.0            6.571413\n",
       "1         16.5       21.1      16.5      28.4            6.672078\n",
       "2         27.0       12.9       8.9      17.6            6.819922\n",
       "3          0.0       15.7      10.2      20.6            6.581196\n",
       "4          7.5       18.9      10.2      26.9            6.512448\n",
       "...        ...        ...       ...       ...                 ...\n",
       "1337       0.0       -1.7      -4.6       2.6            1.980530\n",
       "1338       0.0        1.1      -3.6       6.1            1.980530\n",
       "1339       1.4        3.8       1.1       6.2            1.980530\n",
       "1340       0.4        2.7      -5.7       6.8            1.980530\n",
       "1341       0.0       -7.9     -10.9      -4.5            1.980530\n",
       "\n",
       "[1295 rows x 5 columns]"
      ]
     },
     "execution_count": 21,
     "metadata": {},
     "output_type": "execute_result"
    }
   ],
   "source": [
    "from sklearn.preprocessing import PowerTransformer\n",
    "\n",
    "# box-cox: 양수만 가능\n",
    "# yeo-johnson: 음수, 0 포함 가능, default\n",
    "\n",
    "ptf = PowerTransformer(standardize=False)\n",
    "result = ptf.fit_transform(pre_m_df[['mosquito_Indicator']])\n",
    "pre_m_df['mosquito_Indicator'] = result\n",
    "\n",
    "pre_m_df"
   ]
  },
  {
   "cell_type": "code",
   "execution_count": 22,
   "id": "251524d9-9d3f-4f0d-8547-1bf0a5e0437e",
   "metadata": {},
   "outputs": [
    {
     "data": {
      "text/plain": [
       "array([[<Axes: title={'center': 'rain(mm)'}>,\n",
       "        <Axes: title={'center': 'mean_T(℃)'}>],\n",
       "       [<Axes: title={'center': 'min_T(℃)'}>,\n",
       "        <Axes: title={'center': 'max_T(℃)'}>],\n",
       "       [<Axes: title={'center': 'mosquito_Indicator'}>, <Axes: >]],\n",
       "      dtype=object)"
      ]
     },
     "execution_count": 22,
     "metadata": {},
     "output_type": "execute_result"
    },
    {
     "data": {
      "image/png": "[encoded data removed]",
      "text/plain": [
       "<Figure size 1000x800 with 6 Axes>"
      ]
     },
     "metadata": {},
     "output_type": "display_data"
    }
   ],
   "source": [
    "pre_m_df.hist(figsize=(10, 8))"
   ]
  },
  {
   "cell_type": "markdown",
   "id": "5801f1ae-a466-4e77-8a65-faed8bbd9a49",
   "metadata": {},
   "source": [
    "#### 📊 OLS"
   ]
  },
  {
   "cell_type": "code",
   "execution_count": 23,
   "id": "371569d4-6c6d-4f08-a772-cb8058431c01",
   "metadata": {},
   "outputs": [
    {
     "name": "stdout",
     "output_type": "stream",
     "text": [
      "                                 OLS Regression Results                                \n",
      "=======================================================================================\n",
      "Dep. Variable:     mosquito_Indicator   R-squared (uncentered):                   0.916\n",
      "Model:                            OLS   Adj. R-squared (uncentered):              0.916\n",
      "Method:                 Least Squares   F-statistic:                              3520.\n",
      "Date:                Mon, 29 Apr 2024   Prob (F-statistic):                        0.00\n",
      "Time:                        14:58:41   Log-Likelihood:                         -2431.8\n",
      "No. Observations:                1295   AIC:                                      4872.\n",
      "Df Residuals:                    1291   BIC:                                      4892.\n",
      "Df Model:                           4                                                  \n",
      "Covariance Type:            nonrobust                                                  \n",
      "==============================================================================\n",
      "                 coef    std err          t      P>|t|      [0.025      0.975]\n",
      "------------------------------------------------------------------------------\n",
      "rain(mm)       0.0229      0.004      6.277      0.000       0.016       0.030\n",
      "mean_T(℃)      0.0838      0.078      1.075      0.283      -0.069       0.237\n",
      "min_T(℃)      -0.0611      0.042     -1.461      0.144      -0.143       0.021\n",
      "max_T(℃)       0.2047      0.037      5.539      0.000       0.132       0.277\n",
      "==============================================================================\n",
      "Omnibus:                      326.520   Durbin-Watson:                   0.334\n",
      "Prob(Omnibus):                  0.000   Jarque-Bera (JB):             1183.224\n",
      "Skew:                          -1.191   Prob(JB):                    1.16e-257\n",
      "Kurtosis:                       7.032   Cond. No.                         69.3\n",
      "==============================================================================\n",
      "\n",
      "Notes:\n",
      "[1] R² is computed without centering (uncentered) since the model does not contain a constant.\n",
      "[2] Standard Errors assume that the covariance matrix of the errors is correctly specified.\n"
     ]
    }
   ],
   "source": [
    "from statsmodels.api import OLS\n",
    "\n",
    "# 데이터 세트 분리\n",
    "# 피처, 타겟 데이터 분리\n",
    "features, targets = pre_m_df.iloc[:, :-1], pre_m_df.iloc[:, -1]\n",
    "\n",
    "# OLS 객체 생성\n",
    "model = OLS(targets, features)\n",
    "# 훈련 및 정보 출력\n",
    "print(model.fit().summary())"
   ]
  },
  {
   "cell_type": "markdown",
   "id": "0c39a97b-a87c-4cd6-b7a6-cfa4b6eefe8f",
   "metadata": {},
   "source": [
    "#### 📊 VIF"
   ]
  },
  {
   "cell_type": "code",
   "execution_count": 24,
   "id": "1ce1d500-086c-431b-a4b1-5551a8cdb406",
   "metadata": {},
   "outputs": [
    {
     "data": {
      "text/html": [
       "<div>\n",
       "<style scoped>\n",
       "    .dataframe tbody tr th:only-of-type {\n",
       "        vertical-align: middle;\n",
       "    }\n",
       "\n",
       "    .dataframe tbody tr th {\n",
       "        vertical-align: top;\n",
       "    }\n",
       "\n",
       "    .dataframe thead th {\n",
       "        text-align: right;\n",
       "    }\n",
       "</style>\n",
       "<table border=\"1\" class=\"dataframe\">\n",
       "  <thead>\n",
       "    <tr style=\"text-align: right;\">\n",
       "      <th></th>\n",
       "      <th>vif_score</th>\n",
       "      <th>feature</th>\n",
       "    </tr>\n",
       "  </thead>\n",
       "  <tbody>\n",
       "    <tr>\n",
       "      <th>0</th>\n",
       "      <td>1.106421</td>\n",
       "      <td>rain(mm)</td>\n",
       "    </tr>\n",
       "    <tr>\n",
       "      <th>1</th>\n",
       "      <td>1001.901034</td>\n",
       "      <td>mean_T(℃)</td>\n",
       "    </tr>\n",
       "    <tr>\n",
       "      <th>2</th>\n",
       "      <td>200.659322</td>\n",
       "      <td>min_T(℃)</td>\n",
       "    </tr>\n",
       "    <tr>\n",
       "      <th>3</th>\n",
       "      <td>342.476613</td>\n",
       "      <td>max_T(℃)</td>\n",
       "    </tr>\n",
       "  </tbody>\n",
       "</table>\n",
       "</div>"
      ],
      "text/plain": [
       "     vif_score    feature\n",
       "0     1.106421   rain(mm)\n",
       "1  1001.901034  mean_T(℃)\n",
       "2   200.659322   min_T(℃)\n",
       "3   342.476613   max_T(℃)"
      ]
     },
     "execution_count": 24,
     "metadata": {},
     "output_type": "execute_result"
    }
   ],
   "source": [
    "# VIF 확인\n",
    "get_vif(features)"
   ]
  },
  {
   "cell_type": "markdown",
   "id": "4058588c-6bc3-4300-8f11-4c45c8c6368b",
   "metadata": {},
   "source": [
    "#### 📊 상관관계"
   ]
  },
  {
   "cell_type": "code",
   "execution_count": 25,
   "id": "cb1e5b67-a58f-4188-a7f3-d5e514bdfa10",
   "metadata": {},
   "outputs": [
    {
     "data": {
      "text/plain": [
       "min_T(℃)     0.846382\n",
       "mean_T(℃)    0.843847\n",
       "max_T(℃)     0.823627\n",
       "rain(mm)     0.170870\n",
       "Name: mosquito_Indicator, dtype: float64"
      ]
     },
     "execution_count": 25,
     "metadata": {},
     "output_type": "execute_result"
    }
   ],
   "source": [
    "# 상관관계 확인\n",
    "pre_m_df.corr()['mosquito_Indicator'].sort_values(ascending=False)[1:]"
   ]
  },
  {
   "cell_type": "markdown",
   "id": "11cad73f-e284-4cbf-8351-329997b1c031",
   "metadata": {},
   "source": [
    "#### 📊 회귀 분석"
   ]
  },
  {
   "cell_type": "code",
   "execution_count": 26,
   "id": "40e39d2e-fc9f-4899-97f8-3c7f37aad70d",
   "metadata": {},
   "outputs": [
    {
     "data": {
      "text/html": [
       "<style>#sk-container-id-2 {color: black;background-color: white;}#sk-container-id-2 pre{padding: 0;}#sk-container-id-2 div.sk-toggleable {background-color: white;}#sk-container-id-2 label.sk-toggleable__label {cursor: pointer;display: block;width: 100%;margin-bottom: 0;padding: 0.3em;box-sizing: border-box;text-align: center;}#sk-container-id-2 label.sk-toggleable__label-arrow:before {content: \"▸\";float: left;margin-right: 0.25em;color: #696969;}#sk-container-id-2 label.sk-toggleable__label-arrow:hover:before {color: black;}#sk-container-id-2 div.sk-estimator:hover label.sk-toggleable__label-arrow:before {color: black;}#sk-container-id-2 div.sk-toggleable__content {max-height: 0;max-width: 0;overflow: hidden;text-align: left;background-color: #f0f8ff;}#sk-container-id-2 div.sk-toggleable__content pre {margin: 0.2em;color: black;border-radius: 0.25em;background-color: #f0f8ff;}#sk-container-id-2 input.sk-toggleable__control:checked~div.sk-toggleable__content {max-height: 200px;max-width: 100%;overflow: auto;}#sk-container-id-2 input.sk-toggleable__control:checked~label.sk-toggleable__label-arrow:before {content: \"▾\";}#sk-container-id-2 div.sk-estimator input.sk-toggleable__control:checked~label.sk-toggleable__label {background-color: #d4ebff;}#sk-container-id-2 div.sk-label input.sk-toggleable__control:checked~label.sk-toggleable__label {background-color: #d4ebff;}#sk-container-id-2 input.sk-hidden--visually {border: 0;clip: rect(1px 1px 1px 1px);clip: rect(1px, 1px, 1px, 1px);height: 1px;margin: -1px;overflow: hidden;padding: 0;position: absolute;width: 1px;}#sk-container-id-2 div.sk-estimator {font-family: monospace;background-color: #f0f8ff;border: 1px dotted black;border-radius: 0.25em;box-sizing: border-box;margin-bottom: 0.5em;}#sk-container-id-2 div.sk-estimator:hover {background-color: #d4ebff;}#sk-container-id-2 div.sk-parallel-item::after {content: \"\";width: 100%;border-bottom: 1px solid gray;flex-grow: 1;}#sk-container-id-2 div.sk-label:hover label.sk-toggleable__label {background-color: #d4ebff;}#sk-container-id-2 div.sk-serial::before {content: \"\";position: absolute;border-left: 1px solid gray;box-sizing: border-box;top: 0;bottom: 0;left: 50%;z-index: 0;}#sk-container-id-2 div.sk-serial {display: flex;flex-direction: column;align-items: center;background-color: white;padding-right: 0.2em;padding-left: 0.2em;position: relative;}#sk-container-id-2 div.sk-item {position: relative;z-index: 1;}#sk-container-id-2 div.sk-parallel {display: flex;align-items: stretch;justify-content: center;background-color: white;position: relative;}#sk-container-id-2 div.sk-item::before, #sk-container-id-2 div.sk-parallel-item::before {content: \"\";position: absolute;border-left: 1px solid gray;box-sizing: border-box;top: 0;bottom: 0;left: 50%;z-index: -1;}#sk-container-id-2 div.sk-parallel-item {display: flex;flex-direction: column;z-index: 1;position: relative;background-color: white;}#sk-container-id-2 div.sk-parallel-item:first-child::after {align-self: flex-end;width: 50%;}#sk-container-id-2 div.sk-parallel-item:last-child::after {align-self: flex-start;width: 50%;}#sk-container-id-2 div.sk-parallel-item:only-child::after {width: 0;}#sk-container-id-2 div.sk-dashed-wrapped {border: 1px dashed gray;margin: 0 0.4em 0.5em 0.4em;box-sizing: border-box;padding-bottom: 0.4em;background-color: white;}#sk-container-id-2 div.sk-label label {font-family: monospace;font-weight: bold;display: inline-block;line-height: 1.2em;}#sk-container-id-2 div.sk-label-container {text-align: center;}#sk-container-id-2 div.sk-container {/* jupyter's `normalize.less` sets `[hidden] { display: none; }` but bootstrap.min.css set `[hidden] { display: none !important; }` so we also need the `!important` here to be able to override the default hidden behavior on the sphinx rendered scikit-learn.org. See: https://github.com/scikit-learn/scikit-learn/issues/21755 */display: inline-block !important;position: relative;}#sk-container-id-2 div.sk-text-repr-fallback {display: none;}</style><div id=\"sk-container-id-2\" class=\"sk-top-container\"><div class=\"sk-text-repr-fallback\"><pre>LinearRegression()</pre><b>In a Jupyter environment, please rerun this cell to show the HTML representation or trust the notebook. <br />On GitHub, the HTML representation is unable to render, please try loading this page with nbviewer.org.</b></div><div class=\"sk-container\" hidden><div class=\"sk-item\"><div class=\"sk-estimator sk-toggleable\"><input class=\"sk-toggleable__control sk-hidden--visually\" id=\"sk-estimator-id-2\" type=\"checkbox\" checked><label for=\"sk-estimator-id-2\" class=\"sk-toggleable__label sk-toggleable__label-arrow\">LinearRegression</label><div class=\"sk-toggleable__content\"><pre>LinearRegression()</pre></div></div></div></div></div>"
      ],
      "text/plain": [
       "LinearRegression()"
      ]
     },
     "execution_count": 26,
     "metadata": {},
     "output_type": "execute_result"
    }
   ],
   "source": [
    "from sklearn.model_selection import train_test_split\n",
    "from sklearn.linear_model import LinearRegression\n",
    "\n",
    "# 데이터 세트 분리\n",
    "# 피처, 타겟 데이터 분리\n",
    "features, targets = pre_m_df.iloc[:, :-1], pre_m_df.iloc[:, -1]\n",
    "\n",
    "# 문제/정답 및 학습/훈련 데이터 분리\n",
    "X_train, X_test, y_train, y_test = \\\n",
    "train_test_split(features, targets, test_size=0.2, random_state=124)\n",
    "\n",
    "# 선형 회귀 모델\n",
    "l_r = LinearRegression()\n",
    "# 훈련: 모델이 최적의 가중치와 편향을 학습\n",
    "l_r.fit(X_train, y_train)"
   ]
  },
  {
   "cell_type": "code",
   "execution_count": 27,
   "id": "50ee8e57-4d22-4e9c-b82b-00b501530714",
   "metadata": {},
   "outputs": [
    {
     "name": "stdout",
     "output_type": "stream",
     "text": [
      "MSE: 2.3556, RMSE: 1.5348, R2: 0.6912\n"
     ]
    }
   ],
   "source": [
    "# 예측\n",
    "prediction = l_r.predict(X_test)\n",
    "# 평가\n",
    "get_evaluation(y_test, prediction)"
   ]
  }
 ],
 "metadata": {
  "kernelspec": {
   "display_name": "Python 3 (ipykernel)",
   "language": "python",
   "name": "python3"
  },
  "language_info": {
   "codemirror_mode": {
    "name": "ipython",
    "version": 3
   },
   "file_extension": ".py",
   "mimetype": "text/x-python",
   "name": "python",
   "nbconvert_exporter": "python",
   "pygments_lexer": "ipython3",
   "version": "3.11.8"
  }
 },
 "nbformat": 4,
 "nbformat_minor": 5
}
