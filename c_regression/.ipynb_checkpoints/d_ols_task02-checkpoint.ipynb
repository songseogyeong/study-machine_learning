{
 "cells": [
  {
   "cell_type": "markdown",
   "id": "12f70c8f-55c0-43b2-86bb-b01f4746d73d",
   "metadata": {},
   "source": [
    "### OLS Task02\n",
    "\n",
    "#### 한국 아파트 가격 예측\n",
    "https://drive.google.com/file/d/1v3eNjo3TjTgUPlq6Uw_v_oEQ8sVjaItw/view?usp=share_link"
   ]
  },
  {
   "cell_type": "code",
   "execution_count": 1,
   "id": "75fd6769-91c6-42b5-aee5-c4cdce0df057",
   "metadata": {},
   "outputs": [
    {
     "data": {
      "text/html": [
       "<div>\n",
       "<style scoped>\n",
       "    .dataframe tbody tr th:only-of-type {\n",
       "        vertical-align: middle;\n",
       "    }\n",
       "\n",
       "    .dataframe tbody tr th {\n",
       "        vertical-align: top;\n",
       "    }\n",
       "\n",
       "    .dataframe thead th {\n",
       "        text-align: right;\n",
       "    }\n",
       "</style>\n",
       "<table border=\"1\" class=\"dataframe\">\n",
       "  <thead>\n",
       "    <tr style=\"text-align: right;\">\n",
       "      <th></th>\n",
       "      <th>지역코드</th>\n",
       "      <th>동</th>\n",
       "      <th>거래일</th>\n",
       "      <th>아파트</th>\n",
       "      <th>지번</th>\n",
       "      <th>전용면적</th>\n",
       "      <th>층</th>\n",
       "      <th>건축년도</th>\n",
       "      <th>거래금액</th>\n",
       "    </tr>\n",
       "  </thead>\n",
       "  <tbody>\n",
       "    <tr>\n",
       "      <th>0</th>\n",
       "      <td>31110.0</td>\n",
       "      <td>학성동</td>\n",
       "      <td>5/30/2020 0:00</td>\n",
       "      <td>남운학성타운</td>\n",
       "      <td>379</td>\n",
       "      <td>135.5800</td>\n",
       "      <td>8</td>\n",
       "      <td>1991.0</td>\n",
       "      <td>26700</td>\n",
       "    </tr>\n",
       "    <tr>\n",
       "      <th>1</th>\n",
       "      <td>31110.0</td>\n",
       "      <td>남외동</td>\n",
       "      <td>1/3/2020 0:00</td>\n",
       "      <td>남외푸르지오1차</td>\n",
       "      <td>506-1</td>\n",
       "      <td>101.6000</td>\n",
       "      <td>2</td>\n",
       "      <td>2006.0</td>\n",
       "      <td>35500</td>\n",
       "    </tr>\n",
       "    <tr>\n",
       "      <th>2</th>\n",
       "      <td>31110.0</td>\n",
       "      <td>남외동</td>\n",
       "      <td>1/3/2020 0:00</td>\n",
       "      <td>에일린의뜰</td>\n",
       "      <td>500</td>\n",
       "      <td>84.9920</td>\n",
       "      <td>11</td>\n",
       "      <td>2007.0</td>\n",
       "      <td>36500</td>\n",
       "    </tr>\n",
       "    <tr>\n",
       "      <th>3</th>\n",
       "      <td>31110.0</td>\n",
       "      <td>남외동</td>\n",
       "      <td>1/3/2020 0:00</td>\n",
       "      <td>남외푸르지오1차</td>\n",
       "      <td>506-1</td>\n",
       "      <td>118.7060</td>\n",
       "      <td>8</td>\n",
       "      <td>2006.0</td>\n",
       "      <td>43000</td>\n",
       "    </tr>\n",
       "    <tr>\n",
       "      <th>4</th>\n",
       "      <td>31110.0</td>\n",
       "      <td>남외동</td>\n",
       "      <td>1/4/2020 0:00</td>\n",
       "      <td>남외푸르지오2차</td>\n",
       "      <td>501-1</td>\n",
       "      <td>84.9636</td>\n",
       "      <td>7</td>\n",
       "      <td>2007.0</td>\n",
       "      <td>38700</td>\n",
       "    </tr>\n",
       "    <tr>\n",
       "      <th>...</th>\n",
       "      <td>...</td>\n",
       "      <td>...</td>\n",
       "      <td>...</td>\n",
       "      <td>...</td>\n",
       "      <td>...</td>\n",
       "      <td>...</td>\n",
       "      <td>...</td>\n",
       "      <td>...</td>\n",
       "      <td>...</td>\n",
       "    </tr>\n",
       "    <tr>\n",
       "      <th>5002834</th>\n",
       "      <td>50130.0</td>\n",
       "      <td>대정읍 하모리</td>\n",
       "      <td>2023-06-29 00:00:00</td>\n",
       "      <td>더그라벨아파트</td>\n",
       "      <td>1221-1</td>\n",
       "      <td>57.1300</td>\n",
       "      <td>6</td>\n",
       "      <td>2019.0</td>\n",
       "      <td>19,500</td>\n",
       "    </tr>\n",
       "    <tr>\n",
       "      <th>5002835</th>\n",
       "      <td>50130.0</td>\n",
       "      <td>동홍동</td>\n",
       "      <td>2023-07-04 00:00:00</td>\n",
       "      <td>주공5차(동홍5차)</td>\n",
       "      <td>1674</td>\n",
       "      <td>49.8700</td>\n",
       "      <td>2</td>\n",
       "      <td>1999.0</td>\n",
       "      <td>21,700</td>\n",
       "    </tr>\n",
       "    <tr>\n",
       "      <th>5002836</th>\n",
       "      <td>50130.0</td>\n",
       "      <td>서홍동</td>\n",
       "      <td>2023-07-04 00:00:00</td>\n",
       "      <td>서홍반석타운</td>\n",
       "      <td>2004-1</td>\n",
       "      <td>45.3100</td>\n",
       "      <td>1</td>\n",
       "      <td>2000.0</td>\n",
       "      <td>9,300</td>\n",
       "    </tr>\n",
       "    <tr>\n",
       "      <th>5002837</th>\n",
       "      <td>50130.0</td>\n",
       "      <td>중문동</td>\n",
       "      <td>2023-07-01 00:00:00</td>\n",
       "      <td>중문푸른마을</td>\n",
       "      <td>1789</td>\n",
       "      <td>51.8800</td>\n",
       "      <td>2</td>\n",
       "      <td>2003.0</td>\n",
       "      <td>25,500</td>\n",
       "    </tr>\n",
       "    <tr>\n",
       "      <th>5002838</th>\n",
       "      <td>50130.0</td>\n",
       "      <td>중문동</td>\n",
       "      <td>2023-07-01 00:00:00</td>\n",
       "      <td>e편한세상중문</td>\n",
       "      <td>1726</td>\n",
       "      <td>84.9875</td>\n",
       "      <td>5</td>\n",
       "      <td>2021.0</td>\n",
       "      <td>52,500</td>\n",
       "    </tr>\n",
       "  </tbody>\n",
       "</table>\n",
       "<p>5002839 rows × 9 columns</p>\n",
       "</div>"
      ],
      "text/plain": [
       "            지역코드        동                  거래일         아파트      지번      전용면적  \\\n",
       "0        31110.0      학성동       5/30/2020 0:00      남운학성타운     379  135.5800   \n",
       "1        31110.0      남외동        1/3/2020 0:00    남외푸르지오1차   506-1  101.6000   \n",
       "2        31110.0      남외동        1/3/2020 0:00       에일린의뜰     500   84.9920   \n",
       "3        31110.0      남외동        1/3/2020 0:00    남외푸르지오1차   506-1  118.7060   \n",
       "4        31110.0      남외동        1/4/2020 0:00    남외푸르지오2차   501-1   84.9636   \n",
       "...          ...      ...                  ...         ...     ...       ...   \n",
       "5002834  50130.0  대정읍 하모리  2023-06-29 00:00:00     더그라벨아파트  1221-1   57.1300   \n",
       "5002835  50130.0      동홍동  2023-07-04 00:00:00  주공5차(동홍5차)    1674   49.8700   \n",
       "5002836  50130.0      서홍동  2023-07-04 00:00:00      서홍반석타운  2004-1   45.3100   \n",
       "5002837  50130.0      중문동  2023-07-01 00:00:00      중문푸른마을    1789   51.8800   \n",
       "5002838  50130.0      중문동  2023-07-01 00:00:00     e편한세상중문    1726   84.9875   \n",
       "\n",
       "          층    건축년도    거래금액  \n",
       "0         8  1991.0   26700  \n",
       "1         2  2006.0   35500  \n",
       "2        11  2007.0   36500  \n",
       "3         8  2006.0   43000  \n",
       "4         7  2007.0   38700  \n",
       "...      ..     ...     ...  \n",
       "5002834   6  2019.0  19,500  \n",
       "5002835   2  1999.0  21,700  \n",
       "5002836   1  2000.0   9,300  \n",
       "5002837   2  2003.0  25,500  \n",
       "5002838   5  2021.0  52,500  \n",
       "\n",
       "[5002839 rows x 9 columns]"
      ]
     },
     "execution_count": 1,
     "metadata": {},
     "output_type": "execute_result"
    }
   ],
   "source": [
    "import pandas as pd\n",
    "\n",
    "# 데이터 호출\n",
    "a_df = pd.read_csv('./datasets/korean_apart.csv', low_memory=False)\n",
    "a_df"
   ]
  },
  {
   "cell_type": "code",
   "execution_count": 2,
   "id": "c56f67b0-eace-4039-9c97-63560d9184ed",
   "metadata": {},
   "outputs": [],
   "source": [
    "import matplotlib.pyplot as plt\n",
    "\n",
    "# 한글 폰트 경로 설정\n",
    "plt.rcParams['font.family'] ='Malgun Gothic'\n",
    "plt.rcParams['axes.unicode_minus'] =False"
   ]
  },
  {
   "cell_type": "markdown",
   "id": "b57ab815-f815-4421-91d2-37d38f78a43d",
   "metadata": {},
   "source": [
    "#### 📊 데이터 정보 확인"
   ]
  },
  {
   "cell_type": "code",
   "execution_count": 3,
   "id": "8d249dc9-21fd-41c0-b1ef-8362f23c0dfc",
   "metadata": {},
   "outputs": [
    {
     "name": "stdout",
     "output_type": "stream",
     "text": [
      "<class 'pandas.core.frame.DataFrame'>\n",
      "RangeIndex: 5002839 entries, 0 to 5002838\n",
      "Data columns (total 9 columns):\n",
      " #   Column  Dtype  \n",
      "---  ------  -----  \n",
      " 0   지역코드    float64\n",
      " 1   동       object \n",
      " 2   거래일     object \n",
      " 3   아파트     object \n",
      " 4   지번      object \n",
      " 5   전용면적    float64\n",
      " 6   층       object \n",
      " 7   건축년도    float64\n",
      " 8   거래금액    object \n",
      "dtypes: float64(3), object(6)\n",
      "memory usage: 343.5+ MB\n"
     ]
    }
   ],
   "source": [
    "# 데이터 정보 확인\n",
    "a_df.info()"
   ]
  },
  {
   "cell_type": "code",
   "execution_count": 4,
   "id": "98436cb9-00da-482e-af2a-aac3bf9eca07",
   "metadata": {},
   "outputs": [
    {
     "data": {
      "text/plain": [
       "동\n",
       "중동         52072\n",
       "정자동        25149\n",
       "상동         24889\n",
       "신정동        24504\n",
       "상계동        24230\n",
       "           ...  \n",
       "하성면 마곡리        1\n",
       "오산면 장신리        1\n",
       "적성면 마지리        1\n",
       "화영동            1\n",
       "다가동3가          1\n",
       "Name: count, Length: 3214, dtype: int64"
      ]
     },
     "execution_count": 4,
     "metadata": {},
     "output_type": "execute_result"
    }
   ],
   "source": [
    "a_df['동'].value_counts()"
   ]
  },
  {
   "cell_type": "code",
   "execution_count": 5,
   "id": "8f74d9ea-8682-4fcb-b7d8-7a9ba8d265bf",
   "metadata": {},
   "outputs": [
    {
     "data": {
      "text/plain": [
       "아파트\n",
       "현대        41943\n",
       "주공        15824\n",
       "삼성        15364\n",
       "성원        15143\n",
       "주공2       14918\n",
       "          ...  \n",
       "동현빌라          1\n",
       "대신뉴랜드         1\n",
       "해인에이동         1\n",
       "승유오너빌         1\n",
       "중문스마트빌        1\n",
       "Name: count, Length: 36441, dtype: int64"
      ]
     },
     "execution_count": 5,
     "metadata": {},
     "output_type": "execute_result"
    }
   ],
   "source": [
    "a_df['아파트'].value_counts()"
   ]
  },
  {
   "cell_type": "code",
   "execution_count": 6,
   "id": "982c8528-358f-4e4a-a7ab-5ae6c725eebd",
   "metadata": {},
   "outputs": [
    {
     "data": {
      "text/plain": [
       "지번\n",
       "가-         7802\n",
       "10         7568\n",
       "1          7566\n",
       "100        6814\n",
       "20         6506\n",
       "           ... \n",
       "1540-37       1\n",
       "Sep-54        1\n",
       "27-Aug        1\n",
       "577-79        1\n",
       "1289-32       1\n",
       "Name: count, Length: 19051, dtype: int64"
      ]
     },
     "execution_count": 6,
     "metadata": {},
     "output_type": "execute_result"
    }
   ],
   "source": [
    "a_df['지번'].value_counts()"
   ]
  },
  {
   "cell_type": "code",
   "execution_count": 7,
   "id": "2f49e6f0-3400-4d1c-9522-e6c214182c43",
   "metadata": {},
   "outputs": [
    {
     "data": {
      "text/plain": [
       "층\n",
       "5       362630\n",
       "4       360867\n",
       "3       351428\n",
       "2       336996\n",
       "1       306582\n",
       "         ...  \n",
       "81           1\n",
       "             1\n",
       "-1.0         1\n",
       "-4           1\n",
       "50.0         1\n",
       "Name: count, Length: 139, dtype: int64"
      ]
     },
     "execution_count": 7,
     "metadata": {},
     "output_type": "execute_result"
    }
   ],
   "source": [
    "a_df['층'].value_counts()"
   ]
  },
  {
   "cell_type": "markdown",
   "id": "9a942f72-398a-4ac6-ac7c-eeca7368209e",
   "metadata": {},
   "source": [
    "#### 📊 데이터 결측치"
   ]
  },
  {
   "cell_type": "code",
   "execution_count": 8,
   "id": "9b239ef7-595d-48a2-810b-708766408427",
   "metadata": {},
   "outputs": [
    {
     "data": {
      "text/plain": [
       "지역코드      0\n",
       "동         0\n",
       "거래일       0\n",
       "아파트       0\n",
       "지번      438\n",
       "전용면적      0\n",
       "층         0\n",
       "건축년도     76\n",
       "거래금액      0\n",
       "dtype: int64"
      ]
     },
     "execution_count": 8,
     "metadata": {},
     "output_type": "execute_result"
    }
   ],
   "source": [
    "# 데이터 결측치 확인\n",
    "a_df.isna().sum()"
   ]
  },
  {
   "cell_type": "code",
   "execution_count": 9,
   "id": "31c45a65-24ca-4adf-90bb-84b641daae17",
   "metadata": {},
   "outputs": [],
   "source": [
    "# 데이터 결측치 제거\n",
    "pre_a_df = a_df[~ a_df['지번'].isna()]\n",
    "pre_a_df = pre_a_df[~ pre_a_df['건축년도'].isna()]"
   ]
  },
  {
   "cell_type": "code",
   "execution_count": 10,
   "id": "b52a4360-a630-4cb7-b7a8-63014c6605fe",
   "metadata": {},
   "outputs": [
    {
     "data": {
      "text/plain": [
       "지역코드    0\n",
       "동       0\n",
       "거래일     0\n",
       "아파트     0\n",
       "지번      0\n",
       "전용면적    0\n",
       "층       0\n",
       "건축년도    0\n",
       "거래금액    0\n",
       "dtype: int64"
      ]
     },
     "execution_count": 10,
     "metadata": {},
     "output_type": "execute_result"
    }
   ],
   "source": [
    "# 데이터 결측치 확인\n",
    "pre_a_df.isna().sum()"
   ]
  },
  {
   "cell_type": "markdown",
   "id": "c07414d3-1a2e-4165-8e1a-958e2d1430e9",
   "metadata": {},
   "source": [
    "#### 📊 데이터 중복행"
   ]
  },
  {
   "cell_type": "code",
   "execution_count": 11,
   "id": "e92c9c78-fc6d-4e70-aa35-dc8078ec878f",
   "metadata": {},
   "outputs": [
    {
     "data": {
      "text/plain": [
       "283891"
      ]
     },
     "execution_count": 11,
     "metadata": {},
     "output_type": "execute_result"
    }
   ],
   "source": [
    "# 데이터 중복행 확인\n",
    "pre_a_df.duplicated().sum()"
   ]
  },
  {
   "cell_type": "code",
   "execution_count": 12,
   "id": "42b074b5-9c6d-4a8d-b5c3-ea709215e9b1",
   "metadata": {},
   "outputs": [],
   "source": [
    "# 데이터 중복행 삭제\n",
    "pre_a_df.drop_duplicates(inplace=True)"
   ]
  },
  {
   "cell_type": "code",
   "execution_count": 13,
   "id": "a75004bf-3fb6-4246-8164-a47a63bf6971",
   "metadata": {},
   "outputs": [
    {
     "data": {
      "text/plain": [
       "0"
      ]
     },
     "execution_count": 13,
     "metadata": {},
     "output_type": "execute_result"
    }
   ],
   "source": [
    "# 데이터 중복행 확인\n",
    "pre_a_df.duplicated().sum()"
   ]
  },
  {
   "cell_type": "markdown",
   "id": "089e5fa7-6841-4a55-976a-49ad8e07dce7",
   "metadata": {},
   "source": [
    "#### 📊 특정 데이터 확인"
   ]
  },
  {
   "cell_type": "code",
   "execution_count": 14,
   "id": "92651147-2064-4700-80ca-fc94ad035baf",
   "metadata": {},
   "outputs": [
    {
     "data": {
      "text/plain": [
       "Series([], Name: 지역코드, dtype: int64)"
      ]
     },
     "execution_count": 14,
     "metadata": {},
     "output_type": "execute_result"
    }
   ],
   "source": [
    "# 지역코드 소수점 0이 아닌 데이터 확인\n",
    "a_df_va = (pre_a_df['지역코드'] * 10).astype('int64')\n",
    "a_df_va[a_df_va % 10 != 0]"
   ]
  },
  {
   "cell_type": "code",
   "execution_count": 15,
   "id": "fb2128b4-d777-4682-82bd-c942b9a05aec",
   "metadata": {},
   "outputs": [
    {
     "data": {
      "text/html": [
       "<div>\n",
       "<style scoped>\n",
       "    .dataframe tbody tr th:only-of-type {\n",
       "        vertical-align: middle;\n",
       "    }\n",
       "\n",
       "    .dataframe tbody tr th {\n",
       "        vertical-align: top;\n",
       "    }\n",
       "\n",
       "    .dataframe thead th {\n",
       "        text-align: right;\n",
       "    }\n",
       "</style>\n",
       "<table border=\"1\" class=\"dataframe\">\n",
       "  <thead>\n",
       "    <tr style=\"text-align: right;\">\n",
       "      <th></th>\n",
       "      <th>지역코드</th>\n",
       "      <th>동</th>\n",
       "      <th>거래일</th>\n",
       "      <th>아파트</th>\n",
       "      <th>지번</th>\n",
       "      <th>전용면적</th>\n",
       "      <th>층</th>\n",
       "      <th>건축년도</th>\n",
       "      <th>거래금액</th>\n",
       "    </tr>\n",
       "  </thead>\n",
       "  <tbody>\n",
       "  </tbody>\n",
       "</table>\n",
       "</div>"
      ],
      "text/plain": [
       "Empty DataFrame\n",
       "Columns: [지역코드, 동, 거래일, 아파트, 지번, 전용면적, 층, 건축년도, 거래금액]\n",
       "Index: []"
      ]
     },
     "execution_count": 15,
     "metadata": {},
     "output_type": "execute_result"
    }
   ],
   "source": [
    "# 전역 면적이 음수인 데이터 확인\n",
    "pre_a_df[pre_a_df['전용면적'] <= 0]"
   ]
  },
  {
   "cell_type": "code",
   "execution_count": 16,
   "id": "6b413f3b-0896-4be3-9abe-9082f7b076f4",
   "metadata": {},
   "outputs": [
    {
     "data": {
      "text/html": [
       "<div>\n",
       "<style scoped>\n",
       "    .dataframe tbody tr th:only-of-type {\n",
       "        vertical-align: middle;\n",
       "    }\n",
       "\n",
       "    .dataframe tbody tr th {\n",
       "        vertical-align: top;\n",
       "    }\n",
       "\n",
       "    .dataframe thead th {\n",
       "        text-align: right;\n",
       "    }\n",
       "</style>\n",
       "<table border=\"1\" class=\"dataframe\">\n",
       "  <thead>\n",
       "    <tr style=\"text-align: right;\">\n",
       "      <th></th>\n",
       "      <th>지역코드</th>\n",
       "      <th>동</th>\n",
       "      <th>거래일</th>\n",
       "      <th>아파트</th>\n",
       "      <th>지번</th>\n",
       "      <th>전용면적</th>\n",
       "      <th>층</th>\n",
       "      <th>건축년도</th>\n",
       "      <th>거래금액</th>\n",
       "    </tr>\n",
       "  </thead>\n",
       "  <tbody>\n",
       "    <tr>\n",
       "      <th>0</th>\n",
       "      <td>31110.0</td>\n",
       "      <td>학성동</td>\n",
       "      <td>5/30/2020 0:00</td>\n",
       "      <td>남운학성타운</td>\n",
       "      <td>379</td>\n",
       "      <td>135.5800</td>\n",
       "      <td>8</td>\n",
       "      <td>1991.0</td>\n",
       "      <td>26700</td>\n",
       "    </tr>\n",
       "    <tr>\n",
       "      <th>1</th>\n",
       "      <td>31110.0</td>\n",
       "      <td>남외동</td>\n",
       "      <td>1/3/2020 0:00</td>\n",
       "      <td>남외푸르지오1차</td>\n",
       "      <td>506-1</td>\n",
       "      <td>101.6000</td>\n",
       "      <td>2</td>\n",
       "      <td>2006.0</td>\n",
       "      <td>35500</td>\n",
       "    </tr>\n",
       "    <tr>\n",
       "      <th>2</th>\n",
       "      <td>31110.0</td>\n",
       "      <td>남외동</td>\n",
       "      <td>1/3/2020 0:00</td>\n",
       "      <td>에일린의뜰</td>\n",
       "      <td>500</td>\n",
       "      <td>84.9920</td>\n",
       "      <td>11</td>\n",
       "      <td>2007.0</td>\n",
       "      <td>36500</td>\n",
       "    </tr>\n",
       "    <tr>\n",
       "      <th>3</th>\n",
       "      <td>31110.0</td>\n",
       "      <td>남외동</td>\n",
       "      <td>1/3/2020 0:00</td>\n",
       "      <td>남외푸르지오1차</td>\n",
       "      <td>506-1</td>\n",
       "      <td>118.7060</td>\n",
       "      <td>8</td>\n",
       "      <td>2006.0</td>\n",
       "      <td>43000</td>\n",
       "    </tr>\n",
       "    <tr>\n",
       "      <th>4</th>\n",
       "      <td>31110.0</td>\n",
       "      <td>남외동</td>\n",
       "      <td>1/4/2020 0:00</td>\n",
       "      <td>남외푸르지오2차</td>\n",
       "      <td>501-1</td>\n",
       "      <td>84.9636</td>\n",
       "      <td>7</td>\n",
       "      <td>2007.0</td>\n",
       "      <td>38700</td>\n",
       "    </tr>\n",
       "    <tr>\n",
       "      <th>...</th>\n",
       "      <td>...</td>\n",
       "      <td>...</td>\n",
       "      <td>...</td>\n",
       "      <td>...</td>\n",
       "      <td>...</td>\n",
       "      <td>...</td>\n",
       "      <td>...</td>\n",
       "      <td>...</td>\n",
       "      <td>...</td>\n",
       "    </tr>\n",
       "    <tr>\n",
       "      <th>4718182</th>\n",
       "      <td>50130.0</td>\n",
       "      <td>대정읍 하모리</td>\n",
       "      <td>2023-06-29 00:00:00</td>\n",
       "      <td>더그라벨아파트</td>\n",
       "      <td>1221-1</td>\n",
       "      <td>57.1300</td>\n",
       "      <td>6</td>\n",
       "      <td>2019.0</td>\n",
       "      <td>19,500</td>\n",
       "    </tr>\n",
       "    <tr>\n",
       "      <th>4718183</th>\n",
       "      <td>50130.0</td>\n",
       "      <td>동홍동</td>\n",
       "      <td>2023-07-04 00:00:00</td>\n",
       "      <td>주공5차(동홍5차)</td>\n",
       "      <td>1674</td>\n",
       "      <td>49.8700</td>\n",
       "      <td>2</td>\n",
       "      <td>1999.0</td>\n",
       "      <td>21,700</td>\n",
       "    </tr>\n",
       "    <tr>\n",
       "      <th>4718184</th>\n",
       "      <td>50130.0</td>\n",
       "      <td>서홍동</td>\n",
       "      <td>2023-07-04 00:00:00</td>\n",
       "      <td>서홍반석타운</td>\n",
       "      <td>2004-1</td>\n",
       "      <td>45.3100</td>\n",
       "      <td>1</td>\n",
       "      <td>2000.0</td>\n",
       "      <td>9,300</td>\n",
       "    </tr>\n",
       "    <tr>\n",
       "      <th>4718185</th>\n",
       "      <td>50130.0</td>\n",
       "      <td>중문동</td>\n",
       "      <td>2023-07-01 00:00:00</td>\n",
       "      <td>중문푸른마을</td>\n",
       "      <td>1789</td>\n",
       "      <td>51.8800</td>\n",
       "      <td>2</td>\n",
       "      <td>2003.0</td>\n",
       "      <td>25,500</td>\n",
       "    </tr>\n",
       "    <tr>\n",
       "      <th>4718186</th>\n",
       "      <td>50130.0</td>\n",
       "      <td>중문동</td>\n",
       "      <td>2023-07-01 00:00:00</td>\n",
       "      <td>e편한세상중문</td>\n",
       "      <td>1726</td>\n",
       "      <td>84.9875</td>\n",
       "      <td>5</td>\n",
       "      <td>2021.0</td>\n",
       "      <td>52,500</td>\n",
       "    </tr>\n",
       "  </tbody>\n",
       "</table>\n",
       "<p>4718187 rows × 9 columns</p>\n",
       "</div>"
      ],
      "text/plain": [
       "            지역코드        동                  거래일         아파트      지번      전용면적  \\\n",
       "0        31110.0      학성동       5/30/2020 0:00      남운학성타운     379  135.5800   \n",
       "1        31110.0      남외동        1/3/2020 0:00    남외푸르지오1차   506-1  101.6000   \n",
       "2        31110.0      남외동        1/3/2020 0:00       에일린의뜰     500   84.9920   \n",
       "3        31110.0      남외동        1/3/2020 0:00    남외푸르지오1차   506-1  118.7060   \n",
       "4        31110.0      남외동        1/4/2020 0:00    남외푸르지오2차   501-1   84.9636   \n",
       "...          ...      ...                  ...         ...     ...       ...   \n",
       "4718182  50130.0  대정읍 하모리  2023-06-29 00:00:00     더그라벨아파트  1221-1   57.1300   \n",
       "4718183  50130.0      동홍동  2023-07-04 00:00:00  주공5차(동홍5차)    1674   49.8700   \n",
       "4718184  50130.0      서홍동  2023-07-04 00:00:00      서홍반석타운  2004-1   45.3100   \n",
       "4718185  50130.0      중문동  2023-07-01 00:00:00      중문푸른마을    1789   51.8800   \n",
       "4718186  50130.0      중문동  2023-07-01 00:00:00     e편한세상중문    1726   84.9875   \n",
       "\n",
       "          층    건축년도    거래금액  \n",
       "0         8  1991.0   26700  \n",
       "1         2  2006.0   35500  \n",
       "2        11  2007.0   36500  \n",
       "3         8  2006.0   43000  \n",
       "4         7  2007.0   38700  \n",
       "...      ..     ...     ...  \n",
       "4718182   6  2019.0  19,500  \n",
       "4718183   2  1999.0  21,700  \n",
       "4718184   1  2000.0   9,300  \n",
       "4718185   2  2003.0  25,500  \n",
       "4718186   5  2021.0  52,500  \n",
       "\n",
       "[4718187 rows x 9 columns]"
      ]
     },
     "execution_count": 16,
     "metadata": {},
     "output_type": "execute_result"
    }
   ],
   "source": [
    "# '층' 열에서 공백을 포함한 행 삭제\n",
    "pre_a_df = pre_a_df[pre_a_df['층'] != ' ']\n",
    "\n",
    "# 소수점을 제거한 후에 정수로 변환\n",
    "# 소수점 제거\n",
    "pre_a_df['층'] = pre_a_df['층'].astype(str).str.replace('.0', '')\n",
    "# 정수로 변환\n",
    "pre_a_df['층'] = pre_a_df['층'].astype('int64')\n",
    "\n",
    "#  층수가 음수인 데이터 확인\n",
    "pre_a_df = pre_a_df[~ (pre_a_df['층'] <= 0)].reset_index(drop=True)\n",
    "pre_a_df"
   ]
  },
  {
   "cell_type": "markdown",
   "id": "e1032ebf-5526-4cf3-857e-19a12c53ce42",
   "metadata": {},
   "source": [
    "#### 📊 불필요한 컬럼 제거"
   ]
  },
  {
   "cell_type": "code",
   "execution_count": 17,
   "id": "8384ac5f-0073-4a5f-ace3-9e1bf3ea7e80",
   "metadata": {},
   "outputs": [
    {
     "data": {
      "text/html": [
       "<div>\n",
       "<style scoped>\n",
       "    .dataframe tbody tr th:only-of-type {\n",
       "        vertical-align: middle;\n",
       "    }\n",
       "\n",
       "    .dataframe tbody tr th {\n",
       "        vertical-align: top;\n",
       "    }\n",
       "\n",
       "    .dataframe thead th {\n",
       "        text-align: right;\n",
       "    }\n",
       "</style>\n",
       "<table border=\"1\" class=\"dataframe\">\n",
       "  <thead>\n",
       "    <tr style=\"text-align: right;\">\n",
       "      <th></th>\n",
       "      <th>지역코드</th>\n",
       "      <th>동</th>\n",
       "      <th>거래일</th>\n",
       "      <th>아파트</th>\n",
       "      <th>전용면적</th>\n",
       "      <th>층</th>\n",
       "      <th>건축년도</th>\n",
       "      <th>거래금액</th>\n",
       "    </tr>\n",
       "  </thead>\n",
       "  <tbody>\n",
       "    <tr>\n",
       "      <th>0</th>\n",
       "      <td>31110.0</td>\n",
       "      <td>학성동</td>\n",
       "      <td>5/30/2020 0:00</td>\n",
       "      <td>남운학성타운</td>\n",
       "      <td>135.5800</td>\n",
       "      <td>8</td>\n",
       "      <td>1991.0</td>\n",
       "      <td>26700</td>\n",
       "    </tr>\n",
       "    <tr>\n",
       "      <th>1</th>\n",
       "      <td>31110.0</td>\n",
       "      <td>남외동</td>\n",
       "      <td>1/3/2020 0:00</td>\n",
       "      <td>남외푸르지오1차</td>\n",
       "      <td>101.6000</td>\n",
       "      <td>2</td>\n",
       "      <td>2006.0</td>\n",
       "      <td>35500</td>\n",
       "    </tr>\n",
       "    <tr>\n",
       "      <th>2</th>\n",
       "      <td>31110.0</td>\n",
       "      <td>남외동</td>\n",
       "      <td>1/3/2020 0:00</td>\n",
       "      <td>에일린의뜰</td>\n",
       "      <td>84.9920</td>\n",
       "      <td>11</td>\n",
       "      <td>2007.0</td>\n",
       "      <td>36500</td>\n",
       "    </tr>\n",
       "    <tr>\n",
       "      <th>3</th>\n",
       "      <td>31110.0</td>\n",
       "      <td>남외동</td>\n",
       "      <td>1/3/2020 0:00</td>\n",
       "      <td>남외푸르지오1차</td>\n",
       "      <td>118.7060</td>\n",
       "      <td>8</td>\n",
       "      <td>2006.0</td>\n",
       "      <td>43000</td>\n",
       "    </tr>\n",
       "    <tr>\n",
       "      <th>4</th>\n",
       "      <td>31110.0</td>\n",
       "      <td>남외동</td>\n",
       "      <td>1/4/2020 0:00</td>\n",
       "      <td>남외푸르지오2차</td>\n",
       "      <td>84.9636</td>\n",
       "      <td>7</td>\n",
       "      <td>2007.0</td>\n",
       "      <td>38700</td>\n",
       "    </tr>\n",
       "    <tr>\n",
       "      <th>...</th>\n",
       "      <td>...</td>\n",
       "      <td>...</td>\n",
       "      <td>...</td>\n",
       "      <td>...</td>\n",
       "      <td>...</td>\n",
       "      <td>...</td>\n",
       "      <td>...</td>\n",
       "      <td>...</td>\n",
       "    </tr>\n",
       "    <tr>\n",
       "      <th>4718182</th>\n",
       "      <td>50130.0</td>\n",
       "      <td>대정읍 하모리</td>\n",
       "      <td>2023-06-29 00:00:00</td>\n",
       "      <td>더그라벨아파트</td>\n",
       "      <td>57.1300</td>\n",
       "      <td>6</td>\n",
       "      <td>2019.0</td>\n",
       "      <td>19,500</td>\n",
       "    </tr>\n",
       "    <tr>\n",
       "      <th>4718183</th>\n",
       "      <td>50130.0</td>\n",
       "      <td>동홍동</td>\n",
       "      <td>2023-07-04 00:00:00</td>\n",
       "      <td>주공5차(동홍5차)</td>\n",
       "      <td>49.8700</td>\n",
       "      <td>2</td>\n",
       "      <td>1999.0</td>\n",
       "      <td>21,700</td>\n",
       "    </tr>\n",
       "    <tr>\n",
       "      <th>4718184</th>\n",
       "      <td>50130.0</td>\n",
       "      <td>서홍동</td>\n",
       "      <td>2023-07-04 00:00:00</td>\n",
       "      <td>서홍반석타운</td>\n",
       "      <td>45.3100</td>\n",
       "      <td>1</td>\n",
       "      <td>2000.0</td>\n",
       "      <td>9,300</td>\n",
       "    </tr>\n",
       "    <tr>\n",
       "      <th>4718185</th>\n",
       "      <td>50130.0</td>\n",
       "      <td>중문동</td>\n",
       "      <td>2023-07-01 00:00:00</td>\n",
       "      <td>중문푸른마을</td>\n",
       "      <td>51.8800</td>\n",
       "      <td>2</td>\n",
       "      <td>2003.0</td>\n",
       "      <td>25,500</td>\n",
       "    </tr>\n",
       "    <tr>\n",
       "      <th>4718186</th>\n",
       "      <td>50130.0</td>\n",
       "      <td>중문동</td>\n",
       "      <td>2023-07-01 00:00:00</td>\n",
       "      <td>e편한세상중문</td>\n",
       "      <td>84.9875</td>\n",
       "      <td>5</td>\n",
       "      <td>2021.0</td>\n",
       "      <td>52,500</td>\n",
       "    </tr>\n",
       "  </tbody>\n",
       "</table>\n",
       "<p>4718187 rows × 8 columns</p>\n",
       "</div>"
      ],
      "text/plain": [
       "            지역코드        동                  거래일         아파트      전용면적   층  \\\n",
       "0        31110.0      학성동       5/30/2020 0:00      남운학성타운  135.5800   8   \n",
       "1        31110.0      남외동        1/3/2020 0:00    남외푸르지오1차  101.6000   2   \n",
       "2        31110.0      남외동        1/3/2020 0:00       에일린의뜰   84.9920  11   \n",
       "3        31110.0      남외동        1/3/2020 0:00    남외푸르지오1차  118.7060   8   \n",
       "4        31110.0      남외동        1/4/2020 0:00    남외푸르지오2차   84.9636   7   \n",
       "...          ...      ...                  ...         ...       ...  ..   \n",
       "4718182  50130.0  대정읍 하모리  2023-06-29 00:00:00     더그라벨아파트   57.1300   6   \n",
       "4718183  50130.0      동홍동  2023-07-04 00:00:00  주공5차(동홍5차)   49.8700   2   \n",
       "4718184  50130.0      서홍동  2023-07-04 00:00:00      서홍반석타운   45.3100   1   \n",
       "4718185  50130.0      중문동  2023-07-01 00:00:00      중문푸른마을   51.8800   2   \n",
       "4718186  50130.0      중문동  2023-07-01 00:00:00     e편한세상중문   84.9875   5   \n",
       "\n",
       "           건축년도    거래금액  \n",
       "0        1991.0   26700  \n",
       "1        2006.0   35500  \n",
       "2        2007.0   36500  \n",
       "3        2006.0   43000  \n",
       "4        2007.0   38700  \n",
       "...         ...     ...  \n",
       "4718182  2019.0  19,500  \n",
       "4718183  1999.0  21,700  \n",
       "4718184  2000.0   9,300  \n",
       "4718185  2003.0  25,500  \n",
       "4718186  2021.0  52,500  \n",
       "\n",
       "[4718187 rows x 8 columns]"
      ]
     },
     "execution_count": 17,
     "metadata": {},
     "output_type": "execute_result"
    }
   ],
   "source": [
    "pre_a_df = pre_a_df.drop(labels='지번', axis=1)\n",
    "pre_a_df"
   ]
  },
  {
   "cell_type": "markdown",
   "id": "81f076d6-8dea-42ca-8537-7f5664f4a187",
   "metadata": {},
   "source": [
    "#### 📊 형변환"
   ]
  },
  {
   "cell_type": "code",
   "execution_count": 18,
   "id": "414b98f4-e106-4ef7-896e-2cda15811d39",
   "metadata": {},
   "outputs": [],
   "source": [
    "# 실수 정수로 변환\n",
    "pre_a_df['지역코드'] = pre_a_df['지역코드'].astype('int64')"
   ]
  },
  {
   "cell_type": "code",
   "execution_count": 19,
   "id": "112ec2ae-cad9-4c92-8d0f-9804ca55e11f",
   "metadata": {},
   "outputs": [],
   "source": [
    "# 실수 정수로 변환\n",
    "pre_a_df['건축년도'] = pre_a_df['건축년도'].astype('int64')"
   ]
  },
  {
   "cell_type": "code",
   "execution_count": 20,
   "id": "b55c2667-1dad-4d17-9034-229de08755a1",
   "metadata": {},
   "outputs": [],
   "source": [
    "# 콤마(,) 제거 및 숫자형으로 변환\n",
    "pre_a_df['거래금액'] = pre_a_df['거래금액'].str.replace(',', '').astype(int)"
   ]
  },
  {
   "cell_type": "code",
   "execution_count": 21,
   "id": "e7854f3b-4f6b-4345-a4d0-7740bf1d64fe",
   "metadata": {},
   "outputs": [
    {
     "data": {
      "text/html": [
       "<div>\n",
       "<style scoped>\n",
       "    .dataframe tbody tr th:only-of-type {\n",
       "        vertical-align: middle;\n",
       "    }\n",
       "\n",
       "    .dataframe tbody tr th {\n",
       "        vertical-align: top;\n",
       "    }\n",
       "\n",
       "    .dataframe thead th {\n",
       "        text-align: right;\n",
       "    }\n",
       "</style>\n",
       "<table border=\"1\" class=\"dataframe\">\n",
       "  <thead>\n",
       "    <tr style=\"text-align: right;\">\n",
       "      <th></th>\n",
       "      <th>지역코드</th>\n",
       "      <th>동</th>\n",
       "      <th>거래일</th>\n",
       "      <th>아파트</th>\n",
       "      <th>전용면적</th>\n",
       "      <th>층</th>\n",
       "      <th>건축년도</th>\n",
       "      <th>거래금액</th>\n",
       "    </tr>\n",
       "  </thead>\n",
       "  <tbody>\n",
       "  </tbody>\n",
       "</table>\n",
       "</div>"
      ],
      "text/plain": [
       "Empty DataFrame\n",
       "Columns: [지역코드, 동, 거래일, 아파트, 전용면적, 층, 건축년도, 거래금액]\n",
       "Index: []"
      ]
     },
     "execution_count": 21,
     "metadata": {},
     "output_type": "execute_result"
    }
   ],
   "source": [
    "# 0이하인 거래금액 데이터 찾기\n",
    "pre_a_df[pre_a_df['거래금액'] <= 0]"
   ]
  },
  {
   "cell_type": "code",
   "execution_count": 22,
   "id": "057855e9-2200-487f-9c6a-33eec208a810",
   "metadata": {},
   "outputs": [
    {
     "data": {
      "text/html": [
       "<div>\n",
       "<style scoped>\n",
       "    .dataframe tbody tr th:only-of-type {\n",
       "        vertical-align: middle;\n",
       "    }\n",
       "\n",
       "    .dataframe tbody tr th {\n",
       "        vertical-align: top;\n",
       "    }\n",
       "\n",
       "    .dataframe thead th {\n",
       "        text-align: right;\n",
       "    }\n",
       "</style>\n",
       "<table border=\"1\" class=\"dataframe\">\n",
       "  <thead>\n",
       "    <tr style=\"text-align: right;\">\n",
       "      <th></th>\n",
       "      <th>거래일</th>\n",
       "      <th>거래금액</th>\n",
       "    </tr>\n",
       "  </thead>\n",
       "  <tbody>\n",
       "    <tr>\n",
       "      <th>0</th>\n",
       "      <td>1/1/2018 0:00</td>\n",
       "      <td>4726100</td>\n",
       "    </tr>\n",
       "    <tr>\n",
       "      <th>1</th>\n",
       "      <td>1/1/2019 0:00</td>\n",
       "      <td>2496140</td>\n",
       "    </tr>\n",
       "    <tr>\n",
       "      <th>2</th>\n",
       "      <td>1/1/2020 0:00</td>\n",
       "      <td>7123516</td>\n",
       "    </tr>\n",
       "    <tr>\n",
       "      <th>3</th>\n",
       "      <td>1/10/2018</td>\n",
       "      <td>132490</td>\n",
       "    </tr>\n",
       "    <tr>\n",
       "      <th>4</th>\n",
       "      <td>1/10/2018 0:00</td>\n",
       "      <td>63313252</td>\n",
       "    </tr>\n",
       "    <tr>\n",
       "      <th>...</th>\n",
       "      <td>...</td>\n",
       "      <td>...</td>\n",
       "    </tr>\n",
       "    <tr>\n",
       "      <th>5843</th>\n",
       "      <td>9/8/2019 0:00</td>\n",
       "      <td>9769906</td>\n",
       "    </tr>\n",
       "    <tr>\n",
       "      <th>5844</th>\n",
       "      <td>9/8/2020 0:00</td>\n",
       "      <td>31055025</td>\n",
       "    </tr>\n",
       "    <tr>\n",
       "      <th>5845</th>\n",
       "      <td>9/9/2018 0:00</td>\n",
       "      <td>27685020</td>\n",
       "    </tr>\n",
       "    <tr>\n",
       "      <th>5846</th>\n",
       "      <td>9/9/2019 0:00</td>\n",
       "      <td>23633925</td>\n",
       "    </tr>\n",
       "    <tr>\n",
       "      <th>5847</th>\n",
       "      <td>9/9/2020 0:00</td>\n",
       "      <td>28610978</td>\n",
       "    </tr>\n",
       "  </tbody>\n",
       "</table>\n",
       "<p>5848 rows × 2 columns</p>\n",
       "</div>"
      ],
      "text/plain": [
       "                 거래일      거래금액\n",
       "0      1/1/2018 0:00   4726100\n",
       "1      1/1/2019 0:00   2496140\n",
       "2      1/1/2020 0:00   7123516\n",
       "3          1/10/2018    132490\n",
       "4     1/10/2018 0:00  63313252\n",
       "...              ...       ...\n",
       "5843   9/8/2019 0:00   9769906\n",
       "5844   9/8/2020 0:00  31055025\n",
       "5845   9/9/2018 0:00  27685020\n",
       "5846   9/9/2019 0:00  23633925\n",
       "5847   9/9/2020 0:00  28610978\n",
       "\n",
       "[5848 rows x 2 columns]"
      ]
     },
     "execution_count": 22,
     "metadata": {},
     "output_type": "execute_result"
    }
   ],
   "source": [
    "# 날짜에 따른 거래금액 확인\n",
    "group_a_df = pre_a_df[['거래일', '거래금액']].groupby('거래일').sum('거래금액').reset_index()\n",
    "group_a_df"
   ]
  },
  {
   "cell_type": "code",
   "execution_count": 23,
   "id": "78dfffd0-f810-4775-90be-777a9fc733f5",
   "metadata": {},
   "outputs": [
    {
     "data": {
      "text/html": [
       "<div>\n",
       "<style scoped>\n",
       "    .dataframe tbody tr th:only-of-type {\n",
       "        vertical-align: middle;\n",
       "    }\n",
       "\n",
       "    .dataframe tbody tr th {\n",
       "        vertical-align: top;\n",
       "    }\n",
       "\n",
       "    .dataframe thead th {\n",
       "        text-align: right;\n",
       "    }\n",
       "</style>\n",
       "<table border=\"1\" class=\"dataframe\">\n",
       "  <thead>\n",
       "    <tr style=\"text-align: right;\">\n",
       "      <th></th>\n",
       "      <th>거래일</th>\n",
       "      <th>거래금액</th>\n",
       "    </tr>\n",
       "  </thead>\n",
       "  <tbody>\n",
       "    <tr>\n",
       "      <th>0</th>\n",
       "      <td>2018-01-01 00:00:00</td>\n",
       "      <td>4726100</td>\n",
       "    </tr>\n",
       "    <tr>\n",
       "      <th>1</th>\n",
       "      <td>2019-01-01 00:00:00</td>\n",
       "      <td>2496140</td>\n",
       "    </tr>\n",
       "    <tr>\n",
       "      <th>2</th>\n",
       "      <td>2020-01-01 00:00:00</td>\n",
       "      <td>7123516</td>\n",
       "    </tr>\n",
       "    <tr>\n",
       "      <th>3</th>\n",
       "      <td>2018-10-01 00:00:00</td>\n",
       "      <td>132490</td>\n",
       "    </tr>\n",
       "    <tr>\n",
       "      <th>4</th>\n",
       "      <td>2018-10-01 00:00:00</td>\n",
       "      <td>63313252</td>\n",
       "    </tr>\n",
       "    <tr>\n",
       "      <th>...</th>\n",
       "      <td>...</td>\n",
       "      <td>...</td>\n",
       "    </tr>\n",
       "    <tr>\n",
       "      <th>5843</th>\n",
       "      <td>2019-08-09 00:00:00</td>\n",
       "      <td>9769906</td>\n",
       "    </tr>\n",
       "    <tr>\n",
       "      <th>5844</th>\n",
       "      <td>2020-08-09 00:00:00</td>\n",
       "      <td>31055025</td>\n",
       "    </tr>\n",
       "    <tr>\n",
       "      <th>5845</th>\n",
       "      <td>2018-09-09 00:00:00</td>\n",
       "      <td>27685020</td>\n",
       "    </tr>\n",
       "    <tr>\n",
       "      <th>5846</th>\n",
       "      <td>2019-09-09 00:00:00</td>\n",
       "      <td>23633925</td>\n",
       "    </tr>\n",
       "    <tr>\n",
       "      <th>5847</th>\n",
       "      <td>2020-09-09 00:00:00</td>\n",
       "      <td>28610978</td>\n",
       "    </tr>\n",
       "  </tbody>\n",
       "</table>\n",
       "<p>5848 rows × 2 columns</p>\n",
       "</div>"
      ],
      "text/plain": [
       "                      거래일      거래금액\n",
       "0     2018-01-01 00:00:00   4726100\n",
       "1     2019-01-01 00:00:00   2496140\n",
       "2     2020-01-01 00:00:00   7123516\n",
       "3     2018-10-01 00:00:00    132490\n",
       "4     2018-10-01 00:00:00  63313252\n",
       "...                   ...       ...\n",
       "5843  2019-08-09 00:00:00   9769906\n",
       "5844  2020-08-09 00:00:00  31055025\n",
       "5845  2018-09-09 00:00:00  27685020\n",
       "5846  2019-09-09 00:00:00  23633925\n",
       "5847  2020-09-09 00:00:00  28610978\n",
       "\n",
       "[5848 rows x 2 columns]"
      ]
     },
     "execution_count": 23,
     "metadata": {},
     "output_type": "execute_result"
    }
   ],
   "source": [
    "# 날짜 형식 변환\n",
    "# 시간 정보를 포함하는 경우와 그렇지 않은 경우를 구분하여 처리\n",
    "for i, row in group_a_df.iterrows():\n",
    "    date_str = row['거래일']\n",
    "    if ' 0:00' in date_str:\n",
    "        # 시간 정보를 포함하는 경우, 시간 정보를 제거하고 날짜만 사용\n",
    "        date_str = date_str.split(' ')[0]\n",
    "    group_a_df.at[i, '거래일'] = pd.to_datetime(date_str, format='%d/%m/%Y', errors='coerce')\n",
    "\n",
    "group_a_df"
   ]
  },
  {
   "cell_type": "code",
   "execution_count": 24,
   "id": "2f0f5be0-5fb1-4d15-b502-fe66c13cdf92",
   "metadata": {},
   "outputs": [],
   "source": [
    "# '거래일' 열을 datetime 형식으로 변환\n",
    "group_a_df['거래일'] = pd.to_datetime(group_a_df['거래일'])"
   ]
  },
  {
   "cell_type": "code",
   "execution_count": 25,
   "id": "6fc473a6-e52d-458d-9393-9f71500de04a",
   "metadata": {},
   "outputs": [
    {
     "data": {
      "text/plain": [
       "367"
      ]
     },
     "execution_count": 25,
     "metadata": {},
     "output_type": "execute_result"
    }
   ],
   "source": [
    "# 중복행 확인\n",
    "group_a_df.duplicated().sum()"
   ]
  },
  {
   "cell_type": "code",
   "execution_count": 26,
   "id": "0ae1edfc-63af-4fb8-81fa-9b5c79a418e8",
   "metadata": {},
   "outputs": [
    {
     "data": {
      "image/png": "[encoded data removed]",
      "text/plain": [
       "<Figure size 1200x800 with 1 Axes>"
      ]
     },
     "metadata": {},
     "output_type": "display_data"
    }
   ],
   "source": [
    "import matplotlib.pyplot as plt\n",
    "import matplotlib.dates as mdates\n",
    "\n",
    "# 그래프 사이즈 설정\n",
    "fig, ax = plt.subplots(figsize=(12, 8))\n",
    "\n",
    "# 연월 형식으로 지정\n",
    "date_format = mdates.DateFormatter('%Y-%m')\n",
    "\n",
    "# 눈금 위치 설정\n",
    "# interval: 눈금 사이 간격\n",
    "ax.xaxis.set_major_locator(mdates.WeekdayLocator(interval=4))\n",
    "# 눈금 레이블 형식 지정\n",
    "ax.xaxis.set_major_formatter(date_format)\n",
    "# x축 레이블 90도 회전\n",
    "plt.xticks(rotation=90)\n",
    "\n",
    "# 그래프 그리기\n",
    "plt.scatter(group_a_df['거래일'], group_a_df['거래금액'])\n",
    "\n",
    "plt.show()"
   ]
  },
  {
   "cell_type": "code",
   "execution_count": 27,
   "id": "b90a315a-ef1a-434a-87bb-1994afbfca80",
   "metadata": {},
   "outputs": [
    {
     "data": {
      "text/html": [
       "<div>\n",
       "<style scoped>\n",
       "    .dataframe tbody tr th:only-of-type {\n",
       "        vertical-align: middle;\n",
       "    }\n",
       "\n",
       "    .dataframe tbody tr th {\n",
       "        vertical-align: top;\n",
       "    }\n",
       "\n",
       "    .dataframe thead th {\n",
       "        text-align: right;\n",
       "    }\n",
       "</style>\n",
       "<table border=\"1\" class=\"dataframe\">\n",
       "  <thead>\n",
       "    <tr style=\"text-align: right;\">\n",
       "      <th></th>\n",
       "      <th>지역코드</th>\n",
       "      <th>동</th>\n",
       "      <th>거래일</th>\n",
       "      <th>아파트</th>\n",
       "      <th>전용면적</th>\n",
       "      <th>층</th>\n",
       "      <th>건축년도</th>\n",
       "      <th>거래금액</th>\n",
       "    </tr>\n",
       "  </thead>\n",
       "  <tbody>\n",
       "    <tr>\n",
       "      <th>0</th>\n",
       "      <td>31110</td>\n",
       "      <td>학성동</td>\n",
       "      <td>5/30/2020 0:00</td>\n",
       "      <td>남운학성타운</td>\n",
       "      <td>135.5800</td>\n",
       "      <td>8</td>\n",
       "      <td>1991</td>\n",
       "      <td>26700</td>\n",
       "    </tr>\n",
       "    <tr>\n",
       "      <th>1</th>\n",
       "      <td>31110</td>\n",
       "      <td>남외동</td>\n",
       "      <td>1/3/2020 0:00</td>\n",
       "      <td>남외푸르지오1차</td>\n",
       "      <td>101.6000</td>\n",
       "      <td>2</td>\n",
       "      <td>2006</td>\n",
       "      <td>35500</td>\n",
       "    </tr>\n",
       "    <tr>\n",
       "      <th>2</th>\n",
       "      <td>31110</td>\n",
       "      <td>남외동</td>\n",
       "      <td>1/3/2020 0:00</td>\n",
       "      <td>에일린의뜰</td>\n",
       "      <td>84.9920</td>\n",
       "      <td>11</td>\n",
       "      <td>2007</td>\n",
       "      <td>36500</td>\n",
       "    </tr>\n",
       "    <tr>\n",
       "      <th>3</th>\n",
       "      <td>31110</td>\n",
       "      <td>남외동</td>\n",
       "      <td>1/3/2020 0:00</td>\n",
       "      <td>남외푸르지오1차</td>\n",
       "      <td>118.7060</td>\n",
       "      <td>8</td>\n",
       "      <td>2006</td>\n",
       "      <td>43000</td>\n",
       "    </tr>\n",
       "    <tr>\n",
       "      <th>4</th>\n",
       "      <td>31110</td>\n",
       "      <td>남외동</td>\n",
       "      <td>1/4/2020 0:00</td>\n",
       "      <td>남외푸르지오2차</td>\n",
       "      <td>84.9636</td>\n",
       "      <td>7</td>\n",
       "      <td>2007</td>\n",
       "      <td>38700</td>\n",
       "    </tr>\n",
       "    <tr>\n",
       "      <th>...</th>\n",
       "      <td>...</td>\n",
       "      <td>...</td>\n",
       "      <td>...</td>\n",
       "      <td>...</td>\n",
       "      <td>...</td>\n",
       "      <td>...</td>\n",
       "      <td>...</td>\n",
       "      <td>...</td>\n",
       "    </tr>\n",
       "    <tr>\n",
       "      <th>4718182</th>\n",
       "      <td>50130</td>\n",
       "      <td>대정읍 하모리</td>\n",
       "      <td>2023-06-29 00:00:00</td>\n",
       "      <td>더그라벨아파트</td>\n",
       "      <td>57.1300</td>\n",
       "      <td>6</td>\n",
       "      <td>2019</td>\n",
       "      <td>19500</td>\n",
       "    </tr>\n",
       "    <tr>\n",
       "      <th>4718183</th>\n",
       "      <td>50130</td>\n",
       "      <td>동홍동</td>\n",
       "      <td>2023-07-04 00:00:00</td>\n",
       "      <td>주공5차(동홍5차)</td>\n",
       "      <td>49.8700</td>\n",
       "      <td>2</td>\n",
       "      <td>1999</td>\n",
       "      <td>21700</td>\n",
       "    </tr>\n",
       "    <tr>\n",
       "      <th>4718184</th>\n",
       "      <td>50130</td>\n",
       "      <td>서홍동</td>\n",
       "      <td>2023-07-04 00:00:00</td>\n",
       "      <td>서홍반석타운</td>\n",
       "      <td>45.3100</td>\n",
       "      <td>1</td>\n",
       "      <td>2000</td>\n",
       "      <td>9300</td>\n",
       "    </tr>\n",
       "    <tr>\n",
       "      <th>4718185</th>\n",
       "      <td>50130</td>\n",
       "      <td>중문동</td>\n",
       "      <td>2023-07-01 00:00:00</td>\n",
       "      <td>중문푸른마을</td>\n",
       "      <td>51.8800</td>\n",
       "      <td>2</td>\n",
       "      <td>2003</td>\n",
       "      <td>25500</td>\n",
       "    </tr>\n",
       "    <tr>\n",
       "      <th>4718186</th>\n",
       "      <td>50130</td>\n",
       "      <td>중문동</td>\n",
       "      <td>2023-07-01 00:00:00</td>\n",
       "      <td>e편한세상중문</td>\n",
       "      <td>84.9875</td>\n",
       "      <td>5</td>\n",
       "      <td>2021</td>\n",
       "      <td>52500</td>\n",
       "    </tr>\n",
       "  </tbody>\n",
       "</table>\n",
       "<p>4718187 rows × 8 columns</p>\n",
       "</div>"
      ],
      "text/plain": [
       "          지역코드        동                  거래일         아파트      전용면적   층  건축년도  \\\n",
       "0        31110      학성동       5/30/2020 0:00      남운학성타운  135.5800   8  1991   \n",
       "1        31110      남외동        1/3/2020 0:00    남외푸르지오1차  101.6000   2  2006   \n",
       "2        31110      남외동        1/3/2020 0:00       에일린의뜰   84.9920  11  2007   \n",
       "3        31110      남외동        1/3/2020 0:00    남외푸르지오1차  118.7060   8  2006   \n",
       "4        31110      남외동        1/4/2020 0:00    남외푸르지오2차   84.9636   7  2007   \n",
       "...        ...      ...                  ...         ...       ...  ..   ...   \n",
       "4718182  50130  대정읍 하모리  2023-06-29 00:00:00     더그라벨아파트   57.1300   6  2019   \n",
       "4718183  50130      동홍동  2023-07-04 00:00:00  주공5차(동홍5차)   49.8700   2  1999   \n",
       "4718184  50130      서홍동  2023-07-04 00:00:00      서홍반석타운   45.3100   1  2000   \n",
       "4718185  50130      중문동  2023-07-01 00:00:00      중문푸른마을   51.8800   2  2003   \n",
       "4718186  50130      중문동  2023-07-01 00:00:00     e편한세상중문   84.9875   5  2021   \n",
       "\n",
       "          거래금액  \n",
       "0        26700  \n",
       "1        35500  \n",
       "2        36500  \n",
       "3        43000  \n",
       "4        38700  \n",
       "...        ...  \n",
       "4718182  19500  \n",
       "4718183  21700  \n",
       "4718184   9300  \n",
       "4718185  25500  \n",
       "4718186  52500  \n",
       "\n",
       "[4718187 rows x 8 columns]"
      ]
     },
     "execution_count": 27,
     "metadata": {},
     "output_type": "execute_result"
    }
   ],
   "source": [
    "pre_a_df"
   ]
  },
  {
   "cell_type": "code",
   "execution_count": 28,
   "id": "d337d988-98f7-4717-9a9b-4f4fcc929a6c",
   "metadata": {},
   "outputs": [
    {
     "data": {
      "text/plain": [
       "array([[<Axes: title={'center': '지역코드'}>,\n",
       "        <Axes: title={'center': '전용면적'}>],\n",
       "       [<Axes: title={'center': '층'}>, <Axes: title={'center': '건축년도'}>],\n",
       "       [<Axes: title={'center': '거래금액'}>, <Axes: >]], dtype=object)"
      ]
     },
     "execution_count": 28,
     "metadata": {},
     "output_type": "execute_result"
    },
    {
     "data": {
      "image/png": "[encoded data removed]",
      "text/plain": [
       "<Figure size 1200x1000 with 6 Axes>"
      ]
     },
     "metadata": {},
     "output_type": "display_data"
    }
   ],
   "source": [
    "# 데이터 분포 확인\n",
    "pre_a_df.hist(figsize=(12, 10))"
   ]
  },
  {
   "cell_type": "markdown",
   "id": "90f27ae4-19b7-4694-bcc1-fe067d41e587",
   "metadata": {},
   "source": [
    "#### 📊 LabelEncoder"
   ]
  },
  {
   "cell_type": "code",
   "execution_count": 29,
   "id": "0ae42944-8abb-42e3-bc21-308dc1b46e84",
   "metadata": {},
   "outputs": [],
   "source": [
    "en_a_df = pre_a_df.copy()"
   ]
  },
  {
   "cell_type": "code",
   "execution_count": 30,
   "id": "860bef1d-1ed6-41a1-af32-b3204b0db356",
   "metadata": {},
   "outputs": [
    {
     "data": {
      "text/plain": [
       "{'동': array(['가경동', '가곡동', '가남읍 신해리', ..., '흥해읍 초곡리', '흥해읍 학성리', '흥해읍 학천리'],\n",
       "       dtype=object),\n",
       " '아파트': array(['(1-102)', '(1018-8)', '(1028-0)', ..., '힐하우스', '힐하우스(577-79)',\n",
       "        '힐하우스(802-3)'], dtype=object)}"
      ]
     },
     "execution_count": 30,
     "metadata": {},
     "output_type": "execute_result"
    }
   ],
   "source": [
    "from sklearn.preprocessing import LabelEncoder\n",
    "\n",
    "# 문자열 컬럼 추출\n",
    "columns = ['동', '아파트']\n",
    "# 각 컬럼의 LabelEncoder 객체를 저장할 딕셔너리(encoders) 초기화\n",
    "label_encoders = {}\n",
    "\n",
    "# 컬럼 반복하여 column에 담아 적용:\n",
    "for column in columns:\n",
    "    # LabelEncoder 객체 생성, 문자열 데이터 인코딩을 통해 정수로 형변환 후 데이터 교체\n",
    "    encoder = LabelEncoder()\n",
    "    # LabelEncoder를 사용하여 각 컬럼의 값을 변환\n",
    "    result = encoder.fit_transform(en_a_df[column])\n",
    "    # 변환된 값의 클래스(고유한 값) 저장\n",
    "    label_encoders[column] = encoder.classes_\n",
    "    # 변환된 값 적용\n",
    "    en_a_df[column] = result\n",
    "\n",
    "# 교유한 값 확인\n",
    "label_encoders"
   ]
  },
  {
   "cell_type": "code",
   "execution_count": 31,
   "id": "367f5961-5db4-435f-88a7-c810560da063",
   "metadata": {},
   "outputs": [],
   "source": [
    "# 거래일 피처 제거\n",
    "en_a_df = en_a_df.drop(labels='거래일', axis=1)"
   ]
  },
  {
   "cell_type": "markdown",
   "id": "e6fe70f7-5776-448c-8f35-1f8cc329b3e7",
   "metadata": {},
   "source": [
    "#### 📊 OLS"
   ]
  },
  {
   "cell_type": "code",
   "execution_count": 32,
   "id": "f2cb0059-dd00-43aa-80c4-9c849a72d0ce",
   "metadata": {},
   "outputs": [
    {
     "name": "stdout",
     "output_type": "stream",
     "text": [
      "                                 OLS Regression Results                                \n",
      "=======================================================================================\n",
      "Dep. Variable:                   거래금액   R-squared (uncentered):             3950669.459\n",
      "Model:                            OLS   Adj. R-squared (uncentered):        3950674.483\n",
      "Method:                 Least Squares   F-statistic:                         -7.864e+05\n",
      "Date:                Mon, 29 Apr 2024   Prob (F-statistic):                        1.00\n",
      "Time:                        03:03:32   Log-Likelihood:                     -5.3749e+07\n",
      "No. Observations:             4718187   AIC:                                  1.075e+08\n",
      "Df Residuals:                 4718181   BIC:                                  1.075e+08\n",
      "Df Model:                           6                                                  \n",
      "Covariance Type:            nonrobust                                                  \n",
      "==============================================================================\n",
      "                 coef    std err          t      P>|t|      [0.025      0.975]\n",
      "------------------------------------------------------------------------------\n",
      "지역코드          -1.0128      0.001  -1177.752      0.000      -1.014      -1.011\n",
      "동              0.5507      0.011     49.206      0.000       0.529       0.573\n",
      "아파트           -0.0232      0.001    -24.159      0.000      -0.025      -0.021\n",
      "전용면적         471.5314      0.384   1226.408      0.000     470.778     472.285\n",
      "층            468.3822      1.593    294.032      0.000     465.260     471.504\n",
      "건축년도          13.2889      0.025    532.080      0.000      13.240      13.338\n",
      "==============================================================================\n",
      "Omnibus:                  5133264.252   Durbin-Watson:                   0.530\n",
      "Prob(Omnibus):                  0.000   Jarque-Bera (JB):       1205093859.869\n",
      "Skew:                           5.169   Prob(JB):                         0.00\n",
      "Kurtosis:                      80.609   Cond. No.                     6.82e+03\n",
      "==============================================================================\n",
      "\n",
      "Notes:\n",
      "[1] R² is computed without centering (uncentered) since the model does not contain a constant.\n",
      "[2] Standard Errors assume that the covariance matrix of the errors is correctly specified.\n",
      "[3] The condition number is large, 6.82e+03. This might indicate that there are\n",
      "strong multicollinearity or other numerical problems.\n"
     ]
    }
   ],
   "source": [
    "from statsmodels.api import OLS\n",
    "\n",
    "# 데이터 세트 분리\n",
    "# 피처, 타겟 데이터 분리\n",
    "features, targets = en_a_df.iloc[:, :-1], en_a_df.iloc[:, -1]\n",
    "\n",
    "# OLS 객체 생성\n",
    "model = OLS(targets, features)\n",
    "# 훈련 및 정보 출력\n",
    "print(model.fit().summary())"
   ]
  },
  {
   "cell_type": "markdown",
   "id": "96a25a10-913e-44ca-b51d-df72fcf7ca26",
   "metadata": {},
   "source": [
    "#### 📊 VIF"
   ]
  },
  {
   "cell_type": "code",
   "execution_count": 33,
   "id": "eb8b0f67-3a0e-4c76-ba9d-148ea27b64fe",
   "metadata": {},
   "outputs": [],
   "source": [
    "from statsmodels.stats.outliers_influence import variance_inflation_factor\n",
    "\n",
    "def get_vif(features):\n",
    "    vif = pd.DataFrame()\n",
    "    vif['vif_score'] = [variance_inflation_factor(features.values, i) for i in range(features.shape[1])]\n",
    "    vif['feature'] = features.columns\n",
    "    return vif"
   ]
  },
  {
   "cell_type": "code",
   "execution_count": 34,
   "id": "f0544e11-73a1-46ab-921b-af8b1c1489f6",
   "metadata": {},
   "outputs": [
    {
     "data": {
      "text/html": [
       "<div>\n",
       "<style scoped>\n",
       "    .dataframe tbody tr th:only-of-type {\n",
       "        vertical-align: middle;\n",
       "    }\n",
       "\n",
       "    .dataframe tbody tr th {\n",
       "        vertical-align: top;\n",
       "    }\n",
       "\n",
       "    .dataframe thead th {\n",
       "        text-align: right;\n",
       "    }\n",
       "</style>\n",
       "<table border=\"1\" class=\"dataframe\">\n",
       "  <thead>\n",
       "    <tr style=\"text-align: right;\">\n",
       "      <th></th>\n",
       "      <th>vif_score</th>\n",
       "      <th>feature</th>\n",
       "    </tr>\n",
       "  </thead>\n",
       "  <tbody>\n",
       "    <tr>\n",
       "      <th>0</th>\n",
       "      <td>10.693085</td>\n",
       "      <td>지역코드</td>\n",
       "    </tr>\n",
       "    <tr>\n",
       "      <th>1</th>\n",
       "      <td>4.370994</td>\n",
       "      <td>동</td>\n",
       "    </tr>\n",
       "    <tr>\n",
       "      <th>2</th>\n",
       "      <td>4.501324</td>\n",
       "      <td>아파트</td>\n",
       "    </tr>\n",
       "    <tr>\n",
       "      <th>3</th>\n",
       "      <td>9.699152</td>\n",
       "      <td>전용면적</td>\n",
       "    </tr>\n",
       "    <tr>\n",
       "      <th>4</th>\n",
       "      <td>3.199055</td>\n",
       "      <td>층</td>\n",
       "    </tr>\n",
       "    <tr>\n",
       "      <th>5</th>\n",
       "      <td>25.658278</td>\n",
       "      <td>건축년도</td>\n",
       "    </tr>\n",
       "  </tbody>\n",
       "</table>\n",
       "</div>"
      ],
      "text/plain": [
       "   vif_score feature\n",
       "0  10.693085    지역코드\n",
       "1   4.370994       동\n",
       "2   4.501324     아파트\n",
       "3   9.699152    전용면적\n",
       "4   3.199055       층\n",
       "5  25.658278    건축년도"
      ]
     },
     "execution_count": 34,
     "metadata": {},
     "output_type": "execute_result"
    }
   ],
   "source": [
    "# VIF 확인\n",
    "get_vif(features)"
   ]
  },
  {
   "cell_type": "markdown",
   "id": "f017ada7-9ea0-4fa1-8b5f-f613d13cef3d",
   "metadata": {},
   "source": [
    "#### 📊 상관관계"
   ]
  },
  {
   "cell_type": "code",
   "execution_count": 35,
   "id": "b71c153f-f0d4-402c-8c2d-77697e9c55f0",
   "metadata": {},
   "outputs": [
    {
     "data": {
      "text/plain": [
       "전용면적    0.482322\n",
       "층       0.191932\n",
       "건축년도    0.184863\n",
       "동      -0.006654\n",
       "아파트    -0.034167\n",
       "지역코드   -0.443571\n",
       "Name: 거래금액, dtype: float64"
      ]
     },
     "execution_count": 35,
     "metadata": {},
     "output_type": "execute_result"
    }
   ],
   "source": [
    "# 상관 관계 확인\n",
    "en_a_df.corr()['거래금액'].sort_values(ascending=False)[1:]"
   ]
  },
  {
   "cell_type": "markdown",
   "id": "203a1718-e598-4841-8dec-8e43b7345221",
   "metadata": {},
   "source": [
    "#### 📌 결과\n",
    "- 다중 공산성이 높고 상관관계가 낮은 피처 제거"
   ]
  },
  {
   "cell_type": "markdown",
   "id": "2b828853-42a6-48eb-bbae-d8936f03c430",
   "metadata": {},
   "source": [
    "#### 📊 특정 데이터 제거"
   ]
  },
  {
   "cell_type": "code",
   "execution_count": 36,
   "id": "9275cb06-4c64-4ee0-a042-9d255bb70c87",
   "metadata": {},
   "outputs": [],
   "source": [
    "# 특정 데이터 제거\n",
    "year_a_df = en_a_df.drop(labels=['건축년도'], axis=1)"
   ]
  },
  {
   "cell_type": "markdown",
   "id": "909d402a-789e-4916-a88e-43a1d4cacfb9",
   "metadata": {},
   "source": [
    "#### 📊 OLS"
   ]
  },
  {
   "cell_type": "code",
   "execution_count": 37,
   "id": "6e149920-974e-4f9e-9a9a-9e7bf2c12076",
   "metadata": {},
   "outputs": [
    {
     "name": "stdout",
     "output_type": "stream",
     "text": [
      "                                 OLS Regression Results                                \n",
      "=======================================================================================\n",
      "Dep. Variable:                   거래금액   R-squared (uncentered):             4187725.074\n",
      "Model:                            OLS   Adj. R-squared (uncentered):        4187729.512\n",
      "Method:                 Least Squares   F-statistic:                         -9.436e+05\n",
      "Date:                Mon, 29 Apr 2024   Prob (F-statistic):                        1.00\n",
      "Time:                        03:04:11   Log-Likelihood:                     -5.3886e+07\n",
      "No. Observations:             4718187   AIC:                                  1.078e+08\n",
      "Df Residuals:                 4718182   BIC:                                  1.078e+08\n",
      "Df Model:                           5                                                  \n",
      "Covariance Type:            nonrobust                                                  \n",
      "==============================================================================\n",
      "                 coef    std err          t      P>|t|      [0.025      0.975]\n",
      "------------------------------------------------------------------------------\n",
      "지역코드          -0.7323      0.001  -1046.884      0.000      -0.734      -0.731\n",
      "동              2.0318      0.011    182.064      0.000       2.010       2.054\n",
      "아파트            0.1191      0.001    125.581      0.000       0.117       0.121\n",
      "전용면적         587.6345      0.326   1802.989      0.000     586.996     588.273\n",
      "층            650.1229      1.602    405.841      0.000     646.983     653.263\n",
      "==============================================================================\n",
      "Omnibus:                  4826402.660   Durbin-Watson:                   0.593\n",
      "Prob(Omnibus):                  0.000   Jarque-Bera (JB):        886912943.123\n",
      "Skew:                           4.701   Prob(JB):                         0.00\n",
      "Kurtosis:                      69.506   Cond. No.                     6.67e+03\n",
      "==============================================================================\n",
      "\n",
      "Notes:\n",
      "[1] R² is computed without centering (uncentered) since the model does not contain a constant.\n",
      "[2] Standard Errors assume that the covariance matrix of the errors is correctly specified.\n",
      "[3] The condition number is large, 6.67e+03. This might indicate that there are\n",
      "strong multicollinearity or other numerical problems.\n"
     ]
    }
   ],
   "source": [
    "from statsmodels.api import OLS\n",
    "\n",
    "# 데이터 세트 분리\n",
    "# 피처, 타겟 데이터 분리\n",
    "features, targets = year_a_df.iloc[:, :-1], year_a_df.iloc[:, -1]\n",
    "\n",
    "# OLS 객체 생성\n",
    "model = OLS(targets, features)\n",
    "# 훈련 및 정보 출력\n",
    "print(model.fit().summary())"
   ]
  },
  {
   "cell_type": "markdown",
   "id": "600facb5-70b8-4aa0-a6cb-102b37539c1b",
   "metadata": {},
   "source": [
    "#### 📊 VIF"
   ]
  },
  {
   "cell_type": "code",
   "execution_count": 38,
   "id": "3fbfe469-327c-40b5-89a4-c583c3492f86",
   "metadata": {},
   "outputs": [
    {
     "data": {
      "text/html": [
       "<div>\n",
       "<style scoped>\n",
       "    .dataframe tbody tr th:only-of-type {\n",
       "        vertical-align: middle;\n",
       "    }\n",
       "\n",
       "    .dataframe tbody tr th {\n",
       "        vertical-align: top;\n",
       "    }\n",
       "\n",
       "    .dataframe thead th {\n",
       "        text-align: right;\n",
       "    }\n",
       "</style>\n",
       "<table border=\"1\" class=\"dataframe\">\n",
       "  <thead>\n",
       "    <tr style=\"text-align: right;\">\n",
       "      <th></th>\n",
       "      <th>vif_score</th>\n",
       "      <th>feature</th>\n",
       "    </tr>\n",
       "  </thead>\n",
       "  <tbody>\n",
       "    <tr>\n",
       "      <th>0</th>\n",
       "      <td>6.675291</td>\n",
       "      <td>지역코드</td>\n",
       "    </tr>\n",
       "    <tr>\n",
       "      <th>1</th>\n",
       "      <td>4.100556</td>\n",
       "      <td>동</td>\n",
       "    </tr>\n",
       "    <tr>\n",
       "      <th>2</th>\n",
       "      <td>4.151519</td>\n",
       "      <td>아파트</td>\n",
       "    </tr>\n",
       "    <tr>\n",
       "      <th>3</th>\n",
       "      <td>6.575120</td>\n",
       "      <td>전용면적</td>\n",
       "    </tr>\n",
       "    <tr>\n",
       "      <th>4</th>\n",
       "      <td>3.051973</td>\n",
       "      <td>층</td>\n",
       "    </tr>\n",
       "  </tbody>\n",
       "</table>\n",
       "</div>"
      ],
      "text/plain": [
       "   vif_score feature\n",
       "0   6.675291    지역코드\n",
       "1   4.100556       동\n",
       "2   4.151519     아파트\n",
       "3   6.575120    전용면적\n",
       "4   3.051973       층"
      ]
     },
     "execution_count": 38,
     "metadata": {},
     "output_type": "execute_result"
    }
   ],
   "source": [
    "# VIF 확인\n",
    "get_vif(features)"
   ]
  },
  {
   "cell_type": "markdown",
   "id": "e2df124b-4806-4ef7-be0f-3a5fa3718773",
   "metadata": {},
   "source": [
    "#### 📊 상관관계"
   ]
  },
  {
   "cell_type": "code",
   "execution_count": 39,
   "id": "642a1db3-01e8-4c3c-b1ad-6107b6ea2942",
   "metadata": {},
   "outputs": [
    {
     "data": {
      "text/plain": [
       "전용면적    0.482322\n",
       "층       0.191932\n",
       "동      -0.006654\n",
       "아파트    -0.034167\n",
       "지역코드   -0.443571\n",
       "Name: 거래금액, dtype: float64"
      ]
     },
     "execution_count": 39,
     "metadata": {},
     "output_type": "execute_result"
    }
   ],
   "source": [
    "# 상관 관계 확인\n",
    "year_a_df.corr()['거래금액'].sort_values(ascending=False)[1:]"
   ]
  },
  {
   "cell_type": "markdown",
   "id": "39840e95-8839-4351-b21a-dea156e79d25",
   "metadata": {},
   "source": [
    "#### 📌 결과\n",
    "- 상관관계가 낮은 피처 제거"
   ]
  },
  {
   "cell_type": "markdown",
   "id": "df38d494-0e3f-4bfd-84cb-a2b36d25a40f",
   "metadata": {},
   "source": [
    "#### 📊 특정 데이터 제거"
   ]
  },
  {
   "cell_type": "code",
   "execution_count": 40,
   "id": "23257e36-d40e-4c80-b835-1a92ec6db9de",
   "metadata": {},
   "outputs": [],
   "source": [
    "# 특정 데이터 제거\n",
    "test_a_df = year_a_df.drop(labels=['동', '아파트', '층'], axis=1)"
   ]
  },
  {
   "cell_type": "markdown",
   "id": "fb3123e4-f5a5-438f-bb3c-271966ad979b",
   "metadata": {},
   "source": [
    "#### 📊 OLS"
   ]
  },
  {
   "cell_type": "code",
   "execution_count": 41,
   "id": "70fffe42-9c79-4031-aacc-98687f18d3f5",
   "metadata": {},
   "outputs": [
    {
     "name": "stdout",
     "output_type": "stream",
     "text": [
      "                                 OLS Regression Results                                \n",
      "=======================================================================================\n",
      "Dep. Variable:                   거래금액   R-squared (uncentered):             4412797.181\n",
      "Model:                            OLS   Adj. R-squared (uncentered):        4412799.052\n",
      "Method:                 Least Squares   F-statistic:                         -2.359e+06\n",
      "Date:                Mon, 29 Apr 2024   Prob (F-statistic):                        1.00\n",
      "Time:                        03:04:36   Log-Likelihood:                     -5.4010e+07\n",
      "No. Observations:             4718187   AIC:                                  1.080e+08\n",
      "Df Residuals:                 4718185   BIC:                                  1.080e+08\n",
      "Df Model:                           2                                                  \n",
      "Covariance Type:            nonrobust                                                  \n",
      "==============================================================================\n",
      "                 coef    std err          t      P>|t|      [0.025      0.975]\n",
      "------------------------------------------------------------------------------\n",
      "지역코드          -0.5930      0.001   -959.620      0.000      -0.594      -0.592\n",
      "전용면적         667.8683      0.290   2301.941      0.000     667.300     668.437\n",
      "==============================================================================\n",
      "Omnibus:                  4595532.802   Durbin-Watson:                   0.620\n",
      "Prob(Omnibus):                  0.000   Jarque-Bera (JB):        709078329.486\n",
      "Skew:                           4.365   Prob(JB):                         0.00\n",
      "Kurtosis:                      62.419   Cond. No.                     1.04e+03\n",
      "==============================================================================\n",
      "\n",
      "Notes:\n",
      "[1] R² is computed without centering (uncentered) since the model does not contain a constant.\n",
      "[2] Standard Errors assume that the covariance matrix of the errors is correctly specified.\n",
      "[3] The condition number is large, 1.04e+03. This might indicate that there are\n",
      "strong multicollinearity or other numerical problems.\n"
     ]
    }
   ],
   "source": [
    "from statsmodels.api import OLS\n",
    "\n",
    "# 데이터 세트 분리\n",
    "# 피처, 타겟 데이터 분리\n",
    "features, targets = test_a_df.iloc[:, :-1], test_a_df.iloc[:, -1]\n",
    "\n",
    "# OLS 객체 생성\n",
    "model = OLS(targets, features)\n",
    "# 훈련 및 정보 출력\n",
    "print(model.fit().summary())"
   ]
  },
  {
   "cell_type": "markdown",
   "id": "41eed97c-a6a5-45c5-bb9a-f8b1ac0ffa57",
   "metadata": {},
   "source": [
    "#### 📊 VIF"
   ]
  },
  {
   "cell_type": "code",
   "execution_count": 42,
   "id": "dfcaaf22-f658-4629-9b32-6a2d3d994efa",
   "metadata": {},
   "outputs": [
    {
     "data": {
      "text/html": [
       "<div>\n",
       "<style scoped>\n",
       "    .dataframe tbody tr th:only-of-type {\n",
       "        vertical-align: middle;\n",
       "    }\n",
       "\n",
       "    .dataframe tbody tr th {\n",
       "        vertical-align: top;\n",
       "    }\n",
       "\n",
       "    .dataframe thead th {\n",
       "        text-align: right;\n",
       "    }\n",
       "</style>\n",
       "<table border=\"1\" class=\"dataframe\">\n",
       "  <thead>\n",
       "    <tr style=\"text-align: right;\">\n",
       "      <th></th>\n",
       "      <th>vif_score</th>\n",
       "      <th>feature</th>\n",
       "    </tr>\n",
       "  </thead>\n",
       "  <tbody>\n",
       "    <tr>\n",
       "      <th>0</th>\n",
       "      <td>4.944619</td>\n",
       "      <td>지역코드</td>\n",
       "    </tr>\n",
       "    <tr>\n",
       "      <th>1</th>\n",
       "      <td>4.944619</td>\n",
       "      <td>전용면적</td>\n",
       "    </tr>\n",
       "  </tbody>\n",
       "</table>\n",
       "</div>"
      ],
      "text/plain": [
       "   vif_score feature\n",
       "0   4.944619    지역코드\n",
       "1   4.944619    전용면적"
      ]
     },
     "execution_count": 42,
     "metadata": {},
     "output_type": "execute_result"
    }
   ],
   "source": [
    "# VIF 확인\n",
    "get_vif(features)"
   ]
  },
  {
   "cell_type": "markdown",
   "id": "641824a5-d0dc-4250-adfa-e325c5b1e83a",
   "metadata": {},
   "source": [
    "#### 📊 상관관계"
   ]
  },
  {
   "cell_type": "code",
   "execution_count": 43,
   "id": "011bec8f-454d-48d5-9738-52eaacc385d0",
   "metadata": {},
   "outputs": [
    {
     "data": {
      "text/plain": [
       "전용면적    0.482322\n",
       "지역코드   -0.443571\n",
       "Name: 거래금액, dtype: float64"
      ]
     },
     "execution_count": 43,
     "metadata": {},
     "output_type": "execute_result"
    }
   ],
   "source": [
    "# 상관 관계 확인\n",
    "test_a_df.corr()['거래금액'].sort_values(ascending=False)[1:]"
   ]
  },
  {
   "cell_type": "code",
   "execution_count": 44,
   "id": "44597732-aabd-44c1-bd54-c410240c0953",
   "metadata": {},
   "outputs": [],
   "source": [
    "# import matplotlib.pyplot as plt\n",
    "# import seaborn as sns\n",
    "\n",
    "# # 상관관계 확인\n",
    "# sns.pairplot(test_a_df)\n",
    "# plt.show()"
   ]
  },
  {
   "cell_type": "markdown",
   "id": "899b1cc1-9f91-4e8c-9ee4-b80511089e44",
   "metadata": {},
   "source": [
    "#### 📊 회귀 분석"
   ]
  },
  {
   "cell_type": "code",
   "execution_count": 45,
   "id": "cde3d23f-ef0a-4ac7-b698-5a3cf87eb1a6",
   "metadata": {},
   "outputs": [
    {
     "data": {
      "text/html": [
       "<style>#sk-container-id-1 {color: black;background-color: white;}#sk-container-id-1 pre{padding: 0;}#sk-container-id-1 div.sk-toggleable {background-color: white;}#sk-container-id-1 label.sk-toggleable__label {cursor: pointer;display: block;width: 100%;margin-bottom: 0;padding: 0.3em;box-sizing: border-box;text-align: center;}#sk-container-id-1 label.sk-toggleable__label-arrow:before {content: \"▸\";float: left;margin-right: 0.25em;color: #696969;}#sk-container-id-1 label.sk-toggleable__label-arrow:hover:before {color: black;}#sk-container-id-1 div.sk-estimator:hover label.sk-toggleable__label-arrow:before {color: black;}#sk-container-id-1 div.sk-toggleable__content {max-height: 0;max-width: 0;overflow: hidden;text-align: left;background-color: #f0f8ff;}#sk-container-id-1 div.sk-toggleable__content pre {margin: 0.2em;color: black;border-radius: 0.25em;background-color: #f0f8ff;}#sk-container-id-1 input.sk-toggleable__control:checked~div.sk-toggleable__content {max-height: 200px;max-width: 100%;overflow: auto;}#sk-container-id-1 input.sk-toggleable__control:checked~label.sk-toggleable__label-arrow:before {content: \"▾\";}#sk-container-id-1 div.sk-estimator input.sk-toggleable__control:checked~label.sk-toggleable__label {background-color: #d4ebff;}#sk-container-id-1 div.sk-label input.sk-toggleable__control:checked~label.sk-toggleable__label {background-color: #d4ebff;}#sk-container-id-1 input.sk-hidden--visually {border: 0;clip: rect(1px 1px 1px 1px);clip: rect(1px, 1px, 1px, 1px);height: 1px;margin: -1px;overflow: hidden;padding: 0;position: absolute;width: 1px;}#sk-container-id-1 div.sk-estimator {font-family: monospace;background-color: #f0f8ff;border: 1px dotted black;border-radius: 0.25em;box-sizing: border-box;margin-bottom: 0.5em;}#sk-container-id-1 div.sk-estimator:hover {background-color: #d4ebff;}#sk-container-id-1 div.sk-parallel-item::after {content: \"\";width: 100%;border-bottom: 1px solid gray;flex-grow: 1;}#sk-container-id-1 div.sk-label:hover label.sk-toggleable__label {background-color: #d4ebff;}#sk-container-id-1 div.sk-serial::before {content: \"\";position: absolute;border-left: 1px solid gray;box-sizing: border-box;top: 0;bottom: 0;left: 50%;z-index: 0;}#sk-container-id-1 div.sk-serial {display: flex;flex-direction: column;align-items: center;background-color: white;padding-right: 0.2em;padding-left: 0.2em;position: relative;}#sk-container-id-1 div.sk-item {position: relative;z-index: 1;}#sk-container-id-1 div.sk-parallel {display: flex;align-items: stretch;justify-content: center;background-color: white;position: relative;}#sk-container-id-1 div.sk-item::before, #sk-container-id-1 div.sk-parallel-item::before {content: \"\";position: absolute;border-left: 1px solid gray;box-sizing: border-box;top: 0;bottom: 0;left: 50%;z-index: -1;}#sk-container-id-1 div.sk-parallel-item {display: flex;flex-direction: column;z-index: 1;position: relative;background-color: white;}#sk-container-id-1 div.sk-parallel-item:first-child::after {align-self: flex-end;width: 50%;}#sk-container-id-1 div.sk-parallel-item:last-child::after {align-self: flex-start;width: 50%;}#sk-container-id-1 div.sk-parallel-item:only-child::after {width: 0;}#sk-container-id-1 div.sk-dashed-wrapped {border: 1px dashed gray;margin: 0 0.4em 0.5em 0.4em;box-sizing: border-box;padding-bottom: 0.4em;background-color: white;}#sk-container-id-1 div.sk-label label {font-family: monospace;font-weight: bold;display: inline-block;line-height: 1.2em;}#sk-container-id-1 div.sk-label-container {text-align: center;}#sk-container-id-1 div.sk-container {/* jupyter's `normalize.less` sets `[hidden] { display: none; }` but bootstrap.min.css set `[hidden] { display: none !important; }` so we also need the `!important` here to be able to override the default hidden behavior on the sphinx rendered scikit-learn.org. See: https://github.com/scikit-learn/scikit-learn/issues/21755 */display: inline-block !important;position: relative;}#sk-container-id-1 div.sk-text-repr-fallback {display: none;}</style><div id=\"sk-container-id-1\" class=\"sk-top-container\"><div class=\"sk-text-repr-fallback\"><pre>LinearRegression()</pre><b>In a Jupyter environment, please rerun this cell to show the HTML representation or trust the notebook. <br />On GitHub, the HTML representation is unable to render, please try loading this page with nbviewer.org.</b></div><div class=\"sk-container\" hidden><div class=\"sk-item\"><div class=\"sk-estimator sk-toggleable\"><input class=\"sk-toggleable__control sk-hidden--visually\" id=\"sk-estimator-id-1\" type=\"checkbox\" checked><label for=\"sk-estimator-id-1\" class=\"sk-toggleable__label sk-toggleable__label-arrow\">LinearRegression</label><div class=\"sk-toggleable__content\"><pre>LinearRegression()</pre></div></div></div></div></div>"
      ],
      "text/plain": [
       "LinearRegression()"
      ]
     },
     "execution_count": 45,
     "metadata": {},
     "output_type": "execute_result"
    }
   ],
   "source": [
    "from sklearn.model_selection import train_test_split\n",
    "from sklearn.linear_model import LinearRegression\n",
    "\n",
    "# 데이터 세트 분리\n",
    "# 피처, 타겟 데이터 분리\n",
    "features, targets = test_a_df.iloc[:, :-1], test_a_df.iloc[:, -1]\n",
    "\n",
    "# 문제/정답 및 학습/훈련 데이터 분리\n",
    "X_train, X_test, y_train, y_test = \\\n",
    "train_test_split(features, targets, test_size=0.2, random_state=124)\n",
    "\n",
    "# 선형 회귀 모델\n",
    "l_r = LinearRegression()\n",
    "# 훈련: 모델이 최적의 가중치와 편향을 학습\n",
    "l_r.fit(X_train, y_train)"
   ]
  },
  {
   "cell_type": "code",
   "execution_count": 46,
   "id": "ab534b53-6d4c-42d8-b031-4044b68328c3",
   "metadata": {},
   "outputs": [],
   "source": [
    "from sklearn.metrics import mean_squared_log_error, mean_squared_error, r2_score\n",
    "import numpy as np\n",
    "\n",
    "def get_evaluation(y_test, prediction):\n",
    "    MSE = mean_squared_error(y_test, prediction)\n",
    "    RMSE = np.sqrt(MSE)\n",
    "    R2 = r2_score(y_test, prediction)\n",
    "    print('MSE: {:.4f}, RMSE: {:.4f}, R2: {:.4f}'\\\n",
    "          .format(MSE, RMSE, R2))"
   ]
  },
  {
   "cell_type": "code",
   "execution_count": 47,
   "id": "5ceeabdd-773b-4787-8770-af641e7634ac",
   "metadata": {},
   "outputs": [
    {
     "name": "stdout",
     "output_type": "stream",
     "text": [
      "MSE: 468659955.5487, RMSE: 21648.5555, R2: 0.4060\n"
     ]
    }
   ],
   "source": [
    "# 예측\n",
    "prediction = l_r.predict(X_test)\n",
    "# 출력\n",
    "get_evaluation(y_test, prediction)"
   ]
  }
 ],
 "metadata": {
  "kernelspec": {
   "display_name": "Python 3 (ipykernel)",
   "language": "python",
   "name": "python3"
  },
  "language_info": {
   "codemirror_mode": {
    "name": "ipython",
    "version": 3
   },
   "file_extension": ".py",
   "mimetype": "text/x-python",
   "name": "python",
   "nbconvert_exporter": "python",
   "pygments_lexer": "ipython3",
   "version": "3.11.8"
  }
 },
 "nbformat": 4,
 "nbformat_minor": 5
}
