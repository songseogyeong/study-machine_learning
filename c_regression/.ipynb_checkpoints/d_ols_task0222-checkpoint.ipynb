{
 "cells": [
  {
   "cell_type": "markdown",
   "id": "12f70c8f-55c0-43b2-86bb-b01f4746d73d",
   "metadata": {},
   "source": [
    "### OLS Task02\n",
    "\n",
    "#### 한국 아파트 가격 예측\n",
    "https://drive.google.com/file/d/1v3eNjo3TjTgUPlq6Uw_v_oEQ8sVjaItw/view?usp=share_link"
   ]
  },
  {
   "cell_type": "code",
   "execution_count": 1,
   "id": "9115a621-99e1-45a6-bf83-0f2bb09686d2",
   "metadata": {},
   "outputs": [
    {
     "data": {
      "text/html": [
       "<div>\n",
       "<style scoped>\n",
       "    .dataframe tbody tr th:only-of-type {\n",
       "        vertical-align: middle;\n",
       "    }\n",
       "\n",
       "    .dataframe tbody tr th {\n",
       "        vertical-align: top;\n",
       "    }\n",
       "\n",
       "    .dataframe thead th {\n",
       "        text-align: right;\n",
       "    }\n",
       "</style>\n",
       "<table border=\"1\" class=\"dataframe\">\n",
       "  <thead>\n",
       "    <tr style=\"text-align: right;\">\n",
       "      <th></th>\n",
       "      <th>지역코드</th>\n",
       "      <th>동</th>\n",
       "      <th>거래일</th>\n",
       "      <th>아파트</th>\n",
       "      <th>지번</th>\n",
       "      <th>전용면적</th>\n",
       "      <th>층</th>\n",
       "      <th>건축년도</th>\n",
       "      <th>거래금액</th>\n",
       "    </tr>\n",
       "  </thead>\n",
       "  <tbody>\n",
       "    <tr>\n",
       "      <th>0</th>\n",
       "      <td>31110.0</td>\n",
       "      <td>학성동</td>\n",
       "      <td>5/30/2020 0:00</td>\n",
       "      <td>남운학성타운</td>\n",
       "      <td>379</td>\n",
       "      <td>135.5800</td>\n",
       "      <td>8</td>\n",
       "      <td>1991.0</td>\n",
       "      <td>26700</td>\n",
       "    </tr>\n",
       "    <tr>\n",
       "      <th>1</th>\n",
       "      <td>31110.0</td>\n",
       "      <td>남외동</td>\n",
       "      <td>1/3/2020 0:00</td>\n",
       "      <td>남외푸르지오1차</td>\n",
       "      <td>506-1</td>\n",
       "      <td>101.6000</td>\n",
       "      <td>2</td>\n",
       "      <td>2006.0</td>\n",
       "      <td>35500</td>\n",
       "    </tr>\n",
       "    <tr>\n",
       "      <th>2</th>\n",
       "      <td>31110.0</td>\n",
       "      <td>남외동</td>\n",
       "      <td>1/3/2020 0:00</td>\n",
       "      <td>에일린의뜰</td>\n",
       "      <td>500</td>\n",
       "      <td>84.9920</td>\n",
       "      <td>11</td>\n",
       "      <td>2007.0</td>\n",
       "      <td>36500</td>\n",
       "    </tr>\n",
       "    <tr>\n",
       "      <th>3</th>\n",
       "      <td>31110.0</td>\n",
       "      <td>남외동</td>\n",
       "      <td>1/3/2020 0:00</td>\n",
       "      <td>남외푸르지오1차</td>\n",
       "      <td>506-1</td>\n",
       "      <td>118.7060</td>\n",
       "      <td>8</td>\n",
       "      <td>2006.0</td>\n",
       "      <td>43000</td>\n",
       "    </tr>\n",
       "    <tr>\n",
       "      <th>4</th>\n",
       "      <td>31110.0</td>\n",
       "      <td>남외동</td>\n",
       "      <td>1/4/2020 0:00</td>\n",
       "      <td>남외푸르지오2차</td>\n",
       "      <td>501-1</td>\n",
       "      <td>84.9636</td>\n",
       "      <td>7</td>\n",
       "      <td>2007.0</td>\n",
       "      <td>38700</td>\n",
       "    </tr>\n",
       "    <tr>\n",
       "      <th>...</th>\n",
       "      <td>...</td>\n",
       "      <td>...</td>\n",
       "      <td>...</td>\n",
       "      <td>...</td>\n",
       "      <td>...</td>\n",
       "      <td>...</td>\n",
       "      <td>...</td>\n",
       "      <td>...</td>\n",
       "      <td>...</td>\n",
       "    </tr>\n",
       "    <tr>\n",
       "      <th>5002834</th>\n",
       "      <td>50130.0</td>\n",
       "      <td>대정읍 하모리</td>\n",
       "      <td>2023-06-29 00:00:00</td>\n",
       "      <td>더그라벨아파트</td>\n",
       "      <td>1221-1</td>\n",
       "      <td>57.1300</td>\n",
       "      <td>6</td>\n",
       "      <td>2019.0</td>\n",
       "      <td>19,500</td>\n",
       "    </tr>\n",
       "    <tr>\n",
       "      <th>5002835</th>\n",
       "      <td>50130.0</td>\n",
       "      <td>동홍동</td>\n",
       "      <td>2023-07-04 00:00:00</td>\n",
       "      <td>주공5차(동홍5차)</td>\n",
       "      <td>1674</td>\n",
       "      <td>49.8700</td>\n",
       "      <td>2</td>\n",
       "      <td>1999.0</td>\n",
       "      <td>21,700</td>\n",
       "    </tr>\n",
       "    <tr>\n",
       "      <th>5002836</th>\n",
       "      <td>50130.0</td>\n",
       "      <td>서홍동</td>\n",
       "      <td>2023-07-04 00:00:00</td>\n",
       "      <td>서홍반석타운</td>\n",
       "      <td>2004-1</td>\n",
       "      <td>45.3100</td>\n",
       "      <td>1</td>\n",
       "      <td>2000.0</td>\n",
       "      <td>9,300</td>\n",
       "    </tr>\n",
       "    <tr>\n",
       "      <th>5002837</th>\n",
       "      <td>50130.0</td>\n",
       "      <td>중문동</td>\n",
       "      <td>2023-07-01 00:00:00</td>\n",
       "      <td>중문푸른마을</td>\n",
       "      <td>1789</td>\n",
       "      <td>51.8800</td>\n",
       "      <td>2</td>\n",
       "      <td>2003.0</td>\n",
       "      <td>25,500</td>\n",
       "    </tr>\n",
       "    <tr>\n",
       "      <th>5002838</th>\n",
       "      <td>50130.0</td>\n",
       "      <td>중문동</td>\n",
       "      <td>2023-07-01 00:00:00</td>\n",
       "      <td>e편한세상중문</td>\n",
       "      <td>1726</td>\n",
       "      <td>84.9875</td>\n",
       "      <td>5</td>\n",
       "      <td>2021.0</td>\n",
       "      <td>52,500</td>\n",
       "    </tr>\n",
       "  </tbody>\n",
       "</table>\n",
       "<p>5002839 rows × 9 columns</p>\n",
       "</div>"
      ],
      "text/plain": [
       "            지역코드        동                  거래일         아파트      지번      전용면적   층    건축년도    거래금액\n",
       "0        31110.0      학성동       5/30/2020 0:00      남운학성타운     379  135.5800   8  1991.0   26700\n",
       "1        31110.0      남외동        1/3/2020 0:00    남외푸르지오1차   506-1  101.6000   2  2006.0   35500\n",
       "2        31110.0      남외동        1/3/2020 0:00       에일린의뜰     500   84.9920  11  2007.0   36500\n",
       "3        31110.0      남외동        1/3/2020 0:00    남외푸르지오1차   506-1  118.7060   8  2006.0   43000\n",
       "4        31110.0      남외동        1/4/2020 0:00    남외푸르지오2차   501-1   84.9636   7  2007.0   38700\n",
       "...          ...      ...                  ...         ...     ...       ...  ..     ...     ...\n",
       "5002834  50130.0  대정읍 하모리  2023-06-29 00:00:00     더그라벨아파트  1221-1   57.1300   6  2019.0  19,500\n",
       "5002835  50130.0      동홍동  2023-07-04 00:00:00  주공5차(동홍5차)    1674   49.8700   2  1999.0  21,700\n",
       "5002836  50130.0      서홍동  2023-07-04 00:00:00      서홍반석타운  2004-1   45.3100   1  2000.0   9,300\n",
       "5002837  50130.0      중문동  2023-07-01 00:00:00      중문푸른마을    1789   51.8800   2  2003.0  25,500\n",
       "5002838  50130.0      중문동  2023-07-01 00:00:00     e편한세상중문    1726   84.9875   5  2021.0  52,500\n",
       "\n",
       "[5002839 rows x 9 columns]"
      ]
     },
     "execution_count": 1,
     "metadata": {},
     "output_type": "execute_result"
    }
   ],
   "source": [
    "import pandas as pd\n",
    "\n",
    "a_df = pd.read_csv('./datasets/korean_apart.csv', low_memory=False)\n",
    "a_df"
   ]
  },
  {
   "cell_type": "code",
   "execution_count": 2,
   "id": "d75fca06-04ad-4877-b61b-28b897ff31d0",
   "metadata": {},
   "outputs": [
    {
     "data": {
      "text/plain": [
       "283930"
      ]
     },
     "execution_count": 2,
     "metadata": {},
     "output_type": "execute_result"
    }
   ],
   "source": [
    "a_df.duplicated().sum()"
   ]
  },
  {
   "cell_type": "code",
   "execution_count": 14,
   "id": "2ff3cb0d-95be-497d-8e3c-3286afb29ec8",
   "metadata": {},
   "outputs": [
    {
     "data": {
      "text/plain": [
       "0"
      ]
     },
     "execution_count": 14,
     "metadata": {},
     "output_type": "execute_result"
    }
   ],
   "source": [
    "pre_a_df = a_df.drop_duplicates()\n",
    "pre_a_df.duplicated().sum()"
   ]
  },
  {
   "cell_type": "code",
   "execution_count": 15,
   "id": "7b8ecaa7-2dff-4b6a-89f5-09a300575782",
   "metadata": {},
   "outputs": [
    {
     "data": {
      "text/plain": [
       "지역코드      0\n",
       "동         0\n",
       "거래일       0\n",
       "아파트       0\n",
       "지번      428\n",
       "전용면적      0\n",
       "층         0\n",
       "건축년도     47\n",
       "거래금액      0\n",
       "dtype: int64"
      ]
     },
     "execution_count": 15,
     "metadata": {},
     "output_type": "execute_result"
    }
   ],
   "source": [
    "pre_a_df.isna().sum()"
   ]
  },
  {
   "cell_type": "code",
   "execution_count": 16,
   "id": "4bf15e4f-33ef-4007-a477-09e8ef405ec8",
   "metadata": {},
   "outputs": [
    {
     "data": {
      "text/plain": [
       "지역코드    0\n",
       "동       0\n",
       "거래일     0\n",
       "아파트     0\n",
       "전용면적    0\n",
       "층       0\n",
       "건축년도    0\n",
       "거래금액    0\n",
       "dtype: int64"
      ]
     },
     "execution_count": 16,
     "metadata": {},
     "output_type": "execute_result"
    }
   ],
   "source": [
    "pre_a_df = pre_a_df.drop(labels=['지번'], axis=1)\n",
    "pre_a_df = pre_a_df[~pre_a_df.건축년도.isna()]\n",
    "pre_a_df.isna().sum()"
   ]
  },
  {
   "cell_type": "code",
   "execution_count": 17,
   "id": "301df03e-ebc0-48e0-aaf1-302f50b3f343",
   "metadata": {},
   "outputs": [
    {
     "name": "stdout",
     "output_type": "stream",
     "text": [
      "<class 'pandas.core.frame.DataFrame'>\n",
      "Index: 4718862 entries, 0 to 5002838\n",
      "Data columns (total 8 columns):\n",
      " #   Column  Dtype  \n",
      "---  ------  -----  \n",
      " 0   지역코드    float64\n",
      " 1   동       object \n",
      " 2   거래일     object \n",
      " 3   아파트     object \n",
      " 4   전용면적    float64\n",
      " 5   층       object \n",
      " 6   건축년도    float64\n",
      " 7   거래금액    int64  \n",
      "dtypes: float64(3), int64(1), object(4)\n",
      "memory usage: 324.0+ MB\n"
     ]
    }
   ],
   "source": [
    "pre_a_df.거래금액 = pre_a_df.거래금액.apply(lambda x : int(x.replace(',', '')))\n",
    "pre_a_df.info()"
   ]
  },
  {
   "cell_type": "code",
   "execution_count": 18,
   "id": "4c288301-3e8a-4c82-9d1a-a85b398c1de9",
   "metadata": {},
   "outputs": [
    {
     "name": "stdout",
     "output_type": "stream",
     "text": [
      "<class 'pandas.core.frame.DataFrame'>\n",
      "Index: 4718862 entries, 0 to 5002838\n",
      "Data columns (total 8 columns):\n",
      " #   Column  Dtype  \n",
      "---  ------  -----  \n",
      " 0   지역코드    float64\n",
      " 1   동       object \n",
      " 2   거래일     object \n",
      " 3   아파트     object \n",
      " 4   전용면적    float64\n",
      " 5   층       object \n",
      " 6   건축년도    int32  \n",
      " 7   거래금액    int64  \n",
      "dtypes: float64(2), int32(1), int64(1), object(4)\n",
      "memory usage: 306.0+ MB\n"
     ]
    }
   ],
   "source": [
    "import numpy as np\n",
    "\n",
    "pre_a_df.건축년도 = pre_a_df.건축년도.astype(np.int32)\n",
    "pre_a_df.info()"
   ]
  },
  {
   "cell_type": "code",
   "execution_count": 22,
   "id": "e5f72063-300d-4f4b-8deb-a690a75a52f7",
   "metadata": {},
   "outputs": [
    {
     "data": {
      "text/plain": [
       "0"
      ]
     },
     "execution_count": 22,
     "metadata": {},
     "output_type": "execute_result"
    }
   ],
   "source": [
    "pre_a_df = pre_a_df[pre_a_df.층 != ' ']\n",
    "(pre_a_df.층 == ' ').sum()"
   ]
  },
  {
   "cell_type": "code",
   "execution_count": 25,
   "id": "b37b63d5-755b-4ac0-8a7d-a94cb63945fe",
   "metadata": {},
   "outputs": [
    {
     "name": "stdout",
     "output_type": "stream",
     "text": [
      "<class 'pandas.core.frame.DataFrame'>\n",
      "Index: 4718861 entries, 0 to 5002838\n",
      "Data columns (total 8 columns):\n",
      " #   Column  Dtype  \n",
      "---  ------  -----  \n",
      " 0   지역코드    float64\n",
      " 1   동       object \n",
      " 2   거래일     object \n",
      " 3   아파트     object \n",
      " 4   전용면적    float64\n",
      " 5   층       int16  \n",
      " 6   건축년도    int32  \n",
      " 7   거래금액    int64  \n",
      "dtypes: float64(2), int16(1), int32(1), int64(1), object(3)\n",
      "memory usage: 279.0+ MB\n"
     ]
    }
   ],
   "source": [
    "pre_a_df.loc[:, '층'] = pre_a_df.층.astype(np.float16)\n",
    "pre_a_df.loc[:, '층'] = pre_a_df.층.astype(np.int16)\n",
    "pre_a_df.info()"
   ]
  },
  {
   "cell_type": "code",
   "execution_count": 30,
   "id": "a1cffa31-79c8-4529-b3da-5f59c926ba94",
   "metadata": {},
   "outputs": [
    {
     "data": {
      "text/html": [
       "<div>\n",
       "<style scoped>\n",
       "    .dataframe tbody tr th:only-of-type {\n",
       "        vertical-align: middle;\n",
       "    }\n",
       "\n",
       "    .dataframe tbody tr th {\n",
       "        vertical-align: top;\n",
       "    }\n",
       "\n",
       "    .dataframe thead th {\n",
       "        text-align: right;\n",
       "    }\n",
       "</style>\n",
       "<table border=\"1\" class=\"dataframe\">\n",
       "  <thead>\n",
       "    <tr style=\"text-align: right;\">\n",
       "      <th></th>\n",
       "      <th>지역코드</th>\n",
       "      <th>동</th>\n",
       "      <th>거래일</th>\n",
       "      <th>아파트</th>\n",
       "      <th>전용면적</th>\n",
       "      <th>층</th>\n",
       "      <th>건축년도</th>\n",
       "      <th>거래금액</th>\n",
       "    </tr>\n",
       "  </thead>\n",
       "  <tbody>\n",
       "    <tr>\n",
       "      <th>0</th>\n",
       "      <td>31110.0</td>\n",
       "      <td>학성동</td>\n",
       "      <td>2020-05-30</td>\n",
       "      <td>남운학성타운</td>\n",
       "      <td>135.5800</td>\n",
       "      <td>8</td>\n",
       "      <td>1991</td>\n",
       "      <td>26700</td>\n",
       "    </tr>\n",
       "    <tr>\n",
       "      <th>1</th>\n",
       "      <td>31110.0</td>\n",
       "      <td>남외동</td>\n",
       "      <td>2020-03-01</td>\n",
       "      <td>남외푸르지오1차</td>\n",
       "      <td>101.6000</td>\n",
       "      <td>2</td>\n",
       "      <td>2006</td>\n",
       "      <td>35500</td>\n",
       "    </tr>\n",
       "    <tr>\n",
       "      <th>2</th>\n",
       "      <td>31110.0</td>\n",
       "      <td>남외동</td>\n",
       "      <td>2020-03-01</td>\n",
       "      <td>에일린의뜰</td>\n",
       "      <td>84.9920</td>\n",
       "      <td>11</td>\n",
       "      <td>2007</td>\n",
       "      <td>36500</td>\n",
       "    </tr>\n",
       "    <tr>\n",
       "      <th>3</th>\n",
       "      <td>31110.0</td>\n",
       "      <td>남외동</td>\n",
       "      <td>2020-03-01</td>\n",
       "      <td>남외푸르지오1차</td>\n",
       "      <td>118.7060</td>\n",
       "      <td>8</td>\n",
       "      <td>2006</td>\n",
       "      <td>43000</td>\n",
       "    </tr>\n",
       "    <tr>\n",
       "      <th>4</th>\n",
       "      <td>31110.0</td>\n",
       "      <td>남외동</td>\n",
       "      <td>2020-04-01</td>\n",
       "      <td>남외푸르지오2차</td>\n",
       "      <td>84.9636</td>\n",
       "      <td>7</td>\n",
       "      <td>2007</td>\n",
       "      <td>38700</td>\n",
       "    </tr>\n",
       "    <tr>\n",
       "      <th>...</th>\n",
       "      <td>...</td>\n",
       "      <td>...</td>\n",
       "      <td>...</td>\n",
       "      <td>...</td>\n",
       "      <td>...</td>\n",
       "      <td>...</td>\n",
       "      <td>...</td>\n",
       "      <td>...</td>\n",
       "    </tr>\n",
       "    <tr>\n",
       "      <th>5002834</th>\n",
       "      <td>50130.0</td>\n",
       "      <td>대정읍 하모리</td>\n",
       "      <td>2023-06-29</td>\n",
       "      <td>더그라벨아파트</td>\n",
       "      <td>57.1300</td>\n",
       "      <td>6</td>\n",
       "      <td>2019</td>\n",
       "      <td>19500</td>\n",
       "    </tr>\n",
       "    <tr>\n",
       "      <th>5002835</th>\n",
       "      <td>50130.0</td>\n",
       "      <td>동홍동</td>\n",
       "      <td>2023-07-04</td>\n",
       "      <td>주공5차(동홍5차)</td>\n",
       "      <td>49.8700</td>\n",
       "      <td>2</td>\n",
       "      <td>1999</td>\n",
       "      <td>21700</td>\n",
       "    </tr>\n",
       "    <tr>\n",
       "      <th>5002836</th>\n",
       "      <td>50130.0</td>\n",
       "      <td>서홍동</td>\n",
       "      <td>2023-07-04</td>\n",
       "      <td>서홍반석타운</td>\n",
       "      <td>45.3100</td>\n",
       "      <td>1</td>\n",
       "      <td>2000</td>\n",
       "      <td>9300</td>\n",
       "    </tr>\n",
       "    <tr>\n",
       "      <th>5002837</th>\n",
       "      <td>50130.0</td>\n",
       "      <td>중문동</td>\n",
       "      <td>2023-07-01</td>\n",
       "      <td>중문푸른마을</td>\n",
       "      <td>51.8800</td>\n",
       "      <td>2</td>\n",
       "      <td>2003</td>\n",
       "      <td>25500</td>\n",
       "    </tr>\n",
       "    <tr>\n",
       "      <th>5002838</th>\n",
       "      <td>50130.0</td>\n",
       "      <td>중문동</td>\n",
       "      <td>2023-07-01</td>\n",
       "      <td>e편한세상중문</td>\n",
       "      <td>84.9875</td>\n",
       "      <td>5</td>\n",
       "      <td>2021</td>\n",
       "      <td>52500</td>\n",
       "    </tr>\n",
       "  </tbody>\n",
       "</table>\n",
       "<p>4718861 rows × 8 columns</p>\n",
       "</div>"
      ],
      "text/plain": [
       "            지역코드        동        거래일         아파트      전용면적   층  건축년도   거래금액\n",
       "0        31110.0      학성동 2020-05-30      남운학성타운  135.5800   8  1991  26700\n",
       "1        31110.0      남외동 2020-03-01    남외푸르지오1차  101.6000   2  2006  35500\n",
       "2        31110.0      남외동 2020-03-01       에일린의뜰   84.9920  11  2007  36500\n",
       "3        31110.0      남외동 2020-03-01    남외푸르지오1차  118.7060   8  2006  43000\n",
       "4        31110.0      남외동 2020-04-01    남외푸르지오2차   84.9636   7  2007  38700\n",
       "...          ...      ...        ...         ...       ...  ..   ...    ...\n",
       "5002834  50130.0  대정읍 하모리 2023-06-29     더그라벨아파트   57.1300   6  2019  19500\n",
       "5002835  50130.0      동홍동 2023-07-04  주공5차(동홍5차)   49.8700   2  1999  21700\n",
       "5002836  50130.0      서홍동 2023-07-04      서홍반석타운   45.3100   1  2000   9300\n",
       "5002837  50130.0      중문동 2023-07-01      중문푸른마을   51.8800   2  2003  25500\n",
       "5002838  50130.0      중문동 2023-07-01     e편한세상중문   84.9875   5  2021  52500\n",
       "\n",
       "[4718861 rows x 8 columns]"
      ]
     },
     "execution_count": 30,
     "metadata": {},
     "output_type": "execute_result"
    }
   ],
   "source": [
    "pre_a_df.loc[:, '거래일'] = pd.to_datetime(pre_a_df.거래일, dayfirst=True, format='mixed')\n",
    "pre_a_df"
   ]
  },
  {
   "cell_type": "code",
   "execution_count": 32,
   "id": "071570f5-2de9-4b64-b90c-5657a03aa9fd",
   "metadata": {},
   "outputs": [
    {
     "data": {
      "text/html": [
       "<div>\n",
       "<style scoped>\n",
       "    .dataframe tbody tr th:only-of-type {\n",
       "        vertical-align: middle;\n",
       "    }\n",
       "\n",
       "    .dataframe tbody tr th {\n",
       "        vertical-align: top;\n",
       "    }\n",
       "\n",
       "    .dataframe thead th {\n",
       "        text-align: right;\n",
       "    }\n",
       "</style>\n",
       "<table border=\"1\" class=\"dataframe\">\n",
       "  <thead>\n",
       "    <tr style=\"text-align: right;\">\n",
       "      <th></th>\n",
       "      <th>거래일</th>\n",
       "      <th>거래금액</th>\n",
       "    </tr>\n",
       "  </thead>\n",
       "  <tbody>\n",
       "    <tr>\n",
       "      <th>0</th>\n",
       "      <td>2015-01-01</td>\n",
       "      <td>6576349</td>\n",
       "    </tr>\n",
       "    <tr>\n",
       "      <th>1</th>\n",
       "      <td>2015-01-02</td>\n",
       "      <td>37089856</td>\n",
       "    </tr>\n",
       "    <tr>\n",
       "      <th>2</th>\n",
       "      <td>2015-01-03</td>\n",
       "      <td>44956816</td>\n",
       "    </tr>\n",
       "    <tr>\n",
       "      <th>3</th>\n",
       "      <td>2015-01-04</td>\n",
       "      <td>11973972</td>\n",
       "    </tr>\n",
       "    <tr>\n",
       "      <th>4</th>\n",
       "      <td>2015-01-05</td>\n",
       "      <td>55922619</td>\n",
       "    </tr>\n",
       "    <tr>\n",
       "      <th>...</th>\n",
       "      <td>...</td>\n",
       "      <td>...</td>\n",
       "    </tr>\n",
       "    <tr>\n",
       "      <th>3105</th>\n",
       "      <td>2023-07-03</td>\n",
       "      <td>356150</td>\n",
       "    </tr>\n",
       "    <tr>\n",
       "      <th>3106</th>\n",
       "      <td>2023-07-04</td>\n",
       "      <td>492160</td>\n",
       "    </tr>\n",
       "    <tr>\n",
       "      <th>3107</th>\n",
       "      <td>2023-07-05</td>\n",
       "      <td>452360</td>\n",
       "    </tr>\n",
       "    <tr>\n",
       "      <th>3108</th>\n",
       "      <td>2023-07-06</td>\n",
       "      <td>263550</td>\n",
       "    </tr>\n",
       "    <tr>\n",
       "      <th>3109</th>\n",
       "      <td>2023-07-07</td>\n",
       "      <td>197150</td>\n",
       "    </tr>\n",
       "  </tbody>\n",
       "</table>\n",
       "<p>3110 rows × 2 columns</p>\n",
       "</div>"
      ],
      "text/plain": [
       "            거래일      거래금액\n",
       "0    2015-01-01   6576349\n",
       "1    2015-01-02  37089856\n",
       "2    2015-01-03  44956816\n",
       "3    2015-01-04  11973972\n",
       "4    2015-01-05  55922619\n",
       "...         ...       ...\n",
       "3105 2023-07-03    356150\n",
       "3106 2023-07-04    492160\n",
       "3107 2023-07-05    452360\n",
       "3108 2023-07-06    263550\n",
       "3109 2023-07-07    197150\n",
       "\n",
       "[3110 rows x 2 columns]"
      ]
     },
     "execution_count": 32,
     "metadata": {},
     "output_type": "execute_result"
    }
   ],
   "source": [
    "group_a_df = pre_a_df[['거래일', '거래금액']].groupby('거래일').sum('거래금액').reset_index()\n",
    "group_a_df"
   ]
  },
  {
   "cell_type": "code",
   "execution_count": 34,
   "id": "a1f17f11-c144-4504-aa33-79d2dda0f446",
   "metadata": {},
   "outputs": [
    {
     "data": {
      "image/png": "[encoded data removed]",
      "text/plain": [
       "<Figure size 2000x800 with 1 Axes>"
      ]
     },
     "metadata": {},
     "output_type": "display_data"
    }
   ],
   "source": [
    "import matplotlib.pyplot as plt\n",
    "import matplotlib.dates as mdates\n",
    "\n",
    "fig, ax = plt.subplots(figsize=(20, 8))\n",
    "\n",
    "date_format = mdates.DateFormatter('%Y-%m')\n",
    "\n",
    "# 8주 단위\n",
    "ax.xaxis.set_major_locator(mdates.WeekdayLocator(interval=8))\n",
    "ax.xaxis.set_major_formatter(date_format)\n",
    "ax.plot(group_a_df['거래일'], group_a_df['거래금액'])\n",
    "plt.xticks(rotation=90)\n",
    "plt.show()"
   ]
  },
  {
   "cell_type": "code",
   "execution_count": 38,
   "id": "87c23bf6-61bb-45b4-b3cd-da0487192e30",
   "metadata": {},
   "outputs": [
    {
     "data": {
      "text/html": [
       "<div>\n",
       "<style scoped>\n",
       "    .dataframe tbody tr th:only-of-type {\n",
       "        vertical-align: middle;\n",
       "    }\n",
       "\n",
       "    .dataframe tbody tr th {\n",
       "        vertical-align: top;\n",
       "    }\n",
       "\n",
       "    .dataframe thead th {\n",
       "        text-align: right;\n",
       "    }\n",
       "</style>\n",
       "<table border=\"1\" class=\"dataframe\">\n",
       "  <thead>\n",
       "    <tr style=\"text-align: right;\">\n",
       "      <th></th>\n",
       "      <th>동</th>\n",
       "      <th>거래일</th>\n",
       "      <th>아파트</th>\n",
       "      <th>전용면적</th>\n",
       "      <th>층</th>\n",
       "      <th>건축년도</th>\n",
       "      <th>거래금액</th>\n",
       "    </tr>\n",
       "  </thead>\n",
       "  <tbody>\n",
       "    <tr>\n",
       "      <th>0</th>\n",
       "      <td>학성동</td>\n",
       "      <td>2020-05-30</td>\n",
       "      <td>남운학성타운</td>\n",
       "      <td>135.5800</td>\n",
       "      <td>8</td>\n",
       "      <td>1991</td>\n",
       "      <td>26700</td>\n",
       "    </tr>\n",
       "    <tr>\n",
       "      <th>1</th>\n",
       "      <td>남외동</td>\n",
       "      <td>2020-03-01</td>\n",
       "      <td>남외푸르지오1차</td>\n",
       "      <td>101.6000</td>\n",
       "      <td>2</td>\n",
       "      <td>2006</td>\n",
       "      <td>35500</td>\n",
       "    </tr>\n",
       "    <tr>\n",
       "      <th>2</th>\n",
       "      <td>남외동</td>\n",
       "      <td>2020-03-01</td>\n",
       "      <td>에일린의뜰</td>\n",
       "      <td>84.9920</td>\n",
       "      <td>11</td>\n",
       "      <td>2007</td>\n",
       "      <td>36500</td>\n",
       "    </tr>\n",
       "    <tr>\n",
       "      <th>3</th>\n",
       "      <td>남외동</td>\n",
       "      <td>2020-03-01</td>\n",
       "      <td>남외푸르지오1차</td>\n",
       "      <td>118.7060</td>\n",
       "      <td>8</td>\n",
       "      <td>2006</td>\n",
       "      <td>43000</td>\n",
       "    </tr>\n",
       "    <tr>\n",
       "      <th>4</th>\n",
       "      <td>남외동</td>\n",
       "      <td>2020-04-01</td>\n",
       "      <td>남외푸르지오2차</td>\n",
       "      <td>84.9636</td>\n",
       "      <td>7</td>\n",
       "      <td>2007</td>\n",
       "      <td>38700</td>\n",
       "    </tr>\n",
       "    <tr>\n",
       "      <th>...</th>\n",
       "      <td>...</td>\n",
       "      <td>...</td>\n",
       "      <td>...</td>\n",
       "      <td>...</td>\n",
       "      <td>...</td>\n",
       "      <td>...</td>\n",
       "      <td>...</td>\n",
       "    </tr>\n",
       "    <tr>\n",
       "      <th>5002834</th>\n",
       "      <td>대정읍 하모리</td>\n",
       "      <td>2023-06-29</td>\n",
       "      <td>더그라벨아파트</td>\n",
       "      <td>57.1300</td>\n",
       "      <td>6</td>\n",
       "      <td>2019</td>\n",
       "      <td>19500</td>\n",
       "    </tr>\n",
       "    <tr>\n",
       "      <th>5002835</th>\n",
       "      <td>동홍동</td>\n",
       "      <td>2023-07-04</td>\n",
       "      <td>주공5차(동홍5차)</td>\n",
       "      <td>49.8700</td>\n",
       "      <td>2</td>\n",
       "      <td>1999</td>\n",
       "      <td>21700</td>\n",
       "    </tr>\n",
       "    <tr>\n",
       "      <th>5002836</th>\n",
       "      <td>서홍동</td>\n",
       "      <td>2023-07-04</td>\n",
       "      <td>서홍반석타운</td>\n",
       "      <td>45.3100</td>\n",
       "      <td>1</td>\n",
       "      <td>2000</td>\n",
       "      <td>9300</td>\n",
       "    </tr>\n",
       "    <tr>\n",
       "      <th>5002837</th>\n",
       "      <td>중문동</td>\n",
       "      <td>2023-07-01</td>\n",
       "      <td>중문푸른마을</td>\n",
       "      <td>51.8800</td>\n",
       "      <td>2</td>\n",
       "      <td>2003</td>\n",
       "      <td>25500</td>\n",
       "    </tr>\n",
       "    <tr>\n",
       "      <th>5002838</th>\n",
       "      <td>중문동</td>\n",
       "      <td>2023-07-01</td>\n",
       "      <td>e편한세상중문</td>\n",
       "      <td>84.9875</td>\n",
       "      <td>5</td>\n",
       "      <td>2021</td>\n",
       "      <td>52500</td>\n",
       "    </tr>\n",
       "  </tbody>\n",
       "</table>\n",
       "<p>4718861 rows × 7 columns</p>\n",
       "</div>"
      ],
      "text/plain": [
       "               동        거래일         아파트      전용면적   층  건축년도   거래금액\n",
       "0            학성동 2020-05-30      남운학성타운  135.5800   8  1991  26700\n",
       "1            남외동 2020-03-01    남외푸르지오1차  101.6000   2  2006  35500\n",
       "2            남외동 2020-03-01       에일린의뜰   84.9920  11  2007  36500\n",
       "3            남외동 2020-03-01    남외푸르지오1차  118.7060   8  2006  43000\n",
       "4            남외동 2020-04-01    남외푸르지오2차   84.9636   7  2007  38700\n",
       "...          ...        ...         ...       ...  ..   ...    ...\n",
       "5002834  대정읍 하모리 2023-06-29     더그라벨아파트   57.1300   6  2019  19500\n",
       "5002835      동홍동 2023-07-04  주공5차(동홍5차)   49.8700   2  1999  21700\n",
       "5002836      서홍동 2023-07-04      서홍반석타운   45.3100   1  2000   9300\n",
       "5002837      중문동 2023-07-01      중문푸른마을   51.8800   2  2003  25500\n",
       "5002838      중문동 2023-07-01     e편한세상중문   84.9875   5  2021  52500\n",
       "\n",
       "[4718861 rows x 7 columns]"
      ]
     },
     "execution_count": 38,
     "metadata": {},
     "output_type": "execute_result"
    }
   ],
   "source": [
    "pre_a_df = pre_a_df.drop(labels=['지역코드'], axis=1)\n",
    "pre_a_df"
   ]
  },
  {
   "cell_type": "code",
   "execution_count": 43,
   "id": "2b520a78-7e99-4e82-8203-4cdab260abe5",
   "metadata": {},
   "outputs": [
    {
     "data": {
      "text/plain": [
       "Index(['중동', '상동', '상계동', '정자동', '신정동', '정왕동', '화정동', '산본동', '송도동', '행신동',\n",
       "       '일산동', '중산동', '영통동', '부곡동', '장기동', '신천동', '죽전동', '교동', '금곡동', '월계동',\n",
       "       '반송동', '하안동', '만수동', '풍덕천동', '연수동', '상현동', '권선동', '중계동', '비산동', '연산동',\n",
       "       '목동', '동천동', '쌍용동', '삼산동', '조례동', '병점동', '구로동', '탄현동', '호계동', '백석동',\n",
       "       '좌동', '용호동', '창동', '두정동', '나운동', '화명동', '논현동', '봉천동', '용산동', '신월동',\n",
       "       '풍무동', '주엽동', '둔산동', '복대동', '산곡동', '매탄동', '고잔동', '물금읍 범어리', '철산동',\n",
       "       '송정동', '용현동', '청라동', '청계동', '양덕동', '능동', '가좌동', '신곡동'],\n",
       "      dtype='object', name='동')"
      ]
     },
     "execution_count": 43,
     "metadata": {},
     "output_type": "execute_result"
    }
   ],
   "source": [
    "dong_index = pre_a_df.동.value_counts()[pre_a_df.동.value_counts() > 10000].index\n",
    "dong_index"
   ]
  },
  {
   "cell_type": "code",
   "execution_count": 47,
   "id": "dd9da9e5-015d-4616-86c4-dfc80f0e8933",
   "metadata": {},
   "outputs": [
    {
     "data": {
      "text/html": [
       "<div>\n",
       "<style scoped>\n",
       "    .dataframe tbody tr th:only-of-type {\n",
       "        vertical-align: middle;\n",
       "    }\n",
       "\n",
       "    .dataframe tbody tr th {\n",
       "        vertical-align: top;\n",
       "    }\n",
       "\n",
       "    .dataframe thead th {\n",
       "        text-align: right;\n",
       "    }\n",
       "</style>\n",
       "<table border=\"1\" class=\"dataframe\">\n",
       "  <thead>\n",
       "    <tr style=\"text-align: right;\">\n",
       "      <th></th>\n",
       "      <th>동</th>\n",
       "      <th>거래일</th>\n",
       "      <th>아파트</th>\n",
       "      <th>전용면적</th>\n",
       "      <th>층</th>\n",
       "      <th>건축년도</th>\n",
       "      <th>거래금액</th>\n",
       "    </tr>\n",
       "  </thead>\n",
       "  <tbody>\n",
       "    <tr>\n",
       "      <th>0</th>\n",
       "      <td>교동</td>\n",
       "      <td>2020-03-02</td>\n",
       "      <td>교동</td>\n",
       "      <td>74.3100</td>\n",
       "      <td>5</td>\n",
       "      <td>1980</td>\n",
       "      <td>28000</td>\n",
       "    </tr>\n",
       "    <tr>\n",
       "      <th>1</th>\n",
       "      <td>교동</td>\n",
       "      <td>2020-07-02</td>\n",
       "      <td>교동</td>\n",
       "      <td>52.8600</td>\n",
       "      <td>3</td>\n",
       "      <td>1980</td>\n",
       "      <td>25000</td>\n",
       "    </tr>\n",
       "    <tr>\n",
       "      <th>2</th>\n",
       "      <td>교동</td>\n",
       "      <td>2020-10-02</td>\n",
       "      <td>교동</td>\n",
       "      <td>74.4500</td>\n",
       "      <td>3</td>\n",
       "      <td>1980</td>\n",
       "      <td>28000</td>\n",
       "    </tr>\n",
       "    <tr>\n",
       "      <th>3</th>\n",
       "      <td>교동</td>\n",
       "      <td>2020-11-02</td>\n",
       "      <td>교동</td>\n",
       "      <td>52.8600</td>\n",
       "      <td>5</td>\n",
       "      <td>1980</td>\n",
       "      <td>25000</td>\n",
       "    </tr>\n",
       "    <tr>\n",
       "      <th>4</th>\n",
       "      <td>교동</td>\n",
       "      <td>2020-02-18</td>\n",
       "      <td>교동</td>\n",
       "      <td>52.8600</td>\n",
       "      <td>4</td>\n",
       "      <td>1980</td>\n",
       "      <td>26000</td>\n",
       "    </tr>\n",
       "    <tr>\n",
       "      <th>...</th>\n",
       "      <td>...</td>\n",
       "      <td>...</td>\n",
       "      <td>...</td>\n",
       "      <td>...</td>\n",
       "      <td>...</td>\n",
       "      <td>...</td>\n",
       "      <td>...</td>\n",
       "    </tr>\n",
       "    <tr>\n",
       "      <th>951477</th>\n",
       "      <td>물금읍 범어리</td>\n",
       "      <td>2023-06-27</td>\n",
       "      <td>우미린</td>\n",
       "      <td>59.9747</td>\n",
       "      <td>23</td>\n",
       "      <td>2013</td>\n",
       "      <td>28000</td>\n",
       "    </tr>\n",
       "    <tr>\n",
       "      <th>951478</th>\n",
       "      <td>물금읍 범어리</td>\n",
       "      <td>2023-06-30</td>\n",
       "      <td>양산물금대방노블랜드1차</td>\n",
       "      <td>109.1609</td>\n",
       "      <td>8</td>\n",
       "      <td>2014</td>\n",
       "      <td>45000</td>\n",
       "    </tr>\n",
       "    <tr>\n",
       "      <th>951479</th>\n",
       "      <td>물금읍 범어리</td>\n",
       "      <td>2023-07-05</td>\n",
       "      <td>성원</td>\n",
       "      <td>49.8900</td>\n",
       "      <td>2</td>\n",
       "      <td>1996</td>\n",
       "      <td>7500</td>\n",
       "    </tr>\n",
       "    <tr>\n",
       "      <th>951480</th>\n",
       "      <td>물금읍 범어리</td>\n",
       "      <td>2023-07-05</td>\n",
       "      <td>양산물금대방노블랜드1차</td>\n",
       "      <td>84.9973</td>\n",
       "      <td>10</td>\n",
       "      <td>2014</td>\n",
       "      <td>36800</td>\n",
       "    </tr>\n",
       "    <tr>\n",
       "      <th>951481</th>\n",
       "      <td>물금읍 범어리</td>\n",
       "      <td>2023-07-06</td>\n",
       "      <td>대동타운</td>\n",
       "      <td>49.9800</td>\n",
       "      <td>11</td>\n",
       "      <td>1995</td>\n",
       "      <td>7750</td>\n",
       "    </tr>\n",
       "  </tbody>\n",
       "</table>\n",
       "<p>951482 rows × 7 columns</p>\n",
       "</div>"
      ],
      "text/plain": [
       "              동        거래일           아파트      전용면적   층  건축년도   거래금액\n",
       "0            교동 2020-03-02            교동   74.3100   5  1980  28000\n",
       "1            교동 2020-07-02            교동   52.8600   3  1980  25000\n",
       "2            교동 2020-10-02            교동   74.4500   3  1980  28000\n",
       "3            교동 2020-11-02            교동   52.8600   5  1980  25000\n",
       "4            교동 2020-02-18            교동   52.8600   4  1980  26000\n",
       "...         ...        ...           ...       ...  ..   ...    ...\n",
       "951477  물금읍 범어리 2023-06-27           우미린   59.9747  23  2013  28000\n",
       "951478  물금읍 범어리 2023-06-30  양산물금대방노블랜드1차  109.1609   8  2014  45000\n",
       "951479  물금읍 범어리 2023-07-05            성원   49.8900   2  1996   7500\n",
       "951480  물금읍 범어리 2023-07-05  양산물금대방노블랜드1차   84.9973  10  2014  36800\n",
       "951481  물금읍 범어리 2023-07-06          대동타운   49.9800  11  1995   7750\n",
       "\n",
       "[951482 rows x 7 columns]"
      ]
     },
     "execution_count": 47,
     "metadata": {},
     "output_type": "execute_result"
    }
   ],
   "source": [
    "pre_a_df = pre_a_df[pre_a_df.동.isin(dong_index)].reset_index(drop=True)\n",
    "pre_a_df"
   ]
  },
  {
   "cell_type": "code",
   "execution_count": 50,
   "id": "30f535b0-0432-4adc-bc5f-5089c99f2e98",
   "metadata": {},
   "outputs": [
    {
     "data": {
      "text/html": [
       "<div>\n",
       "<style scoped>\n",
       "    .dataframe tbody tr th:only-of-type {\n",
       "        vertical-align: middle;\n",
       "    }\n",
       "\n",
       "    .dataframe tbody tr th {\n",
       "        vertical-align: top;\n",
       "    }\n",
       "\n",
       "    .dataframe thead th {\n",
       "        text-align: right;\n",
       "    }\n",
       "</style>\n",
       "<table border=\"1\" class=\"dataframe\">\n",
       "  <thead>\n",
       "    <tr style=\"text-align: right;\">\n",
       "      <th></th>\n",
       "      <th>전용면적</th>\n",
       "      <th>층</th>\n",
       "      <th>건축년도</th>\n",
       "      <th>거래금액</th>\n",
       "    </tr>\n",
       "  </thead>\n",
       "  <tbody>\n",
       "    <tr>\n",
       "      <th>0</th>\n",
       "      <td>74.3100</td>\n",
       "      <td>5</td>\n",
       "      <td>1980</td>\n",
       "      <td>28000</td>\n",
       "    </tr>\n",
       "    <tr>\n",
       "      <th>1</th>\n",
       "      <td>52.8600</td>\n",
       "      <td>3</td>\n",
       "      <td>1980</td>\n",
       "      <td>25000</td>\n",
       "    </tr>\n",
       "    <tr>\n",
       "      <th>2</th>\n",
       "      <td>74.4500</td>\n",
       "      <td>3</td>\n",
       "      <td>1980</td>\n",
       "      <td>28000</td>\n",
       "    </tr>\n",
       "    <tr>\n",
       "      <th>3</th>\n",
       "      <td>52.8600</td>\n",
       "      <td>5</td>\n",
       "      <td>1980</td>\n",
       "      <td>25000</td>\n",
       "    </tr>\n",
       "    <tr>\n",
       "      <th>4</th>\n",
       "      <td>52.8600</td>\n",
       "      <td>4</td>\n",
       "      <td>1980</td>\n",
       "      <td>26000</td>\n",
       "    </tr>\n",
       "    <tr>\n",
       "      <th>...</th>\n",
       "      <td>...</td>\n",
       "      <td>...</td>\n",
       "      <td>...</td>\n",
       "      <td>...</td>\n",
       "    </tr>\n",
       "    <tr>\n",
       "      <th>951477</th>\n",
       "      <td>59.9747</td>\n",
       "      <td>23</td>\n",
       "      <td>2013</td>\n",
       "      <td>28000</td>\n",
       "    </tr>\n",
       "    <tr>\n",
       "      <th>951478</th>\n",
       "      <td>109.1609</td>\n",
       "      <td>8</td>\n",
       "      <td>2014</td>\n",
       "      <td>45000</td>\n",
       "    </tr>\n",
       "    <tr>\n",
       "      <th>951479</th>\n",
       "      <td>49.8900</td>\n",
       "      <td>2</td>\n",
       "      <td>1996</td>\n",
       "      <td>7500</td>\n",
       "    </tr>\n",
       "    <tr>\n",
       "      <th>951480</th>\n",
       "      <td>84.9973</td>\n",
       "      <td>10</td>\n",
       "      <td>2014</td>\n",
       "      <td>36800</td>\n",
       "    </tr>\n",
       "    <tr>\n",
       "      <th>951481</th>\n",
       "      <td>49.9800</td>\n",
       "      <td>11</td>\n",
       "      <td>1995</td>\n",
       "      <td>7750</td>\n",
       "    </tr>\n",
       "  </tbody>\n",
       "</table>\n",
       "<p>951482 rows × 4 columns</p>\n",
       "</div>"
      ],
      "text/plain": [
       "            전용면적   층  건축년도   거래금액\n",
       "0        74.3100   5  1980  28000\n",
       "1        52.8600   3  1980  25000\n",
       "2        74.4500   3  1980  28000\n",
       "3        52.8600   5  1980  25000\n",
       "4        52.8600   4  1980  26000\n",
       "...          ...  ..   ...    ...\n",
       "951477   59.9747  23  2013  28000\n",
       "951478  109.1609   8  2014  45000\n",
       "951479   49.8900   2  1996   7500\n",
       "951480   84.9973  10  2014  36800\n",
       "951481   49.9800  11  1995   7750\n",
       "\n",
       "[951482 rows x 4 columns]"
      ]
     },
     "execution_count": 50,
     "metadata": {},
     "output_type": "execute_result"
    }
   ],
   "source": [
    "columns = ['전용면적', '층', '건축년도', '거래금액']\n",
    "pre_a_df = pre_a_df.loc[:, columns]\n",
    "pre_a_df"
   ]
  },
  {
   "cell_type": "code",
   "execution_count": 51,
   "id": "b7e739e1-5131-4190-bd23-946f92fdd35d",
   "metadata": {},
   "outputs": [
    {
     "data": {
      "text/plain": [
       "전용면적    0.538761\n",
       "건축년도    0.269408\n",
       "층       0.247915\n",
       "Name: 거래금액, dtype: float64"
      ]
     },
     "execution_count": 51,
     "metadata": {},
     "output_type": "execute_result"
    }
   ],
   "source": [
    "pre_a_df.corr()['거래금액'].sort_values(ascending=False)[1:]"
   ]
  },
  {
   "cell_type": "code",
   "execution_count": 53,
   "id": "8f579d08-c726-463b-8f97-ce0bc117a670",
   "metadata": {},
   "outputs": [
    {
     "data": {
      "text/plain": [
       "array([[<Axes: title={'center': '전용면적'}>, <Axes: title={'center': '층'}>],\n",
       "       [<Axes: title={'center': '건축년도'}>,\n",
       "        <Axes: title={'center': '거래금액'}>]], dtype=object)"
      ]
     },
     "execution_count": 53,
     "metadata": {},
     "output_type": "execute_result"
    },
    {
     "data": {
      "image/png": "[encoded data removed]",
      "text/plain": [
       "<Figure size 1000x800 with 4 Axes>"
      ]
     },
     "metadata": {},
     "output_type": "display_data"
    }
   ],
   "source": [
    "plt.rcParams['font.family'] ='Malgun Gothic'\n",
    "plt.rcParams['axes.unicode_minus'] =False\n",
    "\n",
    "pre_a_df.hist(figsize=(10, 8))"
   ]
  },
  {
   "cell_type": "code",
   "execution_count": 54,
   "id": "f2af2f49-6a14-4d8c-8ab8-1e09f1880888",
   "metadata": {},
   "outputs": [
    {
     "name": "stdout",
     "output_type": "stream",
     "text": [
      "                                 OLS Regression Results                                \n",
      "=======================================================================================\n",
      "Dep. Variable:                   거래금액   R-squared (uncentered):                   0.796\n",
      "Model:                            OLS   Adj. R-squared (uncentered):              0.796\n",
      "Method:                 Least Squares   F-statistic:                          1.239e+06\n",
      "Date:                Mon, 29 Apr 2024   Prob (F-statistic):                        0.00\n",
      "Time:                        10:21:22   Log-Likelihood:                     -1.0692e+07\n",
      "No. Observations:              951482   AIC:                                  2.138e+07\n",
      "Df Residuals:                  951479   BIC:                                  2.138e+07\n",
      "Df Model:                           3                                                  \n",
      "Covariance Type:            nonrobust                                                  \n",
      "==============================================================================\n",
      "                 coef    std err          t      P>|t|      [0.025      0.975]\n",
      "------------------------------------------------------------------------------\n",
      "전용면적         411.7558      0.700    588.549      0.000     410.385     413.127\n",
      "층            487.8567      2.730    178.674      0.000     482.505     493.208\n",
      "건축년도          -1.1406      0.029    -38.824      0.000      -1.198      -1.083\n",
      "==============================================================================\n",
      "Omnibus:                   594824.164   Durbin-Watson:                   0.529\n",
      "Prob(Omnibus):                  0.000   Jarque-Bera (JB):         11660112.376\n",
      "Skew:                           2.682   Prob(JB):                         0.00\n",
      "Kurtosis:                      19.289   Cond. No.                         290.\n",
      "==============================================================================\n",
      "\n",
      "Notes:\n",
      "[1] R² is computed without centering (uncentered) since the model does not contain a constant.\n",
      "[2] Standard Errors assume that the covariance matrix of the errors is correctly specified.\n"
     ]
    }
   ],
   "source": [
    "from statsmodels.api import OLS\n",
    "\n",
    "features, targets = pre_a_df.iloc[:, :-1], pre_a_df.iloc[:, -1]\n",
    "\n",
    "model = OLS(targets, features)\n",
    "print(model.fit().summary())"
   ]
  },
  {
   "cell_type": "code",
   "execution_count": 55,
   "id": "d5725312-99a6-4500-beee-fa3d1005f71a",
   "metadata": {},
   "outputs": [],
   "source": [
    "from statsmodels.stats.outliers_influence import variance_inflation_factor\n",
    "\n",
    "def get_vif(features):\n",
    "    vif = pd.DataFrame()\n",
    "    vif['vif_score'] = [variance_inflation_factor(features.values, i) for i in range(features.shape[1])]\n",
    "    vif['feature'] = features.columns\n",
    "    return vif"
   ]
  },
  {
   "cell_type": "code",
   "execution_count": 56,
   "id": "a2e88c54-d4df-43dd-944a-41ea85f5dba4",
   "metadata": {},
   "outputs": [
    {
     "data": {
      "text/html": [
       "<div>\n",
       "<style scoped>\n",
       "    .dataframe tbody tr th:only-of-type {\n",
       "        vertical-align: middle;\n",
       "    }\n",
       "\n",
       "    .dataframe tbody tr th {\n",
       "        vertical-align: top;\n",
       "    }\n",
       "\n",
       "    .dataframe thead th {\n",
       "        text-align: right;\n",
       "    }\n",
       "</style>\n",
       "<table border=\"1\" class=\"dataframe\">\n",
       "  <thead>\n",
       "    <tr style=\"text-align: right;\">\n",
       "      <th></th>\n",
       "      <th>vif_score</th>\n",
       "      <th>feature</th>\n",
       "    </tr>\n",
       "  </thead>\n",
       "  <tbody>\n",
       "    <tr>\n",
       "      <th>0</th>\n",
       "      <td>9.159139</td>\n",
       "      <td>전용면적</td>\n",
       "    </tr>\n",
       "    <tr>\n",
       "      <th>1</th>\n",
       "      <td>3.094445</td>\n",
       "      <td>층</td>\n",
       "    </tr>\n",
       "    <tr>\n",
       "      <th>2</th>\n",
       "      <td>9.733529</td>\n",
       "      <td>건축년도</td>\n",
       "    </tr>\n",
       "  </tbody>\n",
       "</table>\n",
       "</div>"
      ],
      "text/plain": [
       "   vif_score feature\n",
       "0   9.159139    전용면적\n",
       "1   3.094445       층\n",
       "2   9.733529    건축년도"
      ]
     },
     "execution_count": 56,
     "metadata": {},
     "output_type": "execute_result"
    }
   ],
   "source": [
    "get_vif(features)"
   ]
  },
  {
   "cell_type": "code",
   "execution_count": 59,
   "id": "013f8868-fe1a-4741-9b7b-019df88bae25",
   "metadata": {},
   "outputs": [
    {
     "data": {
      "image/png": "[encoded data removed]",
      "text/plain": [
       "<Figure size 640x480 with 2 Axes>"
      ]
     },
     "metadata": {},
     "output_type": "display_data"
    }
   ],
   "source": [
    "import seaborn as sns\n",
    "\n",
    "sns.heatmap(features.corr())\n",
    "plt.show()"
   ]
  },
  {
   "cell_type": "code",
   "execution_count": 60,
   "id": "78e68e7d-3338-40a4-b27e-edc022e54e79",
   "metadata": {},
   "outputs": [],
   "source": [
    "import numpy as np\n",
    "from sklearn.metrics import mean_squared_log_error, mean_squared_error, r2_score\n",
    "\n",
    "def get_evaluation(y_test, prediction):\n",
    "    MSE = mean_squared_error(y_test, prediction)\n",
    "    RMSE = np.sqrt(MSE)\n",
    "    MSLE = mean_squared_log_error(y_test, prediction)\n",
    "    RMSLE = np.sqrt(mean_squared_log_error(y_test, prediction))\n",
    "    R2 = r2_score(y_test, prediction)\n",
    "    print('MSE: {:.4f}, RMSE: {:.4f}, MSLE: {:.4f}, RMSLE: {:.4f}, R2: {:.4f}'\\\n",
    "          .format(MSE, RMSE, MSLE, RMSLE, R2))"
   ]
  },
  {
   "cell_type": "code",
   "execution_count": 61,
   "id": "3c053634-29fe-4c04-9451-112f6c73f107",
   "metadata": {},
   "outputs": [
    {
     "data": {
      "text/html": [
       "<style>#sk-container-id-1 {color: black;background-color: white;}#sk-container-id-1 pre{padding: 0;}#sk-container-id-1 div.sk-toggleable {background-color: white;}#sk-container-id-1 label.sk-toggleable__label {cursor: pointer;display: block;width: 100%;margin-bottom: 0;padding: 0.3em;box-sizing: border-box;text-align: center;}#sk-container-id-1 label.sk-toggleable__label-arrow:before {content: \"▸\";float: left;margin-right: 0.25em;color: #696969;}#sk-container-id-1 label.sk-toggleable__label-arrow:hover:before {color: black;}#sk-container-id-1 div.sk-estimator:hover label.sk-toggleable__label-arrow:before {color: black;}#sk-container-id-1 div.sk-toggleable__content {max-height: 0;max-width: 0;overflow: hidden;text-align: left;background-color: #f0f8ff;}#sk-container-id-1 div.sk-toggleable__content pre {margin: 0.2em;color: black;border-radius: 0.25em;background-color: #f0f8ff;}#sk-container-id-1 input.sk-toggleable__control:checked~div.sk-toggleable__content {max-height: 200px;max-width: 100%;overflow: auto;}#sk-container-id-1 input.sk-toggleable__control:checked~label.sk-toggleable__label-arrow:before {content: \"▾\";}#sk-container-id-1 div.sk-estimator input.sk-toggleable__control:checked~label.sk-toggleable__label {background-color: #d4ebff;}#sk-container-id-1 div.sk-label input.sk-toggleable__control:checked~label.sk-toggleable__label {background-color: #d4ebff;}#sk-container-id-1 input.sk-hidden--visually {border: 0;clip: rect(1px 1px 1px 1px);clip: rect(1px, 1px, 1px, 1px);height: 1px;margin: -1px;overflow: hidden;padding: 0;position: absolute;width: 1px;}#sk-container-id-1 div.sk-estimator {font-family: monospace;background-color: #f0f8ff;border: 1px dotted black;border-radius: 0.25em;box-sizing: border-box;margin-bottom: 0.5em;}#sk-container-id-1 div.sk-estimator:hover {background-color: #d4ebff;}#sk-container-id-1 div.sk-parallel-item::after {content: \"\";width: 100%;border-bottom: 1px solid gray;flex-grow: 1;}#sk-container-id-1 div.sk-label:hover label.sk-toggleable__label {background-color: #d4ebff;}#sk-container-id-1 div.sk-serial::before {content: \"\";position: absolute;border-left: 1px solid gray;box-sizing: border-box;top: 0;bottom: 0;left: 50%;z-index: 0;}#sk-container-id-1 div.sk-serial {display: flex;flex-direction: column;align-items: center;background-color: white;padding-right: 0.2em;padding-left: 0.2em;position: relative;}#sk-container-id-1 div.sk-item {position: relative;z-index: 1;}#sk-container-id-1 div.sk-parallel {display: flex;align-items: stretch;justify-content: center;background-color: white;position: relative;}#sk-container-id-1 div.sk-item::before, #sk-container-id-1 div.sk-parallel-item::before {content: \"\";position: absolute;border-left: 1px solid gray;box-sizing: border-box;top: 0;bottom: 0;left: 50%;z-index: -1;}#sk-container-id-1 div.sk-parallel-item {display: flex;flex-direction: column;z-index: 1;position: relative;background-color: white;}#sk-container-id-1 div.sk-parallel-item:first-child::after {align-self: flex-end;width: 50%;}#sk-container-id-1 div.sk-parallel-item:last-child::after {align-self: flex-start;width: 50%;}#sk-container-id-1 div.sk-parallel-item:only-child::after {width: 0;}#sk-container-id-1 div.sk-dashed-wrapped {border: 1px dashed gray;margin: 0 0.4em 0.5em 0.4em;box-sizing: border-box;padding-bottom: 0.4em;background-color: white;}#sk-container-id-1 div.sk-label label {font-family: monospace;font-weight: bold;display: inline-block;line-height: 1.2em;}#sk-container-id-1 div.sk-label-container {text-align: center;}#sk-container-id-1 div.sk-container {/* jupyter's `normalize.less` sets `[hidden] { display: none; }` but bootstrap.min.css set `[hidden] { display: none !important; }` so we also need the `!important` here to be able to override the default hidden behavior on the sphinx rendered scikit-learn.org. See: https://github.com/scikit-learn/scikit-learn/issues/21755 */display: inline-block !important;position: relative;}#sk-container-id-1 div.sk-text-repr-fallback {display: none;}</style><div id=\"sk-container-id-1\" class=\"sk-top-container\"><div class=\"sk-text-repr-fallback\"><pre>LinearRegression()</pre><b>In a Jupyter environment, please rerun this cell to show the HTML representation or trust the notebook. <br />On GitHub, the HTML representation is unable to render, please try loading this page with nbviewer.org.</b></div><div class=\"sk-container\" hidden><div class=\"sk-item\"><div class=\"sk-estimator sk-toggleable\"><input class=\"sk-toggleable__control sk-hidden--visually\" id=\"sk-estimator-id-1\" type=\"checkbox\" checked><label for=\"sk-estimator-id-1\" class=\"sk-toggleable__label sk-toggleable__label-arrow\">LinearRegression</label><div class=\"sk-toggleable__content\"><pre>LinearRegression()</pre></div></div></div></div></div>"
      ],
      "text/plain": [
       "LinearRegression()"
      ]
     },
     "execution_count": 61,
     "metadata": {},
     "output_type": "execute_result"
    }
   ],
   "source": [
    "from sklearn.model_selection import train_test_split\n",
    "from sklearn.linear_model import LinearRegression\n",
    "\n",
    "features, targets = pre_a_df.iloc[:, :-1], pre_a_df.iloc[:, -1]\n",
    "\n",
    "X_train, X_test, y_train, y_test = \\\n",
    "train_test_split(features, targets, test_size=0.2, random_state=124)\n",
    "\n",
    "l_r = LinearRegression()\n",
    "l_r.fit(X_train, y_train)"
   ]
  },
  {
   "cell_type": "code",
   "execution_count": 62,
   "id": "0dacd54b-f877-4e17-8804-cb89a0510483",
   "metadata": {},
   "outputs": [
    {
     "name": "stdout",
     "output_type": "stream",
     "text": [
      "MSE: 339324317.6937, RMSE: 18420.7578, MSLE: 0.2704, RMSLE: 0.5200, R2: 0.3209\n"
     ]
    }
   ],
   "source": [
    "prediction = l_r.predict(X_test)\n",
    "get_evaluation(y_test, prediction)"
   ]
  },
  {
   "cell_type": "code",
   "execution_count": 65,
   "id": "153c8aab-f196-418a-b70e-af782320a566",
   "metadata": {},
   "outputs": [
    {
     "data": {
      "text/plain": [
       "<Axes: >"
      ]
     },
     "execution_count": 65,
     "metadata": {},
     "output_type": "execute_result"
    },
    {
     "data": {
      "image/png": "[encoded data removed]",
      "text/plain": [
       "<Figure size 640x480 with 1 Axes>"
      ]
     },
     "metadata": {},
     "output_type": "display_data"
    }
   ],
   "source": [
    "np.log1p(pre_a_df.거래금액).hist()"
   ]
  },
  {
   "cell_type": "code",
   "execution_count": 71,
   "id": "660cdd2b-14df-4681-8bef-a755e7206a19",
   "metadata": {},
   "outputs": [
    {
     "data": {
      "text/html": [
       "<div>\n",
       "<style scoped>\n",
       "    .dataframe tbody tr th:only-of-type {\n",
       "        vertical-align: middle;\n",
       "    }\n",
       "\n",
       "    .dataframe tbody tr th {\n",
       "        vertical-align: top;\n",
       "    }\n",
       "\n",
       "    .dataframe thead th {\n",
       "        text-align: right;\n",
       "    }\n",
       "</style>\n",
       "<table border=\"1\" class=\"dataframe\">\n",
       "  <thead>\n",
       "    <tr style=\"text-align: right;\">\n",
       "      <th></th>\n",
       "      <th>전용면적</th>\n",
       "      <th>층</th>\n",
       "      <th>건축년도</th>\n",
       "      <th>거래금액</th>\n",
       "      <th>Target_yeo</th>\n",
       "    </tr>\n",
       "  </thead>\n",
       "  <tbody>\n",
       "    <tr>\n",
       "      <th>0</th>\n",
       "      <td>74.3100</td>\n",
       "      <td>5</td>\n",
       "      <td>1980</td>\n",
       "      <td>28000</td>\n",
       "      <td>34.400866</td>\n",
       "    </tr>\n",
       "    <tr>\n",
       "      <th>1</th>\n",
       "      <td>52.8600</td>\n",
       "      <td>3</td>\n",
       "      <td>1980</td>\n",
       "      <td>25000</td>\n",
       "      <td>33.507353</td>\n",
       "    </tr>\n",
       "    <tr>\n",
       "      <th>2</th>\n",
       "      <td>74.4500</td>\n",
       "      <td>3</td>\n",
       "      <td>1980</td>\n",
       "      <td>28000</td>\n",
       "      <td>34.400866</td>\n",
       "    </tr>\n",
       "    <tr>\n",
       "      <th>3</th>\n",
       "      <td>52.8600</td>\n",
       "      <td>5</td>\n",
       "      <td>1980</td>\n",
       "      <td>25000</td>\n",
       "      <td>33.507353</td>\n",
       "    </tr>\n",
       "    <tr>\n",
       "      <th>4</th>\n",
       "      <td>52.8600</td>\n",
       "      <td>4</td>\n",
       "      <td>1980</td>\n",
       "      <td>26000</td>\n",
       "      <td>33.814258</td>\n",
       "    </tr>\n",
       "    <tr>\n",
       "      <th>...</th>\n",
       "      <td>...</td>\n",
       "      <td>...</td>\n",
       "      <td>...</td>\n",
       "      <td>...</td>\n",
       "      <td>...</td>\n",
       "    </tr>\n",
       "    <tr>\n",
       "      <th>951477</th>\n",
       "      <td>59.9747</td>\n",
       "      <td>23</td>\n",
       "      <td>2013</td>\n",
       "      <td>28000</td>\n",
       "      <td>34.400866</td>\n",
       "    </tr>\n",
       "    <tr>\n",
       "      <th>951478</th>\n",
       "      <td>109.1609</td>\n",
       "      <td>8</td>\n",
       "      <td>2014</td>\n",
       "      <td>45000</td>\n",
       "      <td>38.372791</td>\n",
       "    </tr>\n",
       "    <tr>\n",
       "      <th>951479</th>\n",
       "      <td>49.8900</td>\n",
       "      <td>2</td>\n",
       "      <td>1996</td>\n",
       "      <td>7500</td>\n",
       "      <td>25.181461</td>\n",
       "    </tr>\n",
       "    <tr>\n",
       "      <th>951480</th>\n",
       "      <td>84.9973</td>\n",
       "      <td>10</td>\n",
       "      <td>2014</td>\n",
       "      <td>36800</td>\n",
       "      <td>36.641969</td>\n",
       "    </tr>\n",
       "    <tr>\n",
       "      <th>951481</th>\n",
       "      <td>49.9800</td>\n",
       "      <td>11</td>\n",
       "      <td>1995</td>\n",
       "      <td>7750</td>\n",
       "      <td>25.382318</td>\n",
       "    </tr>\n",
       "  </tbody>\n",
       "</table>\n",
       "<p>951482 rows × 5 columns</p>\n",
       "</div>"
      ],
      "text/plain": [
       "            전용면적   층  건축년도   거래금액  Target_yeo\n",
       "0        74.3100   5  1980  28000   34.400866\n",
       "1        52.8600   3  1980  25000   33.507353\n",
       "2        74.4500   3  1980  28000   34.400866\n",
       "3        52.8600   5  1980  25000   33.507353\n",
       "4        52.8600   4  1980  26000   33.814258\n",
       "...          ...  ..   ...    ...         ...\n",
       "951477   59.9747  23  2013  28000   34.400866\n",
       "951478  109.1609   8  2014  45000   38.372791\n",
       "951479   49.8900   2  1996   7500   25.181461\n",
       "951480   84.9973  10  2014  36800   36.641969\n",
       "951481   49.9800  11  1995   7750   25.382318\n",
       "\n",
       "[951482 rows x 5 columns]"
      ]
     },
     "execution_count": 71,
     "metadata": {},
     "output_type": "execute_result"
    }
   ],
   "source": [
    "from sklearn.preprocessing import PowerTransformer\n",
    "\n",
    "# box-cox: 양수만 가능\n",
    "# yeo-johnson: 음수, 0 포함 가능, default\n",
    "\n",
    "# ptf = PowerTransformer(method='box-cox', standardize=False)\n",
    "ptf = PowerTransformer(standardize=False)\n",
    "result = ptf.fit_transform(pre_a_df[['거래금액']])\n",
    "pre_a_df['Target_yeo'] = result\n",
    "pre_a_df"
   ]
  },
  {
   "cell_type": "code",
   "execution_count": 72,
   "id": "4945b44e-f759-4cd8-8211-352395376150",
   "metadata": {},
   "outputs": [
    {
     "data": {
      "text/plain": [
       "array([[<Axes: title={'center': '전용면적'}>, <Axes: title={'center': '층'}>],\n",
       "       [<Axes: title={'center': '건축년도'}>,\n",
       "        <Axes: title={'center': '거래금액'}>],\n",
       "       [<Axes: title={'center': 'Target_yeo'}>, <Axes: >]], dtype=object)"
      ]
     },
     "execution_count": 72,
     "metadata": {},
     "output_type": "execute_result"
    },
    {
     "data": {
      "image/png": "[encoded data removed]",
      "text/plain": [
       "<Figure size 1000x800 with 6 Axes>"
      ]
     },
     "metadata": {},
     "output_type": "display_data"
    }
   ],
   "source": [
    "pre_a_df.hist(figsize=(10, 8))"
   ]
  },
  {
   "cell_type": "code",
   "execution_count": 73,
   "id": "585073e9-8867-4418-94ba-037271f63840",
   "metadata": {},
   "outputs": [
    {
     "data": {
      "text/html": [
       "<div>\n",
       "<style scoped>\n",
       "    .dataframe tbody tr th:only-of-type {\n",
       "        vertical-align: middle;\n",
       "    }\n",
       "\n",
       "    .dataframe tbody tr th {\n",
       "        vertical-align: top;\n",
       "    }\n",
       "\n",
       "    .dataframe thead th {\n",
       "        text-align: right;\n",
       "    }\n",
       "</style>\n",
       "<table border=\"1\" class=\"dataframe\">\n",
       "  <thead>\n",
       "    <tr style=\"text-align: right;\">\n",
       "      <th></th>\n",
       "      <th>전용면적</th>\n",
       "      <th>층</th>\n",
       "      <th>건축년도</th>\n",
       "      <th>Target_yeo</th>\n",
       "    </tr>\n",
       "  </thead>\n",
       "  <tbody>\n",
       "    <tr>\n",
       "      <th>0</th>\n",
       "      <td>74.3100</td>\n",
       "      <td>5</td>\n",
       "      <td>1980</td>\n",
       "      <td>34.400866</td>\n",
       "    </tr>\n",
       "    <tr>\n",
       "      <th>1</th>\n",
       "      <td>52.8600</td>\n",
       "      <td>3</td>\n",
       "      <td>1980</td>\n",
       "      <td>33.507353</td>\n",
       "    </tr>\n",
       "    <tr>\n",
       "      <th>2</th>\n",
       "      <td>74.4500</td>\n",
       "      <td>3</td>\n",
       "      <td>1980</td>\n",
       "      <td>34.400866</td>\n",
       "    </tr>\n",
       "    <tr>\n",
       "      <th>3</th>\n",
       "      <td>52.8600</td>\n",
       "      <td>5</td>\n",
       "      <td>1980</td>\n",
       "      <td>33.507353</td>\n",
       "    </tr>\n",
       "    <tr>\n",
       "      <th>4</th>\n",
       "      <td>52.8600</td>\n",
       "      <td>4</td>\n",
       "      <td>1980</td>\n",
       "      <td>33.814258</td>\n",
       "    </tr>\n",
       "    <tr>\n",
       "      <th>...</th>\n",
       "      <td>...</td>\n",
       "      <td>...</td>\n",
       "      <td>...</td>\n",
       "      <td>...</td>\n",
       "    </tr>\n",
       "    <tr>\n",
       "      <th>951477</th>\n",
       "      <td>59.9747</td>\n",
       "      <td>23</td>\n",
       "      <td>2013</td>\n",
       "      <td>34.400866</td>\n",
       "    </tr>\n",
       "    <tr>\n",
       "      <th>951478</th>\n",
       "      <td>109.1609</td>\n",
       "      <td>8</td>\n",
       "      <td>2014</td>\n",
       "      <td>38.372791</td>\n",
       "    </tr>\n",
       "    <tr>\n",
       "      <th>951479</th>\n",
       "      <td>49.8900</td>\n",
       "      <td>2</td>\n",
       "      <td>1996</td>\n",
       "      <td>25.181461</td>\n",
       "    </tr>\n",
       "    <tr>\n",
       "      <th>951480</th>\n",
       "      <td>84.9973</td>\n",
       "      <td>10</td>\n",
       "      <td>2014</td>\n",
       "      <td>36.641969</td>\n",
       "    </tr>\n",
       "    <tr>\n",
       "      <th>951481</th>\n",
       "      <td>49.9800</td>\n",
       "      <td>11</td>\n",
       "      <td>1995</td>\n",
       "      <td>25.382318</td>\n",
       "    </tr>\n",
       "  </tbody>\n",
       "</table>\n",
       "<p>951482 rows × 4 columns</p>\n",
       "</div>"
      ],
      "text/plain": [
       "            전용면적   층  건축년도  Target_yeo\n",
       "0        74.3100   5  1980   34.400866\n",
       "1        52.8600   3  1980   33.507353\n",
       "2        74.4500   3  1980   34.400866\n",
       "3        52.8600   5  1980   33.507353\n",
       "4        52.8600   4  1980   33.814258\n",
       "...          ...  ..   ...         ...\n",
       "951477   59.9747  23  2013   34.400866\n",
       "951478  109.1609   8  2014   38.372791\n",
       "951479   49.8900   2  1996   25.181461\n",
       "951480   84.9973  10  2014   36.641969\n",
       "951481   49.9800  11  1995   25.382318\n",
       "\n",
       "[951482 rows x 4 columns]"
      ]
     },
     "execution_count": 73,
     "metadata": {},
     "output_type": "execute_result"
    }
   ],
   "source": [
    "pre_a_df = pre_a_df.drop(labels=['거래금액'], axis=1)\n",
    "pre_a_df"
   ]
  },
  {
   "cell_type": "code",
   "execution_count": 74,
   "id": "306ac710-75c0-4a15-96a6-61985c7bafdb",
   "metadata": {},
   "outputs": [
    {
     "name": "stdout",
     "output_type": "stream",
     "text": [
      "                                 OLS Regression Results                                \n",
      "=======================================================================================\n",
      "Dep. Variable:             Target_yeo   R-squared (uncentered):                   0.987\n",
      "Model:                            OLS   Adj. R-squared (uncentered):              0.987\n",
      "Method:                 Least Squares   F-statistic:                          2.399e+07\n",
      "Date:                Mon, 29 Apr 2024   Prob (F-statistic):                        0.00\n",
      "Time:                        10:29:18   Log-Likelihood:                     -2.6731e+06\n",
      "No. Observations:              951482   AIC:                                  5.346e+06\n",
      "Df Residuals:                  951479   BIC:                                  5.346e+06\n",
      "Df Model:                           3                                                  \n",
      "Covariance Type:            nonrobust                                                  \n",
      "==============================================================================\n",
      "                 coef    std err          t      P>|t|      [0.025      0.975]\n",
      "------------------------------------------------------------------------------\n",
      "전용면적           0.0983      0.000    642.757      0.000       0.098       0.099\n",
      "층              0.1082      0.001    181.335      0.000       0.107       0.109\n",
      "건축년도           0.0131   6.42e-06   2038.794      0.000       0.013       0.013\n",
      "==============================================================================\n",
      "Omnibus:                    23870.756   Durbin-Watson:                   0.459\n",
      "Prob(Omnibus):                  0.000   Jarque-Bera (JB):            41338.785\n",
      "Skew:                           0.220   Prob(JB):                         0.00\n",
      "Kurtosis:                       3.921   Cond. No.                         290.\n",
      "==============================================================================\n",
      "\n",
      "Notes:\n",
      "[1] R² is computed without centering (uncentered) since the model does not contain a constant.\n",
      "[2] Standard Errors assume that the covariance matrix of the errors is correctly specified.\n"
     ]
    }
   ],
   "source": [
    "from statsmodels.api import OLS\n",
    "\n",
    "features, targets = pre_a_df.iloc[:, :-1], pre_a_df.iloc[:, -1]\n",
    "\n",
    "model = OLS(targets, features)\n",
    "print(model.fit().summary())"
   ]
  },
  {
   "cell_type": "code",
   "execution_count": 75,
   "id": "db174f96-2a2e-45b7-8dfe-19b57ca36479",
   "metadata": {},
   "outputs": [],
   "source": [
    "from statsmodels.stats.outliers_influence import variance_inflation_factor\n",
    "\n",
    "def get_vif(features):\n",
    "    vif = pd.DataFrame()\n",
    "    vif['vif_score'] = [variance_inflation_factor(features.values, i) for i in range(features.shape[1])]\n",
    "    vif['feature'] = features.columns\n",
    "    return vif"
   ]
  },
  {
   "cell_type": "code",
   "execution_count": 76,
   "id": "39afaca4-85bf-4e7a-8f72-6d543a33e6fa",
   "metadata": {},
   "outputs": [
    {
     "data": {
      "text/html": [
       "<div>\n",
       "<style scoped>\n",
       "    .dataframe tbody tr th:only-of-type {\n",
       "        vertical-align: middle;\n",
       "    }\n",
       "\n",
       "    .dataframe tbody tr th {\n",
       "        vertical-align: top;\n",
       "    }\n",
       "\n",
       "    .dataframe thead th {\n",
       "        text-align: right;\n",
       "    }\n",
       "</style>\n",
       "<table border=\"1\" class=\"dataframe\">\n",
       "  <thead>\n",
       "    <tr style=\"text-align: right;\">\n",
       "      <th></th>\n",
       "      <th>vif_score</th>\n",
       "      <th>feature</th>\n",
       "    </tr>\n",
       "  </thead>\n",
       "  <tbody>\n",
       "    <tr>\n",
       "      <th>0</th>\n",
       "      <td>9.159139</td>\n",
       "      <td>전용면적</td>\n",
       "    </tr>\n",
       "    <tr>\n",
       "      <th>1</th>\n",
       "      <td>3.094445</td>\n",
       "      <td>층</td>\n",
       "    </tr>\n",
       "    <tr>\n",
       "      <th>2</th>\n",
       "      <td>9.733529</td>\n",
       "      <td>건축년도</td>\n",
       "    </tr>\n",
       "  </tbody>\n",
       "</table>\n",
       "</div>"
      ],
      "text/plain": [
       "   vif_score feature\n",
       "0   9.159139    전용면적\n",
       "1   3.094445       층\n",
       "2   9.733529    건축년도"
      ]
     },
     "execution_count": 76,
     "metadata": {},
     "output_type": "execute_result"
    }
   ],
   "source": [
    "get_vif(features)"
   ]
  },
  {
   "cell_type": "code",
   "execution_count": 77,
   "id": "eedb745d-3fe5-459a-8fa7-814e8df579dc",
   "metadata": {},
   "outputs": [],
   "source": [
    "import numpy as np\n",
    "from sklearn.metrics import mean_squared_log_error, mean_squared_error, r2_score\n",
    "\n",
    "def get_evaluation(y_test, prediction):\n",
    "    MSE = mean_squared_error(y_test, prediction)\n",
    "    RMSE = np.sqrt(MSE)\n",
    "    MSLE = mean_squared_log_error(y_test, prediction)\n",
    "    RMSLE = np.sqrt(mean_squared_log_error(y_test, prediction))\n",
    "    R2 = r2_score(y_test, prediction)\n",
    "    print('MSE: {:.4f}, RMSE: {:.4f}, MSLE: {:.4f}, RMSLE: {:.4f}, R2: {:.4f}'\\\n",
    "          .format(MSE, RMSE, MSLE, RMSLE, R2))"
   ]
  },
  {
   "cell_type": "code",
   "execution_count": 90,
   "id": "37813c66-6d42-4238-966c-bc2e83bec2d7",
   "metadata": {},
   "outputs": [
    {
     "data": {
      "text/html": [
       "<style>#sk-container-id-4 {color: black;background-color: white;}#sk-container-id-4 pre{padding: 0;}#sk-container-id-4 div.sk-toggleable {background-color: white;}#sk-container-id-4 label.sk-toggleable__label {cursor: pointer;display: block;width: 100%;margin-bottom: 0;padding: 0.3em;box-sizing: border-box;text-align: center;}#sk-container-id-4 label.sk-toggleable__label-arrow:before {content: \"▸\";float: left;margin-right: 0.25em;color: #696969;}#sk-container-id-4 label.sk-toggleable__label-arrow:hover:before {color: black;}#sk-container-id-4 div.sk-estimator:hover label.sk-toggleable__label-arrow:before {color: black;}#sk-container-id-4 div.sk-toggleable__content {max-height: 0;max-width: 0;overflow: hidden;text-align: left;background-color: #f0f8ff;}#sk-container-id-4 div.sk-toggleable__content pre {margin: 0.2em;color: black;border-radius: 0.25em;background-color: #f0f8ff;}#sk-container-id-4 input.sk-toggleable__control:checked~div.sk-toggleable__content {max-height: 200px;max-width: 100%;overflow: auto;}#sk-container-id-4 input.sk-toggleable__control:checked~label.sk-toggleable__label-arrow:before {content: \"▾\";}#sk-container-id-4 div.sk-estimator input.sk-toggleable__control:checked~label.sk-toggleable__label {background-color: #d4ebff;}#sk-container-id-4 div.sk-label input.sk-toggleable__control:checked~label.sk-toggleable__label {background-color: #d4ebff;}#sk-container-id-4 input.sk-hidden--visually {border: 0;clip: rect(1px 1px 1px 1px);clip: rect(1px, 1px, 1px, 1px);height: 1px;margin: -1px;overflow: hidden;padding: 0;position: absolute;width: 1px;}#sk-container-id-4 div.sk-estimator {font-family: monospace;background-color: #f0f8ff;border: 1px dotted black;border-radius: 0.25em;box-sizing: border-box;margin-bottom: 0.5em;}#sk-container-id-4 div.sk-estimator:hover {background-color: #d4ebff;}#sk-container-id-4 div.sk-parallel-item::after {content: \"\";width: 100%;border-bottom: 1px solid gray;flex-grow: 1;}#sk-container-id-4 div.sk-label:hover label.sk-toggleable__label {background-color: #d4ebff;}#sk-container-id-4 div.sk-serial::before {content: \"\";position: absolute;border-left: 1px solid gray;box-sizing: border-box;top: 0;bottom: 0;left: 50%;z-index: 0;}#sk-container-id-4 div.sk-serial {display: flex;flex-direction: column;align-items: center;background-color: white;padding-right: 0.2em;padding-left: 0.2em;position: relative;}#sk-container-id-4 div.sk-item {position: relative;z-index: 1;}#sk-container-id-4 div.sk-parallel {display: flex;align-items: stretch;justify-content: center;background-color: white;position: relative;}#sk-container-id-4 div.sk-item::before, #sk-container-id-4 div.sk-parallel-item::before {content: \"\";position: absolute;border-left: 1px solid gray;box-sizing: border-box;top: 0;bottom: 0;left: 50%;z-index: -1;}#sk-container-id-4 div.sk-parallel-item {display: flex;flex-direction: column;z-index: 1;position: relative;background-color: white;}#sk-container-id-4 div.sk-parallel-item:first-child::after {align-self: flex-end;width: 50%;}#sk-container-id-4 div.sk-parallel-item:last-child::after {align-self: flex-start;width: 50%;}#sk-container-id-4 div.sk-parallel-item:only-child::after {width: 0;}#sk-container-id-4 div.sk-dashed-wrapped {border: 1px dashed gray;margin: 0 0.4em 0.5em 0.4em;box-sizing: border-box;padding-bottom: 0.4em;background-color: white;}#sk-container-id-4 div.sk-label label {font-family: monospace;font-weight: bold;display: inline-block;line-height: 1.2em;}#sk-container-id-4 div.sk-label-container {text-align: center;}#sk-container-id-4 div.sk-container {/* jupyter's `normalize.less` sets `[hidden] { display: none; }` but bootstrap.min.css set `[hidden] { display: none !important; }` so we also need the `!important` here to be able to override the default hidden behavior on the sphinx rendered scikit-learn.org. See: https://github.com/scikit-learn/scikit-learn/issues/21755 */display: inline-block !important;position: relative;}#sk-container-id-4 div.sk-text-repr-fallback {display: none;}</style><div id=\"sk-container-id-4\" class=\"sk-top-container\"><div class=\"sk-text-repr-fallback\"><pre>LinearRegression()</pre><b>In a Jupyter environment, please rerun this cell to show the HTML representation or trust the notebook. <br />On GitHub, the HTML representation is unable to render, please try loading this page with nbviewer.org.</b></div><div class=\"sk-container\" hidden><div class=\"sk-item\"><div class=\"sk-estimator sk-toggleable\"><input class=\"sk-toggleable__control sk-hidden--visually\" id=\"sk-estimator-id-4\" type=\"checkbox\" checked><label for=\"sk-estimator-id-4\" class=\"sk-toggleable__label sk-toggleable__label-arrow\">LinearRegression</label><div class=\"sk-toggleable__content\"><pre>LinearRegression()</pre></div></div></div></div></div>"
      ],
      "text/plain": [
       "LinearRegression()"
      ]
     },
     "execution_count": 90,
     "metadata": {},
     "output_type": "execute_result"
    }
   ],
   "source": [
    "from sklearn.model_selection import train_test_split\n",
    "from sklearn.linear_model import LinearRegression\n",
    "\n",
    "features, targets = pre_a_df.iloc[:, :-1], pre_a_df.iloc[:, -1]\n",
    "\n",
    "X_train, X_test, y_train, y_test = \\\n",
    "train_test_split(features, targets, test_size=0.2, random_state=124)\n",
    "\n",
    "l_r = LinearRegression()\n",
    "l_r.fit(X_train.values, y_train.values)"
   ]
  },
  {
   "cell_type": "code",
   "execution_count": 91,
   "id": "c86751c6-a26d-4c38-965a-85a899e58af4",
   "metadata": {},
   "outputs": [
    {
     "name": "stdout",
     "output_type": "stream",
     "text": [
      "MSE: 15.9453, RMSE: 3.9932, MSLE: 0.0133, RMSLE: 0.1153, R2: 0.3717\n"
     ]
    }
   ],
   "source": [
    "prediction = l_r.predict(X_test.values)\n",
    "get_evaluation(y_test.values, prediction)"
   ]
  },
  {
   "cell_type": "code",
   "execution_count": 119,
   "id": "261eaa71-dd67-4201-afa3-7893e4b02133",
   "metadata": {},
   "outputs": [
    {
     "name": "stdout",
     "output_type": "stream",
     "text": [
      "[32.55768081]\n"
     ]
    }
   ],
   "source": [
    "prediction = l_r.predict([[74.3100, 5, 1980]])\n",
    "print(prediction)"
   ]
  },
  {
   "cell_type": "code",
   "execution_count": 120,
   "id": "d5bb80fd-cc6d-4bf4-b80e-0e9168e0e202",
   "metadata": {},
   "outputs": [
    {
     "name": "stderr",
     "output_type": "stream",
     "text": [
      "C:\\ProgramData\\anaconda3\\Lib\\site-packages\\sklearn\\base.py:439: UserWarning: X does not have valid feature names, but PowerTransformer was fitted with feature names\n",
      "  warnings.warn(\n"
     ]
    },
    {
     "data": {
      "text/plain": [
       "array([[22098.25530386]])"
      ]
     },
     "execution_count": 120,
     "metadata": {},
     "output_type": "execute_result"
    }
   ],
   "source": [
    "ptf.inverse_transform(prediction.reshape(-1, 1))"
   ]
  },
  {
   "cell_type": "code",
   "execution_count": 121,
   "id": "a1868e74-64d2-49c2-9693-1b1b48b2e653",
   "metadata": {},
   "outputs": [
    {
     "name": "stderr",
     "output_type": "stream",
     "text": [
      "C:\\ProgramData\\anaconda3\\Lib\\site-packages\\sklearn\\base.py:439: UserWarning: X does not have valid feature names, but PowerTransformer was fitted with feature names\n",
      "  warnings.warn(\n"
     ]
    },
    {
     "data": {
      "text/plain": [
       "array([[28000.]])"
      ]
     },
     "execution_count": 121,
     "metadata": {},
     "output_type": "execute_result"
    }
   ],
   "source": [
    "ptf.inverse_transform(pre_a_df.loc[0:, 'Target_yeo'][0].reshape(-1, 1))"
   ]
  },
  {
   "cell_type": "code",
   "execution_count": 135,
   "id": "c4a01db1-0beb-44e6-b41e-9e806ab60a62",
   "metadata": {},
   "outputs": [
    {
     "data": {
      "text/html": [
       "<style>#sk-container-id-10 {color: black;background-color: white;}#sk-container-id-10 pre{padding: 0;}#sk-container-id-10 div.sk-toggleable {background-color: white;}#sk-container-id-10 label.sk-toggleable__label {cursor: pointer;display: block;width: 100%;margin-bottom: 0;padding: 0.3em;box-sizing: border-box;text-align: center;}#sk-container-id-10 label.sk-toggleable__label-arrow:before {content: \"▸\";float: left;margin-right: 0.25em;color: #696969;}#sk-container-id-10 label.sk-toggleable__label-arrow:hover:before {color: black;}#sk-container-id-10 div.sk-estimator:hover label.sk-toggleable__label-arrow:before {color: black;}#sk-container-id-10 div.sk-toggleable__content {max-height: 0;max-width: 0;overflow: hidden;text-align: left;background-color: #f0f8ff;}#sk-container-id-10 div.sk-toggleable__content pre {margin: 0.2em;color: black;border-radius: 0.25em;background-color: #f0f8ff;}#sk-container-id-10 input.sk-toggleable__control:checked~div.sk-toggleable__content {max-height: 200px;max-width: 100%;overflow: auto;}#sk-container-id-10 input.sk-toggleable__control:checked~label.sk-toggleable__label-arrow:before {content: \"▾\";}#sk-container-id-10 div.sk-estimator input.sk-toggleable__control:checked~label.sk-toggleable__label {background-color: #d4ebff;}#sk-container-id-10 div.sk-label input.sk-toggleable__control:checked~label.sk-toggleable__label {background-color: #d4ebff;}#sk-container-id-10 input.sk-hidden--visually {border: 0;clip: rect(1px 1px 1px 1px);clip: rect(1px, 1px, 1px, 1px);height: 1px;margin: -1px;overflow: hidden;padding: 0;position: absolute;width: 1px;}#sk-container-id-10 div.sk-estimator {font-family: monospace;background-color: #f0f8ff;border: 1px dotted black;border-radius: 0.25em;box-sizing: border-box;margin-bottom: 0.5em;}#sk-container-id-10 div.sk-estimator:hover {background-color: #d4ebff;}#sk-container-id-10 div.sk-parallel-item::after {content: \"\";width: 100%;border-bottom: 1px solid gray;flex-grow: 1;}#sk-container-id-10 div.sk-label:hover label.sk-toggleable__label {background-color: #d4ebff;}#sk-container-id-10 div.sk-serial::before {content: \"\";position: absolute;border-left: 1px solid gray;box-sizing: border-box;top: 0;bottom: 0;left: 50%;z-index: 0;}#sk-container-id-10 div.sk-serial {display: flex;flex-direction: column;align-items: center;background-color: white;padding-right: 0.2em;padding-left: 0.2em;position: relative;}#sk-container-id-10 div.sk-item {position: relative;z-index: 1;}#sk-container-id-10 div.sk-parallel {display: flex;align-items: stretch;justify-content: center;background-color: white;position: relative;}#sk-container-id-10 div.sk-item::before, #sk-container-id-10 div.sk-parallel-item::before {content: \"\";position: absolute;border-left: 1px solid gray;box-sizing: border-box;top: 0;bottom: 0;left: 50%;z-index: -1;}#sk-container-id-10 div.sk-parallel-item {display: flex;flex-direction: column;z-index: 1;position: relative;background-color: white;}#sk-container-id-10 div.sk-parallel-item:first-child::after {align-self: flex-end;width: 50%;}#sk-container-id-10 div.sk-parallel-item:last-child::after {align-self: flex-start;width: 50%;}#sk-container-id-10 div.sk-parallel-item:only-child::after {width: 0;}#sk-container-id-10 div.sk-dashed-wrapped {border: 1px dashed gray;margin: 0 0.4em 0.5em 0.4em;box-sizing: border-box;padding-bottom: 0.4em;background-color: white;}#sk-container-id-10 div.sk-label label {font-family: monospace;font-weight: bold;display: inline-block;line-height: 1.2em;}#sk-container-id-10 div.sk-label-container {text-align: center;}#sk-container-id-10 div.sk-container {/* jupyter's `normalize.less` sets `[hidden] { display: none; }` but bootstrap.min.css set `[hidden] { display: none !important; }` so we also need the `!important` here to be able to override the default hidden behavior on the sphinx rendered scikit-learn.org. See: https://github.com/scikit-learn/scikit-learn/issues/21755 */display: inline-block !important;position: relative;}#sk-container-id-10 div.sk-text-repr-fallback {display: none;}</style><div id=\"sk-container-id-10\" class=\"sk-top-container\"><div class=\"sk-text-repr-fallback\"><pre>LinearRegression()</pre><b>In a Jupyter environment, please rerun this cell to show the HTML representation or trust the notebook. <br />On GitHub, the HTML representation is unable to render, please try loading this page with nbviewer.org.</b></div><div class=\"sk-container\" hidden><div class=\"sk-item\"><div class=\"sk-estimator sk-toggleable\"><input class=\"sk-toggleable__control sk-hidden--visually\" id=\"sk-estimator-id-10\" type=\"checkbox\" checked><label for=\"sk-estimator-id-10\" class=\"sk-toggleable__label sk-toggleable__label-arrow\">LinearRegression</label><div class=\"sk-toggleable__content\"><pre>LinearRegression()</pre></div></div></div></div></div>"
      ],
      "text/plain": [
       "LinearRegression()"
      ]
     },
     "execution_count": 135,
     "metadata": {},
     "output_type": "execute_result"
    }
   ],
   "source": [
    "from sklearn.preprocessing import PolynomialFeatures\n",
    "\n",
    "poly_features = PolynomialFeatures(degree=4).fit_transform(features)\n",
    "\n",
    "X_train, X_test, y_train, y_test = \\\n",
    "train_test_split(poly_features, targets, test_size=0.2, random_state=124)\n",
    "\n",
    "l_r = LinearRegression()\n",
    "l_r.fit(X_train, y_train)"
   ]
  },
  {
   "cell_type": "code",
   "execution_count": 136,
   "id": "79f1b164-10c1-4da5-a036-965fbb4b9f2d",
   "metadata": {},
   "outputs": [
    {
     "name": "stdout",
     "output_type": "stream",
     "text": [
      "MSE: 14.9091, RMSE: 3.8612, MSLE: 0.0125, RMSLE: 0.1116, R2: 0.4125\n"
     ]
    }
   ],
   "source": [
    "prediction = l_r.predict(X_test)\n",
    "get_evaluation(y_test.values, prediction)"
   ]
  }
 ],
 "metadata": {
  "kernelspec": {
   "display_name": "Python 3 (ipykernel)",
   "language": "python",
   "name": "python3"
  },
  "language_info": {
   "codemirror_mode": {
    "name": "ipython",
    "version": 3
   },
   "file_extension": ".py",
   "mimetype": "text/x-python",
   "name": "python",
   "nbconvert_exporter": "python",
   "pygments_lexer": "ipython3",
   "version": "3.11.8"
  }
 },
 "nbformat": 4,
 "nbformat_minor": 5
}
