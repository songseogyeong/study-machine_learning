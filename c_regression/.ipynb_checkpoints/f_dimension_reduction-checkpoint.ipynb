{
 "cells": [
  {
   "cell_type": "markdown",
   "id": "b2ed1978-e456-4b87-8285-0a8a38f87af3",
   "metadata": {},
   "source": [
    "#### Dimension Reduction (차원 축소)\n",
    "- 우리가 다루는 데이터들은 보통 3차원 공간에서는 표현하기 힘든 고차원의 데이터인 경우가 많다.\n",
    "- 차원이 커질 수록 데이터 간 거리가 크게 늘어나며, 데이터가 회소화된다.\n",
    "- 고차원을 이루는 feature 중 상대적으로 중요도가 떨어지는 feature가 존재할 수 있기 때문에  \n",
    "  계산 비용이 많이 들고 분석에 필요한 시각화가 어렵다.\n",
    "- 머신러닝에서는 고차원 데이터를 다루는 경우가 많으며, 희소 데이터를 학습 시 예측 성능이 좋지 않다.\n",
    "- 차원 축소를 통해 Spares Data를 dense하게(밀도 높게) 만들 필요가 있다.\n",
    "- feature가 많을 경우 독립변수 간 상관관계가 높아질 가능성이 높고, 이로 인해 다중 공선성 문제가 발생할 수 있다.\n",
    "- 차원 축소로 인해 표현력이 일부 손실되지만, 손실을 감수하더라도 계산 효율을 얻기 위해 사용한다.\n",
    "\n",
    "---\n",
    "#### PCA (Principal Component Analysis), 주성분 분석\n",
    "- 고차원의 데이터를 저차원으로 압축하는 대표적인 차원 축소방법이다.\n",
    "- 데이터의 특성을 눈으로 쉽게 파악할 수 있도록 하며, 연산 속도에 큰 이점을 얻을 수 있다.\n",
    "- 고차원 데이터를 저차원 데이터로 압축하기 위해서는 먼저, 데이터를 가장 잘 표현하는 축을 설정해야 한다.\n",
    "- \n",
    "\n",
    "#### LDA ()"
   ]
  },
  {
   "cell_type": "code",
   "execution_count": null,
   "id": "df35d896-bd40-45d9-aacf-5b928b31f0dc",
   "metadata": {},
   "outputs": [],
   "source": []
  },
  {
   "cell_type": "code",
   "execution_count": null,
   "id": "5b90969f-20d7-4276-af0a-8c89c11180c5",
   "metadata": {},
   "outputs": [],
   "source": []
  },
  {
   "cell_type": "code",
   "execution_count": null,
   "id": "7c3f7f63-8dea-477a-b608-69b2a07ce9b6",
   "metadata": {},
   "outputs": [],
   "source": []
  },
  {
   "cell_type": "code",
   "execution_count": null,
   "id": "78ca9a8d-6c77-4d38-a964-32369f8bec0f",
   "metadata": {},
   "outputs": [],
   "source": []
  },
  {
   "cell_type": "code",
   "execution_count": null,
   "id": "56cf9dab-aa1e-48dc-98a4-fdb70d9aa1f2",
   "metadata": {},
   "outputs": [],
   "source": []
  },
  {
   "cell_type": "code",
   "execution_count": null,
   "id": "d3f89429-3b3d-40bc-b712-aee776ea40c1",
   "metadata": {},
   "outputs": [],
   "source": []
  },
  {
   "cell_type": "code",
   "execution_count": null,
   "id": "b829e898-77fb-4faa-90e6-f7d620bc26f6",
   "metadata": {},
   "outputs": [],
   "source": []
  },
  {
   "cell_type": "code",
   "execution_count": null,
   "id": "14918b0e-e367-4db5-8904-331df72bb02e",
   "metadata": {},
   "outputs": [],
   "source": []
  },
  {
   "cell_type": "code",
   "execution_count": null,
   "id": "5403a52d-2f4d-4052-a00b-02e5bd98e10f",
   "metadata": {},
   "outputs": [],
   "source": []
  },
  {
   "cell_type": "code",
   "execution_count": null,
   "id": "d95b901b-bfd7-42d8-99cc-5f92a4874b54",
   "metadata": {},
   "outputs": [],
   "source": []
  },
  {
   "cell_type": "code",
   "execution_count": null,
   "id": "f81b2704-8e1c-4c11-9b20-a6ba88851c6f",
   "metadata": {},
   "outputs": [],
   "source": []
  },
  {
   "cell_type": "code",
   "execution_count": null,
   "id": "a518641b-1e02-4687-aea3-1fb29eff3e1a",
   "metadata": {},
   "outputs": [],
   "source": []
  },
  {
   "cell_type": "code",
   "execution_count": null,
   "id": "9e64d7ae-b407-452f-abc2-672950432804",
   "metadata": {},
   "outputs": [],
   "source": []
  },
  {
   "cell_type": "code",
   "execution_count": null,
   "id": "1bf2f57d-5cee-442c-9288-771cf04ff2b9",
   "metadata": {},
   "outputs": [],
   "source": []
  },
  {
   "cell_type": "code",
   "execution_count": null,
   "id": "dd8bc950-fd08-42fe-ad4e-53858f5cd86c",
   "metadata": {},
   "outputs": [],
   "source": []
  }
 ],
 "metadata": {
  "kernelspec": {
   "display_name": "Python 3 (ipykernel)",
   "language": "python",
   "name": "python3"
  },
  "language_info": {
   "codemirror_mode": {
    "name": "ipython",
    "version": 3
   },
   "file_extension": ".py",
   "mimetype": "text/x-python",
   "name": "python",
   "nbconvert_exporter": "python",
   "pygments_lexer": "ipython3",
   "version": "3.11.8"
  }
 },
 "nbformat": 4,
 "nbformat_minor": 5
}
