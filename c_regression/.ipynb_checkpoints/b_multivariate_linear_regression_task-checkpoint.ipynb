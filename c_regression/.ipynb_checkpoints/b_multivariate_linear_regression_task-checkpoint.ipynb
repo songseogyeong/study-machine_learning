{
 "cells": [
  {
   "cell_type": "markdown",
   "id": "7372aa34-81dc-4931-a07b-3d863544fdad",
   "metadata": {},
   "source": [
    "### Multivariate Linear Regression Task\n",
    "- 구매자의 연수입(Annual Salary)과 순자산(자산 - 부채, Net Worth), 신용카드 부채(Credit Card Debt)를 통해 다변량 회귀 분석 진행"
   ]
  },
  {
   "cell_type": "code",
   "execution_count": 1,
   "id": "1cacc288-8719-4d7c-83ff-b3a4d8d0a1f4",
   "metadata": {},
   "outputs": [
    {
     "data": {
      "text/html": [
       "<div>\n",
       "<style scoped>\n",
       "    .dataframe tbody tr th:only-of-type {\n",
       "        vertical-align: middle;\n",
       "    }\n",
       "\n",
       "    .dataframe tbody tr th {\n",
       "        vertical-align: top;\n",
       "    }\n",
       "\n",
       "    .dataframe thead th {\n",
       "        text-align: right;\n",
       "    }\n",
       "</style>\n",
       "<table border=\"1\" class=\"dataframe\">\n",
       "  <thead>\n",
       "    <tr style=\"text-align: right;\">\n",
       "      <th></th>\n",
       "      <th>Customer Name</th>\n",
       "      <th>Customer e-mail</th>\n",
       "      <th>Country</th>\n",
       "      <th>Gender</th>\n",
       "      <th>Age</th>\n",
       "      <th>Annual Salary</th>\n",
       "      <th>Credit Card Debt</th>\n",
       "      <th>Net Worth</th>\n",
       "      <th>Car Purchase Amount</th>\n",
       "    </tr>\n",
       "  </thead>\n",
       "  <tbody>\n",
       "    <tr>\n",
       "      <th>0</th>\n",
       "      <td>Martina Avila</td>\n",
       "      <td>cubilia.Curae.Phasellus@quisaccumsanconvallis.edu</td>\n",
       "      <td>USA</td>\n",
       "      <td>0</td>\n",
       "      <td>42</td>\n",
       "      <td>62812.09301</td>\n",
       "      <td>11609.380910</td>\n",
       "      <td>238961.2505</td>\n",
       "      <td>35321.45877</td>\n",
       "    </tr>\n",
       "    <tr>\n",
       "      <th>1</th>\n",
       "      <td>Harlan Barnes</td>\n",
       "      <td>eu.dolor@diam.co.uk</td>\n",
       "      <td>USA</td>\n",
       "      <td>0</td>\n",
       "      <td>41</td>\n",
       "      <td>66646.89292</td>\n",
       "      <td>9572.957136</td>\n",
       "      <td>530973.9078</td>\n",
       "      <td>45115.52566</td>\n",
       "    </tr>\n",
       "    <tr>\n",
       "      <th>2</th>\n",
       "      <td>Naomi Rodriquez</td>\n",
       "      <td>vulputate.mauris.sagittis@ametconsectetueradip...</td>\n",
       "      <td>USA</td>\n",
       "      <td>1</td>\n",
       "      <td>43</td>\n",
       "      <td>53798.55112</td>\n",
       "      <td>11160.355060</td>\n",
       "      <td>638467.1773</td>\n",
       "      <td>42925.70921</td>\n",
       "    </tr>\n",
       "    <tr>\n",
       "      <th>3</th>\n",
       "      <td>Jade Cunningham</td>\n",
       "      <td>malesuada@dignissim.com</td>\n",
       "      <td>USA</td>\n",
       "      <td>1</td>\n",
       "      <td>58</td>\n",
       "      <td>79370.03798</td>\n",
       "      <td>14426.164850</td>\n",
       "      <td>548599.0524</td>\n",
       "      <td>67422.36313</td>\n",
       "    </tr>\n",
       "    <tr>\n",
       "      <th>4</th>\n",
       "      <td>Cedric Leach</td>\n",
       "      <td>felis.ullamcorper.viverra@egetmollislectus.net</td>\n",
       "      <td>USA</td>\n",
       "      <td>1</td>\n",
       "      <td>57</td>\n",
       "      <td>59729.15130</td>\n",
       "      <td>5358.712177</td>\n",
       "      <td>560304.0671</td>\n",
       "      <td>55915.46248</td>\n",
       "    </tr>\n",
       "    <tr>\n",
       "      <th>...</th>\n",
       "      <td>...</td>\n",
       "      <td>...</td>\n",
       "      <td>...</td>\n",
       "      <td>...</td>\n",
       "      <td>...</td>\n",
       "      <td>...</td>\n",
       "      <td>...</td>\n",
       "      <td>...</td>\n",
       "      <td>...</td>\n",
       "    </tr>\n",
       "    <tr>\n",
       "      <th>495</th>\n",
       "      <td>Walter</td>\n",
       "      <td>ligula@Cumsociis.ca</td>\n",
       "      <td>USA</td>\n",
       "      <td>0</td>\n",
       "      <td>41</td>\n",
       "      <td>71942.40291</td>\n",
       "      <td>6995.902524</td>\n",
       "      <td>541670.1016</td>\n",
       "      <td>48901.44342</td>\n",
       "    </tr>\n",
       "    <tr>\n",
       "      <th>496</th>\n",
       "      <td>Vanna</td>\n",
       "      <td>Cum.sociis.natoque@Sedmolestie.edu</td>\n",
       "      <td>USA</td>\n",
       "      <td>1</td>\n",
       "      <td>38</td>\n",
       "      <td>56039.49793</td>\n",
       "      <td>12301.456790</td>\n",
       "      <td>360419.0988</td>\n",
       "      <td>31491.41457</td>\n",
       "    </tr>\n",
       "    <tr>\n",
       "      <th>497</th>\n",
       "      <td>Pearl</td>\n",
       "      <td>penatibus.et@massanonante.com</td>\n",
       "      <td>USA</td>\n",
       "      <td>1</td>\n",
       "      <td>54</td>\n",
       "      <td>68888.77805</td>\n",
       "      <td>10611.606860</td>\n",
       "      <td>764531.3203</td>\n",
       "      <td>64147.28888</td>\n",
       "    </tr>\n",
       "    <tr>\n",
       "      <th>498</th>\n",
       "      <td>Nell</td>\n",
       "      <td>Quisque.varius@arcuVivamussit.net</td>\n",
       "      <td>USA</td>\n",
       "      <td>1</td>\n",
       "      <td>59</td>\n",
       "      <td>49811.99062</td>\n",
       "      <td>14013.034510</td>\n",
       "      <td>337826.6382</td>\n",
       "      <td>45442.15353</td>\n",
       "    </tr>\n",
       "    <tr>\n",
       "      <th>499</th>\n",
       "      <td>Marla</td>\n",
       "      <td>Camaron.marla@hotmail.com</td>\n",
       "      <td>USA</td>\n",
       "      <td>1</td>\n",
       "      <td>47</td>\n",
       "      <td>61370.67766</td>\n",
       "      <td>9391.341628</td>\n",
       "      <td>462946.4924</td>\n",
       "      <td>45107.22566</td>\n",
       "    </tr>\n",
       "  </tbody>\n",
       "</table>\n",
       "<p>500 rows × 9 columns</p>\n",
       "</div>"
      ],
      "text/plain": [
       "       Customer Name                                    Customer e-mail  \\\n",
       "0      Martina Avila  cubilia.Curae.Phasellus@quisaccumsanconvallis.edu   \n",
       "1      Harlan Barnes                                eu.dolor@diam.co.uk   \n",
       "2    Naomi Rodriquez  vulputate.mauris.sagittis@ametconsectetueradip...   \n",
       "3    Jade Cunningham                            malesuada@dignissim.com   \n",
       "4       Cedric Leach     felis.ullamcorper.viverra@egetmollislectus.net   \n",
       "..               ...                                                ...   \n",
       "495           Walter                                ligula@Cumsociis.ca   \n",
       "496            Vanna                 Cum.sociis.natoque@Sedmolestie.edu   \n",
       "497            Pearl                      penatibus.et@massanonante.com   \n",
       "498             Nell                  Quisque.varius@arcuVivamussit.net   \n",
       "499            Marla                          Camaron.marla@hotmail.com   \n",
       "\n",
       "    Country  Gender  Age  Annual Salary  Credit Card Debt    Net Worth  \\\n",
       "0       USA       0   42    62812.09301      11609.380910  238961.2505   \n",
       "1       USA       0   41    66646.89292       9572.957136  530973.9078   \n",
       "2       USA       1   43    53798.55112      11160.355060  638467.1773   \n",
       "3       USA       1   58    79370.03798      14426.164850  548599.0524   \n",
       "4       USA       1   57    59729.15130       5358.712177  560304.0671   \n",
       "..      ...     ...  ...            ...               ...          ...   \n",
       "495     USA       0   41    71942.40291       6995.902524  541670.1016   \n",
       "496     USA       1   38    56039.49793      12301.456790  360419.0988   \n",
       "497     USA       1   54    68888.77805      10611.606860  764531.3203   \n",
       "498     USA       1   59    49811.99062      14013.034510  337826.6382   \n",
       "499     USA       1   47    61370.67766       9391.341628  462946.4924   \n",
       "\n",
       "     Car Purchase Amount  \n",
       "0            35321.45877  \n",
       "1            45115.52566  \n",
       "2            42925.70921  \n",
       "3            67422.36313  \n",
       "4            55915.46248  \n",
       "..                   ...  \n",
       "495          48901.44342  \n",
       "496          31491.41457  \n",
       "497          64147.28888  \n",
       "498          45442.15353  \n",
       "499          45107.22566  \n",
       "\n",
       "[500 rows x 9 columns]"
      ]
     },
     "execution_count": 1,
     "metadata": {},
     "output_type": "execute_result"
    }
   ],
   "source": [
    "import pandas as pd\n",
    "\n",
    "# 데이터 호출\n",
    "c_df = pd.read_csv('./datasets/car_purchasing.csv')\n",
    "c_df"
   ]
  },
  {
   "cell_type": "markdown",
   "id": "6cdef685-d289-4210-81bb-e1c19f701f7d",
   "metadata": {},
   "source": [
    "#### 📊 데이터 정보"
   ]
  },
  {
   "cell_type": "code",
   "execution_count": 2,
   "id": "1a16b126-c8eb-418a-ac36-a90356421259",
   "metadata": {},
   "outputs": [
    {
     "name": "stdout",
     "output_type": "stream",
     "text": [
      "<class 'pandas.core.frame.DataFrame'>\n",
      "RangeIndex: 500 entries, 0 to 499\n",
      "Data columns (total 9 columns):\n",
      " #   Column               Non-Null Count  Dtype  \n",
      "---  ------               --------------  -----  \n",
      " 0   Customer Name        500 non-null    object \n",
      " 1   Customer e-mail      500 non-null    object \n",
      " 2   Country              500 non-null    object \n",
      " 3   Gender               500 non-null    int64  \n",
      " 4   Age                  500 non-null    int64  \n",
      " 5   Annual Salary        500 non-null    float64\n",
      " 6   Credit Card Debt     500 non-null    float64\n",
      " 7   Net Worth            500 non-null    float64\n",
      " 8   Car Purchase Amount  500 non-null    float64\n",
      "dtypes: float64(4), int64(2), object(3)\n",
      "memory usage: 35.3+ KB\n"
     ]
    }
   ],
   "source": [
    "# 정보 확인\n",
    "c_df.info()"
   ]
  },
  {
   "cell_type": "code",
   "execution_count": 3,
   "id": "cbfabae3-5c56-4d7d-b91d-50e533d4f44f",
   "metadata": {},
   "outputs": [
    {
     "data": {
      "text/plain": [
       "Customer Name          0\n",
       "Customer e-mail        0\n",
       "Country                0\n",
       "Gender                 0\n",
       "Age                    0\n",
       "Annual Salary          0\n",
       "Credit Card Debt       0\n",
       "Net Worth              0\n",
       "Car Purchase Amount    0\n",
       "dtype: int64"
      ]
     },
     "execution_count": 3,
     "metadata": {},
     "output_type": "execute_result"
    }
   ],
   "source": [
    "# 결측치 확인\n",
    "c_df.isna().sum()"
   ]
  },
  {
   "cell_type": "code",
   "execution_count": 4,
   "id": "6e57d332-34ab-450b-b3c4-4eaf44b28692",
   "metadata": {},
   "outputs": [
    {
     "data": {
      "text/plain": [
       "0"
      ]
     },
     "execution_count": 4,
     "metadata": {},
     "output_type": "execute_result"
    }
   ],
   "source": [
    "# 중복행 검사\n",
    "c_df.duplicated().sum()"
   ]
  },
  {
   "cell_type": "code",
   "execution_count": 5,
   "id": "3d1b32b1-400e-4099-81b8-59afe797a2d5",
   "metadata": {},
   "outputs": [
    {
     "data": {
      "text/plain": [
       "Country\n",
       "USA    500\n",
       "Name: count, dtype: int64"
      ]
     },
     "execution_count": 5,
     "metadata": {},
     "output_type": "execute_result"
    }
   ],
   "source": [
    "# 국가 데이터 별 개수 확인\n",
    "c_df['Country'].value_counts()"
   ]
  },
  {
   "cell_type": "markdown",
   "id": "584db97a-3ccd-40b7-954b-821d350147ba",
   "metadata": {},
   "source": [
    "#### 📊 불필요한 피처 제거\n",
    "- 불필요한 Customer Name 피처 제거\n",
    "- 불필요한 Customer e-mail 피처 제거\n",
    "- USA 단일 데이터로 나타나는 Country 피처 제거"
   ]
  },
  {
   "cell_type": "code",
   "execution_count": 6,
   "id": "0b87d114-bd1f-4b5e-a637-550d0f43695e",
   "metadata": {},
   "outputs": [
    {
     "data": {
      "text/html": [
       "<div>\n",
       "<style scoped>\n",
       "    .dataframe tbody tr th:only-of-type {\n",
       "        vertical-align: middle;\n",
       "    }\n",
       "\n",
       "    .dataframe tbody tr th {\n",
       "        vertical-align: top;\n",
       "    }\n",
       "\n",
       "    .dataframe thead th {\n",
       "        text-align: right;\n",
       "    }\n",
       "</style>\n",
       "<table border=\"1\" class=\"dataframe\">\n",
       "  <thead>\n",
       "    <tr style=\"text-align: right;\">\n",
       "      <th></th>\n",
       "      <th>Gender</th>\n",
       "      <th>Age</th>\n",
       "      <th>Annual Salary</th>\n",
       "      <th>Credit Card Debt</th>\n",
       "      <th>Net Worth</th>\n",
       "      <th>Car Purchase Amount</th>\n",
       "    </tr>\n",
       "  </thead>\n",
       "  <tbody>\n",
       "    <tr>\n",
       "      <th>0</th>\n",
       "      <td>0</td>\n",
       "      <td>42</td>\n",
       "      <td>62812.09301</td>\n",
       "      <td>11609.380910</td>\n",
       "      <td>238961.2505</td>\n",
       "      <td>35321.45877</td>\n",
       "    </tr>\n",
       "    <tr>\n",
       "      <th>1</th>\n",
       "      <td>0</td>\n",
       "      <td>41</td>\n",
       "      <td>66646.89292</td>\n",
       "      <td>9572.957136</td>\n",
       "      <td>530973.9078</td>\n",
       "      <td>45115.52566</td>\n",
       "    </tr>\n",
       "    <tr>\n",
       "      <th>2</th>\n",
       "      <td>1</td>\n",
       "      <td>43</td>\n",
       "      <td>53798.55112</td>\n",
       "      <td>11160.355060</td>\n",
       "      <td>638467.1773</td>\n",
       "      <td>42925.70921</td>\n",
       "    </tr>\n",
       "    <tr>\n",
       "      <th>3</th>\n",
       "      <td>1</td>\n",
       "      <td>58</td>\n",
       "      <td>79370.03798</td>\n",
       "      <td>14426.164850</td>\n",
       "      <td>548599.0524</td>\n",
       "      <td>67422.36313</td>\n",
       "    </tr>\n",
       "    <tr>\n",
       "      <th>4</th>\n",
       "      <td>1</td>\n",
       "      <td>57</td>\n",
       "      <td>59729.15130</td>\n",
       "      <td>5358.712177</td>\n",
       "      <td>560304.0671</td>\n",
       "      <td>55915.46248</td>\n",
       "    </tr>\n",
       "    <tr>\n",
       "      <th>...</th>\n",
       "      <td>...</td>\n",
       "      <td>...</td>\n",
       "      <td>...</td>\n",
       "      <td>...</td>\n",
       "      <td>...</td>\n",
       "      <td>...</td>\n",
       "    </tr>\n",
       "    <tr>\n",
       "      <th>495</th>\n",
       "      <td>0</td>\n",
       "      <td>41</td>\n",
       "      <td>71942.40291</td>\n",
       "      <td>6995.902524</td>\n",
       "      <td>541670.1016</td>\n",
       "      <td>48901.44342</td>\n",
       "    </tr>\n",
       "    <tr>\n",
       "      <th>496</th>\n",
       "      <td>1</td>\n",
       "      <td>38</td>\n",
       "      <td>56039.49793</td>\n",
       "      <td>12301.456790</td>\n",
       "      <td>360419.0988</td>\n",
       "      <td>31491.41457</td>\n",
       "    </tr>\n",
       "    <tr>\n",
       "      <th>497</th>\n",
       "      <td>1</td>\n",
       "      <td>54</td>\n",
       "      <td>68888.77805</td>\n",
       "      <td>10611.606860</td>\n",
       "      <td>764531.3203</td>\n",
       "      <td>64147.28888</td>\n",
       "    </tr>\n",
       "    <tr>\n",
       "      <th>498</th>\n",
       "      <td>1</td>\n",
       "      <td>59</td>\n",
       "      <td>49811.99062</td>\n",
       "      <td>14013.034510</td>\n",
       "      <td>337826.6382</td>\n",
       "      <td>45442.15353</td>\n",
       "    </tr>\n",
       "    <tr>\n",
       "      <th>499</th>\n",
       "      <td>1</td>\n",
       "      <td>47</td>\n",
       "      <td>61370.67766</td>\n",
       "      <td>9391.341628</td>\n",
       "      <td>462946.4924</td>\n",
       "      <td>45107.22566</td>\n",
       "    </tr>\n",
       "  </tbody>\n",
       "</table>\n",
       "<p>500 rows × 6 columns</p>\n",
       "</div>"
      ],
      "text/plain": [
       "     Gender  Age  Annual Salary  Credit Card Debt    Net Worth  \\\n",
       "0         0   42    62812.09301      11609.380910  238961.2505   \n",
       "1         0   41    66646.89292       9572.957136  530973.9078   \n",
       "2         1   43    53798.55112      11160.355060  638467.1773   \n",
       "3         1   58    79370.03798      14426.164850  548599.0524   \n",
       "4         1   57    59729.15130       5358.712177  560304.0671   \n",
       "..      ...  ...            ...               ...          ...   \n",
       "495       0   41    71942.40291       6995.902524  541670.1016   \n",
       "496       1   38    56039.49793      12301.456790  360419.0988   \n",
       "497       1   54    68888.77805      10611.606860  764531.3203   \n",
       "498       1   59    49811.99062      14013.034510  337826.6382   \n",
       "499       1   47    61370.67766       9391.341628  462946.4924   \n",
       "\n",
       "     Car Purchase Amount  \n",
       "0            35321.45877  \n",
       "1            45115.52566  \n",
       "2            42925.70921  \n",
       "3            67422.36313  \n",
       "4            55915.46248  \n",
       "..                   ...  \n",
       "495          48901.44342  \n",
       "496          31491.41457  \n",
       "497          64147.28888  \n",
       "498          45442.15353  \n",
       "499          45107.22566  \n",
       "\n",
       "[500 rows x 6 columns]"
      ]
     },
     "execution_count": 6,
     "metadata": {},
     "output_type": "execute_result"
    }
   ],
   "source": [
    "# 불필요한 피처 제거\n",
    "pre_c_df = c_df.iloc[:, -6:]\n",
    "pre_c_df"
   ]
  },
  {
   "cell_type": "markdown",
   "id": "4ca1c57a-1650-4bbd-8d08-8c2f44ee72c8",
   "metadata": {},
   "source": [
    "#### 📊 상관관계 확인"
   ]
  },
  {
   "cell_type": "code",
   "execution_count": 7,
   "id": "d7ed513d-49ab-4bf2-95d0-5707082d8561",
   "metadata": {},
   "outputs": [
    {
     "data": {
      "text/plain": [
       "Age                 0.633273\n",
       "Annual Salary       0.617862\n",
       "Net Worth           0.488580\n",
       "Credit Card Debt    0.028882\n",
       "Gender             -0.066408\n",
       "Name: Car Purchase Amount, dtype: float64"
      ]
     },
     "execution_count": 7,
     "metadata": {},
     "output_type": "execute_result"
    }
   ],
   "source": [
    "# 타겟과 피처의 상관관계 확인\n",
    "pre_c_df.corr()['Car Purchase Amount'].sort_values(ascending=False)[1:]"
   ]
  },
  {
   "cell_type": "markdown",
   "id": "bde5176d-c944-457c-b46c-7e73bce20d31",
   "metadata": {},
   "source": [
    "#### 📊 추가 피처 제거\n",
    "- 상관 관계가 낮은 Gender 피처 제거\n",
    "- age 피처 제거"
   ]
  },
  {
   "cell_type": "code",
   "execution_count": 8,
   "id": "c952a88b-0270-4637-94aa-0c4a5e33ade9",
   "metadata": {},
   "outputs": [
    {
     "data": {
      "text/html": [
       "<div>\n",
       "<style scoped>\n",
       "    .dataframe tbody tr th:only-of-type {\n",
       "        vertical-align: middle;\n",
       "    }\n",
       "\n",
       "    .dataframe tbody tr th {\n",
       "        vertical-align: top;\n",
       "    }\n",
       "\n",
       "    .dataframe thead th {\n",
       "        text-align: right;\n",
       "    }\n",
       "</style>\n",
       "<table border=\"1\" class=\"dataframe\">\n",
       "  <thead>\n",
       "    <tr style=\"text-align: right;\">\n",
       "      <th></th>\n",
       "      <th>Annual Salary</th>\n",
       "      <th>Credit Card Debt</th>\n",
       "      <th>Net Worth</th>\n",
       "      <th>Car Purchase Amount</th>\n",
       "    </tr>\n",
       "  </thead>\n",
       "  <tbody>\n",
       "    <tr>\n",
       "      <th>0</th>\n",
       "      <td>62812.09301</td>\n",
       "      <td>11609.380910</td>\n",
       "      <td>238961.2505</td>\n",
       "      <td>35321.45877</td>\n",
       "    </tr>\n",
       "    <tr>\n",
       "      <th>1</th>\n",
       "      <td>66646.89292</td>\n",
       "      <td>9572.957136</td>\n",
       "      <td>530973.9078</td>\n",
       "      <td>45115.52566</td>\n",
       "    </tr>\n",
       "    <tr>\n",
       "      <th>2</th>\n",
       "      <td>53798.55112</td>\n",
       "      <td>11160.355060</td>\n",
       "      <td>638467.1773</td>\n",
       "      <td>42925.70921</td>\n",
       "    </tr>\n",
       "    <tr>\n",
       "      <th>3</th>\n",
       "      <td>79370.03798</td>\n",
       "      <td>14426.164850</td>\n",
       "      <td>548599.0524</td>\n",
       "      <td>67422.36313</td>\n",
       "    </tr>\n",
       "    <tr>\n",
       "      <th>4</th>\n",
       "      <td>59729.15130</td>\n",
       "      <td>5358.712177</td>\n",
       "      <td>560304.0671</td>\n",
       "      <td>55915.46248</td>\n",
       "    </tr>\n",
       "    <tr>\n",
       "      <th>...</th>\n",
       "      <td>...</td>\n",
       "      <td>...</td>\n",
       "      <td>...</td>\n",
       "      <td>...</td>\n",
       "    </tr>\n",
       "    <tr>\n",
       "      <th>495</th>\n",
       "      <td>71942.40291</td>\n",
       "      <td>6995.902524</td>\n",
       "      <td>541670.1016</td>\n",
       "      <td>48901.44342</td>\n",
       "    </tr>\n",
       "    <tr>\n",
       "      <th>496</th>\n",
       "      <td>56039.49793</td>\n",
       "      <td>12301.456790</td>\n",
       "      <td>360419.0988</td>\n",
       "      <td>31491.41457</td>\n",
       "    </tr>\n",
       "    <tr>\n",
       "      <th>497</th>\n",
       "      <td>68888.77805</td>\n",
       "      <td>10611.606860</td>\n",
       "      <td>764531.3203</td>\n",
       "      <td>64147.28888</td>\n",
       "    </tr>\n",
       "    <tr>\n",
       "      <th>498</th>\n",
       "      <td>49811.99062</td>\n",
       "      <td>14013.034510</td>\n",
       "      <td>337826.6382</td>\n",
       "      <td>45442.15353</td>\n",
       "    </tr>\n",
       "    <tr>\n",
       "      <th>499</th>\n",
       "      <td>61370.67766</td>\n",
       "      <td>9391.341628</td>\n",
       "      <td>462946.4924</td>\n",
       "      <td>45107.22566</td>\n",
       "    </tr>\n",
       "  </tbody>\n",
       "</table>\n",
       "<p>500 rows × 4 columns</p>\n",
       "</div>"
      ],
      "text/plain": [
       "     Annual Salary  Credit Card Debt    Net Worth  Car Purchase Amount\n",
       "0      62812.09301      11609.380910  238961.2505          35321.45877\n",
       "1      66646.89292       9572.957136  530973.9078          45115.52566\n",
       "2      53798.55112      11160.355060  638467.1773          42925.70921\n",
       "3      79370.03798      14426.164850  548599.0524          67422.36313\n",
       "4      59729.15130       5358.712177  560304.0671          55915.46248\n",
       "..             ...               ...          ...                  ...\n",
       "495    71942.40291       6995.902524  541670.1016          48901.44342\n",
       "496    56039.49793      12301.456790  360419.0988          31491.41457\n",
       "497    68888.77805      10611.606860  764531.3203          64147.28888\n",
       "498    49811.99062      14013.034510  337826.6382          45442.15353\n",
       "499    61370.67766       9391.341628  462946.4924          45107.22566\n",
       "\n",
       "[500 rows x 4 columns]"
      ]
     },
     "execution_count": 8,
     "metadata": {},
     "output_type": "execute_result"
    }
   ],
   "source": [
    "# 특정 피처 제거\n",
    "pre_c_df = pre_c_df.loc[:, ['Annual Salary', 'Credit Card Debt', 'Net Worth', 'Car Purchase Amount']]\n",
    "pre_c_df"
   ]
  },
  {
   "cell_type": "markdown",
   "id": "70181f3d-14ca-4a80-90fe-21805ec98cb9",
   "metadata": {},
   "source": [
    "#### 📊 데이터 분포"
   ]
  },
  {
   "cell_type": "code",
   "execution_count": 9,
   "id": "5d382d9c-f792-43d4-8869-738305e36fc1",
   "metadata": {},
   "outputs": [
    {
     "data": {
      "text/plain": [
       "array([[<Axes: title={'center': 'Annual Salary'}>,\n",
       "        <Axes: title={'center': 'Credit Card Debt'}>],\n",
       "       [<Axes: title={'center': 'Net Worth'}>,\n",
       "        <Axes: title={'center': 'Car Purchase Amount'}>]], dtype=object)"
      ]
     },
     "execution_count": 9,
     "metadata": {},
     "output_type": "execute_result"
    },
    {
     "data": {
      "image/png": "[encoded data removed]",
      "text/plain": [
       "<Figure size 1100x800 with 4 Axes>"
      ]
     },
     "metadata": {},
     "output_type": "display_data"
    }
   ],
   "source": [
    "# 데이터 분포 확인\n",
    "pre_c_df.hist(figsize=(11, 8))"
   ]
  },
  {
   "cell_type": "markdown",
   "id": "c28d9fb4-777c-46b5-97cf-e8236563f574",
   "metadata": {},
   "source": [
    "#### 📊 PyTorch\n",
    "- 직접 행렬 곱셈과 편향을 적용하여 선형 변환 수행"
   ]
  },
  {
   "cell_type": "code",
   "execution_count": 10,
   "id": "2aec6d07-39d2-41b0-a65c-bcc2a79a6fd7",
   "metadata": {},
   "outputs": [
    {
     "name": "stdout",
     "output_type": "stream",
     "text": [
      "tensor([[0.],\n",
      "        [0.],\n",
      "        [0.]], requires_grad=True)\n",
      "1000/10000: W1: 0.3670, W2: 0.0487, W3: 0.0458, b: 0.0000, loss: 58160476.0000\n",
      "2000/10000: W1: 0.4668, W2: 0.0600, W3: 0.0331, b: 0.0000, loss: 46555320.0000\n",
      "3000/10000: W1: 0.4949, W2: 0.0615, W3: 0.0296, b: 0.0000, loss: 45642292.0000\n",
      "4000/10000: W1: 0.5030, W2: 0.0603, W3: 0.0286, b: 0.0000, loss: 45565804.0000\n",
      "5000/10000: W1: 0.5055, W2: 0.0583, W3: 0.0283, b: 0.0000, loss: 45555040.0000\n",
      "6000/10000: W1: 0.5064, W2: 0.0562, W3: 0.0283, b: 0.0000, loss: 45549672.0000\n",
      "7000/10000: W1: 0.5069, W2: 0.0541, W3: 0.0283, b: 0.0000, loss: 45544980.0000\n",
      "8000/10000: W1: 0.5072, W2: 0.0520, W3: 0.0283, b: 0.0000, loss: 45540576.0000\n",
      "9000/10000: W1: 0.5075, W2: 0.0500, W3: 0.0283, b: 0.0000, loss: 45536416.0000\n",
      "10000/10000: W1: 0.5078, W2: 0.0480, W3: 0.0283, b: 0.0000, loss: 45532488.0000\n"
     ]
    }
   ],
   "source": [
    "import numpy as np\n",
    "import torch\n",
    "from torch.optim import SGD\n",
    "from sklearn.model_selection import train_test_split\n",
    "\n",
    "# 랜덤 값 설정\n",
    "torch.manual_seed(124)\n",
    "\n",
    "# 데이터 세트 분리\n",
    "# 피처, 타겟 데이터 분리\n",
    "features, targets = pre_c_df.iloc[:, :-1], pre_c_df.iloc[:, -1]\n",
    "\n",
    "# 문제/정답 및 학습/훈련 데이터 분리\n",
    "X_train, X_test, y_train, y_test = \\\n",
    "train_test_split(features, targets, test_size=0.2, random_state=124)\n",
    "\n",
    "# 텐서로 변경 (차원 조정)\n",
    "X_train = torch.FloatTensor(X_train.values)\n",
    "y_train = torch.FloatTensor(y_train.values).view(-1, 1)\n",
    "\n",
    "X_test = torch.FloatTensor(X_test.values)\n",
    "y_test = torch.FloatTensor(y_test.values).view(-1, 1)\n",
    "\n",
    "# 가중치 초기화 (3행 1열)\n",
    "W = torch.zeros((3, 1), requires_grad=True)\n",
    "print(W)\n",
    "# 평향 초기화\n",
    "b = torch.zeros(1, requires_grad=True)\n",
    "\n",
    "# 경사 하강법 (최적화 알고리즘)\n",
    "optimizer = SGD([W, b], lr=1e-12)\n",
    "\n",
    "# 반복 횟수 지정\n",
    "epochs = 10000\n",
    "\n",
    "for epoch in range(1, epochs + 1):\n",
    "    # 가설 선언\n",
    "    # matmul: 행렬 곱셈\n",
    "    H = X_train.matmul(W) + b\n",
    "    # 손실 함수\n",
    "    loss = torch.mean((y_train - H) ** 2)\n",
    "\n",
    "    # 다음 기울기를 위해 기존 기울기 초기화\n",
    "    optimizer.zero_grad()\n",
    "\n",
    "    # 손실 함수 미분 후 기울기 계산\n",
    "    loss.backward()\n",
    "\n",
    "    # W, b 업데이트\n",
    "    optimizer.step()\n",
    "\n",
    "    # 출력\n",
    "    if epoch % 1000 == 0:\n",
    "        print('{:4d}/{}: W1: {:.4f}, W2: {:.4f}, W3: {:.4f}, b: {:.4f}, loss: {:.4f}'\\\n",
    "              .format(epoch, epochs, W[0].item(), W[1].item(), W[2].item(), b.item(), loss.item()))"
   ]
  },
  {
   "cell_type": "code",
   "execution_count": 11,
   "id": "0214ea6b-242d-4d2d-a7ba-dd1b7f4bac17",
   "metadata": {},
   "outputs": [
    {
     "name": "stdout",
     "output_type": "stream",
     "text": [
      "44866652.0\n",
      "6698.257385320454\n"
     ]
    }
   ],
   "source": [
    "# 예측 값\n",
    "H = sum(w * X_test[:, i].view(-1, 1) for w, i in zip(W, range(4)))\n",
    "# 손실 함수\n",
    "loss = torch.mean((y_test - H) ** 2)\n",
    "\n",
    "# 평균 제곱 오차(MSE)\n",
    "print(loss.item())\n",
    "# np.sqrt(): 평균 제곱근 오차(RMSE) 계산\n",
    "print(np.sqrt(loss.item()))"
   ]
  },
  {
   "cell_type": "markdown",
   "id": "b848b4a3-4ad1-405b-80e4-8981248b1f91",
   "metadata": {},
   "source": [
    "#### 📊 PyTorch - Linear\n",
    "- Linear 레이어를 통해 선형 모델 정의 및 선형 변환을 적용"
   ]
  },
  {
   "cell_type": "code",
   "execution_count": 12,
   "id": "2b929349-6f3f-41af-986f-9b826230c697",
   "metadata": {},
   "outputs": [
    {
     "name": "stdout",
     "output_type": "stream",
     "text": [
      "1000/10000: W1: 0.2234, W2: 0.2295, W3: 0.0602, b: -0.0299, loss: 89326496.0000\n",
      "2000/10000: W1: 0.4076, W2: 0.2470, W3: 0.0369, b: -0.0299, loss: 49917264.0000\n",
      "3000/10000: W1: 0.4599, W2: 0.2463, W3: 0.0304, b: -0.0299, loss: 46778348.0000\n",
      "4000/10000: W1: 0.4753, W2: 0.2407, W3: 0.0286, b: -0.0299, loss: 46479328.0000\n",
      "5000/10000: W1: 0.4803, W2: 0.2339, W3: 0.0281, b: -0.0299, loss: 46405388.0000\n",
      "6000/10000: W1: 0.4824, W2: 0.2269, W3: 0.0280, b: -0.0299, loss: 46351848.0000\n",
      "7000/10000: W1: 0.4837, W2: 0.2200, W3: 0.0280, b: -0.0299, loss: 46302556.0000\n",
      "8000/10000: W1: 0.4847, W2: 0.2133, W3: 0.0280, b: -0.0299, loss: 46256112.0000\n",
      "9000/10000: W1: 0.4857, W2: 0.2068, W3: 0.0280, b: -0.0299, loss: 46212244.0000\n",
      "10000/10000: W1: 0.4866, W2: 0.2004, W3: 0.0280, b: -0.0299, loss: 46170812.0000\n"
     ]
    }
   ],
   "source": [
    "import numpy as np\n",
    "import torch\n",
    "from torch.optim import SGD\n",
    "from torch.nn import Linear\n",
    "from torch.nn.functional import mse_loss\n",
    "from sklearn.model_selection import train_test_split\n",
    "\n",
    "# 랜덤 값 지정\n",
    "torch.manual_seed(124)\n",
    "\n",
    "# 데이터 세트 분리\n",
    "# 피처, 타겟 데이터 분리\n",
    "features, targets = pre_c_df.iloc[:, :-1], pre_c_df.iloc[:, -1]\n",
    "\n",
    "# 문제/정답 및 학습/훈련 데이터 분리\n",
    "X_train, X_test, y_train, y_test = \\\n",
    "train_test_split(features, targets, test_size=0.2, random_state=124)\n",
    "\n",
    "X_train = torch.FloatTensor(X_train.values)\n",
    "y_train = torch.FloatTensor(y_train.values).view(-1, 1)\n",
    "\n",
    "X_test = torch.FloatTensor(X_test.values)\n",
    "y_test = torch.FloatTensor(y_test.values).view(-1, 1)\n",
    "\n",
    "# 선형 회귀 모델 (3행 1열)\n",
    "l_r = Linear(3, 1)\n",
    "\n",
    "# 경사 하강법 (최적화 알고리즘)\n",
    "optimizer = SGD(l_r.parameters(), lr=1e-12)\n",
    "\n",
    "# 반복 횟수\n",
    "epochs = 10000\n",
    "\n",
    "for epoch in range(1, epochs + 1):\n",
    "    # 가설 선언\n",
    "    H = l_r(X_train)\n",
    "    # 손실 함수\n",
    "    loss = mse_loss(y_train, H)\n",
    "\n",
    "    # 손실 함수\n",
    "    loss = mse_loss(y_train, H)\n",
    "\n",
    "    # 다음 기울기를 위해 기존 기울기 초기화\n",
    "    optimizer.zero_grad()\n",
    "\n",
    "    # 손실 함수 미분 후 기울기 계산\n",
    "    loss.backward()\n",
    "\n",
    "    # W, b 업데이트\n",
    "    optimizer.step()\n",
    "\n",
    "    # 출력\n",
    "    if epoch % 1000 == 0:\n",
    "        print('{:4d}/{}: '\\\n",
    "              .format(epoch, epochs, W[0].item(), W[1].item(), W[2].item(), b.item(), loss.item()), end='')\n",
    "        for i, w in enumerate(list(l_r.parameters())[0][0]):\n",
    "            print('W{}: {:.4f}, '\\\n",
    "                  .format(i + 1, w.item()), end='')\n",
    "        print('b: {:.4f}, loss: {:.4f}'.format(list(l_r.parameters())[1].item(), loss.item()))"
   ]
  },
  {
   "cell_type": "code",
   "execution_count": 13,
   "id": "b2c5a31b-0106-494a-83b3-b33c9e03b17f",
   "metadata": {},
   "outputs": [
    {
     "name": "stdout",
     "output_type": "stream",
     "text": [
      "45212032.0\n",
      "6723.989292079516\n"
     ]
    }
   ],
   "source": [
    "# 예측 값\n",
    "H = l_r(X_test)\n",
    "# 손실 함수\n",
    "loss = mse_loss(y_test, H)\n",
    "\n",
    "# 평균 제곱 오차(MSE)\n",
    "print(loss.item())\n",
    "# np.sqrt(): 평균 제곱근 오차(RMSE) 계산\n",
    "print(np.sqrt(loss.item()))"
   ]
  },
  {
   "cell_type": "markdown",
   "id": "82f042d2-a80b-4f98-8a72-81efad8aaaae",
   "metadata": {},
   "source": [
    "#### 📊 PyTorch - LinearRegressionModel"
   ]
  },
  {
   "cell_type": "code",
   "execution_count": 14,
   "id": "27bd1a3b-e6fa-44ff-b09c-f24b9149f888",
   "metadata": {},
   "outputs": [],
   "source": [
    "from torch.nn import Linear, Module\n",
    "\n",
    "# class를 통해 선형 회귀 모델 정의\n",
    "class LinearRegressionModel(Module):\n",
    "    def __init__(self, input):\n",
    "        super().__init__()\n",
    "        self.linear = Linear(input, 1)\n",
    "\n",
    "    def forward(self, x):\n",
    "        return self.linear(x)"
   ]
  },
  {
   "cell_type": "code",
   "execution_count": 15,
   "id": "75572205-a805-4757-8fc3-907b6aba76f2",
   "metadata": {},
   "outputs": [
    {
     "name": "stdout",
     "output_type": "stream",
     "text": [
      "1000/10000: W1: 0.2234, W2: 0.2295, W3: 0.0602, b: -0.0299, loss: 89326496.0000\n",
      "2000/10000: W1: 0.4076, W2: 0.2470, W3: 0.0369, b: -0.0299, loss: 49917264.0000\n",
      "3000/10000: W1: 0.4599, W2: 0.2463, W3: 0.0304, b: -0.0299, loss: 46778348.0000\n",
      "4000/10000: W1: 0.4753, W2: 0.2407, W3: 0.0286, b: -0.0299, loss: 46479328.0000\n",
      "5000/10000: W1: 0.4803, W2: 0.2339, W3: 0.0281, b: -0.0299, loss: 46405388.0000\n",
      "6000/10000: W1: 0.4824, W2: 0.2269, W3: 0.0280, b: -0.0299, loss: 46351848.0000\n",
      "7000/10000: W1: 0.4837, W2: 0.2200, W3: 0.0280, b: -0.0299, loss: 46302556.0000\n",
      "8000/10000: W1: 0.4847, W2: 0.2133, W3: 0.0280, b: -0.0299, loss: 46256112.0000\n",
      "9000/10000: W1: 0.4857, W2: 0.2068, W3: 0.0280, b: -0.0299, loss: 46212244.0000\n",
      "10000/10000: W1: 0.4866, W2: 0.2004, W3: 0.0280, b: -0.0299, loss: 46170812.0000\n"
     ]
    }
   ],
   "source": [
    "import numpy as np\n",
    "import torch\n",
    "from torch.optim import SGD\n",
    "from torch.nn.functional import mse_loss\n",
    "from sklearn.model_selection import train_test_split\n",
    "\n",
    "# 랜덤 설정\n",
    "torch.manual_seed(124)\n",
    "\n",
    "# 데이터 세트 분리\n",
    "# 피처, 타겟 데이터 분리\n",
    "features, targets = pre_c_df.iloc[:, :-1], pre_c_df.iloc[:, -1]\n",
    "\n",
    "# 문제/정답 및 학습/훈련 데이터 분리\n",
    "X_train, X_test, y_train, y_test = \\\n",
    "train_test_split(features, targets, test_size=0.2, random_state=124)\n",
    "\n",
    "# 텐서로 변경 (차원 조정)\n",
    "X_train = torch.FloatTensor(X_train.values)\n",
    "y_train = torch.FloatTensor(y_train.values).view(-1, 1)\n",
    "\n",
    "X_test = torch.FloatTensor(X_test.values)\n",
    "y_test = torch.FloatTensor(y_test.values).view(-1, 1)\n",
    "\n",
    "# 선형 회귀 모델\n",
    "l_r = LinearRegressionModel(3)\n",
    "\n",
    "# 경사 하강법 (최적화 알고리즘)\n",
    "optimizer = SGD(l_r.parameters(), lr=1e-12)\n",
    "\n",
    "# 반복 횟수\n",
    "epochs = 10000\n",
    "\n",
    "for epoch in range(1, epochs + 1):\n",
    "    # 가설 선언\n",
    "    H = l_r(X_train)\n",
    "    # 손실 함수\n",
    "    loss = mse_loss(y_train, H)\n",
    "\n",
    "    # 다음 기울기를 위해 기존 기울기 초기화\n",
    "    optimizer.zero_grad()\n",
    "    \n",
    "    # 손실 함수 미분 후 기울기 계산\n",
    "    loss.backward()\n",
    "    \n",
    "    # W, b 업데이트\n",
    "    optimizer.step()\n",
    "\n",
    "    # 출력\n",
    "    if epoch % 1000 == 0:\n",
    "        print('{:4d}/{}: '\\\n",
    "              .format(epoch, epochs, W[0].item(), W[1].item(), W[2].item(), b.item(), loss.item()), end='')\n",
    "        for i, w in enumerate(list(l_r.parameters())[0][0]):\n",
    "            print('W{}: {:.4f}, '\\\n",
    "                  .format(i + 1, w.item()), end='')\n",
    "        print('b: {:.4f}, loss: {:.4f}'.format(list(l_r.parameters())[1].item(), loss.item()))"
   ]
  },
  {
   "cell_type": "code",
   "execution_count": 16,
   "id": "f2b975fb-6990-46ff-9d29-29320b35ffd3",
   "metadata": {},
   "outputs": [
    {
     "name": "stdout",
     "output_type": "stream",
     "text": [
      "45212032.0\n",
      "6723.989292079516\n"
     ]
    }
   ],
   "source": [
    "# 예측 값\n",
    "H = l_r(X_test)\n",
    "# 손실 함수\n",
    "loss = mse_loss(y_test, H)\n",
    "\n",
    "# 평균 제곱 오차(MSE)\n",
    "print(loss.item())\n",
    "# np.sqrt(): 평균 제곱근 오차(RMSE) 계산\n",
    "print(np.sqrt(loss.item()))"
   ]
  },
  {
   "cell_type": "markdown",
   "id": "04e5a275-336c-47b8-8131-4bfe53ac9f7c",
   "metadata": {},
   "source": [
    "#### 📊 Sklearn - LinearRegression"
   ]
  },
  {
   "cell_type": "code",
   "execution_count": 17,
   "id": "bc12c76f-d740-4766-b04e-885f1d688073",
   "metadata": {},
   "outputs": [],
   "source": [
    "import numpy as np\n",
    "from sklearn.linear_model import LinearRegression\n",
    "from sklearn.model_selection import train_test_split\n",
    "\n",
    "# 데이터 세트 분리\n",
    "# 피처, 타겟 데이터 분리\n",
    "features, targets = pre_c_df.iloc[:, :-1], pre_c_df.iloc[:, -1]\n",
    "\n",
    "# 문제/정답 및 학습/훈련 데이터 분리\n",
    "X_train, X_test, y_train, y_test = \\\n",
    "train_test_split(features, targets, test_size=0.2, random_state=124)\n",
    "\n",
    "# 선형 회귀 모델\n",
    "l_r = LinearRegression()\n",
    "\n",
    "# 훈련: 모델이 최적의 가중치와 편향을 학습\n",
    "l_r.fit(X_train, y_train)\n",
    "\n",
    "# 예측\n",
    "prediction = l_r.predict(X_test)"
   ]
  },
  {
   "cell_type": "code",
   "execution_count": 18,
   "id": "23c39e09-dfe9-4951-9e1b-59f5ae4eb6c1",
   "metadata": {},
   "outputs": [],
   "source": [
    "# print('W: {:.4f}, b: {:.4f}, loss: {:.4f}'.format(l_r.coef_[0], l_r.intercept_))"
   ]
  },
  {
   "cell_type": "code",
   "execution_count": 19,
   "id": "1fa5d54b-b7fe-43c7-9875-d92ebcdb5718",
   "metadata": {},
   "outputs": [
    {
     "name": "stdout",
     "output_type": "stream",
     "text": [
      "W1: 0.5646, W2: 0.0583, W3: 0.0300, b: -4533.4234, MSLE: 0.0362, MSE: 44871459.9118\n"
     ]
    }
   ],
   "source": [
    "from sklearn.metrics import mean_squared_log_error, mean_squared_error\n",
    "\n",
    "# 출력\n",
    "for i, w in enumerate(l_r.coef_):\n",
    "            print('W{}: {:.4f}, '\\\n",
    "                  .format(i + 1, w.item()), end='')\n",
    "print('b: {:.4f}, MSLE: {:.4f}, MSE: {:.4f}'\\\n",
    "      .format(l_r.intercept_, mean_squared_log_error(y_test, prediction), mean_squared_error(y_test, prediction)))"
   ]
  },
  {
   "cell_type": "markdown",
   "id": "676d9fc6-5e4d-4df9-a0f3-2c85ed2830a8",
   "metadata": {},
   "source": [
    "#### 📊 평가 지표"
   ]
  },
  {
   "cell_type": "code",
   "execution_count": 20,
   "id": "713b8a8f-93e9-41d7-bfb8-ccd5b9ccb1b8",
   "metadata": {},
   "outputs": [],
   "source": [
    "from sklearn.metrics import mean_squared_log_error, mean_squared_error\n",
    "\n",
    "def get_evaluation(y_test, prediction):\n",
    "    # 평균 제곱 오차\n",
    "    MSE = mean_squared_error(y_test, prediction)\n",
    "    # 평균 제곱근 오차\n",
    "    RMSE = np.sqrt(MSE)\n",
    "    # 평균 제곱 로그 오차\n",
    "    MSLE = mean_squared_log_error(y_test, prediction)\n",
    "    # 평균 제곱근 로그 오차\n",
    "    RMSLE = np.sqrt(mean_squared_log_error(y_test, prediction))\n",
    "    \n",
    "    print('MSE: {:.4f}, RMSE: {:.4f}, MSLE: {:.4f}, RMSLE: {:.4f}'\\\n",
    "          .format(MSE, RMSE, MSLE, RMSLE))"
   ]
  },
  {
   "cell_type": "code",
   "execution_count": 21,
   "id": "9f0e6dbe-935f-4f46-b535-e01a7413f51a",
   "metadata": {},
   "outputs": [
    {
     "name": "stdout",
     "output_type": "stream",
     "text": [
      "W1: 0.5646, W2: 0.0583, W3: 0.0300, b: -4533.4234\n",
      "MSE: 44871459.9118, RMSE: 6698.6163, MSLE: 0.0362, RMSLE: 0.1902\n"
     ]
    }
   ],
   "source": [
    "# 가중치와 편향 출력\n",
    "for i, w in enumerate(l_r.coef_):\n",
    "            print('W{}: {:.4f}, '\\\n",
    "                  .format(i + 1, w.item()), end='')\n",
    "print('b: {:.4f}'\\\n",
    "      .format(l_r.intercept_))\n",
    "\n",
    "# 평가지표 출력\n",
    "get_evaluation(y_test, prediction)"
   ]
  }
 ],
 "metadata": {
  "kernelspec": {
   "display_name": "Python 3 (ipykernel)",
   "language": "python",
   "name": "python3"
  },
  "language_info": {
   "codemirror_mode": {
    "name": "ipython",
    "version": 3
   },
   "file_extension": ".py",
   "mimetype": "text/x-python",
   "name": "python",
   "nbconvert_exporter": "python",
   "pygments_lexer": "ipython3",
   "version": "3.11.8"
  }
 },
 "nbformat": 4,
 "nbformat_minor": 5
}
