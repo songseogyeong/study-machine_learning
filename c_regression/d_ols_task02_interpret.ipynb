{
 "cells": [
  {
   "cell_type": "code",
   "execution_count": null,
   "id": "e8060242-8caf-4f2f-844e-78063b8b2931",
   "metadata": {},
   "outputs": [],
   "source": [
    "from sklearn.preprocessing import PolynomialFeatures\n",
    "\n",
    "# degree: 2부터 올라가면됨, 기존으 ㅣ피처 유지하면서 2차수로 만듦\n",
    "poly_features = PolynomialFeatures(degree=2).fit_transform(features)\n",
    "poly_features\n",
    "\n",
    "ㅁㅇㄴㄹㅇㄴㄹㄴㅇㄹ"
   ]
  }
 ],
 "metadata": {
  "kernelspec": {
   "display_name": "Python 3 (ipykernel)",
   "language": "python",
   "name": "python3"
  },
  "language_info": {
   "codemirror_mode": {
    "name": "ipython",
    "version": 3
   },
   "file_extension": ".py",
   "mimetype": "text/x-python",
   "name": "python",
   "nbconvert_exporter": "python",
   "pygments_lexer": "ipython3",
   "version": "3.11.8"
  }
 },
 "nbformat": 4,
 "nbformat_minor": 5
}
